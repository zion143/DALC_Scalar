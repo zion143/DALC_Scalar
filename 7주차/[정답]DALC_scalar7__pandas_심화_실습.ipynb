{
  "nbformat": 4,
  "nbformat_minor": 0,
  "metadata": {
    "colab": {
      "name": "[정답]DALC_scalar7_ pandas 심화 실습.ipynb",
      "provenance": [],
      "collapsed_sections": [
        "LEpgg6MllqlP",
        "4ktdw0WEO16Y"
      ]
    },
    "kernelspec": {
      "name": "python3",
      "display_name": "Python 3"
    },
    "language_info": {
      "name": "python"
    }
  },
  "cells": [
    {
      "cell_type": "markdown",
      "metadata": {
        "id": "hUQY0a9AmQB1"
      },
      "source": [
        "# 주관식\n",
        "셀을 더블클릭해서  : 다음에 답을 입력하세요."
      ]
    },
    {
      "cell_type": "markdown",
      "metadata": {
        "id": "s0tu8WgkHe9n"
      },
      "source": [
        "* matplotlib 인터페이스에는 어떤 종류가 있나?:객체지향스타일,matlab스타일"
      ]
    },
    {
      "cell_type": "markdown",
      "metadata": {
        "id": "6nQsARbhNrvK"
      },
      "source": [
        "* matlab스타일의 장점은 무엇인가: 단순하고 편리함 matlab사용자 친화적"
      ]
    },
    {
      "cell_type": "markdown",
      "metadata": {
        "id": "O7Cz3tPHMFq8"
      },
      "source": [
        "* 객체지향스타일의 장점은 무엇인가: 복자하고 상세한 설정 가능, 파이썬 프로그램 친화적"
      ]
    },
    {
      "cell_type": "markdown",
      "metadata": {
        "id": "5KnVjMiLWfEO"
      },
      "source": [
        "* 객체지향스타일은 어떨때 사용하는가: 그림이 복잡하고 많은 설정이 필요할때"
      ]
    },
    {
      "cell_type": "markdown",
      "metadata": {
        "id": "LEpgg6MllqlP"
      },
      "source": [
        "# 빅데이터 시각화\n",
        "* matplotlib사용\n",
        "* 선그림과 점그림 \n",
        "* 다중 서브플롯\n",
        "\n",
        "해당 질문 밑에 있는 코드셀에 코드를 입력하세요"
      ]
    },
    {
      "cell_type": "markdown",
      "metadata": {
        "id": "ZPLYsr50N48B"
      },
      "source": [
        "# matplotlib 인터페이스"
      ]
    },
    {
      "cell_type": "markdown",
      "metadata": {
        "id": "pSeljp9aWIsn"
      },
      "source": [
        "### matlab스타일 인터페이스"
      ]
    },
    {
      "cell_type": "markdown",
      "metadata": {
        "id": "H0vQPFbZD9nu"
      },
      "source": [
        "* matplotlib라이브러리 사용"
      ]
    },
    {
      "cell_type": "code",
      "metadata": {
        "id": "E8u2sLMVNsbW"
      },
      "source": [
        "import matplotlib as mpl\n",
        "import matplotlib.pyplot as plt"
      ],
      "execution_count": 3,
      "outputs": []
    },
    {
      "cell_type": "code",
      "metadata": {
        "id": "8NHb_3yTGXk8"
      },
      "source": [
        "import numpy as np"
      ],
      "execution_count": 4,
      "outputs": []
    },
    {
      "cell_type": "markdown",
      "metadata": {
        "id": "p_5uwi8CHNKW"
      },
      "source": [
        "* 그래프스타일 클래식으로 설정"
      ]
    },
    {
      "cell_type": "code",
      "metadata": {
        "id": "7gRJmswLmrzq"
      },
      "source": [
        "plt.style.use('classic')"
      ],
      "execution_count": 5,
      "outputs": []
    },
    {
      "cell_type": "code",
      "metadata": {
        "id": "vHp-kJ5vmr-u",
        "colab": {
          "base_uri": "https://localhost:8080/",
          "height": 52
        },
        "outputId": "c3e3fa57-d657-4e68-aeb1-0250b038bac9"
      },
      "source": [
        "plt.figure()"
      ],
      "execution_count": 6,
      "outputs": [
        {
          "output_type": "execute_result",
          "data": {
            "text/plain": [
              "<Figure size 640x480 with 0 Axes>"
            ]
          },
          "metadata": {
            "tags": []
          },
          "execution_count": 6
        },
        {
          "output_type": "display_data",
          "data": {
            "text/plain": [
              "<Figure size 640x480 with 0 Axes>"
            ]
          },
          "metadata": {
            "tags": []
          }
        }
      ]
    },
    {
      "cell_type": "markdown",
      "metadata": {
        "id": "mt_eg4AlI-2s"
      },
      "source": [
        "* 두 개의 패널 중 첫 번째 패널을 생성하고 현재 축을 설정"
      ]
    },
    {
      "cell_type": "code",
      "metadata": {
        "id": "3wcQvP_EI3Yc"
      },
      "source": [
        "x=np.linspace(-10,10,100)"
      ],
      "execution_count": 7,
      "outputs": []
    },
    {
      "cell_type": "markdown",
      "metadata": {
        "id": "_qM7c0PCJsVB"
      },
      "source": [
        "* 2행 1열 구조 그리드의 첫번째 패널에 사인 그래프 작성"
      ]
    },
    {
      "cell_type": "code",
      "metadata": {
        "id": "Y6IqwzzbpA7K",
        "colab": {
          "base_uri": "https://localhost:8080/",
          "height": 249
        },
        "outputId": "429cd65c-845f-4df0-c636-9a1083e7c5b6"
      },
      "source": [
        "plt.subplot(2,1,1)\n",
        "plt.plot(x,np.sin(x))"
      ],
      "execution_count": 8,
      "outputs": [
        {
          "output_type": "execute_result",
          "data": {
            "text/plain": [
              "[<matplotlib.lines.Line2D at 0x7f54969a3e90>]"
            ]
          },
          "metadata": {
            "tags": []
          },
          "execution_count": 8
        },
        {
          "output_type": "display_data",
          "data": {
            "image/png": "[encoded data removed]",
            "text/plain": [
              "<Figure size 640x480 with 1 Axes>"
            ]
          },
          "metadata": {
            "tags": []
          }
        }
      ]
    },
    {
      "cell_type": "markdown",
      "metadata": {
        "id": "x3-9VHZbSsu5"
      },
      "source": [
        "* 2행 1열 구조 그리드의 두번째 패널에 코사인 그래프 작성"
      ]
    },
    {
      "cell_type": "code",
      "metadata": {
        "colab": {
          "base_uri": "https://localhost:8080/",
          "height": 249
        },
        "id": "ZLB4WiwfSsvC",
        "outputId": "36c9e5a2-0843-4c6d-fdff-06dd3e3d4c0c"
      },
      "source": [
        "plt.subplot(2,1,2)\n",
        "plt.plot(x,np.cos(x))"
      ],
      "execution_count": 9,
      "outputs": [
        {
          "output_type": "execute_result",
          "data": {
            "text/plain": [
              "[<matplotlib.lines.Line2D at 0x7f5496447ed0>]"
            ]
          },
          "metadata": {
            "tags": []
          },
          "execution_count": 9
        },
        {
          "output_type": "display_data",
          "data": {
            "image/png": "[encoded data removed]",
            "text/plain": [
              "<Figure size 640x480 with 1 Axes>"
            ]
          },
          "metadata": {
            "tags": []
          }
        }
      ]
    },
    {
      "cell_type": "markdown",
      "metadata": {
        "id": "zXi9JehJLzzC"
      },
      "source": [
        "* 2행 1열의 축 객체의 배열을 형성하라"
      ]
    },
    {
      "cell_type": "code",
      "metadata": {
        "id": "SDiypRdGpA1r",
        "colab": {
          "base_uri": "https://localhost:8080/",
          "height": 440
        },
        "outputId": "bed7c08c-9adc-403d-d111-8e75d55c2cad"
      },
      "source": [
        "fig,ax=plt.subplots(2,1)"
      ],
      "execution_count": 10,
      "outputs": [
        {
          "output_type": "display_data",
          "data": {
            "image/png": "[encoded data removed]",
            "text/plain": [
              "<Figure size 640x480 with 2 Axes>"
            ]
          },
          "metadata": {
            "tags": []
          }
        }
      ]
    },
    {
      "cell_type": "markdown",
      "metadata": {
        "id": "veju4mmRMgmx"
      },
      "source": [
        "* 위의 형성한 객체에 1행에는 넘파이패키지의 sin()함수를 그려라"
      ]
    },
    {
      "cell_type": "code",
      "metadata": {
        "id": "zoC3coUxpApz",
        "colab": {
          "base_uri": "https://localhost:8080/"
        },
        "outputId": "0caed32d-be01-46ae-950f-6e13ae5b6070"
      },
      "source": [
        "ax[0].plot(x,np.sin(x))"
      ],
      "execution_count": 11,
      "outputs": [
        {
          "output_type": "execute_result",
          "data": {
            "text/plain": [
              "[<matplotlib.lines.Line2D at 0x7f54963f0c10>]"
            ]
          },
          "metadata": {
            "tags": []
          },
          "execution_count": 11
        }
      ]
    },
    {
      "cell_type": "markdown",
      "metadata": {
        "id": "KW7fLJ8eMjKZ"
      },
      "source": [
        "* 위의 형성한 객체에 1행에는 넘파이패키지의 sin()함수를 그려라"
      ]
    },
    {
      "cell_type": "code",
      "metadata": {
        "colab": {
          "base_uri": "https://localhost:8080/"
        },
        "id": "x06fkqr0VtJT",
        "outputId": "4fa482f1-384f-4878-b9c3-f53f71f4825a"
      },
      "source": [
        "ax[1].plot(x,np.cos(x))"
      ],
      "execution_count": 12,
      "outputs": [
        {
          "output_type": "execute_result",
          "data": {
            "text/plain": [
              "[<matplotlib.lines.Line2D at 0x7f5496338d10>]"
            ]
          },
          "metadata": {
            "tags": []
          },
          "execution_count": 12
        }
      ]
    },
    {
      "cell_type": "markdown",
      "metadata": {
        "id": "5cXl2t8QXOM9"
      },
      "source": [
        "### 기본선그림"
      ]
    },
    {
      "cell_type": "markdown",
      "metadata": {
        "id": "U56XiDtTMpCq"
      },
      "source": [
        "### 선그림(lineplot)\n",
        "* 위와 같은 것이 %로 시작하는 것을 jupyter notebook의 magic command라고 한다.\n",
        "* %who는 변수명의 리스트를 보여주고 %magic 은 모든 매직명령어를 보여준다.\n",
        "* 전체적인 magic 명령어에 대해서는 다음 블로그를 참고\n",
        "* http://studymake.tistory.com/601\n",
        "* matplotlib 을 jupyter notebook에서 사용할 때, plot의 이미지를 보여주기 위해 magic command를 사용하는데,\n",
        "* 이때 우리가 사용하는 inline 이외에도 다음과 같은 요소를 사용할 수 있다.\n",
        "* Available matplotlib backends: ['osx', 'qt4', 'qt5', 'gtk3', 'notebook', 'wx', 'qt', 'nbagg','gtk', 'tk', 'inline']\n"
      ]
    },
    {
      "cell_type": "code",
      "metadata": {
        "id": "julPwkbal-5w"
      },
      "source": [
        "%matplotlib inline\n",
        "import matplotlib.pyplot as plt\n",
        "plt.style.use('seaborn-whitegrid')\n",
        "import pandas as pd\n",
        "import numpy as np"
      ],
      "execution_count": 13,
      "outputs": []
    },
    {
      "cell_type": "markdown",
      "metadata": {
        "id": "g5Hetg75aMch"
      },
      "source": [
        "*  Series를 통한 line plot 그리기"
      ]
    },
    {
      "cell_type": "code",
      "metadata": {
        "colab": {
          "base_uri": "https://localhost:8080/"
        },
        "id": "SrVUy7LTZ9wZ",
        "outputId": "205372a1-bff4-4d6f-addd-f30414bcf34a"
      },
      "source": [
        "s = pd.Series(np.random.randn(10).cumsum(), index=np.arange(0, 100, 10))\n",
        "s"
      ],
      "execution_count": 14,
      "outputs": [
        {
          "output_type": "execute_result",
          "data": {
            "text/plain": [
              "0    -0.410049\n",
              "10    0.475055\n",
              "20    1.001387\n",
              "30    0.715192\n",
              "40    0.663217\n",
              "50   -0.280157\n",
              "60    1.097335\n",
              "70    0.809046\n",
              "80    0.836122\n",
              "90    0.653843\n",
              "dtype: float64"
            ]
          },
          "metadata": {
            "tags": []
          },
          "execution_count": 14
        }
      ]
    },
    {
      "cell_type": "markdown",
      "metadata": {
        "id": "alJg_1dZanBU"
      },
      "source": [
        "* 시리즈 s의 선그래프를 그려라"
      ]
    },
    {
      "cell_type": "code",
      "metadata": {
        "colab": {
          "base_uri": "https://localhost:8080/",
          "height": 286
        },
        "id": "37a_XyCFamNX",
        "outputId": "ed21fc62-d112-4494-b470-6c740a9e04d2"
      },
      "source": [
        "s.plot()"
      ],
      "execution_count": 15,
      "outputs": [
        {
          "output_type": "execute_result",
          "data": {
            "text/plain": [
              "<matplotlib.axes._subplots.AxesSubplot at 0x7f54962bb6d0>"
            ]
          },
          "metadata": {
            "tags": []
          },
          "execution_count": 15
        },
        {
          "output_type": "display_data",
          "data": {
            "image/png": "[encoded data removed]",
            "text/plain": [
              "<Figure size 432x288 with 1 Axes>"
            ]
          },
          "metadata": {
            "tags": []
          }
        }
      ]
    },
    {
      "cell_type": "markdown",
      "metadata": {
        "id": "qXpe7lBWaY6U"
      },
      "source": [
        "*  DataFrame를 통한 line plot 그리기"
      ]
    },
    {
      "cell_type": "code",
      "metadata": {
        "colab": {
          "base_uri": "https://localhost:8080/",
          "height": 340
        },
        "id": "WRn4_EQNab0M",
        "outputId": "ade3be50-c526-4be8-a24f-eb36ff7bbbda"
      },
      "source": [
        "df = pd.DataFrame(np.random.randn(10, 4).cumsum(axis=0),\n",
        "                  columns=[\"A\", \"B\", \"C\", \"D\"],\n",
        "                  index=np.arange(0, 100, 10))\n",
        "df"
      ],
      "execution_count": 16,
      "outputs": [
        {
          "output_type": "execute_result",
          "data": {
            "text/html": [
              "<div>\n",
              "<style scoped>\n",
              "    .dataframe tbody tr th:only-of-type {\n",
              "        vertical-align: middle;\n",
              "    }\n",
              "\n",
              "    .dataframe tbody tr th {\n",
              "        vertical-align: top;\n",
              "    }\n",
              "\n",
              "    .dataframe thead th {\n",
              "        text-align: right;\n",
              "    }\n",
              "</style>\n",
              "<table border=\"1\" class=\"dataframe\">\n",
              "  <thead>\n",
              "    <tr style=\"text-align: right;\">\n",
              "      <th></th>\n",
              "      <th>A</th>\n",
              "      <th>B</th>\n",
              "      <th>C</th>\n",
              "      <th>D</th>\n",
              "    </tr>\n",
              "  </thead>\n",
              "  <tbody>\n",
              "    <tr>\n",
              "      <th>0</th>\n",
              "      <td>0.533341</td>\n",
              "      <td>-0.004181</td>\n",
              "      <td>0.558381</td>\n",
              "      <td>-0.551943</td>\n",
              "    </tr>\n",
              "    <tr>\n",
              "      <th>10</th>\n",
              "      <td>1.545073</td>\n",
              "      <td>2.458482</td>\n",
              "      <td>1.868682</td>\n",
              "      <td>-0.403358</td>\n",
              "    </tr>\n",
              "    <tr>\n",
              "      <th>20</th>\n",
              "      <td>2.070319</td>\n",
              "      <td>1.775443</td>\n",
              "      <td>2.122381</td>\n",
              "      <td>-0.953816</td>\n",
              "    </tr>\n",
              "    <tr>\n",
              "      <th>30</th>\n",
              "      <td>0.686908</td>\n",
              "      <td>1.033516</td>\n",
              "      <td>1.936151</td>\n",
              "      <td>0.357835</td>\n",
              "    </tr>\n",
              "    <tr>\n",
              "      <th>40</th>\n",
              "      <td>-1.693633</td>\n",
              "      <td>1.496520</td>\n",
              "      <td>1.350968</td>\n",
              "      <td>-0.693196</td>\n",
              "    </tr>\n",
              "    <tr>\n",
              "      <th>50</th>\n",
              "      <td>-0.471059</td>\n",
              "      <td>1.580861</td>\n",
              "      <td>2.005173</td>\n",
              "      <td>-1.304529</td>\n",
              "    </tr>\n",
              "    <tr>\n",
              "      <th>60</th>\n",
              "      <td>0.434524</td>\n",
              "      <td>1.498959</td>\n",
              "      <td>1.844037</td>\n",
              "      <td>-1.792725</td>\n",
              "    </tr>\n",
              "    <tr>\n",
              "      <th>70</th>\n",
              "      <td>0.929227</td>\n",
              "      <td>0.808804</td>\n",
              "      <td>0.887884</td>\n",
              "      <td>0.490022</td>\n",
              "    </tr>\n",
              "    <tr>\n",
              "      <th>80</th>\n",
              "      <td>-0.103970</td>\n",
              "      <td>-0.358754</td>\n",
              "      <td>1.663014</td>\n",
              "      <td>0.027446</td>\n",
              "    </tr>\n",
              "    <tr>\n",
              "      <th>90</th>\n",
              "      <td>-2.037317</td>\n",
              "      <td>1.740516</td>\n",
              "      <td>3.597870</td>\n",
              "      <td>-0.696041</td>\n",
              "    </tr>\n",
              "  </tbody>\n",
              "</table>\n",
              "</div>"
            ],
            "text/plain": [
              "           A         B         C         D\n",
              "0   0.533341 -0.004181  0.558381 -0.551943\n",
              "10  1.545073  2.458482  1.868682 -0.403358\n",
              "20  2.070319  1.775443  2.122381 -0.953816\n",
              "30  0.686908  1.033516  1.936151  0.357835\n",
              "40 -1.693633  1.496520  1.350968 -0.693196\n",
              "50 -0.471059  1.580861  2.005173 -1.304529\n",
              "60  0.434524  1.498959  1.844037 -1.792725\n",
              "70  0.929227  0.808804  0.887884  0.490022\n",
              "80 -0.103970 -0.358754  1.663014  0.027446\n",
              "90 -2.037317  1.740516  3.597870 -0.696041"
            ]
          },
          "metadata": {
            "tags": []
          },
          "execution_count": 16
        }
      ]
    },
    {
      "cell_type": "markdown",
      "metadata": {
        "id": "DY8egKYQavl3"
      },
      "source": [
        "* 데이터프레임 df의 선그래프를 그려라"
      ]
    },
    {
      "cell_type": "code",
      "metadata": {
        "colab": {
          "base_uri": "https://localhost:8080/",
          "height": 291
        },
        "id": "MiXr_ycxamDZ",
        "outputId": "a5c473af-7459-4f21-8941-800c02eb36ce"
      },
      "source": [
        "df.plot()"
      ],
      "execution_count": 17,
      "outputs": [
        {
          "output_type": "execute_result",
          "data": {
            "text/plain": [
              "<matplotlib.axes._subplots.AxesSubplot at 0x7f5496268890>"
            ]
          },
          "metadata": {
            "tags": []
          },
          "execution_count": 17
        },
        {
          "output_type": "display_data",
          "data": {
            "image/png": "[encoded data removed]",
            "text/plain": [
              "<Figure size 432x288 with 1 Axes>"
            ]
          },
          "metadata": {
            "tags": []
          }
        }
      ]
    },
    {
      "cell_type": "markdown",
      "metadata": {
        "id": "_hFLRAXVa2Xp"
      },
      "source": [
        "* 데이터프레임 df의 B열에 대해서만 선그래프를 그려라"
      ]
    },
    {
      "cell_type": "code",
      "metadata": {
        "colab": {
          "base_uri": "https://localhost:8080/",
          "height": 291
        },
        "id": "IYNO2wWaakKH",
        "outputId": "9ba1c890-1f4d-4ca1-92a4-61b872f03461"
      },
      "source": [
        "df['B'].plot()"
      ],
      "execution_count": 18,
      "outputs": [
        {
          "output_type": "execute_result",
          "data": {
            "text/plain": [
              "<matplotlib.axes._subplots.AxesSubplot at 0x7f5496186910>"
            ]
          },
          "metadata": {
            "tags": []
          },
          "execution_count": 18
        },
        {
          "output_type": "display_data",
          "data": {
            "image/png": "[encoded data removed]",
            "text/plain": [
              "<Figure size 432x288 with 1 Axes>"
            ]
          },
          "metadata": {
            "tags": []
          }
        }
      ]
    },
    {
      "cell_type": "code",
      "metadata": {
        "colab": {
          "base_uri": "https://localhost:8080/"
        },
        "id": "aub_wxpJbEG2",
        "outputId": "21abe611-338a-4ec9-d004-92d84da5a7ee"
      },
      "source": [
        "s2 = pd.Series(np.random.rand(16), index=list(\"abcdefghijklmnop\"))\n",
        "s2"
      ],
      "execution_count": 19,
      "outputs": [
        {
          "output_type": "execute_result",
          "data": {
            "text/plain": [
              "a    0.296410\n",
              "b    0.974956\n",
              "c    0.353998\n",
              "d    0.834112\n",
              "e    0.985537\n",
              "f    0.709352\n",
              "g    0.336372\n",
              "h    0.816208\n",
              "i    0.451638\n",
              "j    0.985597\n",
              "k    0.565448\n",
              "l    0.801288\n",
              "m    0.996236\n",
              "n    0.791976\n",
              "o    0.367157\n",
              "p    0.099464\n",
              "dtype: float64"
            ]
          },
          "metadata": {
            "tags": []
          },
          "execution_count": 19
        }
      ]
    },
    {
      "cell_type": "markdown",
      "metadata": {
        "id": "xharyGBsOEqC"
      },
      "source": [
        "## 막대그래프그리기"
      ]
    },
    {
      "cell_type": "markdown",
      "metadata": {
        "id": "_t3jDNz2a9l-"
      },
      "source": [
        "* s2열에 대해서 막대그래프를 그려라"
      ]
    },
    {
      "cell_type": "code",
      "metadata": {
        "colab": {
          "base_uri": "https://localhost:8080/",
          "height": 289
        },
        "id": "Qm1HkVEIa9l_",
        "outputId": "a8c522a6-7d6b-4805-9fae-aeb86c77c81c"
      },
      "source": [
        "s2.plot(kind='bar')"
      ],
      "execution_count": 20,
      "outputs": [
        {
          "output_type": "execute_result",
          "data": {
            "text/plain": [
              "<matplotlib.axes._subplots.AxesSubplot at 0x7f5496150190>"
            ]
          },
          "metadata": {
            "tags": []
          },
          "execution_count": 20
        },
        {
          "output_type": "display_data",
          "data": {
            "image/png": "[encoded data removed]",
            "text/plain": [
              "<Figure size 432x288 with 1 Axes>"
            ]
          },
          "metadata": {
            "tags": []
          }
        }
      ]
    },
    {
      "cell_type": "markdown",
      "metadata": {
        "id": "hW7KURw4bRkl"
      },
      "source": [
        "s2열에 대해서 가로방향의 막대그래프를 그려라"
      ]
    },
    {
      "cell_type": "code",
      "metadata": {
        "colab": {
          "base_uri": "https://localhost:8080/",
          "height": 286
        },
        "id": "LzKYe1TsbRkn",
        "outputId": "78bf4b64-fce7-49f6-a48b-24b4a52270ec"
      },
      "source": [
        "s2.plot(kind='barh')"
      ],
      "execution_count": 21,
      "outputs": [
        {
          "output_type": "execute_result",
          "data": {
            "text/plain": [
              "<matplotlib.axes._subplots.AxesSubplot at 0x7f54960b4550>"
            ]
          },
          "metadata": {
            "tags": []
          },
          "execution_count": 21
        },
        {
          "output_type": "display_data",
          "data": {
            "image/png": "[encoded data removed]",
            "text/plain": [
              "<Figure size 432x288 with 1 Axes>"
            ]
          },
          "metadata": {
            "tags": []
          }
        }
      ]
    },
    {
      "cell_type": "code",
      "metadata": {
        "colab": {
          "base_uri": "https://localhost:8080/",
          "height": 223
        },
        "id": "ZojuOg-9blaB",
        "outputId": "38a03503-29c7-4cfb-8c1c-0995e4a53e06"
      },
      "source": [
        "df2 = pd.DataFrame(np.random.rand(6, 4), \n",
        "                   index=[\"one\", \"two\", \"three\", \"four\", \"five\", \"six\"],\n",
        "                   columns=pd.Index([\"A\", \"B\", \"C\", \"D\"], name=\"Genus\"))\n",
        "df2"
      ],
      "execution_count": 22,
      "outputs": [
        {
          "output_type": "execute_result",
          "data": {
            "text/html": [
              "<div>\n",
              "<style scoped>\n",
              "    .dataframe tbody tr th:only-of-type {\n",
              "        vertical-align: middle;\n",
              "    }\n",
              "\n",
              "    .dataframe tbody tr th {\n",
              "        vertical-align: top;\n",
              "    }\n",
              "\n",
              "    .dataframe thead th {\n",
              "        text-align: right;\n",
              "    }\n",
              "</style>\n",
              "<table border=\"1\" class=\"dataframe\">\n",
              "  <thead>\n",
              "    <tr style=\"text-align: right;\">\n",
              "      <th>Genus</th>\n",
              "      <th>A</th>\n",
              "      <th>B</th>\n",
              "      <th>C</th>\n",
              "      <th>D</th>\n",
              "    </tr>\n",
              "  </thead>\n",
              "  <tbody>\n",
              "    <tr>\n",
              "      <th>one</th>\n",
              "      <td>0.036827</td>\n",
              "      <td>0.191313</td>\n",
              "      <td>0.706454</td>\n",
              "      <td>0.754538</td>\n",
              "    </tr>\n",
              "    <tr>\n",
              "      <th>two</th>\n",
              "      <td>0.468928</td>\n",
              "      <td>0.274150</td>\n",
              "      <td>0.485374</td>\n",
              "      <td>0.181611</td>\n",
              "    </tr>\n",
              "    <tr>\n",
              "      <th>three</th>\n",
              "      <td>0.084980</td>\n",
              "      <td>0.609730</td>\n",
              "      <td>0.655274</td>\n",
              "      <td>0.933221</td>\n",
              "    </tr>\n",
              "    <tr>\n",
              "      <th>four</th>\n",
              "      <td>0.607575</td>\n",
              "      <td>0.719887</td>\n",
              "      <td>0.948867</td>\n",
              "      <td>0.889595</td>\n",
              "    </tr>\n",
              "    <tr>\n",
              "      <th>five</th>\n",
              "      <td>0.345336</td>\n",
              "      <td>0.287499</td>\n",
              "      <td>0.310441</td>\n",
              "      <td>0.874607</td>\n",
              "    </tr>\n",
              "    <tr>\n",
              "      <th>six</th>\n",
              "      <td>0.492154</td>\n",
              "      <td>0.999161</td>\n",
              "      <td>0.242614</td>\n",
              "      <td>0.468449</td>\n",
              "    </tr>\n",
              "  </tbody>\n",
              "</table>\n",
              "</div>"
            ],
            "text/plain": [
              "Genus         A         B         C         D\n",
              "one    0.036827  0.191313  0.706454  0.754538\n",
              "two    0.468928  0.274150  0.485374  0.181611\n",
              "three  0.084980  0.609730  0.655274  0.933221\n",
              "four   0.607575  0.719887  0.948867  0.889595\n",
              "five   0.345336  0.287499  0.310441  0.874607\n",
              "six    0.492154  0.999161  0.242614  0.468449"
            ]
          },
          "metadata": {
            "tags": []
          },
          "execution_count": 22
        }
      ]
    },
    {
      "cell_type": "markdown",
      "metadata": {
        "id": "EepLT6U2boT3"
      },
      "source": [
        "* 데이터프레임 df2의 누적막대그래프를 그려라"
      ]
    },
    {
      "cell_type": "code",
      "metadata": {
        "colab": {
          "base_uri": "https://localhost:8080/",
          "height": 304
        },
        "id": "hlWHHtdSbn7-",
        "outputId": "9dcbca8e-72d9-4b29-dd13-cbce567ee255"
      },
      "source": [
        "df2.plot(kind='bar',stacked=True)"
      ],
      "execution_count": 23,
      "outputs": [
        {
          "output_type": "execute_result",
          "data": {
            "text/plain": [
              "<matplotlib.axes._subplots.AxesSubplot at 0x7f5495fe6f90>"
            ]
          },
          "metadata": {
            "tags": []
          },
          "execution_count": 23
        },
        {
          "output_type": "display_data",
          "data": {
            "image/png": "[encoded data removed]",
            "text/plain": [
              "<Figure size 432x288 with 1 Axes>"
            ]
          },
          "metadata": {
            "tags": []
          }
        }
      ]
    },
    {
      "cell_type": "markdown",
      "metadata": {
        "id": "a3cbcWn5b6R8"
      },
      "source": [
        "* 데이터프레임 df2의 가로방향의 누적막대그래프를 그려라"
      ]
    },
    {
      "cell_type": "code",
      "metadata": {
        "colab": {
          "base_uri": "https://localhost:8080/",
          "height": 286
        },
        "id": "Bt37000Yb6SZ",
        "outputId": "b15ed0b2-ff33-41b7-e2ef-998cdc2d9ec9"
      },
      "source": [
        "df2.plot(kind='barh',stacked=True)"
      ],
      "execution_count": 39,
      "outputs": [
        {
          "output_type": "execute_result",
          "data": {
            "text/plain": [
              "<matplotlib.axes._subplots.AxesSubplot at 0x7f549ccc0850>"
            ]
          },
          "metadata": {
            "tags": []
          },
          "execution_count": 39
        },
        {
          "output_type": "display_data",
          "data": {
            "image/png": "[encoded data removed]",
            "text/plain": [
              "<Figure size 432x288 with 1 Axes>"
            ]
          },
          "metadata": {
            "tags": []
          }
        }
      ]
    },
    {
      "cell_type": "markdown",
      "metadata": {
        "id": "uzHCk1PuPF8K"
      },
      "source": [
        "* s3의 히스토그램을 그려라\n",
        "(히스토그램은 인덱스가 필요없다.)"
      ]
    },
    {
      "cell_type": "code",
      "metadata": {
        "id": "ewQeK3lXtTUH",
        "colab": {
          "base_uri": "https://localhost:8080/"
        },
        "outputId": "4c7162ab-9f78-4c15-e344-7df7caa32a58"
      },
      "source": [
        "s3 = pd.Series(np.random.normal(0, 1, size=200))\n",
        "s3"
      ],
      "execution_count": 25,
      "outputs": [
        {
          "output_type": "execute_result",
          "data": {
            "text/plain": [
              "0      0.419799\n",
              "1     -0.763407\n",
              "2      2.569693\n",
              "3      0.224091\n",
              "4     -1.062507\n",
              "         ...   \n",
              "195    0.523269\n",
              "196   -0.928055\n",
              "197    0.992501\n",
              "198   -0.603083\n",
              "199    1.100732\n",
              "Length: 200, dtype: float64"
            ]
          },
          "metadata": {
            "tags": []
          },
          "execution_count": 25
        }
      ]
    },
    {
      "cell_type": "code",
      "metadata": {
        "id": "EIUdDehpmrhn",
        "colab": {
          "base_uri": "https://localhost:8080/",
          "height": 291
        },
        "outputId": "aba589d3-81a7-472c-8467-cae6ce7cbbcf"
      },
      "source": [
        "s3.hist()"
      ],
      "execution_count": 26,
      "outputs": [
        {
          "output_type": "execute_result",
          "data": {
            "text/plain": [
              "<matplotlib.axes._subplots.AxesSubplot at 0x7f5495e5ee90>"
            ]
          },
          "metadata": {
            "tags": []
          },
          "execution_count": 26
        },
        {
          "output_type": "display_data",
          "data": {
            "image/png": "[encoded data removed]",
            "text/plain": [
              "<Figure size 432x288 with 1 Axes>"
            ]
          },
          "metadata": {
            "tags": []
          }
        }
      ]
    },
    {
      "cell_type": "markdown",
      "metadata": {
        "id": "FLrkrDZSSHSE"
      },
      "source": [
        "* x축의 구간개수를50개로 설정하여 s3를 히스토그램으로그려라"
      ]
    },
    {
      "cell_type": "code",
      "metadata": {
        "id": "LGghPWtIt3SD",
        "colab": {
          "base_uri": "https://localhost:8080/",
          "height": 291
        },
        "outputId": "34b33e7a-bd3c-4d85-d0bf-fe17a4c89737"
      },
      "source": [
        "s3.hist(bins=50)"
      ],
      "execution_count": 27,
      "outputs": [
        {
          "output_type": "execute_result",
          "data": {
            "text/plain": [
              "<matplotlib.axes._subplots.AxesSubplot at 0x7f549610c2d0>"
            ]
          },
          "metadata": {
            "tags": []
          },
          "execution_count": 27
        },
        {
          "output_type": "display_data",
          "data": {
            "image/png": "[encoded data removed]",
            "text/plain": [
              "<Figure size 432x288 with 1 Axes>"
            ]
          },
          "metadata": {
            "tags": []
          }
        }
      ]
    },
    {
      "cell_type": "markdown",
      "metadata": {
        "id": "PzaPAWphMqEo"
      },
      "source": [
        "## 산점도 그리기"
      ]
    },
    {
      "cell_type": "code",
      "metadata": {
        "id": "4b-MSmvSMqFL",
        "colab": {
          "base_uri": "https://localhost:8080/",
          "height": 399
        },
        "outputId": "83f478dc-1193-48db-b208-6089e42f02fb"
      },
      "source": [
        "x1 = np.random.normal(1, 1, size=(100, 1))\n",
        "x2 = np.random.normal(-2, 4, size=(100, 1))\n",
        "X = np.concatenate((x1, x2), axis=1)\n",
        "df3 = pd.DataFrame(X, columns=[\"x1\", \"x2\"])\n",
        "df3"
      ],
      "execution_count": 28,
      "outputs": [
        {
          "output_type": "execute_result",
          "data": {
            "text/html": [
              "<div>\n",
              "<style scoped>\n",
              "    .dataframe tbody tr th:only-of-type {\n",
              "        vertical-align: middle;\n",
              "    }\n",
              "\n",
              "    .dataframe tbody tr th {\n",
              "        vertical-align: top;\n",
              "    }\n",
              "\n",
              "    .dataframe thead th {\n",
              "        text-align: right;\n",
              "    }\n",
              "</style>\n",
              "<table border=\"1\" class=\"dataframe\">\n",
              "  <thead>\n",
              "    <tr style=\"text-align: right;\">\n",
              "      <th></th>\n",
              "      <th>x1</th>\n",
              "      <th>x2</th>\n",
              "    </tr>\n",
              "  </thead>\n",
              "  <tbody>\n",
              "    <tr>\n",
              "      <th>0</th>\n",
              "      <td>-0.077408</td>\n",
              "      <td>1.364910</td>\n",
              "    </tr>\n",
              "    <tr>\n",
              "      <th>1</th>\n",
              "      <td>-0.306524</td>\n",
              "      <td>-2.363780</td>\n",
              "    </tr>\n",
              "    <tr>\n",
              "      <th>2</th>\n",
              "      <td>1.597853</td>\n",
              "      <td>-4.835830</td>\n",
              "    </tr>\n",
              "    <tr>\n",
              "      <th>3</th>\n",
              "      <td>-1.329290</td>\n",
              "      <td>-1.974323</td>\n",
              "    </tr>\n",
              "    <tr>\n",
              "      <th>4</th>\n",
              "      <td>2.787010</td>\n",
              "      <td>-6.826300</td>\n",
              "    </tr>\n",
              "    <tr>\n",
              "      <th>...</th>\n",
              "      <td>...</td>\n",
              "      <td>...</td>\n",
              "    </tr>\n",
              "    <tr>\n",
              "      <th>95</th>\n",
              "      <td>2.045905</td>\n",
              "      <td>1.534872</td>\n",
              "    </tr>\n",
              "    <tr>\n",
              "      <th>96</th>\n",
              "      <td>1.442590</td>\n",
              "      <td>-6.048317</td>\n",
              "    </tr>\n",
              "    <tr>\n",
              "      <th>97</th>\n",
              "      <td>0.480910</td>\n",
              "      <td>-2.002310</td>\n",
              "    </tr>\n",
              "    <tr>\n",
              "      <th>98</th>\n",
              "      <td>1.241929</td>\n",
              "      <td>-2.992549</td>\n",
              "    </tr>\n",
              "    <tr>\n",
              "      <th>99</th>\n",
              "      <td>2.383184</td>\n",
              "      <td>3.262270</td>\n",
              "    </tr>\n",
              "  </tbody>\n",
              "</table>\n",
              "<p>100 rows × 2 columns</p>\n",
              "</div>"
            ],
            "text/plain": [
              "          x1        x2\n",
              "0  -0.077408  1.364910\n",
              "1  -0.306524 -2.363780\n",
              "2   1.597853 -4.835830\n",
              "3  -1.329290 -1.974323\n",
              "4   2.787010 -6.826300\n",
              "..       ...       ...\n",
              "95  2.045905  1.534872\n",
              "96  1.442590 -6.048317\n",
              "97  0.480910 -2.002310\n",
              "98  1.241929 -2.992549\n",
              "99  2.383184  3.262270\n",
              "\n",
              "[100 rows x 2 columns]"
            ]
          },
          "metadata": {
            "tags": []
          },
          "execution_count": 28
        }
      ]
    },
    {
      "cell_type": "markdown",
      "metadata": {
        "id": "vhu60hvjSLeb"
      },
      "source": [
        "* df3의 x1열을 x축으로 x2열을 y축으로 산점도를 그려라"
      ]
    },
    {
      "cell_type": "code",
      "metadata": {
        "id": "q4ykGVibMWSi",
        "colab": {
          "base_uri": "https://localhost:8080/",
          "height": 291
        },
        "outputId": "27f99e03-e869-4d2c-8290-873e65a46ffc"
      },
      "source": [
        "plt.scatter(df3['x1'], df3['x2'])"
      ],
      "execution_count": 29,
      "outputs": [
        {
          "output_type": "execute_result",
          "data": {
            "text/plain": [
              "<matplotlib.collections.PathCollection at 0x7f5495c91490>"
            ]
          },
          "metadata": {
            "tags": []
          },
          "execution_count": 29
        },
        {
          "output_type": "display_data",
          "data": {
            "image/png": "[encoded data removed]",
            "text/plain": [
              "<Figure size 432x288 with 1 Axes>"
            ]
          },
          "metadata": {
            "tags": []
          }
        }
      ]
    },
    {
      "cell_type": "markdown",
      "metadata": {
        "id": "fV6uu19zMvX0"
      },
      "source": [
        "##  플롯 조정\n",
        "* color\n",
        "\n",
        "값 색상\n",
        "\n",
        "\"b\" blue\n",
        "\n",
        "\"g\" green\n",
        "\n",
        "\"r\" red\n",
        "\n",
        "\"c\" cyan\n",
        "\n",
        "\"m\" magenta\n",
        "\n",
        "\"y\" yellow\n",
        "\n",
        "\"k\" black\n",
        "\n",
        "\"w\" white\n",
        "\n",
        "* marker\n",
        "\n",
        "값 마킹\n",
        "\n",
        "\".\" point\n",
        "\n",
        "\",\" pixel\n",
        "\n",
        "\"o\" circle\n",
        "\n",
        "\"v\" triangle_down\n",
        "\n",
        "\"^\" triangle_up\n",
        "\n",
        "\"<\" triangle_left\n",
        "\n",
        "\">\" triangle_right\n",
        "\n",
        "\"8\" octagon\n",
        "\n",
        "\"s\" square\n",
        "\n",
        "\"p\" pentagon\n",
        "\n",
        "\"*\" star\n",
        "\n",
        "\"h\" hexagon\n",
        "\n",
        "\"+\" plus\n",
        "\n",
        "\"x\" x\n",
        "\n",
        "\"D\" diamond\n",
        "\n",
        "* line style\n",
        "\n",
        "값 라인 스타일\n",
        "\n",
        "\"-\" solid line\n",
        "\n",
        "\"--\" dashed line\n",
        "\n",
        "\"-.\" dash-dotted line\n",
        "\n",
        "\":\" dotted line\n",
        "\n",
        "\"None\" draw nothing\n"
      ]
    },
    {
      "cell_type": "markdown",
      "metadata": {
        "id": "kyBDJFiGMX3h"
      },
      "source": [
        "* plt.plot(np.random.randn(50)에서 색상은 초록, 마킹모양은 원으로 선스타일은 dashed line으로 그려라"
      ]
    },
    {
      "cell_type": "code",
      "metadata": {
        "id": "KWRSFv_DMvX2",
        "colab": {
          "base_uri": "https://localhost:8080/",
          "height": 291
        },
        "outputId": "c2791f62-f422-413f-8e32-0f996bc39a7d"
      },
      "source": [
        "plt.plot(np.random.randn(50), color = 'g', marker='o', linestyle='--')"
      ],
      "execution_count": 30,
      "outputs": [
        {
          "output_type": "execute_result",
          "data": {
            "text/plain": [
              "[<matplotlib.lines.Line2D at 0x7f5495c00450>]"
            ]
          },
          "metadata": {
            "tags": []
          },
          "execution_count": 30
        },
        {
          "output_type": "display_data",
          "data": {
            "image/png": "[encoded data removed]",
            "text/plain": [
              "<Figure size 432x288 with 1 Axes>"
            ]
          },
          "metadata": {
            "tags": []
          }
        }
      ]
    },
    {
      "cell_type": "markdown",
      "metadata": {
        "id": "1H0Z-LfjMzNK"
      },
      "source": [
        "* y=x그래프를 solid green 옵션으로 그려라\n",
        "\n",
        "y=x+2\n",
        "y=x+3"
      ]
    },
    {
      "cell_type": "code",
      "metadata": {
        "id": "SFi6-Ut8MzNN",
        "colab": {
          "base_uri": "https://localhost:8080/",
          "height": 291
        },
        "outputId": "cf335c19-1219-4fab-8a27-5d0a59182a97"
      },
      "source": [
        "plt.plot(x,x+0,'-g')"
      ],
      "execution_count": 31,
      "outputs": [
        {
          "output_type": "execute_result",
          "data": {
            "text/plain": [
              "[<matplotlib.lines.Line2D at 0x7f5495be9d50>]"
            ]
          },
          "metadata": {
            "tags": []
          },
          "execution_count": 31
        },
        {
          "output_type": "display_data",
          "data": {
            "image/png": "[encoded data removed]",
            "text/plain": [
              "<Figure size 432x288 with 1 Axes>"
            ]
          },
          "metadata": {
            "tags": []
          }
        }
      ]
    },
    {
      "cell_type": "markdown",
      "metadata": {
        "id": "p-2CkyUXM8he"
      },
      "source": [
        "* y=x+1그래프를 dashed cyan 옵션으로 그려라"
      ]
    },
    {
      "cell_type": "code",
      "metadata": {
        "id": "qVc87VZMM8hg",
        "colab": {
          "base_uri": "https://localhost:8080/",
          "height": 291
        },
        "outputId": "802f0b68-ea77-4132-9895-8e61154cd001"
      },
      "source": [
        "plt.plot(x,x+1,'--c')"
      ],
      "execution_count": 32,
      "outputs": [
        {
          "output_type": "execute_result",
          "data": {
            "text/plain": [
              "[<matplotlib.lines.Line2D at 0x7f5495b4cad0>]"
            ]
          },
          "metadata": {
            "tags": []
          },
          "execution_count": 32
        },
        {
          "output_type": "display_data",
          "data": {
            "image/png": "[encoded data removed]",
            "text/plain": [
              "<Figure size 432x288 with 1 Axes>"
            ]
          },
          "metadata": {
            "tags": []
          }
        }
      ]
    },
    {
      "cell_type": "markdown",
      "metadata": {
        "id": "QZj4OZD_NEQ5"
      },
      "source": [
        "* y=x+2 그래프를 dashdot black 옵션으로 그려라"
      ]
    },
    {
      "cell_type": "code",
      "metadata": {
        "id": "RW646EeRNEQ6",
        "colab": {
          "base_uri": "https://localhost:8080/",
          "height": 291
        },
        "outputId": "61847ee4-68a1-43b6-94a2-5972d58ea064"
      },
      "source": [
        "plt.plot(x,x+2,'-.k')"
      ],
      "execution_count": 33,
      "outputs": [
        {
          "output_type": "execute_result",
          "data": {
            "text/plain": [
              "[<matplotlib.lines.Line2D at 0x7f5495b32e50>]"
            ]
          },
          "metadata": {
            "tags": []
          },
          "execution_count": 33
        },
        {
          "output_type": "display_data",
          "data": {
            "image/png": "[encoded data removed]",
            "text/plain": [
              "<Figure size 432x288 with 1 Axes>"
            ]
          },
          "metadata": {
            "tags": []
          }
        }
      ]
    },
    {
      "cell_type": "markdown",
      "metadata": {
        "id": "UxETcM-fNl-w"
      },
      "source": [
        "* y=x+3그래프를 dotted red 옵션으로 그려라"
      ]
    },
    {
      "cell_type": "code",
      "metadata": {
        "id": "ZQMrrvhbNJ5Q",
        "colab": {
          "base_uri": "https://localhost:8080/",
          "height": 291
        },
        "outputId": "d2ec7bbd-5918-4a98-cc79-9b601562544e"
      },
      "source": [
        "plt.plot(x,x+3,':r')"
      ],
      "execution_count": 34,
      "outputs": [
        {
          "output_type": "execute_result",
          "data": {
            "text/plain": [
              "[<matplotlib.lines.Line2D at 0x7f5495a9c1d0>]"
            ]
          },
          "metadata": {
            "tags": []
          },
          "execution_count": 34
        },
        {
          "output_type": "display_data",
          "data": {
            "image/png": "[encoded data removed]",
            "text/plain": [
              "<Figure size 432x288 with 1 Axes>"
            ]
          },
          "metadata": {
            "tags": []
          }
        }
      ]
    },
    {
      "cell_type": "markdown",
      "metadata": {
        "id": "4ezZWnu4O_yG"
      },
      "source": [
        "* 코사인 그래프를 그리고 x축의 범위를 (-1,11)로 y축의 범위를 (1.5,1.5)으로 설정해라"
      ]
    },
    {
      "cell_type": "code",
      "metadata": {
        "id": "TNNVxVlRPACn",
        "colab": {
          "base_uri": "https://localhost:8080/",
          "height": 291
        },
        "outputId": "067d95fa-8bd5-45b8-a23a-52bc14b2701e"
      },
      "source": [
        "plt.plot(x,np.cos(x))\n",
        "plt.xlim(-1,11)\n",
        "plt.ylim(-1.5,1.5)"
      ],
      "execution_count": 35,
      "outputs": [
        {
          "output_type": "execute_result",
          "data": {
            "text/plain": [
              "(-1.5, 1.5)"
            ]
          },
          "metadata": {
            "tags": []
          },
          "execution_count": 35
        },
        {
          "output_type": "display_data",
          "data": {
            "image/png": "[encoded data removed]",
            "text/plain": [
              "<Figure size 432x288 with 1 Axes>"
            ]
          },
          "metadata": {
            "tags": []
          }
        }
      ]
    },
    {
      "cell_type": "markdown",
      "metadata": {
        "id": "Wv7UR8SlPAOi"
      },
      "source": [
        "* 자연상수 그래프(np.exp(x)그래프를 그리고 y축의 스케일을 로그로 설정해라"
      ]
    },
    {
      "cell_type": "code",
      "metadata": {
        "id": "oo5xRwzXPAOj",
        "colab": {
          "base_uri": "https://localhost:8080/",
          "height": 275
        },
        "outputId": "b6a09d8a-1e27-47dd-cf55-93c64d7524e0"
      },
      "source": [
        "plt.plot(x,np.exp(x))\n",
        "plt.yscale('log')"
      ],
      "execution_count": 36,
      "outputs": [
        {
          "output_type": "display_data",
          "data": {
            "image/png": "[encoded data removed]",
            "text/plain": [
              "<Figure size 432x288 with 1 Axes>"
            ]
          },
          "metadata": {
            "tags": []
          }
        }
      ]
    },
    {
      "cell_type": "markdown",
      "metadata": {
        "id": "K_du-yBjh8Gz"
      },
      "source": [
        "* 사인그래프를 그리고 축의 레이블를 a sine curve로 지정하고 x축의 레이블을 x, y축의 레이블을 sin(x)라 설정해라"
      ]
    },
    {
      "cell_type": "code",
      "metadata": {
        "id": "60clgNFPj_XN",
        "colab": {
          "base_uri": "https://localhost:8080/",
          "height": 315
        },
        "outputId": "1ddb2c21-0348-4de5-84cf-524aa5e4b9c8"
      },
      "source": [
        "plt.plot(x,np.sin(x))\n",
        "plt.title('a sine curve')\n",
        "plt.xlabel('x')\n",
        "plt.ylabel('sin(x)')"
      ],
      "execution_count": 37,
      "outputs": [
        {
          "output_type": "execute_result",
          "data": {
            "text/plain": [
              "Text(0, 0.5, 'sin(x)')"
            ]
          },
          "metadata": {
            "tags": []
          },
          "execution_count": 37
        },
        {
          "output_type": "display_data",
          "data": {
            "image/png": "[encoded data removed]",
            "text/plain": [
              "<Figure size 432x288 with 1 Axes>"
            ]
          },
          "metadata": {
            "tags": []
          }
        }
      ]
    },
    {
      "cell_type": "markdown",
      "metadata": {
        "id": "XtjJ_JSBPAg8"
      },
      "source": [
        "* 사인그래프를 그리고 옵션을 dash green , 레이블을 'sin(x)'로 \n",
        "* 사인그래프를 그리고 옵션을 dott blue , 레이블을 'cos(x)'로\n",
        "* 두그래프의 x축의 범위를 동기화\n",
        "* 그래프의 제목을 'curves of sine and cosine'\n",
        "* x레이블을 'x'로\n",
        "* 범례표시해라"
      ]
    },
    {
      "cell_type": "code",
      "metadata": {
        "id": "aJST_ZDnPAg_",
        "colab": {
          "base_uri": "https://localhost:8080/",
          "height": 297
        },
        "outputId": "aaaa041b-38d3-47b8-eb8d-5bcc84ae2d09"
      },
      "source": [
        "plt.plot(x,np.sin(x),'-g',label='sin(x)')\n",
        "plt.plot(x,np.cos(X),':b',label='cos(x)')\n",
        "plt.axis('equal')\n",
        "plt.title('curves of sine and cosine')\n",
        "plt.xlabel('x')\n",
        "plt.legend();"
      ],
      "execution_count": 38,
      "outputs": [
        {
          "output_type": "display_data",
          "data": {
            "image/png": "[encoded data removed]",
            "text/plain": [
              "<Figure size 432x288 with 1 Axes>"
            ]
          },
          "metadata": {
            "tags": []
          }
        }
      ]
    }
  ]
}