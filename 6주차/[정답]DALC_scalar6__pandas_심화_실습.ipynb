{
  "nbformat": 4,
  "nbformat_minor": 0,
  "metadata": {
    "colab": {
      "name": "[정답]DALC_scalar6_ pandas 심화 실습.ipynb",
      "provenance": [],
      "collapsed_sections": [
        "LEpgg6MllqlP",
        "4ktdw0WEO16Y"
      ]
    },
    "kernelspec": {
      "name": "python3",
      "display_name": "Python 3"
    },
    "language_info": {
      "name": "python"
    }
  },
  "cells": [
    {
      "cell_type": "markdown",
      "metadata": {
        "id": "hUQY0a9AmQB1"
      },
      "source": [
        "# 주관식\n",
        "셀을 더블클릭해서  : 다음에 답을 입력하세요."
      ]
    },
    {
      "cell_type": "markdown",
      "metadata": {
        "id": "s0tu8WgkHe9n"
      },
      "source": [
        "* 데이터프레임 file의 클래스유형:데이터프레임\n",
        "* 일최대이동인구수의 자료형:\n",
        "* 전체 데이터프레임의 자료형은 어떻게 구성되어있나(정수형?개,실수형?개,문자형?개):\n",
        "* 메모리 사용량:137.8+ KB"
      ]
    },
    {
      "cell_type": "markdown",
      "metadata": {
        "id": "6nQsARbhNrvK"
      },
      "source": [
        "* value_counts()코드작성 결과 왼쪽숫자와 오른쪽숫자는 무엇을 의미하는가 :고유값은 행인덱스,고유값의 개수는 데이터 값이 된다"
      ]
    },
    {
      "cell_type": "markdown",
      "metadata": {
        "id": "O7Cz3tPHMFq8"
      },
      "source": [
        "* min,max,std 같은 통계함수 반환결과는 어떤객체로 반환되는가?:시리즈"
      ]
    },
    {
      "cell_type": "markdown",
      "metadata": {
        "id": "978ZPud4PDUu"
      },
      "source": [
        "* 그래프를 만들기 위해 pandas내장 그래프인 \n",
        "\n",
        "  plot()내장함수를 사용할때 ,\n",
        "\n",
        "  히스토그램 그래프를 만들기 위한 kind값은: 'hist'"
      ]
    },
    {
      "cell_type": "markdown",
      "metadata": {
        "id": "3aFRHKwiSiGB"
      },
      "source": [
        "* 데이터레코드는 무엇은 뜻하는가: 데이터프레임의 각 행\n",
        "* 중복된 데이터셋이 존재할 경우 분석결과에 어떤 영향이있나: 분석 결과가 왜곡된다"
      ]
    },
    {
      "cell_type": "markdown",
      "metadata": {
        "id": "8gOX_CVzSiPN"
      },
      "source": [
        "* 중복된 데이터셋이 있을경우 true로 반환되는가 false로 반환되는가?:True"
      ]
    },
    {
      "cell_type": "markdown",
      "metadata": {
        "id": "LEpgg6MllqlP"
      },
      "source": [
        "# Pandas 심화실습\n",
        "* 파일읽기와 쓰기\n",
        "* 데이터프레임 구조\n",
        "* 통계 함수 \n",
        "\n",
        "해당 질문 밑에 있는 코드셀에 코드를 입력하세요"
      ]
    },
    {
      "cell_type": "markdown",
      "metadata": {
        "id": "ZPLYsr50N48B"
      },
      "source": [
        "# csv파일"
      ]
    },
    {
      "cell_type": "markdown",
      "metadata": {
        "id": "H0vQPFbZD9nu"
      },
      "source": [
        "* 판다스,넘파이 임포트하기"
      ]
    },
    {
      "cell_type": "code",
      "metadata": {
        "id": "8NHb_3yTGXk8"
      },
      "source": [
        "import pandas as pd\n",
        "import numpy as np "
      ],
      "execution_count": 405,
      "outputs": []
    },
    {
      "cell_type": "code",
      "metadata": {
        "colab": {
          "base_uri": "https://localhost:8080/"
        },
        "id": "gookKocsW-2z",
        "outputId": "aa8ed36f-9b7f-4ec7-c2a5-8e812b822e88"
      },
      "source": [
        "from google.colab import drive\n",
        "drive.mount('/content/drive')"
      ],
      "execution_count": 406,
      "outputs": [
        {
          "output_type": "stream",
          "text": [
            "Drive already mounted at /content/drive; to attempt to forcibly remount, call drive.mount(\"/content/drive\", force_remount=True).\n"
          ],
          "name": "stdout"
        }
      ]
    },
    {
      "cell_type": "markdown",
      "metadata": {
        "id": "p_5uwi8CHNKW"
      },
      "source": [
        "* read_csv()함수로 file변수에 저장해라"
      ]
    },
    {
      "cell_type": "code",
      "metadata": {
        "id": "7gRJmswLmrzq",
        "colab": {
          "base_uri": "https://localhost:8080/",
          "height": 436
        },
        "outputId": "1df457fe-ba49-47f3-e23c-2bb1afe3c53d"
      },
      "source": [
        "file=pd.read_csv('/content/drive/MyDrive/(성북구) 서울생활인구 일별 집계표.csv',header=None,encoding='euc-kr')\n",
        "file"
      ],
      "execution_count": 407,
      "outputs": [
        {
          "output_type": "execute_result",
          "data": {
            "text/html": [
              "<div>\n",
              "<style scoped>\n",
              "    .dataframe tbody tr th:only-of-type {\n",
              "        vertical-align: middle;\n",
              "    }\n",
              "\n",
              "    .dataframe tbody tr th {\n",
              "        vertical-align: top;\n",
              "    }\n",
              "\n",
              "    .dataframe thead th {\n",
              "        text-align: right;\n",
              "    }\n",
              "</style>\n",
              "<table border=\"1\" class=\"dataframe\">\n",
              "  <thead>\n",
              "    <tr style=\"text-align: right;\">\n",
              "      <th></th>\n",
              "      <th>0</th>\n",
              "      <th>1</th>\n",
              "      <th>2</th>\n",
              "      <th>3</th>\n",
              "      <th>4</th>\n",
              "      <th>5</th>\n",
              "      <th>6</th>\n",
              "      <th>7</th>\n",
              "      <th>8</th>\n",
              "      <th>9</th>\n",
              "      <th>10</th>\n",
              "      <th>11</th>\n",
              "      <th>12</th>\n",
              "      <th>13</th>\n",
              "      <th>14</th>\n",
              "    </tr>\n",
              "  </thead>\n",
              "  <tbody>\n",
              "    <tr>\n",
              "      <th>0</th>\n",
              "      <td>기준일ID</td>\n",
              "      <td>시군구코드</td>\n",
              "      <td>시군구명</td>\n",
              "      <td>총생활인구수</td>\n",
              "      <td>내국인생활인구수</td>\n",
              "      <td>장기체류외국인인구수</td>\n",
              "      <td>단기체류외국인인구수</td>\n",
              "      <td>일최대인구수</td>\n",
              "      <td>일최소인구수</td>\n",
              "      <td>주간인구수(09~18)</td>\n",
              "      <td>야간인구수(19~08)</td>\n",
              "      <td>일최대이동인구수</td>\n",
              "      <td>서울외유입인구수</td>\n",
              "      <td>동일자치구행정동간이동인구수</td>\n",
              "      <td>자치구간이동인구수</td>\n",
              "    </tr>\n",
              "    <tr>\n",
              "      <th>1</th>\n",
              "      <td>20210425</td>\n",
              "      <td>11290</td>\n",
              "      <td>성북구</td>\n",
              "      <td>443639.45680</td>\n",
              "      <td>426291.84200</td>\n",
              "      <td>14728.45920</td>\n",
              "      <td>2619.15560</td>\n",
              "      <td>465470.80920</td>\n",
              "      <td>416126.41780</td>\n",
              "      <td>427753.49210</td>\n",
              "      <td>454986.57450</td>\n",
              "      <td>168361.07380</td>\n",
              "      <td>20646.80240</td>\n",
              "      <td>91937.32060</td>\n",
              "      <td>55776.95080</td>\n",
              "    </tr>\n",
              "    <tr>\n",
              "      <th>2</th>\n",
              "      <td>20210424</td>\n",
              "      <td>11290</td>\n",
              "      <td>성북구</td>\n",
              "      <td>437840.32410</td>\n",
              "      <td>421201.82570</td>\n",
              "      <td>14711.10870</td>\n",
              "      <td>1927.38980</td>\n",
              "      <td>459598.45900</td>\n",
              "      <td>408104.13620</td>\n",
              "      <td>418491.12470</td>\n",
              "      <td>451661.18080</td>\n",
              "      <td>173192.06950</td>\n",
              "      <td>22332.52960</td>\n",
              "      <td>88407.36780</td>\n",
              "      <td>62452.17210</td>\n",
              "    </tr>\n",
              "    <tr>\n",
              "      <th>3</th>\n",
              "      <td>20210423</td>\n",
              "      <td>11290</td>\n",
              "      <td>성북구</td>\n",
              "      <td>435185.36780</td>\n",
              "      <td>418784.71860</td>\n",
              "      <td>14991.80530</td>\n",
              "      <td>1408.84390</td>\n",
              "      <td>465491.92740</td>\n",
              "      <td>400532.96140</td>\n",
              "      <td>408959.39910</td>\n",
              "      <td>453918.20260</td>\n",
              "      <td>192984.50380</td>\n",
              "      <td>22768.37600</td>\n",
              "      <td>93289.93880</td>\n",
              "      <td>76926.18900</td>\n",
              "    </tr>\n",
              "    <tr>\n",
              "      <th>4</th>\n",
              "      <td>20210422</td>\n",
              "      <td>11290</td>\n",
              "      <td>성북구</td>\n",
              "      <td>438600.35210</td>\n",
              "      <td>421482.46410</td>\n",
              "      <td>15150.64420</td>\n",
              "      <td>1967.24380</td>\n",
              "      <td>467918.04400</td>\n",
              "      <td>404219.35790</td>\n",
              "      <td>411963.45150</td>\n",
              "      <td>457626.70970</td>\n",
              "      <td>197478.01740</td>\n",
              "      <td>23795.99210</td>\n",
              "      <td>94515.73460</td>\n",
              "      <td>79166.29070</td>\n",
              "    </tr>\n",
              "    <tr>\n",
              "      <th>...</th>\n",
              "      <td>...</td>\n",
              "      <td>...</td>\n",
              "      <td>...</td>\n",
              "      <td>...</td>\n",
              "      <td>...</td>\n",
              "      <td>...</td>\n",
              "      <td>...</td>\n",
              "      <td>...</td>\n",
              "      <td>...</td>\n",
              "      <td>...</td>\n",
              "      <td>...</td>\n",
              "      <td>...</td>\n",
              "      <td>...</td>\n",
              "      <td>...</td>\n",
              "      <td>...</td>\n",
              "    </tr>\n",
              "    <tr>\n",
              "      <th>1098</th>\n",
              "      <td>20180409</td>\n",
              "      <td>11290</td>\n",
              "      <td>성북구</td>\n",
              "      <td>476114.24590</td>\n",
              "      <td>454886.10310</td>\n",
              "      <td>18788.06680</td>\n",
              "      <td>2440.07600</td>\n",
              "      <td>504092.62350</td>\n",
              "      <td>450264.16860</td>\n",
              "      <td>453415.34120</td>\n",
              "      <td>492327.74920</td>\n",
              "      <td>240497.63390</td>\n",
              "      <td>30769.73320</td>\n",
              "      <td>103022.83580</td>\n",
              "      <td>106705.06490</td>\n",
              "    </tr>\n",
              "    <tr>\n",
              "      <th>1099</th>\n",
              "      <td>20180408</td>\n",
              "      <td>11290</td>\n",
              "      <td>성북구</td>\n",
              "      <td>477840.49290</td>\n",
              "      <td>456999.13760</td>\n",
              "      <td>18226.85170</td>\n",
              "      <td>2614.50360</td>\n",
              "      <td>498844.12240</td>\n",
              "      <td>450066.63510</td>\n",
              "      <td>461373.95650</td>\n",
              "      <td>489602.30450</td>\n",
              "      <td>193289.26080</td>\n",
              "      <td>24703.28610</td>\n",
              "      <td>98189.04260</td>\n",
              "      <td>70396.93210</td>\n",
              "    </tr>\n",
              "    <tr>\n",
              "      <th>1100</th>\n",
              "      <td>20180407</td>\n",
              "      <td>11290</td>\n",
              "      <td>성북구</td>\n",
              "      <td>466144.52940</td>\n",
              "      <td>445674.45040</td>\n",
              "      <td>17855.15440</td>\n",
              "      <td>2614.92470</td>\n",
              "      <td>497224.81540</td>\n",
              "      <td>432109.66880</td>\n",
              "      <td>442971.58690</td>\n",
              "      <td>482696.63120</td>\n",
              "      <td>196216.04810</td>\n",
              "      <td>26331.93420</td>\n",
              "      <td>95319.36890</td>\n",
              "      <td>74564.74500</td>\n",
              "    </tr>\n",
              "    <tr>\n",
              "      <th>1101</th>\n",
              "      <td>20180406</td>\n",
              "      <td>11290</td>\n",
              "      <td>성북구</td>\n",
              "      <td>469243.02000</td>\n",
              "      <td>448371.16010</td>\n",
              "      <td>18446.62860</td>\n",
              "      <td>2425.23130</td>\n",
              "      <td>504288.05870</td>\n",
              "      <td>438023.86400</td>\n",
              "      <td>444779.46070</td>\n",
              "      <td>486716.99090</td>\n",
              "      <td>226138.30080</td>\n",
              "      <td>27578.37090</td>\n",
              "      <td>99137.54820</td>\n",
              "      <td>99422.38170</td>\n",
              "    </tr>\n",
              "    <tr>\n",
              "      <th>1102</th>\n",
              "      <td>20180405</td>\n",
              "      <td>11290</td>\n",
              "      <td>성북구</td>\n",
              "      <td>477444.98960</td>\n",
              "      <td>456751.59140</td>\n",
              "      <td>18606.79950</td>\n",
              "      <td>2086.59870</td>\n",
              "      <td>504658.32840</td>\n",
              "      <td>452980.94670</td>\n",
              "      <td>457112.66350</td>\n",
              "      <td>491968.07960</td>\n",
              "      <td>235078.93160</td>\n",
              "      <td>29719.85340</td>\n",
              "      <td>101150.79300</td>\n",
              "      <td>104208.28520</td>\n",
              "    </tr>\n",
              "  </tbody>\n",
              "</table>\n",
              "<p>1103 rows × 15 columns</p>\n",
              "</div>"
            ],
            "text/plain": [
              "            0      1     2   ...           12              13            14\n",
              "0        기준일ID  시군구코드  시군구명  ...     서울외유입인구수  동일자치구행정동간이동인구수     자치구간이동인구수\n",
              "1     20210425  11290   성북구  ...  20646.80240     91937.32060   55776.95080\n",
              "2     20210424  11290   성북구  ...  22332.52960     88407.36780   62452.17210\n",
              "3     20210423  11290   성북구  ...  22768.37600     93289.93880   76926.18900\n",
              "4     20210422  11290   성북구  ...  23795.99210     94515.73460   79166.29070\n",
              "...        ...    ...   ...  ...          ...             ...           ...\n",
              "1098  20180409  11290   성북구  ...  30769.73320    103022.83580  106705.06490\n",
              "1099  20180408  11290   성북구  ...  24703.28610     98189.04260   70396.93210\n",
              "1100  20180407  11290   성북구  ...  26331.93420     95319.36890   74564.74500\n",
              "1101  20180406  11290   성북구  ...  27578.37090     99137.54820   99422.38170\n",
              "1102  20180405  11290   성북구  ...  29719.85340    101150.79300  104208.28520\n",
              "\n",
              "[1103 rows x 15 columns]"
            ]
          },
          "metadata": {
            "tags": []
          },
          "execution_count": 407
        }
      ]
    },
    {
      "cell_type": "code",
      "metadata": {
        "id": "FMj0LM8ZdALO"
      },
      "source": [
        "file=file.drop([2],axis=1)\n",
        "file=file.drop([0],axis=0)\n",
        "file.columns=['기준일ID', '시군구코드', '총생활인구수', '내국인생활인구수', '장기체류외국인인구수', '단기체류외국인인구수', '일최대인구수', '일최소인구수', '주간인구수', '야간인구수', '일최대이동인구수', '서울외유입인구수', '동일자치구행정동간이동인구수', '자치구간이동인구수']"
      ],
      "execution_count": 408,
      "outputs": []
    },
    {
      "cell_type": "code",
      "metadata": {
        "id": "lpul7cNEo0Ic"
      },
      "source": [
        "file=file.astype(np.float)"
      ],
      "execution_count": 409,
      "outputs": []
    },
    {
      "cell_type": "markdown",
      "metadata": {
        "id": "to4X9BmGHcVn"
      },
      "source": [
        "* 데이터프레임 file의 앞에 5줄 데이터 조회"
      ]
    },
    {
      "cell_type": "code",
      "metadata": {
        "id": "vHp-kJ5vmr-u",
        "colab": {
          "base_uri": "https://localhost:8080/"
        },
        "outputId": "fa38f943-da44-4138-9877-6cf3df24754e"
      },
      "source": [
        "print(file.head())"
      ],
      "execution_count": 410,
      "outputs": [
        {
          "output_type": "stream",
          "text": [
            "        기준일ID    시군구코드       총생활인구수  ...    서울외유입인구수  동일자치구행정동간이동인구수   자치구간이동인구수\n",
            "1  20210425.0  11290.0  443639.4568  ...  20646.8024      91937.3206  55776.9508\n",
            "2  20210424.0  11290.0  437840.3241  ...  22332.5296      88407.3678  62452.1721\n",
            "3  20210423.0  11290.0  435185.3678  ...  22768.3760      93289.9388  76926.1890\n",
            "4  20210422.0  11290.0  438600.3521  ...  23795.9921      94515.7346  79166.2907\n",
            "5  20210421.0  11290.0  439620.8259  ...  24139.0040      95286.4855  80989.7148\n",
            "\n",
            "[5 rows x 14 columns]\n"
          ],
          "name": "stdout"
        }
      ]
    },
    {
      "cell_type": "markdown",
      "metadata": {
        "id": "mt_eg4AlI-2s"
      },
      "source": [
        "* 데이터프레임 file의 뒤에 5줄 데이터 조회"
      ]
    },
    {
      "cell_type": "code",
      "metadata": {
        "id": "3wcQvP_EI3Yc",
        "colab": {
          "base_uri": "https://localhost:8080/"
        },
        "outputId": "fffd5cd6-b5b0-45d0-fda8-4b2e38461500"
      },
      "source": [
        "print(file.tail())"
      ],
      "execution_count": 411,
      "outputs": [
        {
          "output_type": "stream",
          "text": [
            "           기준일ID    시군구코드       총생활인구수  ...    서울외유입인구수  동일자치구행정동간이동인구수    자치구간이동인구수\n",
            "1098  20180409.0  11290.0  476114.2459  ...  30769.7332     103022.8358  106705.0649\n",
            "1099  20180408.0  11290.0  477840.4929  ...  24703.2861      98189.0426   70396.9321\n",
            "1100  20180407.0  11290.0  466144.5294  ...  26331.9342      95319.3689   74564.7450\n",
            "1101  20180406.0  11290.0  469243.0200  ...  27578.3709      99137.5482   99422.3817\n",
            "1102  20180405.0  11290.0  477444.9896  ...  29719.8534     101150.7930  104208.2852\n",
            "\n",
            "[5 rows x 14 columns]\n"
          ],
          "name": "stdout"
        }
      ]
    },
    {
      "cell_type": "markdown",
      "metadata": {
        "id": "_qM7c0PCJsVB"
      },
      "source": [
        "* 데이터프레임 file의 앞에 10줄 데이터 조회"
      ]
    },
    {
      "cell_type": "code",
      "metadata": {
        "id": "Y6IqwzzbpA7K",
        "colab": {
          "base_uri": "https://localhost:8080/"
        },
        "outputId": "bd6f2b10-b96b-4c20-a793-f76178df2e11"
      },
      "source": [
        "print(file.head(10))"
      ],
      "execution_count": 412,
      "outputs": [
        {
          "output_type": "stream",
          "text": [
            "         기준일ID    시군구코드       총생활인구수  ...    서울외유입인구수  동일자치구행정동간이동인구수   자치구간이동인구수\n",
            "1   20210425.0  11290.0  443639.4568  ...  20646.8024      91937.3206  55776.9508\n",
            "2   20210424.0  11290.0  437840.3241  ...  22332.5296      88407.3678  62452.1721\n",
            "3   20210423.0  11290.0  435185.3678  ...  22768.3760      93289.9388  76926.1890\n",
            "4   20210422.0  11290.0  438600.3521  ...  23795.9921      94515.7346  79166.2907\n",
            "5   20210421.0  11290.0  439620.8259  ...  24139.0040      95286.4855  80989.7148\n",
            "6   20210420.0  11290.0  439129.5066  ...  23696.8222      95415.2441  80379.4085\n",
            "7   20210419.0  11290.0  439863.0247  ...  22334.9785      96001.3729  77991.7234\n",
            "8   20210418.0  11290.0  446964.2735  ...  19958.7062      92165.1553  57251.6343\n",
            "9   20210417.0  11290.0  443367.2450  ...  21767.2646      89067.6840  61809.3791\n",
            "10  20210416.0  11290.0  438868.2782  ...  21812.9126      93713.3944  76463.1459\n",
            "\n",
            "[10 rows x 14 columns]\n"
          ],
          "name": "stdout"
        }
      ]
    },
    {
      "cell_type": "markdown",
      "metadata": {
        "id": "_ElIsIPELSIS"
      },
      "source": [
        "#  데이터 요약정보 확인하기"
      ]
    },
    {
      "cell_type": "markdown",
      "metadata": {
        "id": "zXi9JehJLzzC"
      },
      "source": [
        "* 데이터프레임 모양과 크기 확인"
      ]
    },
    {
      "cell_type": "code",
      "metadata": {
        "id": "SDiypRdGpA1r",
        "colab": {
          "base_uri": "https://localhost:8080/"
        },
        "outputId": "289e5653-9427-484b-a1e6-32f3903c9def"
      },
      "source": [
        "print(file.shape)"
      ],
      "execution_count": 413,
      "outputs": [
        {
          "output_type": "stream",
          "text": [
            "(1102, 14)\n"
          ],
          "name": "stdout"
        }
      ]
    },
    {
      "cell_type": "markdown",
      "metadata": {
        "id": "veju4mmRMgmx"
      },
      "source": [
        "* 데이터프레임 기본정보 조회"
      ]
    },
    {
      "cell_type": "code",
      "metadata": {
        "id": "zoC3coUxpApz",
        "colab": {
          "base_uri": "https://localhost:8080/"
        },
        "outputId": "c818a4f1-0f7c-4b64-9154-f81ed7a9dc27"
      },
      "source": [
        "file.info()"
      ],
      "execution_count": 414,
      "outputs": [
        {
          "output_type": "stream",
          "text": [
            "<class 'pandas.core.frame.DataFrame'>\n",
            "Int64Index: 1102 entries, 1 to 1102\n",
            "Data columns (total 14 columns):\n",
            " #   Column          Non-Null Count  Dtype  \n",
            "---  ------          --------------  -----  \n",
            " 0   기준일ID           1102 non-null   float64\n",
            " 1   시군구코드           1102 non-null   float64\n",
            " 2   총생활인구수          1102 non-null   float64\n",
            " 3   내국인생활인구수        1102 non-null   float64\n",
            " 4   장기체류외국인인구수      1102 non-null   float64\n",
            " 5   단기체류외국인인구수      1102 non-null   float64\n",
            " 6   일최대인구수          1102 non-null   float64\n",
            " 7   일최소인구수          1102 non-null   float64\n",
            " 8   주간인구수           1102 non-null   float64\n",
            " 9   야간인구수           1102 non-null   float64\n",
            " 10  일최대이동인구수        1102 non-null   float64\n",
            " 11  서울외유입인구수        1102 non-null   float64\n",
            " 12  동일자치구행정동간이동인구수  1102 non-null   float64\n",
            " 13  자치구간이동인구수       1102 non-null   float64\n",
            "dtypes: float64(14)\n",
            "memory usage: 129.1 KB\n"
          ],
          "name": "stdout"
        }
      ]
    },
    {
      "cell_type": "markdown",
      "metadata": {
        "id": "KW7fLJ8eMjKZ"
      },
      "source": [
        "* 데이터프레임의 각열의 자료형 확인"
      ]
    },
    {
      "cell_type": "code",
      "metadata": {
        "id": "l3h-3oZumPnM",
        "colab": {
          "base_uri": "https://localhost:8080/"
        },
        "outputId": "aaf884bc-aad8-44df-aa5e-3018ef142ae9"
      },
      "source": [
        "file.dtypes"
      ],
      "execution_count": 415,
      "outputs": [
        {
          "output_type": "execute_result",
          "data": {
            "text/plain": [
              "기준일ID             float64\n",
              "시군구코드             float64\n",
              "총생활인구수            float64\n",
              "내국인생활인구수          float64\n",
              "장기체류외국인인구수        float64\n",
              "단기체류외국인인구수        float64\n",
              "일최대인구수            float64\n",
              "일최소인구수            float64\n",
              "주간인구수             float64\n",
              "야간인구수             float64\n",
              "일최대이동인구수          float64\n",
              "서울외유입인구수          float64\n",
              "동일자치구행정동간이동인구수    float64\n",
              "자치구간이동인구수         float64\n",
              "dtype: object"
            ]
          },
          "metadata": {
            "tags": []
          },
          "execution_count": 415
        }
      ]
    },
    {
      "cell_type": "markdown",
      "metadata": {
        "id": "U56XiDtTMpCq"
      },
      "source": [
        "* '일최대이동인구수' 열에 대해 dtypes속성 적용"
      ]
    },
    {
      "cell_type": "code",
      "metadata": {
        "id": "julPwkbal-5w",
        "colab": {
          "base_uri": "https://localhost:8080/"
        },
        "outputId": "80774a76-4ec4-4be9-85fc-ad602e7be033"
      },
      "source": [
        "file['일최대이동인구수'].dtypes"
      ],
      "execution_count": 416,
      "outputs": [
        {
          "output_type": "execute_result",
          "data": {
            "text/plain": [
              "dtype('float64')"
            ]
          },
          "metadata": {
            "tags": []
          },
          "execution_count": 416
        }
      ]
    },
    {
      "cell_type": "markdown",
      "metadata": {
        "id": "0Xcrr7uTNfdh"
      },
      "source": [
        "* 데이터프레임의 기술통계정보를 보여라"
      ]
    },
    {
      "cell_type": "code",
      "metadata": {
        "id": "2LSCJyXBrVKX",
        "colab": {
          "base_uri": "https://localhost:8080/",
          "height": 314
        },
        "outputId": "8c316276-3afc-4cd0-ddd5-c9aeaa7fcc73"
      },
      "source": [
        "file.describe()"
      ],
      "execution_count": 417,
      "outputs": [
        {
          "output_type": "execute_result",
          "data": {
            "text/html": [
              "<div>\n",
              "<style scoped>\n",
              "    .dataframe tbody tr th:only-of-type {\n",
              "        vertical-align: middle;\n",
              "    }\n",
              "\n",
              "    .dataframe tbody tr th {\n",
              "        vertical-align: top;\n",
              "    }\n",
              "\n",
              "    .dataframe thead th {\n",
              "        text-align: right;\n",
              "    }\n",
              "</style>\n",
              "<table border=\"1\" class=\"dataframe\">\n",
              "  <thead>\n",
              "    <tr style=\"text-align: right;\">\n",
              "      <th></th>\n",
              "      <th>기준일ID</th>\n",
              "      <th>시군구코드</th>\n",
              "      <th>총생활인구수</th>\n",
              "      <th>내국인생활인구수</th>\n",
              "      <th>장기체류외국인인구수</th>\n",
              "      <th>단기체류외국인인구수</th>\n",
              "      <th>일최대인구수</th>\n",
              "      <th>일최소인구수</th>\n",
              "      <th>주간인구수</th>\n",
              "      <th>야간인구수</th>\n",
              "      <th>일최대이동인구수</th>\n",
              "      <th>서울외유입인구수</th>\n",
              "      <th>동일자치구행정동간이동인구수</th>\n",
              "      <th>자치구간이동인구수</th>\n",
              "    </tr>\n",
              "  </thead>\n",
              "  <tbody>\n",
              "    <tr>\n",
              "      <th>count</th>\n",
              "      <td>1.102000e+03</td>\n",
              "      <td>1102.0</td>\n",
              "      <td>1102.000000</td>\n",
              "      <td>1102.000000</td>\n",
              "      <td>1102.000000</td>\n",
              "      <td>1102.000000</td>\n",
              "      <td>1102.000000</td>\n",
              "      <td>1102.000000</td>\n",
              "      <td>1102.000000</td>\n",
              "      <td>1102.000000</td>\n",
              "      <td>1102.000000</td>\n",
              "      <td>1102.000000</td>\n",
              "      <td>1102.000000</td>\n",
              "      <td>1102.000000</td>\n",
              "    </tr>\n",
              "    <tr>\n",
              "      <th>mean</th>\n",
              "      <td>2.019361e+07</td>\n",
              "      <td>11290.0</td>\n",
              "      <td>449403.724059</td>\n",
              "      <td>431110.782397</td>\n",
              "      <td>15555.967560</td>\n",
              "      <td>2736.974109</td>\n",
              "      <td>476893.694929</td>\n",
              "      <td>419411.267451</td>\n",
              "      <td>426864.747397</td>\n",
              "      <td>465414.710775</td>\n",
              "      <td>189767.782376</td>\n",
              "      <td>25120.685697</td>\n",
              "      <td>90171.095014</td>\n",
              "      <td>74476.001665</td>\n",
              "    </tr>\n",
              "    <tr>\n",
              "      <th>std</th>\n",
              "      <td>9.414096e+03</td>\n",
              "      <td>0.0</td>\n",
              "      <td>14008.605145</td>\n",
              "      <td>12998.571695</td>\n",
              "      <td>1683.981870</td>\n",
              "      <td>944.610050</td>\n",
              "      <td>15000.608760</td>\n",
              "      <td>16642.345130</td>\n",
              "      <td>16402.525671</td>\n",
              "      <td>13685.651941</td>\n",
              "      <td>19712.498982</td>\n",
              "      <td>4502.801248</td>\n",
              "      <td>5554.796026</td>\n",
              "      <td>13214.268720</td>\n",
              "    </tr>\n",
              "    <tr>\n",
              "      <th>min</th>\n",
              "      <td>2.018040e+07</td>\n",
              "      <td>11290.0</td>\n",
              "      <td>405876.710800</td>\n",
              "      <td>389702.562400</td>\n",
              "      <td>10818.879000</td>\n",
              "      <td>1049.793800</td>\n",
              "      <td>423412.706200</td>\n",
              "      <td>368063.238800</td>\n",
              "      <td>375548.942100</td>\n",
              "      <td>416243.187900</td>\n",
              "      <td>86346.887600</td>\n",
              "      <td>15158.955900</td>\n",
              "      <td>36267.791900</td>\n",
              "      <td>22653.750900</td>\n",
              "    </tr>\n",
              "    <tr>\n",
              "      <th>25%</th>\n",
              "      <td>2.019011e+07</td>\n",
              "      <td>11290.0</td>\n",
              "      <td>440117.645950</td>\n",
              "      <td>422512.531100</td>\n",
              "      <td>14565.348575</td>\n",
              "      <td>2107.320975</td>\n",
              "      <td>467549.385800</td>\n",
              "      <td>407024.491225</td>\n",
              "      <td>414501.653100</td>\n",
              "      <td>457219.865050</td>\n",
              "      <td>175693.009700</td>\n",
              "      <td>22132.048000</td>\n",
              "      <td>87410.392300</td>\n",
              "      <td>65063.163925</td>\n",
              "    </tr>\n",
              "    <tr>\n",
              "      <th>50%</th>\n",
              "      <td>2.019101e+07</td>\n",
              "      <td>11290.0</td>\n",
              "      <td>448619.806800</td>\n",
              "      <td>430452.213250</td>\n",
              "      <td>15672.379800</td>\n",
              "      <td>2440.120250</td>\n",
              "      <td>476157.757800</td>\n",
              "      <td>417701.192100</td>\n",
              "      <td>425303.722500</td>\n",
              "      <td>465019.979100</td>\n",
              "      <td>188454.054050</td>\n",
              "      <td>24380.781000</td>\n",
              "      <td>90605.890100</td>\n",
              "      <td>73850.481450</td>\n",
              "    </tr>\n",
              "    <tr>\n",
              "      <th>75%</th>\n",
              "      <td>2.020072e+07</td>\n",
              "      <td>11290.0</td>\n",
              "      <td>460391.636625</td>\n",
              "      <td>441310.774950</td>\n",
              "      <td>16772.493900</td>\n",
              "      <td>3164.913175</td>\n",
              "      <td>488201.334575</td>\n",
              "      <td>433461.698425</td>\n",
              "      <td>440783.198725</td>\n",
              "      <td>474867.424375</td>\n",
              "      <td>201627.387850</td>\n",
              "      <td>27528.289650</td>\n",
              "      <td>93500.341250</td>\n",
              "      <td>82952.952950</td>\n",
              "    </tr>\n",
              "    <tr>\n",
              "      <th>max</th>\n",
              "      <td>2.021042e+07</td>\n",
              "      <td>11290.0</td>\n",
              "      <td>500463.406300</td>\n",
              "      <td>480974.359400</td>\n",
              "      <td>19190.451300</td>\n",
              "      <td>7503.387500</td>\n",
              "      <td>626454.916600</td>\n",
              "      <td>465957.056700</td>\n",
              "      <td>475850.496500</td>\n",
              "      <td>537738.340000</td>\n",
              "      <td>243213.401600</td>\n",
              "      <td>55409.114000</td>\n",
              "      <td>103022.835800</td>\n",
              "      <td>108842.263900</td>\n",
              "    </tr>\n",
              "  </tbody>\n",
              "</table>\n",
              "</div>"
            ],
            "text/plain": [
              "              기준일ID    시군구코드  ...  동일자치구행정동간이동인구수      자치구간이동인구수\n",
              "count  1.102000e+03   1102.0  ...     1102.000000    1102.000000\n",
              "mean   2.019361e+07  11290.0  ...    90171.095014   74476.001665\n",
              "std    9.414096e+03      0.0  ...     5554.796026   13214.268720\n",
              "min    2.018040e+07  11290.0  ...    36267.791900   22653.750900\n",
              "25%    2.019011e+07  11290.0  ...    87410.392300   65063.163925\n",
              "50%    2.019101e+07  11290.0  ...    90605.890100   73850.481450\n",
              "75%    2.020072e+07  11290.0  ...    93500.341250   82952.952950\n",
              "max    2.021042e+07  11290.0  ...   103022.835800  108842.263900\n",
              "\n",
              "[8 rows x 14 columns]"
            ]
          },
          "metadata": {
            "tags": []
          },
          "execution_count": 417
        }
      ]
    },
    {
      "cell_type": "markdown",
      "metadata": {
        "id": "QL8TwDRqNk7Z"
      },
      "source": [
        "* 각 열의 데이터 개수 확인하는 코드 작성"
      ]
    },
    {
      "cell_type": "code",
      "metadata": {
        "id": "GxLGQaRIrqHo",
        "colab": {
          "base_uri": "https://localhost:8080/"
        },
        "outputId": "6e7ec0cf-45d4-473e-bd6a-f3c34e702020"
      },
      "source": [
        "file.count()"
      ],
      "execution_count": 418,
      "outputs": [
        {
          "output_type": "execute_result",
          "data": {
            "text/plain": [
              "기준일ID             1102\n",
              "시군구코드             1102\n",
              "총생활인구수            1102\n",
              "내국인생활인구수          1102\n",
              "장기체류외국인인구수        1102\n",
              "단기체류외국인인구수        1102\n",
              "일최대인구수            1102\n",
              "일최소인구수            1102\n",
              "주간인구수             1102\n",
              "야간인구수             1102\n",
              "일최대이동인구수          1102\n",
              "서울외유입인구수          1102\n",
              "동일자치구행정동간이동인구수    1102\n",
              "자치구간이동인구수         1102\n",
              "dtype: int64"
            ]
          },
          "metadata": {
            "tags": []
          },
          "execution_count": 418
        }
      ]
    },
    {
      "cell_type": "markdown",
      "metadata": {
        "id": "8Qem1xthNpEp"
      },
      "source": [
        "* ''일최대이동인구수''열의 고유값 개수 확인하는 코드 작성"
      ]
    },
    {
      "cell_type": "code",
      "metadata": {
        "id": "k9ZoiKLfrptY",
        "colab": {
          "base_uri": "https://localhost:8080/"
        },
        "outputId": "38f5a625-b522-4509-b390-0a260cba78fc"
      },
      "source": [
        "file['일최대이동인구수'].value_counts()"
      ],
      "execution_count": 419,
      "outputs": [
        {
          "output_type": "execute_result",
          "data": {
            "text/plain": [
              "205061.5731    1\n",
              "192107.4485    1\n",
              "174170.6647    1\n",
              "189333.7390    1\n",
              "200415.2043    1\n",
              "              ..\n",
              "203512.6423    1\n",
              "164207.3024    1\n",
              "243213.4016    1\n",
              "199566.5946    1\n",
              "162849.5341    1\n",
              "Name: 일최대이동인구수, Length: 1102, dtype: int64"
            ]
          },
          "metadata": {
            "tags": []
          },
          "execution_count": 419
        }
      ]
    },
    {
      "cell_type": "markdown",
      "metadata": {
        "id": "xharyGBsOEqC"
      },
      "source": [
        "# 통계함수"
      ]
    },
    {
      "cell_type": "markdown",
      "metadata": {
        "id": "uzHCk1PuPF8K"
      },
      "source": [
        "* file데이터프레임의 평균값 계산해라"
      ]
    },
    {
      "cell_type": "code",
      "metadata": {
        "id": "ewQeK3lXtTUH",
        "colab": {
          "base_uri": "https://localhost:8080/"
        },
        "outputId": "70b91744-a46b-400d-9c23-d3a6fc33a99b"
      },
      "source": [
        "file.mean()"
      ],
      "execution_count": 420,
      "outputs": [
        {
          "output_type": "execute_result",
          "data": {
            "text/plain": [
              "기준일ID             2.019361e+07\n",
              "시군구코드             1.129000e+04\n",
              "총생활인구수            4.494037e+05\n",
              "내국인생활인구수          4.311108e+05\n",
              "장기체류외국인인구수        1.555597e+04\n",
              "단기체류외국인인구수        2.736974e+03\n",
              "일최대인구수            4.768937e+05\n",
              "일최소인구수            4.194113e+05\n",
              "주간인구수             4.268647e+05\n",
              "야간인구수             4.654147e+05\n",
              "일최대이동인구수          1.897678e+05\n",
              "서울외유입인구수          2.512069e+04\n",
              "동일자치구행정동간이동인구수    9.017110e+04\n",
              "자치구간이동인구수         7.447600e+04\n",
              "dtype: float64"
            ]
          },
          "metadata": {
            "tags": []
          },
          "execution_count": 420
        }
      ]
    },
    {
      "cell_type": "markdown",
      "metadata": {
        "id": "R6gWiLgERaqi"
      },
      "source": [
        "* '일최대이동인구수'열의 평균을 계산해라"
      ]
    },
    {
      "cell_type": "code",
      "metadata": {
        "id": "EIUdDehpmrhn",
        "colab": {
          "base_uri": "https://localhost:8080/"
        },
        "outputId": "94ea69ec-0156-4e29-898d-bb4f3149e97c"
      },
      "source": [
        "file['일최대이동인구수'].mean()"
      ],
      "execution_count": 421,
      "outputs": [
        {
          "output_type": "execute_result",
          "data": {
            "text/plain": [
              "189767.78237604344"
            ]
          },
          "metadata": {
            "tags": []
          },
          "execution_count": 421
        }
      ]
    },
    {
      "cell_type": "markdown",
      "metadata": {
        "id": "FLrkrDZSSHSE"
      },
      "source": [
        "* file데이터프레임의 중간값을 확인해라"
      ]
    },
    {
      "cell_type": "code",
      "metadata": {
        "id": "LGghPWtIt3SD",
        "colab": {
          "base_uri": "https://localhost:8080/"
        },
        "outputId": "d63fec9d-2a93-4840-d9d6-c6db1a44e340"
      },
      "source": [
        "file.median()"
      ],
      "execution_count": 422,
      "outputs": [
        {
          "output_type": "execute_result",
          "data": {
            "text/plain": [
              "기준일ID             2.019101e+07\n",
              "시군구코드             1.129000e+04\n",
              "총생활인구수            4.486198e+05\n",
              "내국인생활인구수          4.304522e+05\n",
              "장기체류외국인인구수        1.567238e+04\n",
              "단기체류외국인인구수        2.440120e+03\n",
              "일최대인구수            4.761578e+05\n",
              "일최소인구수            4.177012e+05\n",
              "주간인구수             4.253037e+05\n",
              "야간인구수             4.650200e+05\n",
              "일최대이동인구수          1.884541e+05\n",
              "서울외유입인구수          2.438078e+04\n",
              "동일자치구행정동간이동인구수    9.060589e+04\n",
              "자치구간이동인구수         7.385048e+04\n",
              "dtype: float64"
            ]
          },
          "metadata": {
            "tags": []
          },
          "execution_count": 422
        }
      ]
    },
    {
      "cell_type": "markdown",
      "metadata": {
        "id": "PzaPAWphMqEo"
      },
      "source": [
        "* '일최대이동인구수'열의 중간값을 확인해라"
      ]
    },
    {
      "cell_type": "code",
      "metadata": {
        "id": "4b-MSmvSMqFL",
        "colab": {
          "base_uri": "https://localhost:8080/"
        },
        "outputId": "6642a58c-7724-4156-d6d2-86fd7035c6d1"
      },
      "source": [
        "file['일최대이동인구수'].median()"
      ],
      "execution_count": 423,
      "outputs": [
        {
          "output_type": "execute_result",
          "data": {
            "text/plain": [
              "188454.05404999998"
            ]
          },
          "metadata": {
            "tags": []
          },
          "execution_count": 423
        }
      ]
    },
    {
      "cell_type": "markdown",
      "metadata": {
        "id": "vhu60hvjSLeb"
      },
      "source": [
        "* file데이터프레임의 최대값을 계산해라"
      ]
    },
    {
      "cell_type": "code",
      "metadata": {
        "id": "q4ykGVibMWSi",
        "colab": {
          "base_uri": "https://localhost:8080/"
        },
        "outputId": "d44a6b20-479e-4ac2-b5cc-8254d0ef65d4"
      },
      "source": [
        "file.max()"
      ],
      "execution_count": 424,
      "outputs": [
        {
          "output_type": "execute_result",
          "data": {
            "text/plain": [
              "기준일ID             2.021042e+07\n",
              "시군구코드             1.129000e+04\n",
              "총생활인구수            5.004634e+05\n",
              "내국인생활인구수          4.809744e+05\n",
              "장기체류외국인인구수        1.919045e+04\n",
              "단기체류외국인인구수        7.503387e+03\n",
              "일최대인구수            6.264549e+05\n",
              "일최소인구수            4.659571e+05\n",
              "주간인구수             4.758505e+05\n",
              "야간인구수             5.377383e+05\n",
              "일최대이동인구수          2.432134e+05\n",
              "서울외유입인구수          5.540911e+04\n",
              "동일자치구행정동간이동인구수    1.030228e+05\n",
              "자치구간이동인구수         1.088423e+05\n",
              "dtype: float64"
            ]
          },
          "metadata": {
            "tags": []
          },
          "execution_count": 424
        }
      ]
    },
    {
      "cell_type": "markdown",
      "metadata": {
        "id": "fV6uu19zMvX0"
      },
      "source": [
        "* '일최대이동인구수'열의 최대값을 계산해라"
      ]
    },
    {
      "cell_type": "code",
      "metadata": {
        "id": "KWRSFv_DMvX2",
        "colab": {
          "base_uri": "https://localhost:8080/"
        },
        "outputId": "ee5c11cf-0441-45e0-9c3d-ff0ab18892b2"
      },
      "source": [
        "file['일최대이동인구수'].max()"
      ],
      "execution_count": 425,
      "outputs": [
        {
          "output_type": "execute_result",
          "data": {
            "text/plain": [
              "243213.4016"
            ]
          },
          "metadata": {
            "tags": []
          },
          "execution_count": 425
        }
      ]
    },
    {
      "cell_type": "markdown",
      "metadata": {
        "id": "kyBDJFiGMX3h"
      },
      "source": [
        "* file데이터프레임의 최솟값을 계산해라"
      ]
    },
    {
      "cell_type": "code",
      "metadata": {
        "id": "3WMN48m_MEAr",
        "colab": {
          "base_uri": "https://localhost:8080/"
        },
        "outputId": "ee9b9677-8058-48ec-9c73-7d0662aa6342"
      },
      "source": [
        "file.min()"
      ],
      "execution_count": 426,
      "outputs": [
        {
          "output_type": "execute_result",
          "data": {
            "text/plain": [
              "기준일ID             2.018040e+07\n",
              "시군구코드             1.129000e+04\n",
              "총생활인구수            4.058767e+05\n",
              "내국인생활인구수          3.897026e+05\n",
              "장기체류외국인인구수        1.081888e+04\n",
              "단기체류외국인인구수        1.049794e+03\n",
              "일최대인구수            4.234127e+05\n",
              "일최소인구수            3.680632e+05\n",
              "주간인구수             3.755489e+05\n",
              "야간인구수             4.162432e+05\n",
              "일최대이동인구수          8.634689e+04\n",
              "서울외유입인구수          1.515896e+04\n",
              "동일자치구행정동간이동인구수    3.626779e+04\n",
              "자치구간이동인구수         2.265375e+04\n",
              "dtype: float64"
            ]
          },
          "metadata": {
            "tags": []
          },
          "execution_count": 426
        }
      ]
    },
    {
      "cell_type": "markdown",
      "metadata": {
        "id": "1H0Z-LfjMzNK"
      },
      "source": [
        "* '일최대이동인구수'열의 최솟값을 계산해라"
      ]
    },
    {
      "cell_type": "code",
      "metadata": {
        "id": "SFi6-Ut8MzNN",
        "colab": {
          "base_uri": "https://localhost:8080/"
        },
        "outputId": "df3bef12-30f8-4f84-9d76-702c1af443e8"
      },
      "source": [
        "file['일최대이동인구수'].min()"
      ],
      "execution_count": 427,
      "outputs": [
        {
          "output_type": "execute_result",
          "data": {
            "text/plain": [
              "86346.8876"
            ]
          },
          "metadata": {
            "tags": []
          },
          "execution_count": 427
        }
      ]
    },
    {
      "cell_type": "markdown",
      "metadata": {
        "id": "p-2CkyUXM8he"
      },
      "source": [
        "* file데이터프레임의 표준편차를 계산해라"
      ]
    },
    {
      "cell_type": "code",
      "metadata": {
        "id": "qVc87VZMM8hg",
        "colab": {
          "base_uri": "https://localhost:8080/"
        },
        "outputId": "60e5a933-f63a-44da-aa96-7cddd7cc754c"
      },
      "source": [
        "file.std"
      ],
      "execution_count": 428,
      "outputs": [
        {
          "output_type": "execute_result",
          "data": {
            "text/plain": [
              "<bound method DataFrame.std of            기준일ID    시군구코드       총생활인구수  ...    서울외유입인구수  동일자치구행정동간이동인구수    자치구간이동인구수\n",
              "1     20210425.0  11290.0  443639.4568  ...  20646.8024      91937.3206   55776.9508\n",
              "2     20210424.0  11290.0  437840.3241  ...  22332.5296      88407.3678   62452.1721\n",
              "3     20210423.0  11290.0  435185.3678  ...  22768.3760      93289.9388   76926.1890\n",
              "4     20210422.0  11290.0  438600.3521  ...  23795.9921      94515.7346   79166.2907\n",
              "5     20210421.0  11290.0  439620.8259  ...  24139.0040      95286.4855   80989.7148\n",
              "...          ...      ...          ...  ...         ...             ...          ...\n",
              "1098  20180409.0  11290.0  476114.2459  ...  30769.7332     103022.8358  106705.0649\n",
              "1099  20180408.0  11290.0  477840.4929  ...  24703.2861      98189.0426   70396.9321\n",
              "1100  20180407.0  11290.0  466144.5294  ...  26331.9342      95319.3689   74564.7450\n",
              "1101  20180406.0  11290.0  469243.0200  ...  27578.3709      99137.5482   99422.3817\n",
              "1102  20180405.0  11290.0  477444.9896  ...  29719.8534     101150.7930  104208.2852\n",
              "\n",
              "[1102 rows x 14 columns]>"
            ]
          },
          "metadata": {
            "tags": []
          },
          "execution_count": 428
        }
      ]
    },
    {
      "cell_type": "markdown",
      "metadata": {
        "id": "QZj4OZD_NEQ5"
      },
      "source": [
        "* '일최대이동인구수'열의 표준편차를 계산해라"
      ]
    },
    {
      "cell_type": "code",
      "metadata": {
        "id": "RW646EeRNEQ6",
        "colab": {
          "base_uri": "https://localhost:8080/"
        },
        "outputId": "ee7b40af-44bc-4447-ec6f-13f35f336347"
      },
      "source": [
        "file['일최대이동인구수'].std"
      ],
      "execution_count": 429,
      "outputs": [
        {
          "output_type": "execute_result",
          "data": {
            "text/plain": [
              "<bound method Series.std of 1       168361.0738\n",
              "2       173192.0695\n",
              "3       192984.5038\n",
              "4       197478.0174\n",
              "5       200415.2043\n",
              "           ...     \n",
              "1098    240497.6339\n",
              "1099    193289.2608\n",
              "1100    196216.0481\n",
              "1101    226138.3008\n",
              "1102    235078.9316\n",
              "Name: 일최대이동인구수, Length: 1102, dtype: float64>"
            ]
          },
          "metadata": {
            "tags": []
          },
          "execution_count": 429
        }
      ]
    },
    {
      "cell_type": "markdown",
      "metadata": {
        "id": "UxETcM-fNl-w"
      },
      "source": [
        "* '자치구간이동인구수'와 '일최대이동인구수'의 상관계수를 계산해라"
      ]
    },
    {
      "cell_type": "code",
      "metadata": {
        "id": "ZQMrrvhbNJ5Q",
        "colab": {
          "base_uri": "https://localhost:8080/",
          "height": 111
        },
        "outputId": "e5d21add-b2ee-4a8f-e253-20a519dd93da"
      },
      "source": [
        "file[['자치구간이동인구수','일최대이동인구수']].corr()"
      ],
      "execution_count": 430,
      "outputs": [
        {
          "output_type": "execute_result",
          "data": {
            "text/html": [
              "<div>\n",
              "<style scoped>\n",
              "    .dataframe tbody tr th:only-of-type {\n",
              "        vertical-align: middle;\n",
              "    }\n",
              "\n",
              "    .dataframe tbody tr th {\n",
              "        vertical-align: top;\n",
              "    }\n",
              "\n",
              "    .dataframe thead th {\n",
              "        text-align: right;\n",
              "    }\n",
              "</style>\n",
              "<table border=\"1\" class=\"dataframe\">\n",
              "  <thead>\n",
              "    <tr style=\"text-align: right;\">\n",
              "      <th></th>\n",
              "      <th>자치구간이동인구수</th>\n",
              "      <th>일최대이동인구수</th>\n",
              "    </tr>\n",
              "  </thead>\n",
              "  <tbody>\n",
              "    <tr>\n",
              "      <th>자치구간이동인구수</th>\n",
              "      <td>1.000000</td>\n",
              "      <td>0.973829</td>\n",
              "    </tr>\n",
              "    <tr>\n",
              "      <th>일최대이동인구수</th>\n",
              "      <td>0.973829</td>\n",
              "      <td>1.000000</td>\n",
              "    </tr>\n",
              "  </tbody>\n",
              "</table>\n",
              "</div>"
            ],
            "text/plain": [
              "           자치구간이동인구수  일최대이동인구수\n",
              "자치구간이동인구수   1.000000  0.973829\n",
              "일최대이동인구수    0.973829  1.000000"
            ]
          },
          "metadata": {
            "tags": []
          },
          "execution_count": 430
        }
      ]
    },
    {
      "cell_type": "markdown",
      "metadata": {
        "id": "4ktdw0WEO16Y"
      },
      "source": [
        "# Pandas 심화(2)\n",
        "* 판다스 내장 그래픽 활용\n",
        "* 중복 데이터 처리"
      ]
    },
    {
      "cell_type": "markdown",
      "metadata": {
        "id": "4ezZWnu4O_yG"
      },
      "source": [
        "* 한글폰트설치"
      ]
    },
    {
      "cell_type": "markdown",
      "metadata": {
        "id": "A6TNGmi3x64d"
      },
      "source": [
        "import matplotlib.pyplot as plt\n",
        "\n",
        "import matplotlib as mpl\n",
        "\n",
        "from matplotlib import font_manager,rc\n",
        "\n",
        "%matplotlib inline\n",
        "\n",
        "mpl.rcParams['axes.unicode_minus']=False\n",
        "\n",
        "font=font_manager.FontProperties(fname='폰트경로).get_name()\n",
        "\n",
        "rc('font', family=font)"
      ]
    },
    {
      "cell_type": "markdown",
      "metadata": {
        "id": "ocD9y6YrPACm"
      },
      "source": [
        "* matplotlib라이브러리호출 (mpl로 약칭)"
      ]
    },
    {
      "cell_type": "code",
      "metadata": {
        "id": "TNNVxVlRPACn"
      },
      "source": [
        "import matplotlib as mpl"
      ],
      "execution_count": 431,
      "outputs": []
    },
    {
      "cell_type": "markdown",
      "metadata": {
        "id": "Wv7UR8SlPAOi"
      },
      "source": [
        "* matplotlib라이브러리의 pyplot함수 호출 (plt로 약칭)"
      ]
    },
    {
      "cell_type": "code",
      "metadata": {
        "id": "oo5xRwzXPAOj"
      },
      "source": [
        "import matplotlib.pyplot as plt"
      ],
      "execution_count": 432,
      "outputs": []
    },
    {
      "cell_type": "code",
      "metadata": {
        "id": "60clgNFPj_XN"
      },
      "source": [
        "data=file.iloc[:,4:]"
      ],
      "execution_count": 433,
      "outputs": []
    },
    {
      "cell_type": "markdown",
      "metadata": {
        "id": "XtjJ_JSBPAg8"
      },
      "source": [
        "* data의 선그래프 그리기"
      ]
    },
    {
      "cell_type": "code",
      "metadata": {
        "id": "aJST_ZDnPAg_",
        "colab": {
          "base_uri": "https://localhost:8080/",
          "height": 1000
        },
        "outputId": "81a902ec-8695-450b-ae98-2849cda321ae"
      },
      "source": [
        "data.plot();"
      ],
      "execution_count": 434,
      "outputs": [
        {
          "output_type": "stream",
          "text": [
            "/usr/local/lib/python3.7/dist-packages/matplotlib/backends/backend_agg.py:214: RuntimeWarning: Glyph 51109 missing from current font.\n",
            "  font.set_text(s, 0.0, flags=flags)\n",
            "/usr/local/lib/python3.7/dist-packages/matplotlib/backends/backend_agg.py:214: RuntimeWarning: Glyph 44592 missing from current font.\n",
            "  font.set_text(s, 0.0, flags=flags)\n",
            "/usr/local/lib/python3.7/dist-packages/matplotlib/backends/backend_agg.py:214: RuntimeWarning: Glyph 52404 missing from current font.\n",
            "  font.set_text(s, 0.0, flags=flags)\n",
            "/usr/local/lib/python3.7/dist-packages/matplotlib/backends/backend_agg.py:214: RuntimeWarning: Glyph 47448 missing from current font.\n",
            "  font.set_text(s, 0.0, flags=flags)\n",
            "/usr/local/lib/python3.7/dist-packages/matplotlib/backends/backend_agg.py:214: RuntimeWarning: Glyph 50808 missing from current font.\n",
            "  font.set_text(s, 0.0, flags=flags)\n",
            "/usr/local/lib/python3.7/dist-packages/matplotlib/backends/backend_agg.py:214: RuntimeWarning: Glyph 44397 missing from current font.\n",
            "  font.set_text(s, 0.0, flags=flags)\n",
            "/usr/local/lib/python3.7/dist-packages/matplotlib/backends/backend_agg.py:214: RuntimeWarning: Glyph 51064 missing from current font.\n",
            "  font.set_text(s, 0.0, flags=flags)\n",
            "/usr/local/lib/python3.7/dist-packages/matplotlib/backends/backend_agg.py:214: RuntimeWarning: Glyph 44396 missing from current font.\n",
            "  font.set_text(s, 0.0, flags=flags)\n",
            "/usr/local/lib/python3.7/dist-packages/matplotlib/backends/backend_agg.py:214: RuntimeWarning: Glyph 49688 missing from current font.\n",
            "  font.set_text(s, 0.0, flags=flags)\n",
            "/usr/local/lib/python3.7/dist-packages/matplotlib/backends/backend_agg.py:214: RuntimeWarning: Glyph 45800 missing from current font.\n",
            "  font.set_text(s, 0.0, flags=flags)\n",
            "/usr/local/lib/python3.7/dist-packages/matplotlib/backends/backend_agg.py:214: RuntimeWarning: Glyph 51068 missing from current font.\n",
            "  font.set_text(s, 0.0, flags=flags)\n",
            "/usr/local/lib/python3.7/dist-packages/matplotlib/backends/backend_agg.py:214: RuntimeWarning: Glyph 52572 missing from current font.\n",
            "  font.set_text(s, 0.0, flags=flags)\n",
            "/usr/local/lib/python3.7/dist-packages/matplotlib/backends/backend_agg.py:214: RuntimeWarning: Glyph 45824 missing from current font.\n",
            "  font.set_text(s, 0.0, flags=flags)\n",
            "/usr/local/lib/python3.7/dist-packages/matplotlib/backends/backend_agg.py:214: RuntimeWarning: Glyph 49548 missing from current font.\n",
            "  font.set_text(s, 0.0, flags=flags)\n",
            "/usr/local/lib/python3.7/dist-packages/matplotlib/backends/backend_agg.py:214: RuntimeWarning: Glyph 51452 missing from current font.\n",
            "  font.set_text(s, 0.0, flags=flags)\n",
            "/usr/local/lib/python3.7/dist-packages/matplotlib/backends/backend_agg.py:214: RuntimeWarning: Glyph 44036 missing from current font.\n",
            "  font.set_text(s, 0.0, flags=flags)\n",
            "/usr/local/lib/python3.7/dist-packages/matplotlib/backends/backend_agg.py:214: RuntimeWarning: Glyph 50556 missing from current font.\n",
            "  font.set_text(s, 0.0, flags=flags)\n",
            "/usr/local/lib/python3.7/dist-packages/matplotlib/backends/backend_agg.py:214: RuntimeWarning: Glyph 51060 missing from current font.\n",
            "  font.set_text(s, 0.0, flags=flags)\n",
            "/usr/local/lib/python3.7/dist-packages/matplotlib/backends/backend_agg.py:214: RuntimeWarning: Glyph 46041 missing from current font.\n",
            "  font.set_text(s, 0.0, flags=flags)\n",
            "/usr/local/lib/python3.7/dist-packages/matplotlib/backends/backend_agg.py:214: RuntimeWarning: Glyph 49436 missing from current font.\n",
            "  font.set_text(s, 0.0, flags=flags)\n",
            "/usr/local/lib/python3.7/dist-packages/matplotlib/backends/backend_agg.py:214: RuntimeWarning: Glyph 50872 missing from current font.\n",
            "  font.set_text(s, 0.0, flags=flags)\n",
            "/usr/local/lib/python3.7/dist-packages/matplotlib/backends/backend_agg.py:214: RuntimeWarning: Glyph 50976 missing from current font.\n",
            "  font.set_text(s, 0.0, flags=flags)\n",
            "/usr/local/lib/python3.7/dist-packages/matplotlib/backends/backend_agg.py:214: RuntimeWarning: Glyph 51077 missing from current font.\n",
            "  font.set_text(s, 0.0, flags=flags)\n",
            "/usr/local/lib/python3.7/dist-packages/matplotlib/backends/backend_agg.py:214: RuntimeWarning: Glyph 51088 missing from current font.\n",
            "  font.set_text(s, 0.0, flags=flags)\n",
            "/usr/local/lib/python3.7/dist-packages/matplotlib/backends/backend_agg.py:214: RuntimeWarning: Glyph 52824 missing from current font.\n",
            "  font.set_text(s, 0.0, flags=flags)\n",
            "/usr/local/lib/python3.7/dist-packages/matplotlib/backends/backend_agg.py:214: RuntimeWarning: Glyph 54665 missing from current font.\n",
            "  font.set_text(s, 0.0, flags=flags)\n",
            "/usr/local/lib/python3.7/dist-packages/matplotlib/backends/backend_agg.py:214: RuntimeWarning: Glyph 51221 missing from current font.\n",
            "  font.set_text(s, 0.0, flags=flags)\n",
            "/usr/local/lib/python3.7/dist-packages/matplotlib/backends/backend_agg.py:183: RuntimeWarning: Glyph 51109 missing from current font.\n",
            "  font.set_text(s, 0, flags=flags)\n",
            "/usr/local/lib/python3.7/dist-packages/matplotlib/backends/backend_agg.py:183: RuntimeWarning: Glyph 44592 missing from current font.\n",
            "  font.set_text(s, 0, flags=flags)\n",
            "/usr/local/lib/python3.7/dist-packages/matplotlib/backends/backend_agg.py:183: RuntimeWarning: Glyph 52404 missing from current font.\n",
            "  font.set_text(s, 0, flags=flags)\n",
            "/usr/local/lib/python3.7/dist-packages/matplotlib/backends/backend_agg.py:183: RuntimeWarning: Glyph 47448 missing from current font.\n",
            "  font.set_text(s, 0, flags=flags)\n",
            "/usr/local/lib/python3.7/dist-packages/matplotlib/backends/backend_agg.py:183: RuntimeWarning: Glyph 50808 missing from current font.\n",
            "  font.set_text(s, 0, flags=flags)\n",
            "/usr/local/lib/python3.7/dist-packages/matplotlib/backends/backend_agg.py:183: RuntimeWarning: Glyph 44397 missing from current font.\n",
            "  font.set_text(s, 0, flags=flags)\n",
            "/usr/local/lib/python3.7/dist-packages/matplotlib/backends/backend_agg.py:183: RuntimeWarning: Glyph 51064 missing from current font.\n",
            "  font.set_text(s, 0, flags=flags)\n",
            "/usr/local/lib/python3.7/dist-packages/matplotlib/backends/backend_agg.py:183: RuntimeWarning: Glyph 44396 missing from current font.\n",
            "  font.set_text(s, 0, flags=flags)\n",
            "/usr/local/lib/python3.7/dist-packages/matplotlib/backends/backend_agg.py:183: RuntimeWarning: Glyph 49688 missing from current font.\n",
            "  font.set_text(s, 0, flags=flags)\n",
            "/usr/local/lib/python3.7/dist-packages/matplotlib/backends/backend_agg.py:183: RuntimeWarning: Glyph 45800 missing from current font.\n",
            "  font.set_text(s, 0, flags=flags)\n",
            "/usr/local/lib/python3.7/dist-packages/matplotlib/backends/backend_agg.py:183: RuntimeWarning: Glyph 51068 missing from current font.\n",
            "  font.set_text(s, 0, flags=flags)\n",
            "/usr/local/lib/python3.7/dist-packages/matplotlib/backends/backend_agg.py:183: RuntimeWarning: Glyph 52572 missing from current font.\n",
            "  font.set_text(s, 0, flags=flags)\n",
            "/usr/local/lib/python3.7/dist-packages/matplotlib/backends/backend_agg.py:183: RuntimeWarning: Glyph 45824 missing from current font.\n",
            "  font.set_text(s, 0, flags=flags)\n",
            "/usr/local/lib/python3.7/dist-packages/matplotlib/backends/backend_agg.py:183: RuntimeWarning: Glyph 49548 missing from current font.\n",
            "  font.set_text(s, 0, flags=flags)\n",
            "/usr/local/lib/python3.7/dist-packages/matplotlib/backends/backend_agg.py:183: RuntimeWarning: Glyph 51452 missing from current font.\n",
            "  font.set_text(s, 0, flags=flags)\n",
            "/usr/local/lib/python3.7/dist-packages/matplotlib/backends/backend_agg.py:183: RuntimeWarning: Glyph 44036 missing from current font.\n",
            "  font.set_text(s, 0, flags=flags)\n",
            "/usr/local/lib/python3.7/dist-packages/matplotlib/backends/backend_agg.py:183: RuntimeWarning: Glyph 50556 missing from current font.\n",
            "  font.set_text(s, 0, flags=flags)\n",
            "/usr/local/lib/python3.7/dist-packages/matplotlib/backends/backend_agg.py:183: RuntimeWarning: Glyph 51060 missing from current font.\n",
            "  font.set_text(s, 0, flags=flags)\n",
            "/usr/local/lib/python3.7/dist-packages/matplotlib/backends/backend_agg.py:183: RuntimeWarning: Glyph 46041 missing from current font.\n",
            "  font.set_text(s, 0, flags=flags)\n",
            "/usr/local/lib/python3.7/dist-packages/matplotlib/backends/backend_agg.py:183: RuntimeWarning: Glyph 49436 missing from current font.\n",
            "  font.set_text(s, 0, flags=flags)\n",
            "/usr/local/lib/python3.7/dist-packages/matplotlib/backends/backend_agg.py:183: RuntimeWarning: Glyph 50872 missing from current font.\n",
            "  font.set_text(s, 0, flags=flags)\n",
            "/usr/local/lib/python3.7/dist-packages/matplotlib/backends/backend_agg.py:183: RuntimeWarning: Glyph 50976 missing from current font.\n",
            "  font.set_text(s, 0, flags=flags)\n",
            "/usr/local/lib/python3.7/dist-packages/matplotlib/backends/backend_agg.py:183: RuntimeWarning: Glyph 51077 missing from current font.\n",
            "  font.set_text(s, 0, flags=flags)\n",
            "/usr/local/lib/python3.7/dist-packages/matplotlib/backends/backend_agg.py:183: RuntimeWarning: Glyph 51088 missing from current font.\n",
            "  font.set_text(s, 0, flags=flags)\n",
            "/usr/local/lib/python3.7/dist-packages/matplotlib/backends/backend_agg.py:183: RuntimeWarning: Glyph 52824 missing from current font.\n",
            "  font.set_text(s, 0, flags=flags)\n",
            "/usr/local/lib/python3.7/dist-packages/matplotlib/backends/backend_agg.py:183: RuntimeWarning: Glyph 54665 missing from current font.\n",
            "  font.set_text(s, 0, flags=flags)\n",
            "/usr/local/lib/python3.7/dist-packages/matplotlib/backends/backend_agg.py:183: RuntimeWarning: Glyph 51221 missing from current font.\n",
            "  font.set_text(s, 0, flags=flags)\n"
          ],
          "name": "stderr"
        },
        {
          "output_type": "display_data",
          "data": {
            "image/png": "[encoded data removed]",
            "text/plain": [
              "<Figure size 432x288 with 1 Axes>"
            ]
          },
          "metadata": {
            "tags": [],
            "needs_background": "light"
          }
        }
      ]
    },
    {
      "cell_type": "markdown",
      "metadata": {
        "id": "7pYEpd79RuUo"
      },
      "source": [
        "* data의 히스토그램 그리기\n",
        "\n"
      ]
    },
    {
      "cell_type": "code",
      "metadata": {
        "id": "aOE3ILt6O972",
        "colab": {
          "base_uri": "https://localhost:8080/",
          "height": 1000
        },
        "outputId": "d288e6f7-343f-4656-a5a8-9449a2840b68"
      },
      "source": [
        "data.plot(kind='hist')"
      ],
      "execution_count": 435,
      "outputs": [
        {
          "output_type": "execute_result",
          "data": {
            "text/plain": [
              "<matplotlib.axes._subplots.AxesSubplot at 0x7fd591220dd0>"
            ]
          },
          "metadata": {
            "tags": []
          },
          "execution_count": 435
        },
        {
          "output_type": "stream",
          "text": [
            "/usr/local/lib/python3.7/dist-packages/matplotlib/backends/backend_agg.py:214: RuntimeWarning: Glyph 51109 missing from current font.\n",
            "  font.set_text(s, 0.0, flags=flags)\n",
            "/usr/local/lib/python3.7/dist-packages/matplotlib/backends/backend_agg.py:214: RuntimeWarning: Glyph 44592 missing from current font.\n",
            "  font.set_text(s, 0.0, flags=flags)\n",
            "/usr/local/lib/python3.7/dist-packages/matplotlib/backends/backend_agg.py:214: RuntimeWarning: Glyph 52404 missing from current font.\n",
            "  font.set_text(s, 0.0, flags=flags)\n",
            "/usr/local/lib/python3.7/dist-packages/matplotlib/backends/backend_agg.py:214: RuntimeWarning: Glyph 47448 missing from current font.\n",
            "  font.set_text(s, 0.0, flags=flags)\n",
            "/usr/local/lib/python3.7/dist-packages/matplotlib/backends/backend_agg.py:214: RuntimeWarning: Glyph 50808 missing from current font.\n",
            "  font.set_text(s, 0.0, flags=flags)\n",
            "/usr/local/lib/python3.7/dist-packages/matplotlib/backends/backend_agg.py:214: RuntimeWarning: Glyph 44397 missing from current font.\n",
            "  font.set_text(s, 0.0, flags=flags)\n",
            "/usr/local/lib/python3.7/dist-packages/matplotlib/backends/backend_agg.py:214: RuntimeWarning: Glyph 51064 missing from current font.\n",
            "  font.set_text(s, 0.0, flags=flags)\n",
            "/usr/local/lib/python3.7/dist-packages/matplotlib/backends/backend_agg.py:214: RuntimeWarning: Glyph 44396 missing from current font.\n",
            "  font.set_text(s, 0.0, flags=flags)\n",
            "/usr/local/lib/python3.7/dist-packages/matplotlib/backends/backend_agg.py:214: RuntimeWarning: Glyph 49688 missing from current font.\n",
            "  font.set_text(s, 0.0, flags=flags)\n",
            "/usr/local/lib/python3.7/dist-packages/matplotlib/backends/backend_agg.py:214: RuntimeWarning: Glyph 45800 missing from current font.\n",
            "  font.set_text(s, 0.0, flags=flags)\n",
            "/usr/local/lib/python3.7/dist-packages/matplotlib/backends/backend_agg.py:214: RuntimeWarning: Glyph 51068 missing from current font.\n",
            "  font.set_text(s, 0.0, flags=flags)\n",
            "/usr/local/lib/python3.7/dist-packages/matplotlib/backends/backend_agg.py:214: RuntimeWarning: Glyph 52572 missing from current font.\n",
            "  font.set_text(s, 0.0, flags=flags)\n",
            "/usr/local/lib/python3.7/dist-packages/matplotlib/backends/backend_agg.py:214: RuntimeWarning: Glyph 45824 missing from current font.\n",
            "  font.set_text(s, 0.0, flags=flags)\n",
            "/usr/local/lib/python3.7/dist-packages/matplotlib/backends/backend_agg.py:214: RuntimeWarning: Glyph 49548 missing from current font.\n",
            "  font.set_text(s, 0.0, flags=flags)\n",
            "/usr/local/lib/python3.7/dist-packages/matplotlib/backends/backend_agg.py:214: RuntimeWarning: Glyph 51452 missing from current font.\n",
            "  font.set_text(s, 0.0, flags=flags)\n",
            "/usr/local/lib/python3.7/dist-packages/matplotlib/backends/backend_agg.py:214: RuntimeWarning: Glyph 44036 missing from current font.\n",
            "  font.set_text(s, 0.0, flags=flags)\n",
            "/usr/local/lib/python3.7/dist-packages/matplotlib/backends/backend_agg.py:214: RuntimeWarning: Glyph 50556 missing from current font.\n",
            "  font.set_text(s, 0.0, flags=flags)\n",
            "/usr/local/lib/python3.7/dist-packages/matplotlib/backends/backend_agg.py:214: RuntimeWarning: Glyph 51060 missing from current font.\n",
            "  font.set_text(s, 0.0, flags=flags)\n",
            "/usr/local/lib/python3.7/dist-packages/matplotlib/backends/backend_agg.py:214: RuntimeWarning: Glyph 46041 missing from current font.\n",
            "  font.set_text(s, 0.0, flags=flags)\n",
            "/usr/local/lib/python3.7/dist-packages/matplotlib/backends/backend_agg.py:214: RuntimeWarning: Glyph 49436 missing from current font.\n",
            "  font.set_text(s, 0.0, flags=flags)\n",
            "/usr/local/lib/python3.7/dist-packages/matplotlib/backends/backend_agg.py:214: RuntimeWarning: Glyph 50872 missing from current font.\n",
            "  font.set_text(s, 0.0, flags=flags)\n",
            "/usr/local/lib/python3.7/dist-packages/matplotlib/backends/backend_agg.py:214: RuntimeWarning: Glyph 50976 missing from current font.\n",
            "  font.set_text(s, 0.0, flags=flags)\n",
            "/usr/local/lib/python3.7/dist-packages/matplotlib/backends/backend_agg.py:214: RuntimeWarning: Glyph 51077 missing from current font.\n",
            "  font.set_text(s, 0.0, flags=flags)\n",
            "/usr/local/lib/python3.7/dist-packages/matplotlib/backends/backend_agg.py:214: RuntimeWarning: Glyph 51088 missing from current font.\n",
            "  font.set_text(s, 0.0, flags=flags)\n",
            "/usr/local/lib/python3.7/dist-packages/matplotlib/backends/backend_agg.py:214: RuntimeWarning: Glyph 52824 missing from current font.\n",
            "  font.set_text(s, 0.0, flags=flags)\n",
            "/usr/local/lib/python3.7/dist-packages/matplotlib/backends/backend_agg.py:214: RuntimeWarning: Glyph 54665 missing from current font.\n",
            "  font.set_text(s, 0.0, flags=flags)\n",
            "/usr/local/lib/python3.7/dist-packages/matplotlib/backends/backend_agg.py:214: RuntimeWarning: Glyph 51221 missing from current font.\n",
            "  font.set_text(s, 0.0, flags=flags)\n",
            "/usr/local/lib/python3.7/dist-packages/matplotlib/backends/backend_agg.py:183: RuntimeWarning: Glyph 51109 missing from current font.\n",
            "  font.set_text(s, 0, flags=flags)\n",
            "/usr/local/lib/python3.7/dist-packages/matplotlib/backends/backend_agg.py:183: RuntimeWarning: Glyph 44592 missing from current font.\n",
            "  font.set_text(s, 0, flags=flags)\n",
            "/usr/local/lib/python3.7/dist-packages/matplotlib/backends/backend_agg.py:183: RuntimeWarning: Glyph 52404 missing from current font.\n",
            "  font.set_text(s, 0, flags=flags)\n",
            "/usr/local/lib/python3.7/dist-packages/matplotlib/backends/backend_agg.py:183: RuntimeWarning: Glyph 47448 missing from current font.\n",
            "  font.set_text(s, 0, flags=flags)\n",
            "/usr/local/lib/python3.7/dist-packages/matplotlib/backends/backend_agg.py:183: RuntimeWarning: Glyph 50808 missing from current font.\n",
            "  font.set_text(s, 0, flags=flags)\n",
            "/usr/local/lib/python3.7/dist-packages/matplotlib/backends/backend_agg.py:183: RuntimeWarning: Glyph 44397 missing from current font.\n",
            "  font.set_text(s, 0, flags=flags)\n",
            "/usr/local/lib/python3.7/dist-packages/matplotlib/backends/backend_agg.py:183: RuntimeWarning: Glyph 51064 missing from current font.\n",
            "  font.set_text(s, 0, flags=flags)\n",
            "/usr/local/lib/python3.7/dist-packages/matplotlib/backends/backend_agg.py:183: RuntimeWarning: Glyph 44396 missing from current font.\n",
            "  font.set_text(s, 0, flags=flags)\n",
            "/usr/local/lib/python3.7/dist-packages/matplotlib/backends/backend_agg.py:183: RuntimeWarning: Glyph 49688 missing from current font.\n",
            "  font.set_text(s, 0, flags=flags)\n",
            "/usr/local/lib/python3.7/dist-packages/matplotlib/backends/backend_agg.py:183: RuntimeWarning: Glyph 45800 missing from current font.\n",
            "  font.set_text(s, 0, flags=flags)\n",
            "/usr/local/lib/python3.7/dist-packages/matplotlib/backends/backend_agg.py:183: RuntimeWarning: Glyph 51068 missing from current font.\n",
            "  font.set_text(s, 0, flags=flags)\n",
            "/usr/local/lib/python3.7/dist-packages/matplotlib/backends/backend_agg.py:183: RuntimeWarning: Glyph 52572 missing from current font.\n",
            "  font.set_text(s, 0, flags=flags)\n",
            "/usr/local/lib/python3.7/dist-packages/matplotlib/backends/backend_agg.py:183: RuntimeWarning: Glyph 45824 missing from current font.\n",
            "  font.set_text(s, 0, flags=flags)\n",
            "/usr/local/lib/python3.7/dist-packages/matplotlib/backends/backend_agg.py:183: RuntimeWarning: Glyph 49548 missing from current font.\n",
            "  font.set_text(s, 0, flags=flags)\n",
            "/usr/local/lib/python3.7/dist-packages/matplotlib/backends/backend_agg.py:183: RuntimeWarning: Glyph 51452 missing from current font.\n",
            "  font.set_text(s, 0, flags=flags)\n",
            "/usr/local/lib/python3.7/dist-packages/matplotlib/backends/backend_agg.py:183: RuntimeWarning: Glyph 44036 missing from current font.\n",
            "  font.set_text(s, 0, flags=flags)\n",
            "/usr/local/lib/python3.7/dist-packages/matplotlib/backends/backend_agg.py:183: RuntimeWarning: Glyph 50556 missing from current font.\n",
            "  font.set_text(s, 0, flags=flags)\n",
            "/usr/local/lib/python3.7/dist-packages/matplotlib/backends/backend_agg.py:183: RuntimeWarning: Glyph 51060 missing from current font.\n",
            "  font.set_text(s, 0, flags=flags)\n",
            "/usr/local/lib/python3.7/dist-packages/matplotlib/backends/backend_agg.py:183: RuntimeWarning: Glyph 46041 missing from current font.\n",
            "  font.set_text(s, 0, flags=flags)\n",
            "/usr/local/lib/python3.7/dist-packages/matplotlib/backends/backend_agg.py:183: RuntimeWarning: Glyph 49436 missing from current font.\n",
            "  font.set_text(s, 0, flags=flags)\n",
            "/usr/local/lib/python3.7/dist-packages/matplotlib/backends/backend_agg.py:183: RuntimeWarning: Glyph 50872 missing from current font.\n",
            "  font.set_text(s, 0, flags=flags)\n",
            "/usr/local/lib/python3.7/dist-packages/matplotlib/backends/backend_agg.py:183: RuntimeWarning: Glyph 50976 missing from current font.\n",
            "  font.set_text(s, 0, flags=flags)\n",
            "/usr/local/lib/python3.7/dist-packages/matplotlib/backends/backend_agg.py:183: RuntimeWarning: Glyph 51077 missing from current font.\n",
            "  font.set_text(s, 0, flags=flags)\n",
            "/usr/local/lib/python3.7/dist-packages/matplotlib/backends/backend_agg.py:183: RuntimeWarning: Glyph 51088 missing from current font.\n",
            "  font.set_text(s, 0, flags=flags)\n",
            "/usr/local/lib/python3.7/dist-packages/matplotlib/backends/backend_agg.py:183: RuntimeWarning: Glyph 52824 missing from current font.\n",
            "  font.set_text(s, 0, flags=flags)\n",
            "/usr/local/lib/python3.7/dist-packages/matplotlib/backends/backend_agg.py:183: RuntimeWarning: Glyph 54665 missing from current font.\n",
            "  font.set_text(s, 0, flags=flags)\n",
            "/usr/local/lib/python3.7/dist-packages/matplotlib/backends/backend_agg.py:183: RuntimeWarning: Glyph 51221 missing from current font.\n",
            "  font.set_text(s, 0, flags=flags)\n"
          ],
          "name": "stderr"
        },
        {
          "output_type": "display_data",
          "data": {
            "image/png": "[encoded data removed]",
            "text/plain": [
              "<Figure size 432x288 with 1 Axes>"
            ]
          },
          "metadata": {
            "tags": [],
            "needs_background": "light"
          }
        }
      ]
    },
    {
      "cell_type": "markdown",
      "metadata": {
        "id": "nDIKKn_WRyrq"
      },
      "source": [
        "* data의 자치구간이동인구수와 일최대이동인구수 산점도 그리기"
      ]
    },
    {
      "cell_type": "code",
      "metadata": {
        "id": "90oqYbrbSEUC",
        "colab": {
          "base_uri": "https://localhost:8080/",
          "height": 1000
        },
        "outputId": "fc010afe-e23c-4640-8ebf-c1b2c2a1181d"
      },
      "source": [
        "data.plot(x='자치구간이동인구수',y='일최대이동인구수',kind='scatter')"
      ],
      "execution_count": 436,
      "outputs": [
        {
          "output_type": "execute_result",
          "data": {
            "text/plain": [
              "<matplotlib.axes._subplots.AxesSubplot at 0x7fd59121c650>"
            ]
          },
          "metadata": {
            "tags": []
          },
          "execution_count": 436
        },
        {
          "output_type": "stream",
          "text": [
            "/usr/local/lib/python3.7/dist-packages/matplotlib/backends/backend_agg.py:214: RuntimeWarning: Glyph 51088 missing from current font.\n",
            "  font.set_text(s, 0.0, flags=flags)\n",
            "/usr/local/lib/python3.7/dist-packages/matplotlib/backends/backend_agg.py:214: RuntimeWarning: Glyph 52824 missing from current font.\n",
            "  font.set_text(s, 0.0, flags=flags)\n",
            "/usr/local/lib/python3.7/dist-packages/matplotlib/backends/backend_agg.py:214: RuntimeWarning: Glyph 44396 missing from current font.\n",
            "  font.set_text(s, 0.0, flags=flags)\n",
            "/usr/local/lib/python3.7/dist-packages/matplotlib/backends/backend_agg.py:214: RuntimeWarning: Glyph 44036 missing from current font.\n",
            "  font.set_text(s, 0.0, flags=flags)\n",
            "/usr/local/lib/python3.7/dist-packages/matplotlib/backends/backend_agg.py:214: RuntimeWarning: Glyph 51060 missing from current font.\n",
            "  font.set_text(s, 0.0, flags=flags)\n",
            "/usr/local/lib/python3.7/dist-packages/matplotlib/backends/backend_agg.py:214: RuntimeWarning: Glyph 46041 missing from current font.\n",
            "  font.set_text(s, 0.0, flags=flags)\n",
            "/usr/local/lib/python3.7/dist-packages/matplotlib/backends/backend_agg.py:214: RuntimeWarning: Glyph 51064 missing from current font.\n",
            "  font.set_text(s, 0.0, flags=flags)\n",
            "/usr/local/lib/python3.7/dist-packages/matplotlib/backends/backend_agg.py:214: RuntimeWarning: Glyph 49688 missing from current font.\n",
            "  font.set_text(s, 0.0, flags=flags)\n",
            "/usr/local/lib/python3.7/dist-packages/matplotlib/backends/backend_agg.py:183: RuntimeWarning: Glyph 51088 missing from current font.\n",
            "  font.set_text(s, 0, flags=flags)\n",
            "/usr/local/lib/python3.7/dist-packages/matplotlib/backends/backend_agg.py:183: RuntimeWarning: Glyph 52824 missing from current font.\n",
            "  font.set_text(s, 0, flags=flags)\n",
            "/usr/local/lib/python3.7/dist-packages/matplotlib/backends/backend_agg.py:183: RuntimeWarning: Glyph 44396 missing from current font.\n",
            "  font.set_text(s, 0, flags=flags)\n",
            "/usr/local/lib/python3.7/dist-packages/matplotlib/backends/backend_agg.py:183: RuntimeWarning: Glyph 44036 missing from current font.\n",
            "  font.set_text(s, 0, flags=flags)\n",
            "/usr/local/lib/python3.7/dist-packages/matplotlib/backends/backend_agg.py:183: RuntimeWarning: Glyph 51060 missing from current font.\n",
            "  font.set_text(s, 0, flags=flags)\n",
            "/usr/local/lib/python3.7/dist-packages/matplotlib/backends/backend_agg.py:183: RuntimeWarning: Glyph 46041 missing from current font.\n",
            "  font.set_text(s, 0, flags=flags)\n",
            "/usr/local/lib/python3.7/dist-packages/matplotlib/backends/backend_agg.py:183: RuntimeWarning: Glyph 51064 missing from current font.\n",
            "  font.set_text(s, 0, flags=flags)\n",
            "/usr/local/lib/python3.7/dist-packages/matplotlib/backends/backend_agg.py:183: RuntimeWarning: Glyph 49688 missing from current font.\n",
            "  font.set_text(s, 0, flags=flags)\n",
            "/usr/local/lib/python3.7/dist-packages/matplotlib/backends/backend_agg.py:214: RuntimeWarning: Glyph 51068 missing from current font.\n",
            "  font.set_text(s, 0.0, flags=flags)\n",
            "/usr/local/lib/python3.7/dist-packages/matplotlib/backends/backend_agg.py:214: RuntimeWarning: Glyph 52572 missing from current font.\n",
            "  font.set_text(s, 0.0, flags=flags)\n",
            "/usr/local/lib/python3.7/dist-packages/matplotlib/backends/backend_agg.py:214: RuntimeWarning: Glyph 45824 missing from current font.\n",
            "  font.set_text(s, 0.0, flags=flags)\n",
            "/usr/local/lib/python3.7/dist-packages/matplotlib/backends/backend_agg.py:183: RuntimeWarning: Glyph 51068 missing from current font.\n",
            "  font.set_text(s, 0, flags=flags)\n",
            "/usr/local/lib/python3.7/dist-packages/matplotlib/backends/backend_agg.py:183: RuntimeWarning: Glyph 52572 missing from current font.\n",
            "  font.set_text(s, 0, flags=flags)\n",
            "/usr/local/lib/python3.7/dist-packages/matplotlib/backends/backend_agg.py:183: RuntimeWarning: Glyph 45824 missing from current font.\n",
            "  font.set_text(s, 0, flags=flags)\n"
          ],
          "name": "stderr"
        },
        {
          "output_type": "display_data",
          "data": {
            "image/png": "[encoded data removed]",
            "text/plain": [
              "<Figure size 432x288 with 1 Axes>"
            ]
          },
          "metadata": {
            "tags": [],
            "needs_background": "light"
          }
        }
      ]
    },
    {
      "cell_type": "markdown",
      "metadata": {
        "id": "DSlpbt-HSFAW"
      },
      "source": [
        "* data의 자치구간이동인구수와 일최대이동인구수 박스플롯 그리기"
      ]
    },
    {
      "cell_type": "code",
      "metadata": {
        "id": "zR_0hjz0SFcJ",
        "colab": {
          "base_uri": "https://localhost:8080/",
          "height": 1000
        },
        "outputId": "5050eda5-06e9-4df0-cd33-522a959fb592"
      },
      "source": [
        "data[['자치구간이동인구수','일최대이동인구수']].plot(kind='box')"
      ],
      "execution_count": 437,
      "outputs": [
        {
          "output_type": "execute_result",
          "data": {
            "text/plain": [
              "<matplotlib.axes._subplots.AxesSubplot at 0x7fd591172690>"
            ]
          },
          "metadata": {
            "tags": []
          },
          "execution_count": 437
        },
        {
          "output_type": "stream",
          "text": [
            "/usr/local/lib/python3.7/dist-packages/matplotlib/backends/backend_agg.py:214: RuntimeWarning: Glyph 51088 missing from current font.\n",
            "  font.set_text(s, 0.0, flags=flags)\n",
            "/usr/local/lib/python3.7/dist-packages/matplotlib/backends/backend_agg.py:214: RuntimeWarning: Glyph 52824 missing from current font.\n",
            "  font.set_text(s, 0.0, flags=flags)\n",
            "/usr/local/lib/python3.7/dist-packages/matplotlib/backends/backend_agg.py:214: RuntimeWarning: Glyph 44396 missing from current font.\n",
            "  font.set_text(s, 0.0, flags=flags)\n",
            "/usr/local/lib/python3.7/dist-packages/matplotlib/backends/backend_agg.py:214: RuntimeWarning: Glyph 44036 missing from current font.\n",
            "  font.set_text(s, 0.0, flags=flags)\n",
            "/usr/local/lib/python3.7/dist-packages/matplotlib/backends/backend_agg.py:214: RuntimeWarning: Glyph 51060 missing from current font.\n",
            "  font.set_text(s, 0.0, flags=flags)\n",
            "/usr/local/lib/python3.7/dist-packages/matplotlib/backends/backend_agg.py:214: RuntimeWarning: Glyph 46041 missing from current font.\n",
            "  font.set_text(s, 0.0, flags=flags)\n",
            "/usr/local/lib/python3.7/dist-packages/matplotlib/backends/backend_agg.py:214: RuntimeWarning: Glyph 51064 missing from current font.\n",
            "  font.set_text(s, 0.0, flags=flags)\n",
            "/usr/local/lib/python3.7/dist-packages/matplotlib/backends/backend_agg.py:214: RuntimeWarning: Glyph 49688 missing from current font.\n",
            "  font.set_text(s, 0.0, flags=flags)\n",
            "/usr/local/lib/python3.7/dist-packages/matplotlib/backends/backend_agg.py:214: RuntimeWarning: Glyph 51068 missing from current font.\n",
            "  font.set_text(s, 0.0, flags=flags)\n",
            "/usr/local/lib/python3.7/dist-packages/matplotlib/backends/backend_agg.py:214: RuntimeWarning: Glyph 52572 missing from current font.\n",
            "  font.set_text(s, 0.0, flags=flags)\n",
            "/usr/local/lib/python3.7/dist-packages/matplotlib/backends/backend_agg.py:214: RuntimeWarning: Glyph 45824 missing from current font.\n",
            "  font.set_text(s, 0.0, flags=flags)\n",
            "/usr/local/lib/python3.7/dist-packages/matplotlib/backends/backend_agg.py:183: RuntimeWarning: Glyph 51088 missing from current font.\n",
            "  font.set_text(s, 0, flags=flags)\n",
            "/usr/local/lib/python3.7/dist-packages/matplotlib/backends/backend_agg.py:183: RuntimeWarning: Glyph 52824 missing from current font.\n",
            "  font.set_text(s, 0, flags=flags)\n",
            "/usr/local/lib/python3.7/dist-packages/matplotlib/backends/backend_agg.py:183: RuntimeWarning: Glyph 44396 missing from current font.\n",
            "  font.set_text(s, 0, flags=flags)\n",
            "/usr/local/lib/python3.7/dist-packages/matplotlib/backends/backend_agg.py:183: RuntimeWarning: Glyph 44036 missing from current font.\n",
            "  font.set_text(s, 0, flags=flags)\n",
            "/usr/local/lib/python3.7/dist-packages/matplotlib/backends/backend_agg.py:183: RuntimeWarning: Glyph 51060 missing from current font.\n",
            "  font.set_text(s, 0, flags=flags)\n",
            "/usr/local/lib/python3.7/dist-packages/matplotlib/backends/backend_agg.py:183: RuntimeWarning: Glyph 46041 missing from current font.\n",
            "  font.set_text(s, 0, flags=flags)\n",
            "/usr/local/lib/python3.7/dist-packages/matplotlib/backends/backend_agg.py:183: RuntimeWarning: Glyph 51064 missing from current font.\n",
            "  font.set_text(s, 0, flags=flags)\n",
            "/usr/local/lib/python3.7/dist-packages/matplotlib/backends/backend_agg.py:183: RuntimeWarning: Glyph 49688 missing from current font.\n",
            "  font.set_text(s, 0, flags=flags)\n",
            "/usr/local/lib/python3.7/dist-packages/matplotlib/backends/backend_agg.py:183: RuntimeWarning: Glyph 51068 missing from current font.\n",
            "  font.set_text(s, 0, flags=flags)\n",
            "/usr/local/lib/python3.7/dist-packages/matplotlib/backends/backend_agg.py:183: RuntimeWarning: Glyph 52572 missing from current font.\n",
            "  font.set_text(s, 0, flags=flags)\n",
            "/usr/local/lib/python3.7/dist-packages/matplotlib/backends/backend_agg.py:183: RuntimeWarning: Glyph 45824 missing from current font.\n",
            "  font.set_text(s, 0, flags=flags)\n"
          ],
          "name": "stderr"
        },
        {
          "output_type": "display_data",
          "data": {
            "image/png": "[encoded data removed]",
            "text/plain": [
              "<Figure size 432x288 with 1 Axes>"
            ]
          },
          "metadata": {
            "tags": [],
            "needs_background": "light"
          }
        }
      ]
    },
    {
      "cell_type": "markdown",
      "metadata": {
        "id": "DdJOyua5SGf4"
      },
      "source": [
        "* 위의 코드 결과 미세먼지와 초미세먼지중 평균이 높은것은?:초미세먼지"
      ]
    },
    {
      "cell_type": "markdown",
      "metadata": {
        "id": "aTE4Osg1ScLT"
      },
      "source": [
        "# 중복 데이터 처리"
      ]
    },
    {
      "cell_type": "markdown",
      "metadata": {
        "id": "7GbJFXoBTnW_"
      },
      "source": [
        "* 다음 사진과 같이 데이터프레임을 생성해라\n",
        "\n",
        "![캡처.PNG](data:image/png;base64,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)"
      ]
    },
    {
      "cell_type": "code",
      "metadata": {
        "colab": {
          "base_uri": "https://localhost:8080/",
          "height": 204
        },
        "id": "kWvk7iBJlAcj",
        "outputId": "53e3d024-c454-4004-cda5-ff78fc51c240"
      },
      "source": [
        "dataSet=pd.DataFrame({'A':['a','a','b','a','b'],'B':[1,1,1,2,1],'C':[1,1,2,2,2]})\n",
        "dataSet"
      ],
      "execution_count": 438,
      "outputs": [
        {
          "output_type": "execute_result",
          "data": {
            "text/html": [
              "<div>\n",
              "<style scoped>\n",
              "    .dataframe tbody tr th:only-of-type {\n",
              "        vertical-align: middle;\n",
              "    }\n",
              "\n",
              "    .dataframe tbody tr th {\n",
              "        vertical-align: top;\n",
              "    }\n",
              "\n",
              "    .dataframe thead th {\n",
              "        text-align: right;\n",
              "    }\n",
              "</style>\n",
              "<table border=\"1\" class=\"dataframe\">\n",
              "  <thead>\n",
              "    <tr style=\"text-align: right;\">\n",
              "      <th></th>\n",
              "      <th>A</th>\n",
              "      <th>B</th>\n",
              "      <th>C</th>\n",
              "    </tr>\n",
              "  </thead>\n",
              "  <tbody>\n",
              "    <tr>\n",
              "      <th>0</th>\n",
              "      <td>a</td>\n",
              "      <td>1</td>\n",
              "      <td>1</td>\n",
              "    </tr>\n",
              "    <tr>\n",
              "      <th>1</th>\n",
              "      <td>a</td>\n",
              "      <td>1</td>\n",
              "      <td>1</td>\n",
              "    </tr>\n",
              "    <tr>\n",
              "      <th>2</th>\n",
              "      <td>b</td>\n",
              "      <td>1</td>\n",
              "      <td>2</td>\n",
              "    </tr>\n",
              "    <tr>\n",
              "      <th>3</th>\n",
              "      <td>a</td>\n",
              "      <td>2</td>\n",
              "      <td>2</td>\n",
              "    </tr>\n",
              "    <tr>\n",
              "      <th>4</th>\n",
              "      <td>b</td>\n",
              "      <td>1</td>\n",
              "      <td>2</td>\n",
              "    </tr>\n",
              "  </tbody>\n",
              "</table>\n",
              "</div>"
            ],
            "text/plain": [
              "   A  B  C\n",
              "0  a  1  1\n",
              "1  a  1  1\n",
              "2  b  1  2\n",
              "3  a  2  2\n",
              "4  b  1  2"
            ]
          },
          "metadata": {
            "tags": []
          },
          "execution_count": 438
        }
      ]
    },
    {
      "cell_type": "markdown",
      "metadata": {
        "id": "JO2xGzO5SGoF"
      },
      "source": [
        "* 중복 데이터 확인해라(이전행과 현재행 비교)"
      ]
    },
    {
      "cell_type": "code",
      "metadata": {
        "id": "zwaIarOZSGoG",
        "colab": {
          "base_uri": "https://localhost:8080/"
        },
        "outputId": "30b5c926-8613-483c-d0b7-19d5bbd0c2aa"
      },
      "source": [
        "dataSet_dup=dataSet.duplicated()\n",
        "print(dataSet_dup)"
      ],
      "execution_count": 439,
      "outputs": [
        {
          "output_type": "stream",
          "text": [
            "0    False\n",
            "1     True\n",
            "2    False\n",
            "3    False\n",
            "4     True\n",
            "dtype: bool\n"
          ],
          "name": "stdout"
        }
      ]
    },
    {
      "cell_type": "markdown",
      "metadata": {
        "id": "1jqTsr73SGsE"
      },
      "source": [
        "* 중복 데이터를 삭제하고 고유한 값만을 가지 행들만 남겨라(원본에 저장)"
      ]
    },
    {
      "cell_type": "code",
      "metadata": {
        "id": "Z91xX3ENSGsF",
        "colab": {
          "base_uri": "https://localhost:8080/"
        },
        "outputId": "7e69d1e5-d372-440f-8124-0a51fe8b568c"
      },
      "source": [
        "dataSet2=dataSet.drop_duplicates()\n",
        "print(dataSet2)"
      ],
      "execution_count": 440,
      "outputs": [
        {
          "output_type": "stream",
          "text": [
            "   A  B  C\n",
            "0  a  1  1\n",
            "2  b  1  2\n",
            "3  a  2  2\n"
          ],
          "name": "stdout"
        }
      ]
    },
    {
      "cell_type": "markdown",
      "metadata": {
        "id": "6O7BePQBVXFe"
      },
      "source": [
        "* B열과 C열기준으로 중복 여부를 판단해라"
      ]
    },
    {
      "cell_type": "code",
      "metadata": {
        "id": "F8nBJKhvU0Gr",
        "colab": {
          "base_uri": "https://localhost:8080/",
          "height": 142
        },
        "outputId": "b8492f04-51c3-4eda-b9b3-a524ac089767"
      },
      "source": [
        "dataSet_sub=dataSet.drop_duplicates(subset=['B','C'])\n",
        "dataSet_sub"
      ],
      "execution_count": 441,
      "outputs": [
        {
          "output_type": "execute_result",
          "data": {
            "text/html": [
              "<div>\n",
              "<style scoped>\n",
              "    .dataframe tbody tr th:only-of-type {\n",
              "        vertical-align: middle;\n",
              "    }\n",
              "\n",
              "    .dataframe tbody tr th {\n",
              "        vertical-align: top;\n",
              "    }\n",
              "\n",
              "    .dataframe thead th {\n",
              "        text-align: right;\n",
              "    }\n",
              "</style>\n",
              "<table border=\"1\" class=\"dataframe\">\n",
              "  <thead>\n",
              "    <tr style=\"text-align: right;\">\n",
              "      <th></th>\n",
              "      <th>A</th>\n",
              "      <th>B</th>\n",
              "      <th>C</th>\n",
              "    </tr>\n",
              "  </thead>\n",
              "  <tbody>\n",
              "    <tr>\n",
              "      <th>0</th>\n",
              "      <td>a</td>\n",
              "      <td>1</td>\n",
              "      <td>1</td>\n",
              "    </tr>\n",
              "    <tr>\n",
              "      <th>2</th>\n",
              "      <td>b</td>\n",
              "      <td>1</td>\n",
              "      <td>2</td>\n",
              "    </tr>\n",
              "    <tr>\n",
              "      <th>3</th>\n",
              "      <td>a</td>\n",
              "      <td>2</td>\n",
              "      <td>2</td>\n",
              "    </tr>\n",
              "  </tbody>\n",
              "</table>\n",
              "</div>"
            ],
            "text/plain": [
              "   A  B  C\n",
              "0  a  1  1\n",
              "2  b  1  2\n",
              "3  a  2  2"
            ]
          },
          "metadata": {
            "tags": []
          },
          "execution_count": 441
        }
      ]
    }
  ]
}