{
  "nbformat": 4,
  "nbformat_minor": 0,
  "metadata": {
    "colab": {
      "name": "DALC_scalar6_ pandas 심화 실습.ipynb",
      "provenance": [],
      "collapsed_sections": []
    },
    "kernelspec": {
      "name": "python3",
      "display_name": "Python 3"
    },
    "language_info": {
      "name": "python"
    }
  },
  "cells": [
    {
      "cell_type": "markdown",
      "metadata": {
        "id": "hUQY0a9AmQB1"
      },
      "source": [
        "# 주관식\n",
        "셀을 더블클릭해서  : 다음에 답을 입력하세요."
      ]
    },
    {
      "cell_type": "markdown",
      "metadata": {
        "id": "s0tu8WgkHe9n"
      },
      "source": [
        "* 데이터프레임 file의 클래스유형:(답은 여기에 작성)\n",
        "* 측정일시의 자료형:\n",
        "* 전체 데이터프레임의 자료형은 어떻게 구성되어있나(정수형?개,실수형?개,문자형?개):\n",
        "* 메모리 사용량:"
      ]
    },
    {
      "cell_type": "markdown",
      "metadata": {
        "id": "6nQsARbhNrvK"
      },
      "source": [
        "* value_counts()코드작성 결과 왼쪽숫자와 오른쪽숫자는 무엇을 의미하는가 :"
      ]
    },
    {
      "cell_type": "markdown",
      "metadata": {
        "id": "O7Cz3tPHMFq8"
      },
      "source": [
        "* min,max,std 같은 통계함수 반환결과는 어떤객체로 반환되는가?:"
      ]
    },
    {
      "cell_type": "markdown",
      "metadata": {
        "id": "978ZPud4PDUu"
      },
      "source": [
        "* 그래프를 만들기 위해 pandas내장 그래프인 plot()내장함수를 사용할때 , 히스토그램 그래프를 만들기 위한 kind값은:"
      ]
    },
    {
      "cell_type": "markdown",
      "metadata": {
        "id": "3aFRHKwiSiGB"
      },
      "source": [
        "* 데이터레코드는 무엇은 뜻하는가:\n",
        "* 중복된 데이터셋이 존재할 경우 분석결과에 어떤 영향이있나:"
      ]
    },
    {
      "cell_type": "markdown",
      "metadata": {
        "id": "8gOX_CVzSiPN"
      },
      "source": [
        "* 중복된 데이터셋이 있을경우 true로 반환되는가 false로 반환되는가?"
      ]
    },
    {
      "cell_type": "markdown",
      "metadata": {
        "id": "LEpgg6MllqlP"
      },
      "source": [
        "# Pandas 심화실습\n",
        "* 파일읽기와 쓰기\n",
        "* 데이터프레임 구조\n",
        "* 통계 함수 \n",
        "\n",
        "해당 질문 밑에 있는 코드셀에 코드를 입력하세요"
      ]
    },
    {
      "cell_type": "markdown",
      "metadata": {
        "id": "ZPLYsr50N48B"
      },
      "source": [
        "# csv파일"
      ]
    },
    {
      "cell_type": "markdown",
      "metadata": {
        "id": "H0vQPFbZD9nu"
      },
      "source": [
        "* 판다스,넘파이 임포트하기"
      ]
    },
    {
      "cell_type": "code",
      "metadata": {
        "id": "8NHb_3yTGXk8"
      },
      "source": [
        ""
      ],
      "execution_count": null,
      "outputs": []
    },
    {
      "cell_type": "code",
      "metadata": {
        "id": "BsoUCCWXxOem"
      },
      "source": [
        "from google.colab import drive\n",
        "drive.mount('/content/drive')"
      ],
      "execution_count": null,
      "outputs": []
    },
    {
      "cell_type": "markdown",
      "metadata": {
        "id": "p_5uwi8CHNKW"
      },
      "source": [
        "* (성북구)서울생활인구 일별 집계표를 read_csv()함수로 file변수에 저장해라"
      ]
    },
    {
      "cell_type": "code",
      "metadata": {
        "id": "7gRJmswLmrzq"
      },
      "source": [
        "file=pd.read_csv('/content/drive/MyDrive/(성북구) 서울생활인구 일별 집계표.csv',header=None,encoding='euc-kr')\n",
        "file"
      ],
      "execution_count": null,
      "outputs": []
    },
    {
      "cell_type": "code",
      "metadata": {
        "id": "82EpgM1oxUh1"
      },
      "source": [
        "file=file.drop([2],axis=1)\n",
        "file=file.drop([0],axis=0)\n",
        "file.columns=['기준일ID', '시군구코드', '총생활인구수', '내국인생활인구수', '장기체류외국인인구수', '단기체류외국인인구수', '일최대인구수', '일최소인구수', '주간인구수', '야간인구수', '일최대이동인구수', '서울외유입인구수', '동일자치구행정동간이동인구수', '자치구간이동인구수']"
      ],
      "execution_count": null,
      "outputs": []
    },
    {
      "cell_type": "markdown",
      "metadata": {
        "id": "to4X9BmGHcVn"
      },
      "source": [
        "* 데이터프레임 file의 앞에 5줄 데이터 조회"
      ]
    },
    {
      "cell_type": "code",
      "metadata": {
        "id": "vHp-kJ5vmr-u"
      },
      "source": [
        ""
      ],
      "execution_count": null,
      "outputs": []
    },
    {
      "cell_type": "markdown",
      "metadata": {
        "id": "mt_eg4AlI-2s"
      },
      "source": [
        "* 데이터프레임 file의 뒤에 5줄 데이터 조회"
      ]
    },
    {
      "cell_type": "code",
      "metadata": {
        "id": "3wcQvP_EI3Yc"
      },
      "source": [
        ""
      ],
      "execution_count": null,
      "outputs": []
    },
    {
      "cell_type": "markdown",
      "metadata": {
        "id": "_qM7c0PCJsVB"
      },
      "source": [
        "* 데이터프레임 file의 앞에 10줄 데이터 조회"
      ]
    },
    {
      "cell_type": "code",
      "metadata": {
        "id": "Y6IqwzzbpA7K"
      },
      "source": [
        ""
      ],
      "execution_count": null,
      "outputs": []
    },
    {
      "cell_type": "markdown",
      "metadata": {
        "id": "_ElIsIPELSIS"
      },
      "source": [
        "#  데이터 요약정보 확인하기"
      ]
    },
    {
      "cell_type": "markdown",
      "metadata": {
        "id": "zXi9JehJLzzC"
      },
      "source": [
        "* 데이터프레임 모양과 크기 확인"
      ]
    },
    {
      "cell_type": "code",
      "metadata": {
        "id": "SDiypRdGpA1r"
      },
      "source": [
        ""
      ],
      "execution_count": null,
      "outputs": []
    },
    {
      "cell_type": "markdown",
      "metadata": {
        "id": "veju4mmRMgmx"
      },
      "source": [
        "* 데이터프레임 기본정보 조회"
      ]
    },
    {
      "cell_type": "code",
      "metadata": {
        "id": "zoC3coUxpApz"
      },
      "source": [
        ""
      ],
      "execution_count": null,
      "outputs": []
    },
    {
      "cell_type": "markdown",
      "metadata": {
        "id": "KW7fLJ8eMjKZ"
      },
      "source": [
        "* 데이터프레임의 각열의 자료형 확인"
      ]
    },
    {
      "cell_type": "code",
      "metadata": {
        "id": "l3h-3oZumPnM"
      },
      "source": [
        ""
      ],
      "execution_count": null,
      "outputs": []
    },
    {
      "cell_type": "markdown",
      "metadata": {
        "id": "U56XiDtTMpCq"
      },
      "source": [
        "* '일최대이동인구수' 열에 대해 dtypes속성 적용"
      ]
    },
    {
      "cell_type": "code",
      "metadata": {
        "id": "julPwkbal-5w"
      },
      "source": [
        ""
      ],
      "execution_count": null,
      "outputs": []
    },
    {
      "cell_type": "markdown",
      "metadata": {
        "id": "0Xcrr7uTNfdh"
      },
      "source": [
        "* 데이터프레임의 기술통계정보를 보여라"
      ]
    },
    {
      "cell_type": "code",
      "metadata": {
        "id": "2LSCJyXBrVKX"
      },
      "source": [
        ""
      ],
      "execution_count": null,
      "outputs": []
    },
    {
      "cell_type": "markdown",
      "metadata": {
        "id": "QL8TwDRqNk7Z"
      },
      "source": [
        "* 각 열의 데이터 개수 확인하는 코드 작성"
      ]
    },
    {
      "cell_type": "code",
      "metadata": {
        "id": "GxLGQaRIrqHo"
      },
      "source": [
        ""
      ],
      "execution_count": null,
      "outputs": []
    },
    {
      "cell_type": "markdown",
      "metadata": {
        "id": "8Qem1xthNpEp"
      },
      "source": [
        "* '일최대이동인구수'열의 고유값 개수 확인하는 코드 작성"
      ]
    },
    {
      "cell_type": "code",
      "metadata": {
        "id": "k9ZoiKLfrptY"
      },
      "source": [
        ""
      ],
      "execution_count": null,
      "outputs": []
    },
    {
      "cell_type": "markdown",
      "metadata": {
        "id": "xharyGBsOEqC"
      },
      "source": [
        "# 통계함수"
      ]
    },
    {
      "cell_type": "markdown",
      "metadata": {
        "id": "uzHCk1PuPF8K"
      },
      "source": [
        "* file데이터프레임의 평균값 계산해라"
      ]
    },
    {
      "cell_type": "code",
      "metadata": {
        "id": "ewQeK3lXtTUH"
      },
      "source": [
        ""
      ],
      "execution_count": null,
      "outputs": []
    },
    {
      "cell_type": "markdown",
      "metadata": {
        "id": "R6gWiLgERaqi"
      },
      "source": [
        "* '일최대이동인구수'열의 평균을 계산해라"
      ]
    },
    {
      "cell_type": "code",
      "metadata": {
        "id": "EIUdDehpmrhn"
      },
      "source": [
        ""
      ],
      "execution_count": null,
      "outputs": []
    },
    {
      "cell_type": "markdown",
      "metadata": {
        "id": "FLrkrDZSSHSE"
      },
      "source": [
        "* file데이터프레임의 중간값을 확인해라"
      ]
    },
    {
      "cell_type": "code",
      "metadata": {
        "id": "LGghPWtIt3SD"
      },
      "source": [
        ""
      ],
      "execution_count": null,
      "outputs": []
    },
    {
      "cell_type": "markdown",
      "metadata": {
        "id": "PzaPAWphMqEo"
      },
      "source": [
        "* '일최대이동인구수'열의 중간값을 확인해라"
      ]
    },
    {
      "cell_type": "code",
      "metadata": {
        "id": "4b-MSmvSMqFL"
      },
      "source": [
        ""
      ],
      "execution_count": null,
      "outputs": []
    },
    {
      "cell_type": "markdown",
      "metadata": {
        "id": "vhu60hvjSLeb"
      },
      "source": [
        "* file데이터프레임의 최대값을 계산해라"
      ]
    },
    {
      "cell_type": "code",
      "metadata": {
        "id": "q4ykGVibMWSi"
      },
      "source": [
        ""
      ],
      "execution_count": null,
      "outputs": []
    },
    {
      "cell_type": "markdown",
      "metadata": {
        "id": "fV6uu19zMvX0"
      },
      "source": [
        "* '일최대이동인구수'열의 최대값을 계산해라"
      ]
    },
    {
      "cell_type": "code",
      "metadata": {
        "id": "KWRSFv_DMvX2"
      },
      "source": [
        ""
      ],
      "execution_count": null,
      "outputs": []
    },
    {
      "cell_type": "markdown",
      "metadata": {
        "id": "kyBDJFiGMX3h"
      },
      "source": [
        "* file데이터프레임의 최솟값을 계산해라"
      ]
    },
    {
      "cell_type": "code",
      "metadata": {
        "id": "3WMN48m_MEAr"
      },
      "source": [
        ""
      ],
      "execution_count": null,
      "outputs": []
    },
    {
      "cell_type": "markdown",
      "metadata": {
        "id": "1H0Z-LfjMzNK"
      },
      "source": [
        "* '일최대이동인구수'열의 최솟값을 계산해라"
      ]
    },
    {
      "cell_type": "code",
      "metadata": {
        "id": "SFi6-Ut8MzNN"
      },
      "source": [
        ""
      ],
      "execution_count": null,
      "outputs": []
    },
    {
      "cell_type": "markdown",
      "metadata": {
        "id": "p-2CkyUXM8he"
      },
      "source": [
        "* file데이터프레임의 표준편차를 계산해라"
      ]
    },
    {
      "cell_type": "code",
      "metadata": {
        "id": "qVc87VZMM8hg"
      },
      "source": [
        ""
      ],
      "execution_count": null,
      "outputs": []
    },
    {
      "cell_type": "markdown",
      "metadata": {
        "id": "QZj4OZD_NEQ5"
      },
      "source": [
        "* '일최대이동인구수'열의 표준편차를 계산해라"
      ]
    },
    {
      "cell_type": "code",
      "metadata": {
        "id": "RW646EeRNEQ6"
      },
      "source": [
        ""
      ],
      "execution_count": null,
      "outputs": []
    },
    {
      "cell_type": "markdown",
      "metadata": {
        "id": "UxETcM-fNl-w"
      },
      "source": [
        "* '자치구간이동인구수''와 '일최대이동인구수'의 상관계수를 계산해라"
      ]
    },
    {
      "cell_type": "code",
      "metadata": {
        "id": "ZQMrrvhbNJ5Q"
      },
      "source": [
        ""
      ],
      "execution_count": null,
      "outputs": []
    },
    {
      "cell_type": "markdown",
      "metadata": {
        "id": "4ktdw0WEO16Y"
      },
      "source": [
        "# Pandas 심화(2)\n",
        "* 판다스 내장 그래픽 활용\n",
        "* 중복 데이터 처리"
      ]
    },
    {
      "cell_type": "markdown",
      "metadata": {
        "id": "ocD9y6YrPACm"
      },
      "source": [
        "* matplotlib라이브러리호출 (mpl로 약칭)"
      ]
    },
    {
      "cell_type": "code",
      "metadata": {
        "id": "TNNVxVlRPACn"
      },
      "source": [
        ""
      ],
      "execution_count": null,
      "outputs": []
    },
    {
      "cell_type": "markdown",
      "metadata": {
        "id": "Wv7UR8SlPAOi"
      },
      "source": [
        "* matplotlib라이브러리의 pyplot함수 호출 (plt로 약칭)"
      ]
    },
    {
      "cell_type": "code",
      "metadata": {
        "id": "oo5xRwzXPAOj"
      },
      "source": [
        ""
      ],
      "execution_count": null,
      "outputs": []
    },
    {
      "cell_type": "code",
      "metadata": {
        "id": "60clgNFPj_XN"
      },
      "source": [
        "data=file.iloc[:,4:]"
      ],
      "execution_count": null,
      "outputs": []
    },
    {
      "cell_type": "markdown",
      "metadata": {
        "id": "Wpb3hNdXyVrh"
      },
      "source": [
        "* data의 선그래프 그리기"
      ]
    },
    {
      "cell_type": "code",
      "metadata": {
        "id": "aJST_ZDnPAg_"
      },
      "source": [
        ""
      ],
      "execution_count": null,
      "outputs": []
    },
    {
      "cell_type": "markdown",
      "metadata": {
        "id": "7pYEpd79RuUo"
      },
      "source": [
        "* data의 히스토그램 그리기"
      ]
    },
    {
      "cell_type": "code",
      "metadata": {
        "id": "aOE3ILt6O972"
      },
      "source": [
        ""
      ],
      "execution_count": null,
      "outputs": []
    },
    {
      "cell_type": "markdown",
      "metadata": {
        "id": "nDIKKn_WRyrq"
      },
      "source": [
        "* data의 자치구간이동인구수와 일최대이동인구수 산점도 그리기"
      ]
    },
    {
      "cell_type": "code",
      "metadata": {
        "id": "90oqYbrbSEUC"
      },
      "source": [
        ""
      ],
      "execution_count": null,
      "outputs": []
    },
    {
      "cell_type": "markdown",
      "metadata": {
        "id": "DSlpbt-HSFAW"
      },
      "source": [
        "* data의 자치구간이동인구수와 일최대이동인구수 박스플롯 그리기"
      ]
    },
    {
      "cell_type": "code",
      "metadata": {
        "id": "zR_0hjz0SFcJ"
      },
      "source": [
        ""
      ],
      "execution_count": null,
      "outputs": []
    },
    {
      "cell_type": "markdown",
      "metadata": {
        "id": "DdJOyua5SGf4"
      },
      "source": [
        "* 위의 코드 결과 미세먼지와 초미세먼지중 평균이 높은것은?:(답은 여기에 작성)"
      ]
    },
    {
      "cell_type": "markdown",
      "metadata": {
        "id": "aTE4Osg1ScLT"
      },
      "source": [
        "# 중복 데이터 처리"
      ]
    },
    {
      "cell_type": "markdown",
      "metadata": {
        "id": "7GbJFXoBTnW_"
      },
      "source": [
        "* 다음 사진과 같이 데이터프레임을 생성해라\n",
        "\n",
        "![캡처.PNG](data:image/png;base64,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)"
      ]
    },
    {
      "cell_type": "markdown",
      "metadata": {
        "id": "JO2xGzO5SGoF"
      },
      "source": [
        "* 중복 데이터 확인해라(이전행과 현재행 비교)"
      ]
    },
    {
      "cell_type": "code",
      "metadata": {
        "id": "zwaIarOZSGoG"
      },
      "source": [
        ""
      ],
      "execution_count": null,
      "outputs": []
    },
    {
      "cell_type": "markdown",
      "metadata": {
        "id": "1jqTsr73SGsE"
      },
      "source": [
        "* 중복 데이터를 삭제하고 고유한 값만을 가지 행들만 남겨라(원본에 저장)"
      ]
    },
    {
      "cell_type": "code",
      "metadata": {
        "id": "Z91xX3ENSGsF"
      },
      "source": [
        ""
      ],
      "execution_count": null,
      "outputs": []
    },
    {
      "cell_type": "markdown",
      "metadata": {
        "id": "6O7BePQBVXFe"
      },
      "source": [
        "* B열과 C열기준으로 중복 여부를 판단해라"
      ]
    },
    {
      "cell_type": "code",
      "metadata": {
        "id": "F8nBJKhvU0Gr"
      },
      "source": [
        ""
      ],
      "execution_count": null,
      "outputs": []
    }
  ]
}