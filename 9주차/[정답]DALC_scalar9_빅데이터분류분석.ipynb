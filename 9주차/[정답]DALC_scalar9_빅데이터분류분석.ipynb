{
  "nbformat": 4,
  "nbformat_minor": 0,
  "metadata": {
    "colab": {
      "name": "[정답]DALC_scalar9_빅데이터분류분석.ipynb",
      "provenance": [],
      "collapsed_sections": [
        "LEpgg6MllqlP",
        "4ktdw0WEO16Y"
      ]
    },
    "kernelspec": {
      "name": "python3",
      "display_name": "Python 3"
    },
    "language_info": {
      "name": "python"
    }
  },
  "cells": [
    {
      "cell_type": "markdown",
      "metadata": {
        "id": "hUQY0a9AmQB1"
      },
      "source": [
        "# 주관식\n",
        "셀을 더블클릭해서  : 다음에 답을 입력하세요."
      ]
    },
    {
      "cell_type": "markdown",
      "metadata": {
        "id": "s0tu8WgkHe9n"
      },
      "source": [
        "* 머신러닝에서 학습이라고 부르는 과정은 데이터로부터 ( )를 찾아내는 것이다. 데이터를 학습하여 모델의 ( )를 찾는 과정을 적합(fitting)이라고 한다. 괄호 안에 공통으로 들어갈 용어는: 모수"
      ]
    },
    {
      "cell_type": "markdown",
      "metadata": {
        "id": "6nQsARbhNrvK"
      },
      "source": [
        "* 성공적인 지도학습은 기존의 데이터에 대해 정확도가 높은 모델을 찾는 것인가: 아니다, 새로운 데이터에 대해 정확도가 높은 모델을 찾는 것이다."
      ]
    },
    {
      "cell_type": "markdown",
      "metadata": {
        "id": "O7Cz3tPHMFq8"
      },
      "source": [
        "* 데이터의 수가 극도로 적은 경우 1개의 데이터만을 검증데이터로 사용하는 교차 검증 방법은?:단일 관측치 제거 방식(leave-one-out)"
      ]
    },
    {
      "cell_type": "markdown",
      "metadata": {
        "id": "ZPLYsr50N48B"
      },
      "source": [
        "# 분류분석"
      ]
    },
    {
      "cell_type": "markdown",
      "metadata": {
        "id": "H0vQPFbZD9nu"
      },
      "source": [
        "* seaborn 패키지 임포트\n",
        "*   판다스 임포트\n",
        "*   넘파이 임포트\n",
        "*  matplotlib.pyplot 임포트\n",
        "* scipy 임포트(import scipy as sp)\n",
        "* math 임포트(import math)\n",
        "* from sklearn.datasets import make_blobs\n",
        "\n",
        "\n",
        "\n",
        "\n"
      ]
    },
    {
      "cell_type": "code",
      "metadata": {
        "id": "E8u2sLMVNsbW"
      },
      "source": [
        "from sklearn.datasets import make_blobs\n",
        "import pandas as pd\n",
        "import numpy as np\n",
        "import math\n",
        "import scipy as sp\n",
        "import seaborn as sns\n",
        "import matplotlib.pyplot as plt"
      ],
      "execution_count": 96,
      "outputs": []
    },
    {
      "cell_type": "markdown",
      "metadata": {
        "id": "rNfaIXFEC5dl"
      },
      "source": [
        "## Naive Bayes"
      ]
    },
    {
      "cell_type": "markdown",
      "metadata": {
        "id": "o4rm1reaDQUI"
      },
      "source": [
        "* 가우스안 나이브 베이즈 모델 클래스 선택"
      ]
    },
    {
      "cell_type": "code",
      "metadata": {
        "id": "WZMb1DjtDN95"
      },
      "source": [
        "from sklearn.naive_bayes import GaussianNB"
      ],
      "execution_count": 97,
      "outputs": []
    },
    {
      "cell_type": "markdown",
      "metadata": {
        "id": "kmKc6F7UD7Fm"
      },
      "source": [
        "* 나이브 베이즈 모델 인스턴화"
      ]
    },
    {
      "cell_type": "code",
      "metadata": {
        "id": "7gRJmswLmrzq"
      },
      "source": [
        "model = GaussianNB () "
      ],
      "execution_count": 98,
      "outputs": []
    },
    {
      "cell_type": "markdown",
      "metadata": {
        "id": "am0PzpR5X1fs"
      },
      "source": [
        "X_training, y_training 데이터 생성"
      ]
    },
    {
      "cell_type": "code",
      "metadata": {
        "id": "HBVGxbThX1_I"
      },
      "source": [
        "rng = np.random.RandomState(1)\n",
        "X_training = rng.randint(5, size=(6, 100))\n",
        "y_trainging = np.array([1, 2, 3, 4, 5, 6])"
      ],
      "execution_count": 99,
      "outputs": []
    },
    {
      "cell_type": "markdown",
      "metadata": {
        "id": "PbmoZoIfXl8W"
      },
      "source": [
        "* 모델을 적합해라"
      ]
    },
    {
      "cell_type": "code",
      "metadata": {
        "colab": {
          "base_uri": "https://localhost:8080/"
        },
        "id": "xjzyKhs5XmSz",
        "outputId": "fc020d5e-89c0-4bdc-826e-5c5f42ee2021"
      },
      "source": [
        "model.fit(X_training,y_training)"
      ],
      "execution_count": 100,
      "outputs": [
        {
          "output_type": "execute_result",
          "data": {
            "text/plain": [
              "GaussianNB(priors=None, var_smoothing=1e-09)"
            ]
          },
          "metadata": {
            "tags": []
          },
          "execution_count": 100
        }
      ]
    },
    {
      "cell_type": "markdown",
      "metadata": {
        "id": "komPrqWZXoQU"
      },
      "source": [
        "* 모델에 적용 X_training[2:3]을 predict"
      ]
    },
    {
      "cell_type": "code",
      "metadata": {
        "colab": {
          "base_uri": "https://localhost:8080/"
        },
        "id": "4R0QLw3WRjTV",
        "outputId": "d7073b78-0ef4-4855-ca8b-3e06791a2ba2"
      },
      "source": [
        "print(model.predict(X_training[2:3]))"
      ],
      "execution_count": 101,
      "outputs": [
        {
          "output_type": "stream",
          "text": [
            "[3]\n"
          ],
          "name": "stdout"
        }
      ]
    },
    {
      "cell_type": "markdown",
      "metadata": {
        "id": "HfKCwpVxSeu4"
      },
      "source": [
        "## K-Nearest Neighbors"
      ]
    },
    {
      "cell_type": "markdown",
      "metadata": {
        "id": "oOvOvM4CEFaS"
      },
      "source": [
        "* K-Nearest Neighbors 모델 임포트"
      ]
    },
    {
      "cell_type": "code",
      "metadata": {
        "id": "xUZ8kI0PEGJO"
      },
      "source": [
        "from sklearn.neighbors import KNeighborsClassifier\n"
      ],
      "execution_count": 102,
      "outputs": []
    },
    {
      "cell_type": "markdown",
      "metadata": {
        "id": "FMJiFhp7ZFJb"
      },
      "source": [
        "* k-nearest negihbors 모델 인스턴화"
      ]
    },
    {
      "cell_type": "code",
      "metadata": {
        "id": "xwbk62jxZFpx"
      },
      "source": [
        "your_model = KNeighborsClassifier()"
      ],
      "execution_count": 103,
      "outputs": []
    },
    {
      "cell_type": "markdown",
      "metadata": {
        "id": "jgevegrjZRyD"
      },
      "source": [
        "X_training, y_training 데이터 생성"
      ]
    },
    {
      "cell_type": "code",
      "metadata": {
        "id": "7afey6N1ZRyF"
      },
      "source": [
        "rng = np.random.RandomState(1)\n",
        "X_training = rng.randint(5, size=(6, 100))\n",
        "y_trainging = np.array([1, 2, 3, 4, 5, 6])"
      ],
      "execution_count": 104,
      "outputs": []
    },
    {
      "cell_type": "markdown",
      "metadata": {
        "id": "IBcmi5HjZX9w"
      },
      "source": [
        "* 모델에 적합해라"
      ]
    },
    {
      "cell_type": "code",
      "metadata": {
        "colab": {
          "base_uri": "https://localhost:8080/"
        },
        "id": "M38lITO1EKUj",
        "outputId": "9f1590dd-9bfd-4a30-c542-a9aaaca03067"
      },
      "source": [
        "your_model.fit(X_training, y_training)"
      ],
      "execution_count": 105,
      "outputs": [
        {
          "output_type": "execute_result",
          "data": {
            "text/plain": [
              "KNeighborsClassifier(algorithm='auto', leaf_size=30, metric='minkowski',\n",
              "                     metric_params=None, n_jobs=None, n_neighbors=5, p=2,\n",
              "                     weights='uniform')"
            ]
          },
          "metadata": {
            "tags": []
          },
          "execution_count": 105
        }
      ]
    },
    {
      "cell_type": "markdown",
      "metadata": {
        "id": "d7bJKuhlZa02"
      },
      "source": [
        "* 모델에 적용해라 prediect (X_training[2:3])\n",
        "\n"
      ]
    },
    {
      "cell_type": "code",
      "metadata": {
        "id": "SDiypRdGpA1r",
        "colab": {
          "base_uri": "https://localhost:8080/"
        },
        "outputId": "50569735-9056-42b3-8f8a-e75a9bb64af6"
      },
      "source": [
        "print(your_model.predict(X_training[2:3]))\n"
      ],
      "execution_count": 106,
      "outputs": [
        {
          "output_type": "stream",
          "text": [
            "[1]\n"
          ],
          "name": "stdout"
        }
      ]
    },
    {
      "cell_type": "markdown",
      "metadata": {
        "id": "0DRtkLTiCwCk"
      },
      "source": [
        "## k-means clustering"
      ]
    },
    {
      "cell_type": "markdown",
      "metadata": {
        "id": "ZodJYDhY_k5A"
      },
      "source": [
        "* seaborn의 데이터셋 로드"
      ]
    },
    {
      "cell_type": "code",
      "metadata": {
        "id": "8NHb_3yTGXk8"
      },
      "source": [
        "sns.set_palette(\"Set2\")"
      ],
      "execution_count": 107,
      "outputs": []
    },
    {
      "cell_type": "markdown",
      "metadata": {
        "id": "UqtK_hJjArav"
      },
      "source": [
        "*  make_blob을 이용하여 n_samples=100, centers=4, n_features=2, random_state=6 인 x,y에 레이블 데이터를 저장해라"
      ]
    },
    {
      "cell_type": "code",
      "metadata": {
        "id": "vHp-kJ5vmr-u"
      },
      "source": [
        "x, y = make_blobs(n_samples=100, centers=4, n_features=2, random_state=6)"
      ],
      "execution_count": 108,
      "outputs": []
    },
    {
      "cell_type": "markdown",
      "metadata": {
        "id": "p_5uwi8CHNKW"
      },
      "source": [
        "* 위 x,y를 데이터로 하고 열이름이  \"x\", \"y\"인 데이터프레임을 만들어 points변수에 저장해라"
      ]
    },
    {
      "cell_type": "code",
      "metadata": {
        "colab": {
          "base_uri": "https://localhost:8080/",
          "height": 197
        },
        "id": "hs_Zz27KB3tA",
        "outputId": "a073e1e9-47a7-458e-9eb0-ba4ae5494356"
      },
      "source": [
        "points = pd.DataFrame(x, y).reset_index(drop=True)\n",
        "points.columns = [\"x\", \"y\"]\n",
        "points.head()"
      ],
      "execution_count": 109,
      "outputs": [
        {
          "output_type": "execute_result",
          "data": {
            "text/html": [
              "<div>\n",
              "<style scoped>\n",
              "    .dataframe tbody tr th:only-of-type {\n",
              "        vertical-align: middle;\n",
              "    }\n",
              "\n",
              "    .dataframe tbody tr th {\n",
              "        vertical-align: top;\n",
              "    }\n",
              "\n",
              "    .dataframe thead th {\n",
              "        text-align: right;\n",
              "    }\n",
              "</style>\n",
              "<table border=\"1\" class=\"dataframe\">\n",
              "  <thead>\n",
              "    <tr style=\"text-align: right;\">\n",
              "      <th></th>\n",
              "      <th>x</th>\n",
              "      <th>y</th>\n",
              "    </tr>\n",
              "  </thead>\n",
              "  <tbody>\n",
              "    <tr>\n",
              "      <th>0</th>\n",
              "      <td>0.276181</td>\n",
              "      <td>-2.217047</td>\n",
              "    </tr>\n",
              "    <tr>\n",
              "      <th>1</th>\n",
              "      <td>7.927368</td>\n",
              "      <td>-9.761527</td>\n",
              "    </tr>\n",
              "    <tr>\n",
              "      <th>2</th>\n",
              "      <td>8.491428</td>\n",
              "      <td>-2.549749</td>\n",
              "    </tr>\n",
              "    <tr>\n",
              "      <th>3</th>\n",
              "      <td>-11.537102</td>\n",
              "      <td>2.434883</td>\n",
              "    </tr>\n",
              "    <tr>\n",
              "      <th>4</th>\n",
              "      <td>4.292259</td>\n",
              "      <td>-8.992204</td>\n",
              "    </tr>\n",
              "  </tbody>\n",
              "</table>\n",
              "</div>"
            ],
            "text/plain": [
              "           x         y\n",
              "0   0.276181 -2.217047\n",
              "1   7.927368 -9.761527\n",
              "2   8.491428 -2.549749\n",
              "3 -11.537102  2.434883\n",
              "4   4.292259 -8.992204"
            ]
          },
          "metadata": {
            "tags": []
          },
          "execution_count": 109
        }
      ]
    },
    {
      "cell_type": "markdown",
      "metadata": {
        "id": "iOpOkJYmFbwX"
      },
      "source": [
        "### 1.k값 정하기\n",
        "> 중심점을 몇 개로 할 것인지를 미리 정해줘야 한다."
      ]
    },
    {
      "cell_type": "markdown",
      "metadata": {
        "id": "ovLdYDl9Fn0t"
      },
      "source": [
        "* k값을 정하기 위해 산점도 그려보기\n",
        "plt.scatter함수를 이용하여 points데이터프레임의 산점도를 그려라"
      ]
    },
    {
      "cell_type": "code",
      "metadata": {
        "colab": {
          "base_uri": "https://localhost:8080/",
          "height": 282
        },
        "id": "OfSf7wEcDkZ0",
        "outputId": "3fb5c898-10c8-4070-8d7e-80fb3a5ccd1e"
      },
      "source": [
        "plt.scatter(x=\"x\",y=\"y\",data=points)"
      ],
      "execution_count": 110,
      "outputs": [
        {
          "output_type": "execute_result",
          "data": {
            "text/plain": [
              "<matplotlib.collections.PathCollection at 0x7f3cdb1c0750>"
            ]
          },
          "metadata": {
            "tags": []
          },
          "execution_count": 110
        },
        {
          "output_type": "display_data",
          "data": {
            "image/png": "[encoded data removed]",
            "text/plain": [
              "<Figure size 432x288 with 1 Axes>"
            ]
          },
          "metadata": {
            "tags": [],
            "needs_background": "light"
          }
        }
      ]
    },
    {
      "cell_type": "markdown",
      "metadata": {
        "id": "mewwNBv3NAN4"
      },
      "source": [
        "### 2.중심점 구하기\n",
        "> k값을 정했으니 이제 중심점을 구해야 한다. \n",
        "중심점이란 말 그대로 각 cluster의 중심 좌표를 말한다. \n",
        "\n",
        ">2차원 데이터를 예로 들면 각 cluster의 중심점은 각 cluster의 x좌표의 평균과 y좌표의 평균이 된다. \n",
        "- 단, clustering을 시작할 때는 아직 cluster가 생성되지 않았고 따라서 cluster의 중심점을 구할 수 없기 때문에 전체 데이터 중에서 랜덤한 k개의 데이터를 중심점으로 사용한다."
      ]
    },
    {
      "cell_type": "markdown",
      "metadata": {
        "id": "sSaBNK0OI_oa"
      },
      "source": [
        "* 4개의 중심점으로 하고 아직 cluster가 생성되지 않았으므로 sample메쏘드를 통해 random_state옵션을 1로 주어라. 그리고 centroid란 변수에 저장\n",
        "-( *전체 데이터* 중에서 4개를 랜덤하게 골라 첫번째 중심점으로 삼았다.)"
      ]
    },
    {
      "cell_type": "code",
      "metadata": {
        "colab": {
          "base_uri": "https://localhost:8080/",
          "height": 167
        },
        "id": "3BtfyGrHGX6u",
        "outputId": "d626a9b0-a802-4b6a-e578-b3e3a3529823"
      },
      "source": [
        "centroids = points.sample(4, random_state=1)\n",
        "centroids"
      ],
      "execution_count": 111,
      "outputs": [
        {
          "output_type": "execute_result",
          "data": {
            "text/html": [
              "<div>\n",
              "<style scoped>\n",
              "    .dataframe tbody tr th:only-of-type {\n",
              "        vertical-align: middle;\n",
              "    }\n",
              "\n",
              "    .dataframe tbody tr th {\n",
              "        vertical-align: top;\n",
              "    }\n",
              "\n",
              "    .dataframe thead th {\n",
              "        text-align: right;\n",
              "    }\n",
              "</style>\n",
              "<table border=\"1\" class=\"dataframe\">\n",
              "  <thead>\n",
              "    <tr style=\"text-align: right;\">\n",
              "      <th></th>\n",
              "      <th>x</th>\n",
              "      <th>y</th>\n",
              "    </tr>\n",
              "  </thead>\n",
              "  <tbody>\n",
              "    <tr>\n",
              "      <th>80</th>\n",
              "      <td>-8.842286</td>\n",
              "      <td>1.786914</td>\n",
              "    </tr>\n",
              "    <tr>\n",
              "      <th>84</th>\n",
              "      <td>4.510561</td>\n",
              "      <td>-9.305970</td>\n",
              "    </tr>\n",
              "    <tr>\n",
              "      <th>33</th>\n",
              "      <td>5.883975</td>\n",
              "      <td>-8.372845</td>\n",
              "    </tr>\n",
              "    <tr>\n",
              "      <th>81</th>\n",
              "      <td>-8.831594</td>\n",
              "      <td>1.690414</td>\n",
              "    </tr>\n",
              "  </tbody>\n",
              "</table>\n",
              "</div>"
            ],
            "text/plain": [
              "           x         y\n",
              "80 -8.842286  1.786914\n",
              "84  4.510561 -9.305970\n",
              "33  5.883975 -8.372845\n",
              "81 -8.831594  1.690414"
            ]
          },
          "metadata": {
            "tags": []
          },
          "execution_count": 111
        }
      ]
    },
    {
      "cell_type": "markdown",
      "metadata": {
        "id": "LSWnnctMOmgi"
      },
      "source": [
        "* points데이터 프레임과 랜덤하게 4개의 점 그래프 분포그래프확인"
      ]
    },
    {
      "cell_type": "code",
      "metadata": {
        "colab": {
          "base_uri": "https://localhost:8080/",
          "height": 282
        },
        "id": "7DB4RDvNONsu",
        "outputId": "f798341d-7141-45ad-f14d-53867398795d"
      },
      "source": [
        "plt.scatter(x=\"x\",y=\"y\",data=points)\n",
        "plt.scatter(x=\"x\",y=\"y\",data=centroids)"
      ],
      "execution_count": 112,
      "outputs": [
        {
          "output_type": "execute_result",
          "data": {
            "text/plain": [
              "<matplotlib.collections.PathCollection at 0x7f3cd6ab0990>"
            ]
          },
          "metadata": {
            "tags": []
          },
          "execution_count": 112
        },
        {
          "output_type": "display_data",
          "data": {
            "image/png": "[encoded data removed]",
            "text/plain": [
              "<Figure size 432x288 with 1 Axes>"
            ]
          },
          "metadata": {
            "tags": [],
            "needs_background": "light"
          }
        }
      ]
    },
    {
      "cell_type": "markdown",
      "metadata": {
        "id": "RgA1Fav4GXtH"
      },
      "source": [
        "### 3.각 중심점으로부터의 거리를 구하여 가까운 중심점의 cluster로 할당하기\n",
        "> 각 데이터에 대해서 4개의 중심점과의 거리를 계산한다. 그 후 값을 비교하여 가장 가까운 중심점의 cluster로 해당 데이터를 할당한다"
      ]
    },
    {
      "cell_type": "markdown",
      "metadata": {
        "id": "_qM7c0PCJsVB"
      },
      "source": [
        "* 각 데이터에 대하여, 각 중심점과의 유클리드 거리 계산"
      ]
    },
    {
      "cell_type": "code",
      "metadata": {
        "id": "jQ9PiXnwJkeW"
      },
      "source": [
        "distance = sp.spatial.distance.cdist(points, centroids, \"euclidean\")"
      ],
      "execution_count": 113,
      "outputs": []
    },
    {
      "cell_type": "markdown",
      "metadata": {
        "id": "LuRItuiEJoL4"
      },
      "source": [
        " 가장 거리가 짧은 중심점의 cluster로 할당\n",
        "\n",
        "*열을 기준으로 distance 데이터중 최소값의 인덱스를 반환하는 함수를 이용하여 cluster_num를 생성해라\n",
        "> np.argmin(distance,axis=1): 열을 기준으로 distance 데이터중 최소값의 인덱스를 반환\n"
      ]
    },
    {
      "cell_type": "code",
      "metadata": {
        "id": "5bARoYGbJoL5"
      },
      "source": [
        "cluster_num = np.argmin(distance, axis=1)"
      ],
      "execution_count": 114,
      "outputs": []
    },
    {
      "cell_type": "markdown",
      "metadata": {
        "id": "AgvSEdldJof1"
      },
      "source": [
        "결과 확인\n",
        "* points 데이터프레임을 복제하여 result란 변수에 저장후  result 데이터 프레임에 cluster_num을 데이터로 하는 새로운 열 'cluster'을 생성해라."
      ]
    },
    {
      "cell_type": "code",
      "metadata": {
        "colab": {
          "base_uri": "https://localhost:8080/",
          "height": 197
        },
        "id": "pi3DriFLJof2",
        "outputId": "7eaab9c6-f70b-4772-d563-bb910089fc59"
      },
      "source": [
        "result = points.copy()\n",
        "result[\"cluster\"] = np.array(cluster_num)\n",
        "result.head()"
      ],
      "execution_count": 115,
      "outputs": [
        {
          "output_type": "execute_result",
          "data": {
            "text/html": [
              "<div>\n",
              "<style scoped>\n",
              "    .dataframe tbody tr th:only-of-type {\n",
              "        vertical-align: middle;\n",
              "    }\n",
              "\n",
              "    .dataframe tbody tr th {\n",
              "        vertical-align: top;\n",
              "    }\n",
              "\n",
              "    .dataframe thead th {\n",
              "        text-align: right;\n",
              "    }\n",
              "</style>\n",
              "<table border=\"1\" class=\"dataframe\">\n",
              "  <thead>\n",
              "    <tr style=\"text-align: right;\">\n",
              "      <th></th>\n",
              "      <th>x</th>\n",
              "      <th>y</th>\n",
              "      <th>cluster</th>\n",
              "    </tr>\n",
              "  </thead>\n",
              "  <tbody>\n",
              "    <tr>\n",
              "      <th>0</th>\n",
              "      <td>0.276181</td>\n",
              "      <td>-2.217047</td>\n",
              "      <td>1</td>\n",
              "    </tr>\n",
              "    <tr>\n",
              "      <th>1</th>\n",
              "      <td>7.927368</td>\n",
              "      <td>-9.761527</td>\n",
              "      <td>2</td>\n",
              "    </tr>\n",
              "    <tr>\n",
              "      <th>2</th>\n",
              "      <td>8.491428</td>\n",
              "      <td>-2.549749</td>\n",
              "      <td>2</td>\n",
              "    </tr>\n",
              "    <tr>\n",
              "      <th>3</th>\n",
              "      <td>-11.537102</td>\n",
              "      <td>2.434883</td>\n",
              "      <td>0</td>\n",
              "    </tr>\n",
              "    <tr>\n",
              "      <th>4</th>\n",
              "      <td>4.292259</td>\n",
              "      <td>-8.992204</td>\n",
              "      <td>1</td>\n",
              "    </tr>\n",
              "  </tbody>\n",
              "</table>\n",
              "</div>"
            ],
            "text/plain": [
              "           x         y  cluster\n",
              "0   0.276181 -2.217047        1\n",
              "1   7.927368 -9.761527        2\n",
              "2   8.491428 -2.549749        2\n",
              "3 -11.537102  2.434883        0\n",
              "4   4.292259 -8.992204        1"
            ]
          },
          "metadata": {
            "tags": []
          },
          "execution_count": 115
        }
      ]
    },
    {
      "cell_type": "markdown",
      "metadata": {
        "id": "_E_bGISAJxD1"
      },
      "source": [
        "* 산점도 확인"
      ]
    },
    {
      "cell_type": "code",
      "metadata": {
        "colab": {
          "base_uri": "https://localhost:8080/",
          "height": 279
        },
        "id": "RJFGPRi7J2hf",
        "outputId": "7aa86d01-d004-4755-c1b4-f24b9d4a27b3"
      },
      "source": [
        "sns.scatterplot(x=\"x\", y=\"y\", hue=\"cluster\", data=result, palette=\"Set2\");"
      ],
      "execution_count": 116,
      "outputs": [
        {
          "output_type": "display_data",
          "data": {
            "image/png": "[encoded data removed]",
            "text/plain": [
              "<Figure size 432x288 with 1 Axes>"
            ]
          },
          "metadata": {
            "tags": [],
            "needs_background": "light"
          }
        }
      ]
    },
    {
      "cell_type": "markdown",
      "metadata": {
        "id": "oEeWcFx-PkGD"
      },
      "source": [
        ">잘 분류된 cluster도 있는 반면, 그렇지 않은 cluster도 있다는 걸 알 수 있다."
      ]
    },
    {
      "cell_type": "markdown",
      "metadata": {
        "id": "2_4kr1sXJ9H_"
      },
      "source": [
        "### 4.변경된 cluster에 대해서 중심점 구하기\n",
        "> 위에서 언급했듯이, 2차원 데이터셋일 때 cluster의 중심점은 x좌표의 평균과 y좌표의 평균이다. #cluster별로 묶어서 평균 계산"
      ]
    },
    {
      "cell_type": "markdown",
      "metadata": {
        "id": "f9wxygReNvry"
      },
      "source": [
        "* \"cluster\"별 평균을 구해서 centroids_2변수에 저장해라"
      ]
    },
    {
      "cell_type": "code",
      "metadata": {
        "colab": {
          "base_uri": "https://localhost:8080/",
          "height": 197
        },
        "id": "sm9BH-HxJ9IC",
        "outputId": "a732df00-c3e4-4ab5-96ce-22144eeacc6d"
      },
      "source": [
        "centroids_2 = result.groupby(\"cluster\").mean()\n",
        "centroids_2 "
      ],
      "execution_count": 117,
      "outputs": [
        {
          "output_type": "execute_result",
          "data": {
            "text/html": [
              "<div>\n",
              "<style scoped>\n",
              "    .dataframe tbody tr th:only-of-type {\n",
              "        vertical-align: middle;\n",
              "    }\n",
              "\n",
              "    .dataframe tbody tr th {\n",
              "        vertical-align: top;\n",
              "    }\n",
              "\n",
              "    .dataframe thead th {\n",
              "        text-align: right;\n",
              "    }\n",
              "</style>\n",
              "<table border=\"1\" class=\"dataframe\">\n",
              "  <thead>\n",
              "    <tr style=\"text-align: right;\">\n",
              "      <th></th>\n",
              "      <th>x</th>\n",
              "      <th>y</th>\n",
              "    </tr>\n",
              "    <tr>\n",
              "      <th>cluster</th>\n",
              "      <th></th>\n",
              "      <th></th>\n",
              "    </tr>\n",
              "  </thead>\n",
              "  <tbody>\n",
              "    <tr>\n",
              "      <th>0</th>\n",
              "      <td>-8.211603</td>\n",
              "      <td>2.420481</td>\n",
              "    </tr>\n",
              "    <tr>\n",
              "      <th>1</th>\n",
              "      <td>1.913263</td>\n",
              "      <td>-5.034035</td>\n",
              "    </tr>\n",
              "    <tr>\n",
              "      <th>2</th>\n",
              "      <td>6.180105</td>\n",
              "      <td>-5.007395</td>\n",
              "    </tr>\n",
              "    <tr>\n",
              "      <th>3</th>\n",
              "      <td>-5.728498</td>\n",
              "      <td>0.878158</td>\n",
              "    </tr>\n",
              "  </tbody>\n",
              "</table>\n",
              "</div>"
            ],
            "text/plain": [
              "                x         y\n",
              "cluster                    \n",
              "0       -8.211603  2.420481\n",
              "1        1.913263 -5.034035\n",
              "2        6.180105 -5.007395\n",
              "3       -5.728498  0.878158"
            ]
          },
          "metadata": {
            "tags": []
          },
          "execution_count": 117
        }
      ]
    },
    {
      "cell_type": "markdown",
      "metadata": {
        "id": "o-tV17d4KZb4"
      },
      "source": [
        "### 5.각 중심점으로부터의 거리를 구하여 가까운 중심점의 cluster로 할당하기\n",
        "> 새로 구한 중심점centrioids_2에 대하여 3번에서 했던 과정을 반복"
      ]
    },
    {
      "cell_type": "markdown",
      "metadata": {
        "id": "N3Vjee_NP4aO"
      },
      "source": [
        "* 각 데이터에 대하여, 각 중심점과의 유클리드 거리 계산"
      ]
    },
    {
      "cell_type": "code",
      "metadata": {
        "id": "Ro-mBILDP4ao"
      },
      "source": [
        "distance_2 = sp.spatial.distance.cdist(points, centroids_2, \"euclidean\")"
      ],
      "execution_count": 118,
      "outputs": []
    },
    {
      "cell_type": "markdown",
      "metadata": {
        "id": "10T-u1eIP4aq"
      },
      "source": [
        "* 가장 거리가 짧은 중심점의 cluster로 할당"
      ]
    },
    {
      "cell_type": "code",
      "metadata": {
        "id": "rEg6rQ3VP4ar"
      },
      "source": [
        "cluster_num_2 = np.argmin(distance_2, axis=1)"
      ],
      "execution_count": 119,
      "outputs": []
    },
    {
      "cell_type": "markdown",
      "metadata": {
        "id": "k7rjAen-P4as"
      },
      "source": [
        "* 결과 확인"
      ]
    },
    {
      "cell_type": "code",
      "metadata": {
        "colab": {
          "base_uri": "https://localhost:8080/",
          "height": 197
        },
        "id": "eLe4DP4bP4at",
        "outputId": "490f37b4-9d95-4792-dbed-af6c59a8afec"
      },
      "source": [
        "result_2 = points.copy()\n",
        "result_2[\"cluster\"] = np.array(cluster_num)\n",
        "result_2.head()"
      ],
      "execution_count": 120,
      "outputs": [
        {
          "output_type": "execute_result",
          "data": {
            "text/html": [
              "<div>\n",
              "<style scoped>\n",
              "    .dataframe tbody tr th:only-of-type {\n",
              "        vertical-align: middle;\n",
              "    }\n",
              "\n",
              "    .dataframe tbody tr th {\n",
              "        vertical-align: top;\n",
              "    }\n",
              "\n",
              "    .dataframe thead th {\n",
              "        text-align: right;\n",
              "    }\n",
              "</style>\n",
              "<table border=\"1\" class=\"dataframe\">\n",
              "  <thead>\n",
              "    <tr style=\"text-align: right;\">\n",
              "      <th></th>\n",
              "      <th>x</th>\n",
              "      <th>y</th>\n",
              "      <th>cluster</th>\n",
              "    </tr>\n",
              "  </thead>\n",
              "  <tbody>\n",
              "    <tr>\n",
              "      <th>0</th>\n",
              "      <td>0.276181</td>\n",
              "      <td>-2.217047</td>\n",
              "      <td>1</td>\n",
              "    </tr>\n",
              "    <tr>\n",
              "      <th>1</th>\n",
              "      <td>7.927368</td>\n",
              "      <td>-9.761527</td>\n",
              "      <td>2</td>\n",
              "    </tr>\n",
              "    <tr>\n",
              "      <th>2</th>\n",
              "      <td>8.491428</td>\n",
              "      <td>-2.549749</td>\n",
              "      <td>2</td>\n",
              "    </tr>\n",
              "    <tr>\n",
              "      <th>3</th>\n",
              "      <td>-11.537102</td>\n",
              "      <td>2.434883</td>\n",
              "      <td>0</td>\n",
              "    </tr>\n",
              "    <tr>\n",
              "      <th>4</th>\n",
              "      <td>4.292259</td>\n",
              "      <td>-8.992204</td>\n",
              "      <td>1</td>\n",
              "    </tr>\n",
              "  </tbody>\n",
              "</table>\n",
              "</div>"
            ],
            "text/plain": [
              "           x         y  cluster\n",
              "0   0.276181 -2.217047        1\n",
              "1   7.927368 -9.761527        2\n",
              "2   8.491428 -2.549749        2\n",
              "3 -11.537102  2.434883        0\n",
              "4   4.292259 -8.992204        1"
            ]
          },
          "metadata": {
            "tags": []
          },
          "execution_count": 120
        }
      ]
    },
    {
      "cell_type": "markdown",
      "metadata": {
        "id": "VPMuU3KcKsRV"
      },
      "source": [
        "* 결과를 산점도로 그려라"
      ]
    },
    {
      "cell_type": "code",
      "metadata": {
        "colab": {
          "base_uri": "https://localhost:8080/",
          "height": 279
        },
        "id": "75tccZ2xKrQ9",
        "outputId": "9a7068d2-d7d4-4a9b-e685-b70bf38dc513"
      },
      "source": [
        "sns.scatterplot(x=\"x\", y=\"y\", hue=\"cluster\", data=result, palette=\"Set2\");"
      ],
      "execution_count": 121,
      "outputs": [
        {
          "output_type": "display_data",
          "data": {
            "image/png": "[encoded data removed]",
            "text/plain": [
              "<Figure size 432x288 with 1 Axes>"
            ]
          },
          "metadata": {
            "tags": [],
            "needs_background": "light"
          }
        }
      ]
    },
    {
      "cell_type": "markdown",
      "metadata": {
        "id": "CpRKrpq0LuPD"
      },
      "source": [
        "3번째 실행결과\n",
        "\n",
        "\n",
        "> ![3.JPG](data:image/jpeg;base64,/9j/4AAQSkZJRgABAQEAkACQAAD/4RDuRXhpZgAATU0AKgAAAAgABAE7AAIAAAAMAAAISodpAAQAAAABAAAIVpydAAEAAAAYAAAQzuocAAcAAAgMAAAAPgAAAAAc6gAAAAgAAAAAAAAAAAAAAAAAAAAAAAAAAAAAAAAAAAAAAAAAAAAAAAAAAAAAAAAAAAAAAAAAAAAAAAAAAAAAAAAAAAAAAAAAAAAAAAAAAAAAAAAAAAAAAAAAAAAAAAAAAAAAAAAAAAAAAAAAAAAAAAAAAAAAAAAAAAAAAAAAAAAAAAAAAAAAAAAAAAAAAAAAAAAAAAAAAAAAAAAAAAAAAAAAAAAAAAAAAAAAAAAAAAAAAAAAAAAAAAAAAAAAAAAAAAAAAAAAAAAAAAAAAAAAAAAAAAAAAAAAAAAAAAAAAAAAAAAAAAAAAAAAAAAAAAAAAAAAAAAAAAAAAAAAAAAAAAAAAAAAAAAAAAAAAAAAAAAAAAAAAAAAAAAAAAAAAAAAAAAAAAAAAAAAAAAAAAAAAAAAAAAAAAAAAAAAAAAAAAAAAAAAAAAAAAAAAAAAAAAAAAAAAAAAAAAAAAAAAAAAAAAAAAAAAAAAAAAAAAAAAAAAAAAAAAAAAAAAAAAAAAAAAAAAAAAAAAAAAAAAAAAAAAAAAAAAAAAAAAAAAAAAAAAAAAAAAAAAAAAAAAAAAAAAAAAAAAAAAAAAAAAAAAAAAAAAAAAAAAAAAAAAAAAAAAAAAAAAAAAAAAAAAAAAAAAAAAAAAAAAAAAAAAAAAAAAAAAAAAAAAAAAAAAAAAAAAAAAAAAAAAAAAAAAAAAAAAAAAAAAAAAAAAAAAAAAAAAAAAAAAAAAAAAAAAAAAAAAAAAAAAAAAAAAAAAAAAAAAAAAAAAAAAAAAAAAAAAAAAAAAAAAAAAAAAAAAAAAAAAAAAAAAAAAAAAAAAAAAAAAAAAAAAAAAAAAAAAAAAAAAAAAAAAAAAAAAAAAAAAAAAAAAAAAAAAAAAAAAAAAAAAAAAAAAAAAAAAAAAAAAAAAAAAAAAAAAAAAAAAAAAAAAAAAAAAAAAAAAAAAAAAAAAAAAAAAAAAAAAAAAAAAAAAAAAAAAAAAAAAAAAAAAAAAAAAAAAAAAAAAAAAAAAAAAAAAAAAAAAAAAAAAAAAAAAAAAAAAAAAAAAAAAAAAAAAAAAAAAAAAAAAAAAAAAAAAAAAAAAAAAAAAAAAAAAAAAAAAAAAAAAAAAAAAAAAAAAAAAAAAAAAAAAAAAAAAAAAAAAAAAAAAAAAAAAAAAAAAAAAAAAAAAAAAAAAAAAAAAAAAAAAAAAAAAAAAAAAAAAAAAAAAAAAAAAAAAAAAAAAAAAAAAAAAAAAAAAAAAAAAAAAAAAAAAAAAAAAAAAAAAAAAAAAAAAAAAAAAAAAAAAAAAAAAAAAAAAAAAAAAAAAAAAAAAAAAAAAAAAAAAAAAAAAAAAAAAAAAAAAAAAAAAAAAAAAAAAAAAAAAAAAAAAAAAAAAAAAAAAAAAAAAAAAAAAAAAAAAAAAAAAAAAAAAAAAAAAAAAAAAAAAAAAAAAAAAAAAAAAAAAAAAAAAAAAAAAAAAAAAAAAAAAAAAAAAAAAAAAAAAAAAAAAAAAAAAAAAAAAAAAAAAAAAAAAAAAAAAAAAAAAAAAAAAAAAAAAAAAAAAAAAAAAAAAAAAAAAAAAAAAAAAAAAAAAAAAAAAAAAAAAAAAAAAAAAAAAAAAAAAAAAAAAAAAAAAAAAAAAAAAAAAAAAAAAAAAAAAAAAAAAAAAAAAAAAAAAAAAAAAAAAAAAAAAAAAAAAAAAAAAAAAAAAAAAAAAAAAAAAAAAAAAAAAAAAAAAAAAAAAAAAAAAAAAAAAAAAAAAAAAAAAAAAAAAAAAAAAAAAAAAAAAAAAAAAAAAAAAAAAAAAAAAAAAAAAAAAAAAAAAAAAAAAAAAAAAAAAAAAAAAAAAAAAAAAAAAAAAAAAAAAAAAAAAAAAAAAAAAAAAAAAAAAAAAAAAAAAAAAAAAAAAAAAAAAAAAAAAAAAAAAAAAAAAAAAAAAAAAAAAAAAAAAAAAAAAAAAAAAAAAAAAAAAAAAAAAAAAAAAAAAAAAAAAAAAAAAAAAAAAAAAAAAAAAAAAAAAAAAAAAAAAAAAAAAAAAAAAAAAAAAAAAAAAAAAAAAAAAAAAAAAAAAAAAAAAAAAAAAAAAAAAAAAAAAAAAAAAAAAAAAAAAAAAAAAAAAAAAAAAAAAAAAAAAAAAAAAAAAAAAAAAAAAAAAAAAAAAAAAAAAAAAAAAAAAAAAAAAAAAAAAAAAAAAAAAAAAAAAAAAAAAAAAAAAAAAAAAAAAAAAAAAAAAAAAAAAAAAAAAAAAAAAAAAAAAAAAAAAAAAAAAAAAAAAAAAAAAAAAAAAAAAAAAAAAAAAAAAAAAAAAAAAAAAAAAAAAAAAAAAAAAAAAAAAAAAAAAAAAAAAAAAAAAAAAAAAAAAAAAAAAAAAAAAAAAAAAAAAAAAAAAAAAAAAAAAAAAAAAAAAAAAAAAAAAAAAAAAAAAAAAAAAAAAAAAAAAAAAAAAAAAAAAAAAAAAAAAAAAAAAAAAAAAAAAAAAAAAAAAAAAAAAAAAAAAAAAAAAAAAAAAAAAAAAAAAAAAAAAAAAAAAAAAAAAAAAAAAAAAAAAAAAAAAAAAAAAAAAAAAAAAAAAAAAAAAAAAAAAAAAAAAAAAAAAAAAAAAAAAAAAAAAAAAAAAAAAAAAAAAAAAAAAAAAAAAAAAAAAAAAAAAAAAAAAAAAAAAAAAAAAAAAAAAAAAAAAAAAAAAAAAAAAAAAAAAAAAAAAAAAAAAAAAAAAAAAAAAAAAAAAAAAAAAAAAAAAAAAAAAAAAAAAAAAAAAAAAEppd29uIEh3YW5nAAAFkAMAAgAAABQAABCkkAQAAgAAABQAABC4kpEAAgAAAAM1OAAAkpIAAgAAAAM1OAAA6hwABwAACAwAAAiYAAAAABzqAAAACAAAAAAAAAAAAAAAAAAAAAAAAAAAAAAAAAAAAAAAAAAAAAAAAAAAAAAAAAAAAAAAAAAAAAAAAAAAAAAAAAAAAAAAAAAAAAAAAAAAAAAAAAAAAAAAAAAAAAAAAAAAAAAAAAAAAAAAAAAAAAAAAAAAAAAAAAAAAAAAAAAAAAAAAAAAAAAAAAAAAAAAAAAAAAAAAAAAAAAAAAAAAAAAAAAAAAAAAAAAAAAAAAAAAAAAAAAAAAAAAAAAAAAAAAAAAAAAAAAAAAAAAAAAAAAAAAAAAAAAAAAAAAAAAAAAAAAAAAAAAAAAAAAAAAAAAAAAAAAAAAAAAAAAAAAAAAAAAAAAAAAAAAAAAAAAAAAAAAAAAAAAAAAAAAAAAAAAAAAAAAAAAAAAAAAAAAAAAAAAAAAAAAAAAAAAAAAAAAAAAAAAAAAAAAAAAAAAAAAAAAAAAAAAAAAAAAAAAAAAAAAAAAAAAAAAAAAAAAAAAAAAAAAAAAAAAAAAAAAAAAAAAAAAAAAAAAAAAAAAAAAAAAAAAAAAAAAAAAAAAAAAAAAAAAAAAAAAAAAAAAAAAAAAAAAAAAAAAAAAAAAAAAAAAAAAAAAAAAAAAAAAAAAAAAAAAAAAAAAAAAAAAAAAAAAAAAAAAAAAAAAAAAAAAAAAAAAAAAAAAAAAAAAAAAAAAAAAAAAAAAAAAAAAAAAAAAAAAAAAAAAAAAAAAAAAAAAAAAAAAAAAAAAAAAAAAAAAAAAAAAAAAAAAAAAAAAAAAAAAAAAAAAAAAAAAAAAAAAAAAAAAAAAAAAAAAAAAAAAAAAAAAAAAAAAAAAAAAAAAAAAAAAAAAAAAAAAAAAAAAAAAAAAAAAAAAAAAAAAAAAAAAAAAAAAAAAAAAAAAAAAAAAAAAAAAAAAAAAAAAAAAAAAAAAAAAAAAAAAAAAAAAAAAAAAAAAAAAAAAAAAAAAAAAAAAAAAAAAAAAAAAAAAAAAAAAAAAAAAAAAAAAAAAAAAAAAAAAAAAAAAAAAAAAAAAAAAAAAAAAAAAAAAAAAAAAAAAAAAAAAAAAAAAAAAAAAAAAAAAAAAAAAAAAAAAAAAAAAAAAAAAAAAAAAAAAAAAAAAAAAAAAAAAAAAAAAAAAAAAAAAAAAAAAAAAAAAAAAAAAAAAAAAAAAAAAAAAAAAAAAAAAAAAAAAAAAAAAAAAAAAAAAAAAAAAAAAAAAAAAAAAAAAAAAAAAAAAAAAAAAAAAAAAAAAAAAAAAAAAAAAAAAAAAAAAAAAAAAAAAAAAAAAAAAAAAAAAAAAAAAAAAAAAAAAAAAAAAAAAAAAAAAAAAAAAAAAAAAAAAAAAAAAAAAAAAAAAAAAAAAAAAAAAAAAAAAAAAAAAAAAAAAAAAAAAAAAAAAAAAAAAAAAAAAAAAAAAAAAAAAAAAAAAAAAAAAAAAAAAAAAAAAAAAAAAAAAAAAAAAAAAAAAAAAAAAAAAAAAAAAAAAAAAAAAAAAAAAAAAAAAAAAAAAAAAAAAAAAAAAAAAAAAAAAAAAAAAAAAAAAAAAAAAAAAAAAAAAAAAAAAAAAAAAAAAAAAAAAAAAAAAAAAAAAAAAAAAAAAAAAAAAAAAAAAAAAAAAAAAAAAAAAAAAAAAAAAAAAAAAAAAAAAAAAAAAAAAAAAAAAAAAAAAAAAAAAAAAAAAAAAAAAAAAAAAAAAAAAAAAAAAAAAAAAAAAAAAAAAAAAAAAAAAAAAAAAAAAAAAAAAAAAAAAAAAAAAAAAAAAAAAAAAAAAAAAAAAAAAAAAAAAAAAAAAAAAAAAAAAAAAAAAAAAAAAAAAAAAAAAAAAAAAAAAAAAAAAAAAAAAAAAAAAAAAAAAAAAAAAAAAAAAAAAAAAAAAAAAAAAAAAAAAAAAAAAAAAAAAAAAAAAAAAAAAAAAAAAAAAAAAAAAAAAAAAAAAAAAAAAAAAAAAAAAAAAAAAAAAAAAAAAAAAAAAAAAAAAAAAAAAAAAAAAAAAAAAAAAAAAAAAAAAAAAAAAAAAAAAAAAAAAAAAAAAAAAAAAAAAAAAAAAAAAAAAAAAAAAAAAAAAAAAAAAAAAAAAAAAAAAAAAAAAAAAAAAAAAAAAAAAAAAAAAAAAAAAAAAAAAAAAAAAAAAAAAAAAAAAAAAAAAAAAAAAAAAAAAAAAAAAAAAAAAAAAAAAAAAAAAAAAAAAAAAAAAAAAAAAAAAAAAAAAAAAAAAAAAAAAAAAAAAAAAAAAAAAAAAAAAAAAAAAAAAAAAAAAAAAAAAAAAAAAAAAAAAAAAAAAAAAAAAAAAAAAAAAAAAAAAAAAAAAAAAAAAAAAAAAAAAAAAAAAAAAAAAAAAAAAAAAAAAAAAAAAAAAAAAAAAAAAAAAAAAAAAAAAAAAAAAAAAAAAAAAAAAAAAAAAAAAAAAAAAAAAAAAAAAAAAAAAAAAAAAAAAAAAAAAAAAAAAAAAAAAAAAAAAAAAAAAAAAAAAAAAAAAAAAAAAAAAAAAAAAAAAAAAAAAAAAAAAAAAAAAAAAAAAAAAAAAAAAAAAAAAAAAAAAAAAAAAAAAAAAAAAAAAAAAAAAAAAAAAAAAAAAAAAAAAAAAAAAAAAAAAAAAAAAAAAAAAAAAAAAAAAAAAAAAAAAAAAAAAAAAAAAAAAAAAAAAAAAAAAAAAAAAAAAAAAAAAAAAAAAAAAAAAAAAAAAAAAAAAAAAAAAAAAAAAAAAAAAAAAAAAAAAAAAAAAAAAAAAAAAAAAAAAAAAAAAAAAAAAAAAAAAAAAAAAMjAyMTowNToyOCAxMzoxMjowMQAyMDIxOjA1OjI4IDEzOjEyOjAxAAAASgBpAHcAbwBuACAASAB3AGEAbgBnAAAA/+ELHmh0dHA6Ly9ucy5hZG9iZS5jb20veGFwLzEuMC8APD94cGFja2V0IGJlZ2luPSfvu78nIGlkPSdXNU0wTXBDZWhpSHpyZVN6TlRjemtjOWQnPz4NCjx4OnhtcG1ldGEgeG1sbnM6eD0iYWRvYmU6bnM6bWV0YS8iPjxyZGY6UkRGIHhtbG5zOnJkZj0iaHR0cDovL3d3dy53My5vcmcvMTk5OS8wMi8yMi1yZGYtc3ludGF4LW5zIyI+PHJkZjpEZXNjcmlwdGlvbiByZGY6YWJvdXQ9InV1aWQ6ZmFmNWJkZDUtYmEzZC0xMWRhLWFkMzEtZDMzZDc1MTgyZjFiIiB4bWxuczpkYz0iaHR0cDovL3B1cmwub3JnL2RjL2VsZW1lbnRzLzEuMS8iLz48cmRmOkRlc2NyaXB0aW9uIHJkZjphYm91dD0idXVpZDpmYWY1YmRkNS1iYTNkLTExZGEtYWQzMS1kMzNkNzUxODJmMWIiIHhtbG5zOnhtcD0iaHR0cDovL25zLmFkb2JlLmNvbS94YXAvMS4wLyI+PHhtcDpDcmVhdGVEYXRlPjIwMjEtMDUtMjhUMTM6MTI6MDEuNTgyPC94bXA6Q3JlYXRlRGF0ZT48L3JkZjpEZXNjcmlwdGlvbj48cmRmOkRlc2NyaXB0aW9uIHJkZjphYm91dD0idXVpZDpmYWY1YmRkNS1iYTNkLTExZGEtYWQzMS1kMzNkNzUxODJmMWIiIHhtbG5zOmRjPSJodHRwOi8vcHVybC5vcmcvZGMvZWxlbWVudHMvMS4xLyI+PGRjOmNyZWF0b3I+PHJkZjpTZXEgeG1sbnM6cmRmPSJodHRwOi8vd3d3LnczLm9yZy8xOTk5LzAyLzIyLXJkZi1zeW50YXgtbnMjIj48cmRmOmxpPkppd29uIEh3YW5nPC9yZGY6bGk+PC9yZGY6U2VxPg0KCQkJPC9kYzpjcmVhdG9yPjwvcmRmOkRlc2NyaXB0aW9uPjwvcmRmOlJERj48L3g6eG1wbWV0YT4NCiAgICAgICAgICAgICAgICAgICAgICAgICAgICAgICAgICAgICAgICAgICAgICAgICAgICAgICAgICAgICAgICAgICAgICAgICAgICAgICAgICAgICAgICAgICAgICAgICAgICAKICAgICAgICAgICAgICAgICAgICAgICAgICAgICAgICAgICAgICAgICAgICAgICAgICAgICAgICAgICAgICAgICAgICAgICAgICAgICAgICAgICAgICAgICAgICAgICAgICAgIAogICAgICAgICAgICAgICAgICAgICAgICAgICAgICAgICAgICAgICAgICAgICAgICAgICAgICAgICAgICAgICAgICAgICAgICAgICAgICAgICAgICAgICAgICAgICAgICAgICAgCiAgICAgICAgICAgICAgICAgICAgICAgICAgICAgICAgICAgICAgICAgICAgICAgICAgICAgICAgICAgICAgICAgICAgICAgICAgICAgICAgICAgICAgICAgICAgICAgICAgICAKICAgICAgICAgICAgICAgICAgICAgICAgICAgICAgICAgICAgICAgICAgICAgICAgICAgICAgICAgICAgICAgICAgICAgICAgICAgICAgICAgICAgICAgICAgICAgICAgICAgIAogICAgICAgICAgICAgICAgICAgICAgICAgICAgICAgICAgICAgICAgICAgICAgICAgICAgICAgICAgICAgICAgICAgICAgICAgICAgICAgICAgICAgICAgICAgICAgICAgICAgCiAgICAgICAgICAgICAgICAgICAgICAgICAgICAgICAgICAgICAgICAgICAgICAgICAgICAgICAgICAgICAgICAgICAgICAgICAgICAgICAgICAgICAgICAgICAgICAgICAgICAKICAgICAgICAgICAgICAgICAgICAgICAgICAgICAgICAgICAgICAgICAgICAgICAgICAgICAgICAgICAgICAgICAgICAgICAgICAgICAgICAgICAgICAgICAgICAgICAgICAgIAogICAgICAgICAgICAgICAgICAgICAgICAgICAgICAgICAgICAgICAgICAgICAgICAgICAgICAgICAgICAgICAgICAgICAgICAgICAgICAgICAgICAgICAgICAgICAgICAgICAgCiAgICAgICAgICAgICAgICAgICAgICAgICAgICAgICAgICAgICAgICAgICAgICAgICAgICAgICAgICAgICAgICAgICAgICAgICAgICAgICAgICAgICAgICAgICAgICAgICAgICAKICAgICAgICAgICAgICAgICAgICAgICAgICAgICAgICAgICAgICAgICAgICAgICAgICAgICAgICAgICAgICAgICAgICAgICAgICAgICAgICAgICAgICAgICAgICAgICAgICAgIAogICAgICAgICAgICAgICAgICAgICAgICAgICAgICAgICAgICAgICAgICAgICAgICAgICAgICAgICAgICAgICAgICAgICAgICAgICAgICAgICAgICAgICAgICAgICAgICAgICAgCiAgICAgICAgICAgICAgICAgICAgICAgICAgICAgICAgICAgICAgICAgICAgICAgICAgICAgICAgICAgICAgICAgICAgICAgICAgICAgICAgICAgICAgICAgICAgICAgICAgICAKICAgICAgICAgICAgICAgICAgICAgICAgICAgICAgICAgICAgICAgICAgICAgICAgICAgICAgICAgICAgICAgICAgICAgICAgICAgICAgICAgICAgICAgICAgICAgICAgICAgIAogICAgICAgICAgICAgICAgICAgICAgICAgICAgICAgICAgICAgICAgICAgICAgICAgICAgICAgICAgICAgICAgICAgICAgICAgICAgICAgICAgICAgICAgICAgICAgICAgICAgCiAgICAgICAgICAgICAgICAgICAgICAgICAgICAgICAgICAgICAgICAgICAgICAgICAgICAgICAgICAgICAgICAgICAgICAgICAgICAgICAgICAgICAgICAgICAgICAgICAgICAKICAgICAgICAgICAgICAgICAgICAgICAgICAgICAgICAgICAgICAgICAgICAgICAgICAgICAgICAgICAgICAgICAgICAgICAgICAgICAgICAgICAgICAgICAgICAgICAgICAgIAogICAgICAgICAgICAgICAgICAgICAgICAgICAgICAgICAgICAgICAgICAgICAgICAgICAgICAgICAgICAgICAgICAgICAgICAgICAgICAgICAgICAgICAgICAgICAgICAgICAgCiAgICAgICAgICAgICAgICAgICAgICAgICAgICAgICAgICAgICAgICAgICAgICAgICAgICAgICAgICAgICAgICAgICAgICAgICAgICAgICAgICAgICAgICAgICAgICAgICAgICAKICAgICAgICAgICAgICAgICAgICAgICAgICAgICAgICAgICAgICAgICAgICAgICAgICAgICAgICAgICAgICAgICAgICAgICAgICAgICAgICAgICAgICAgICAgICAgICAgICAgIAogICAgICAgICAgICAgICAgICAgICAgICAgICAgPD94cGFja2V0IGVuZD0ndyc/Pv/bAEMABwUFBgUEBwYFBggHBwgKEQsKCQkKFQ8QDBEYFRoZGBUYFxseJyEbHSUdFxgiLiIlKCkrLCsaIC8zLyoyJyorKv/bAEMBBwgICgkKFAsLFCocGBwqKioqKioqKioqKioqKioqKioqKioqKioqKioqKioqKioqKioqKioqKioqKioqKioqKv/AABEIAe8CyQMBIgACEQEDEQH/xAAfAAABBQEBAQEBAQAAAAAAAAAAAQIDBAUGBwgJCgv/xAC1EAACAQMDAgQDBQUEBAAAAX0BAgMABBEFEiExQQYTUWEHInEUMoGRoQgjQrHBFVLR8CQzYnKCCQoWFxgZGiUmJygpKjQ1Njc4OTpDREVGR0hJSlNUVVZXWFlaY2RlZmdoaWpzdHV2d3h5eoOEhYaHiImKkpOUlZaXmJmaoqOkpaanqKmqsrO0tba3uLm6wsPExcbHyMnK0tPU1dbX2Nna4eLj5OXm5+jp6vHy8/T19vf4+fr/xAAfAQADAQEBAQEBAQEBAAAAAAAAAQIDBAUGBwgJCgv/xAC1EQACAQIEBAMEBwUEBAABAncAAQIDEQQFITEGEkFRB2FxEyIygQgUQpGhscEJIzNS8BVictEKFiQ04SXxFxgZGiYnKCkqNTY3ODk6Q0RFRkdISUpTVFVWV1hZWmNkZWZnaGlqc3R1dnd4eXqCg4SFhoeIiYqSk5SVlpeYmZqio6Slpqeoqaqys7S1tre4ubrCw8TFxsfIycrS09TV1tfY2dri4+Tl5ufo6ery8/T19vf4+fr/2gAMAwEAAhEDEQA/APpGiiigAooooAKKKKACiiigAooooAKKKKACiiigAooooAKKKKACiiigAooooAKKKKACiiigAooooAKKKKACiiigAooooAKKKKACiiigAooooAKKKKACiiigAooooAKKKKACiiigAooooAKKKKACiiigAooooAKKKKACiiigAooooAKKKKACiiigAooooAKKKKACiiigAooooAKKKKACiiigAooooAKKKKACiiigAooooAKKKKACiiigAooooAKKKKACiiigAooooAKKKKACiiigAooooAKKKKACiiigAooooAKKKKACiiigAooooAKKKKACiiigAooooAKKKKACiiigAooooAKKKKACiiigAooooAKKKKACiiigAooooAKKKKACiiigAooooAKKKKACiiigAooooAKKKKACiiigAooooAKKKKACiiigAooooAKKKKACiiigAooooAKKKKACiiigAooooAKKKKACiiigAooooAKKKKACiiigAooooAKKKKACiiigAooooAKKKKACiiigAooooAKKKKACiiigAooooAKKKKACiiigAooooAKKKKACiiigAooooAKKKKACiiigAooooAKKKKACiiigAooooAKKKKACiiigAooooAKKKKACiiigAooooAKKKKACiiigAooooAKKKKACiiigAooooAKKKKACiiigAooooAKKKKACiiigAooooAKKKKACiiigAooooAKKKKACiiigAooooAKKKKACiiigAooooAKKKKACiiigAooooAKKKKACiiigAooooAKKKKACiiigAooooAKKKKACiiigAooooAKKKKACiiigAooooAKKKKACiiigAooooAKKKKACiiigAooooAKKKKACiiigAooooAKKKKACiiigAooooAKKKKACiiigAooooAKKKKACiiigAooooAKKKKACiiigAooooAKKKKACiiigAooooAKKKKACiiigAooooAKKKKACiiigAoorD8Wa9c+HtLguLGyW9nuLuK2SJpfLGXOM5waANyiuT/tjxt/0K1l/4Mx/8TR/bHjb/oVrL/wZj/4mgDrKK5P+2PG3/QrWX/gzH/xNH9seNv8AoVrL/wAGY/8AiaAOsork/wC2PG3/AEK1l/4Mx/8AE0f2x42/6Fay/wDBmP8A4mgDrKK5P+2PG3/QrWX/AIMx/wDE0f2x42/6Fay/8GY/+JoA6yiuT/tjxt/0K1l/4Mx/8TR/bHjb/oVrL/wZj/4mgDrKK5P+2PG3/QrWX/gzH/xNH9seNv8AoVrL/wAGY/8AiaAOsork/wC2PG3/AEK1l/4Mx/8AE0f2x42/6Fay/wDBmP8A4mgDrKK5P+2PG3/QrWX/AIMx/wDE0f2x42/6Fay/8GY/+JoA6yiuT/tjxt/0K1l/4Mx/8TR/bHjb/oVrL/wZj/4mgDrKK5P+2PG3/QrWX/gzH/xNH9seNv8AoVrL/wAGY/8AiaAOsork/wC2PG3/AEK1l/4Mx/8AE0f2x42/6Fay/wDBmP8A4mgDrKK5P+2PG3/QrWX/AIMx/wDE0f2x42/6Fay/8GY/+JoA6yiuT/tjxt/0K1l/4Mx/8TR/bHjb/oVrL/wZj/4mgDrKK5P+2PG3/QrWX/gzH/xNH9seNv8AoVrL/wAGY/8AiaAOsork/wC2PG3/AEK1l/4Mx/8AE0f2x42/6Fay/wDBmP8A4mgDrKK5P+2PG3/QrWX/AIMx/wDE0f2x42/6Fay/8GY/+JoA6yiuT/tjxt/0K1l/4Mx/8TR/bHjb/oVrL/wZj/4mgDrKK5P+2PG3/QrWX/gzH/xNH9seNv8AoVrL/wAGY/8AiaAOsork/wC2PG3/AEK1l/4Mx/8AE0f2x42/6Fay/wDBmP8A4mgDrKK5P+2PG3/QrWX/AIMx/wDE0f2x42/6Fay/8GY/+JoA6yiuT/tjxt/0K1l/4Mx/8TR/bHjb/oVrL/wZj/4mgDrKK5P+2PG3/QrWX/gzH/xNH9seNv8AoVrL/wAGY/8AiaAOsork/wC2PG3/AEK1l/4Mx/8AE0f2x42/6Fay/wDBmP8A4mgDrKK5P+2PG3/QrWX/AIMx/wDE0f2x42/6Fay/8GY/+JoA6yiuT/tjxt/0K1l/4Mx/8TR/bHjb/oVrL/wZj/4mgDrKK5P+2PG3/QrWX/gzH/xNH9seNv8AoVrL/wAGY/8AiaAOsork/wC2PG3/AEK1l/4Mx/8AE0f2x42/6Fay/wDBmP8A4mgDrKK5P+2PG3/QrWX/AIMx/wDE0f2x42/6Fay/8GY/+JoA6yiuT/tjxt/0K1l/4Mx/8TR/bHjb/oVrL/wZj/4mgDrKK5P+2PG3/QrWX/gzH/xNH9seNv8AoVrL/wAGY/8AiaAOsork/wC2PG3/AEK1l/4Mx/8AE0f2x42/6Fay/wDBmP8A4mgDrKK5XSfE2szeK00XXNFhsWktGuUkiuxLkKwXGMD1rqqACiiigAooooAKKKKACiiigAooooAKKKKACiiigAooooAKKKKACiiigAooooAKKKKACuU8f/8AIP0f/sM2v/oddXXKeP8A/kH6P/2GbX/0OgDq6KKKACiiigAooooAKKKKACiiigBkkqRDMjhR7mnKwdcqQR6iuL8b2d/PPE8Ad4AMBV7Gtvwpb3VtoaJegh8kgE847Vq6aUFK5Ck3KxtUUUVkWFFFY194p0+wvfs0zkvnDYH3aqMXJ2Qm0tzZopkMqTwrJGdysMgin1IwooooAKKKKACiiigAooooAKKKKACiiigAooooAKKKKACiiigAooooAKKKKACiiigAooooAKKKKACiiigAooooAKKKKACiiigAooooAKKKKACiiigAooooA5O5/wCSu2H/AGB5f/Rq11lcnc/8ldsP+wPL/wCjVrrKACiiigAooooAKKKKACiiigAooooAKKKKACiiigAooooAKKKKACiiigAooooAKKKKACuU8f8A/IP0f/sM2v8A6HXV1ynj/wD5B+j/APYZtf8A0OgDq6KKDwDQAUV5vf8AiDVo9ekVGYBJCqx46jNeiW7s9tGzjDMoJFazpuCTfUiMlIkooorIsKKKKAOc8Yard6bZJ9kBXecF8dKb4N1W71Ozl+2Hd5bYVsV0E9tFdRmOeNXU9iKLe2htY9lvGsa+iiteePs+W2pHK+a9yUjPWiikJCjJOBWRYtFV4r+2mnaGOZWkXqtWKdmgCuQ1jwZJqGrNdRThVkYFgR0rr6wdX8V2mk3Yt3VpH/i29q0pOal7hEuW3vGtY2q2NjFbIcrGu0ZqxUFldx39nHcw/ckGRmp6zd76lLYKKKKQwooooAKKKKACiiigAooooAKKKKACiiigAooooAKKKKACiiigAooooAKKKKACiiigAooooAKKKKACiiigAooooAKKKKACiiigAooooAKKKKACiiigDk7n/krth/2B5f8A0atdZXJ3P/JXbD/sDy/+jVrrKACiiigAooooAKKKKACiiigAooooAKKKKACiiigAooooAKKKKACiiigAooooAKyte0q51W3jjttVutMVG3PJbMAxHpkg1q1yvj238S3ujJaeFYYneZ9twzz+UVj77T69KAIvAWoXt0NVtrq8kv4LO8aGC7lOWkUAdT0PXqKzvHPiTTp7zSdJjab7WusWxIMDhcB/72MfrXQ+ELW90/R0s7zSINMSEbUSG4Eu73JAFU/H/wDyD9H/AOwza/8AodAHV0UUUAQNZWzziZoUMg6Njmp6KKLgFFFFABRRRQAVGbiIPtLjP1pznCEk4rzK/wBTv4/EDAEqRJwmODW1Kn7S5Epcp6bJKkS7pHVV9ScVyfjO7uzbQ/2e7NC2d5j5qr4pu5NStooLBmd4mxLGnJqDSU1Gy01pJkkAVWYK4OAB1yK1p0+VKb+4iUr6FOLUX0yC0uLtGluT88ZPG1eRg13WiasmsaeLhFKnOCD2NcDb3KawzrqSM4hBIkU42rnpW94f1yCxtkjkhS1tW+4Wkyx96utC621FCVn5HY1zWt+EY9VvRcxyeWx++PWuiimSeISRMGRhkEd6fXJGUoO6NmlJalbT7JNPsYraIkrGuAT3qzRVDWdUXSdOe5ZdxHCr6mlrJhokX6K5vw54pbWbp4JYRGyruBBrpKJRcHZgmmroKKKKkYUUUUAFFFFABRRRQAUUUUAFFFFABRRRQAUUUUAFFFFABRRRQAUUUUAFFFFABRRRQAUUUUAFFFFABRRRQAUUUUAFFFFABRRRQAUUUUAFFFFAHJ3P/JXbD/sDy/8Ao1a6yuTuf+Su2H/YHl/9GrXWUAFFFFABRRRQAUUUUAFFFFABRRRQAUUUUAFFFFABRRRQAUUUUAFFFFABRRRQAUUUUAFcp4//AOQfo/8A2GbX/wBDrq65Tx//AMg/R/8AsM2v/odAHV0UUUAFFFFABRRRQAUUUUAc74yjvJNIH2LdgMC+w84rP8KWl3c2kxvoxjGI2dRu+ua7IgEYIyK5PVPGS6dqptI7fKRnDn1+ldFOUpR5IozkknzMoWHg7UItU8yacLGDksrHJrtVtlFt5J+YEYJI60Wlyl3axzx/dkXIqaoqVJTepUYpLQ5iHw5d/wBoN580Ztc8qqAFh6HisjxH4bc3kS2Tp5aRhAhPIHrXfVy3ifw1cardrc2kuGwFKk1pTqvn1diJRVtDT8N2/wBl0dIvOEuCckHOD6VrVmaBpb6TpSW0j72BJJ+tadYzd5M0jsFV76yh1C1a3uF3I3WrFFSnbVDMnR/Dtpo8jyQZZ243HsK1qKKJScndiSS2CiiikMKKKKACiiigAooooAKKKKACiiigAooooAKKKKACiiigAooooAKKKKACiiigAooooAKKKKACiiigAooooAKKKKACiiigAooooAKKKKACiiigDk7n/krth/2B5f8A0atdZXJ3P/JXbD/sDy/+jVrrKACiiigAooooAKKKKACiiigAooooAKKKKACiiigAooooAKKKKACiiigAooooAKKKyfEHiG28O2kUtxFLPLPJ5UEEIBeV8Z2gHvgGgDWrlPH/APyD9H/7DNr/AOh1qeHvEdv4ht5migmtZreQxzW9wAHjYdiAT61l+P8A/kH6P/2GbX/0OgDq6KKKACiiigAooooAKKKKACsG/wDCVhf6h9qk3BmOWAPWt6iqjJxd0JpPcZDCkEKxRDaqjAAp9FI3KnHWpGM+0w+d5XmLv/u55qSvOL6LUtNhup3Egmebbv6/JjPFbngm9vrqGVbrc0S/ddvX0rolRtHmTM1O7sdXRRRXOaBRRRQAUUUUAFFFFABRRRQAUUUUAFFFFABRRTJp47eFpZmCIoySe1AD6Kp2Wq2eolhZzrKV67T0q5Taa0YbhVe+vYtPtHuJz8qjt3qxVTU7BNSsXt3Yru6EdqFa+pUOXmXNsVNI8QW+rSNHGCki84PcVrVzNppUHhiKW+uJTIcYAq3o/iSLVbgwCMo+CR7iqlHrHY6atFNudFe6jboooqDkCiiigAooooAKKKKACiiigAooooAKKKKACiiigAooooAKKKKACiiigAooooAKKKKAOTuf+Su2H/YHl/8ARq11lcnc/wDJXbD/ALA8v/o1a6ygAooooAKKKKACiiigAooooAKKKKACiiigAooooAKKKKACiiigAooooAKKKKACuK8butr4l8NXl0dtrHehWdvuodrck9vrXa1XvbC01K1a21C2iuYG+9HKoZT+BoA5Hwk63njbxBfWjB7QuIg6nKs4OSQe/BHNVfHOizxXmk6g2sX0kZ1i2H2NnXyh8/XGM/rXb2GnWel2ottOtYrWEdI4kCqPwFc74/8A+Qfo/wD2GbX/ANDoA6uiiigAooooAKKKKACiiigAooooAKKKKAGvGki7XUMPQikjiSJdsSBR6AU+igAooooAKKKKACiiigAooooAKKKKACiiigAooooAKy/EOny6lo8kEDYc8gevtWpRTi3F3Qmrqxx3hDQL3Tb2We8XywV2hc9a7HI9aqXmpWtjhbiZEdh8oJ61xM19qba/hJJeZOFBOCM/yrWXNVfMzfDYf2l0nax3N9exWFq082dq+gqppWu22rF1hyrryVPpXL+IdWvF1LyGwEVVOwjIJxzVyxmsdCuPtNyzLJcIP3ar90f5FLk906/qqVK71k9rHTahYx6hZtbzfdb9KzdH8OQaVcGdZC74IHsKsahfu2hvdWHzllyD6CuYh1+40gBZi9xLINzbm4UGlFSasiKNOtKm4xfyO6oqha6vbzadFdTOsKyDjccVdjkSWMPGwZWGQR3qLNHHKMo7odRRRSJCiiigAooooAKKKKACiiigAooooAKKKKACiiigAooooAKKKKACiiigAooooA5O5/5K7Yf9geX/ANGrXWVydz/yV2w/7A8v/o1a6ygAooooAKKKKACiiigAooooAKKKKACiiigAooooAKKKKACiiigAooooAKKKKACiiigArlPH/wDyD9H/AOwza/8AoddXXKeP/wDkH6P/ANhm1/8AQ6AOrooooAKKKKACiiigAooooAKKKKACiiigAooooAKKKKACiiigAooooAKKKKACiiigAooooAKKKKACiiigDjvF2gXuo30VxaDeoXaR6c1uaFpbWOmxJdbXnXqxGSPbNatZuqa5baVtE2SzdFFa+0lKKgFOm5T9zdluWytppA8sKMw7kVga94Zl1G8Wa2dV4wwY1vWN7DqFqs9ucoasVCk4s3hVqUZXW6KNjpwtNKWzLZwuCaz7jwvDdlWuJSzL/EABkelb1FHM1qKNapFuSepx/iPQ7nbbpp8bPDGu3Yp6HPWtrw3Z3FlpKx3Wd5JOCeg9K1qKbk2rFzxE501TYUUUVBzBRRRQAUUUUAFFFFABRRRQAUUUUABOATXI3HjKSPVDAkCmIPtyTzXXVjS+GLCbUPtbKd2clexNc9eNWSXs3Y7MLOhFv26vpoa8biSNXHRhmnUAYAA6Cqd1qtnZzLFPMqu3QVs5KKvJnNGMpu0VcuUUisHUMpyD0IpaogKKKKACiiigAooooA5O5/5K7Yf9geX/ANGrXWVydz/yV2w/7A8v/o1a6ygAooooAKKKKACiiigAooooAKKKKACiiigAooooAKKKKACiiigAooooAKKKbK5jhdwjOVUkIvVvYUAOrMvPEuiafeC0vtVtLe4P/LKSYK35GsU+Nr4Ej/hDdePv5Kf/ABVUvGVxpraMUOlK+saoAkFvJGDKG+vbAHY0AdyCGUFTkHoRXK+P/wDkH6P/ANhm1/8AQ629AsZtN0Czs7mQyywxBXcnOTXH+OZNeN5pKT29iNM/ti22yLIxlzv44xigD0CiiigAooooAKKKKACiiigAooooAKKKKACiiigAooooAKKKKACiiigAooooAKKKKACiiigAooooAKKKKACsHXvDn9rTLNFJscDBz3Fb1FNNp3RpTqSpy5o7lDR9NGl6etvu3kEkmr9VtQv4tOtGnnPyjoB3rnNU8QlJIXjkdFkXKqoHTPU1Si5M0jSqV5c3c6skAZJwKoT63Z212tvK5Vm6MRx+dcfq2s37XUfkyt5e0FOPve9TX7ta2Immh3vLtZd38PHJqlT7nTHB2tzvc7oEMARyDRWH4Z1aXU7RxMoDRnGR3rcrNqzscVSm6cnFhRRRSMwooooAKKKKACiiigAooooAKKKKACigkDqa53xNr82lNHFbKCzjJY9qzqVI0480jajRnWmoQ3OirjNe8N397q7z24VkfHVsYre8P6o+q6aJpVCuGIOO9WLrWLGymEVzcKjnsaxqRpV6acnodNCVfC1moK8tu4/TbZrPT4YHbcyLgmrVNR1dA6kFSMg06umKSVkcUm5SbYUUUUyQooooAKKKKAOTuf8Akrth/wBgeX/0atdZXJ3P/JXbD/sDy/8Ao1a6ygAooooAKKKKACiiigAooooAKKKKACiiigAooooAKKKKACiiigAooooAKKKKACuQ1P4fx6j4ofXY9c1S0uWTYqwSKFReOACp9M119FAENpA1rZxQPPJcMi4Mspyz+5rmvH//ACD9H/7DNr/6HXV1ynj/AP5B+j/9hm1/9DoA6uiiigAooooAKKKKACiiigAooooAKKKKACiiigAooooAKKKKACiiigAooooAKKKKACiiigAooooAKKKKACiiigClq2mpqli0DnbzkH0NYp8I+fbRR3E/zRDapX0zmunpnmx79m9d3pmqUmtjenXqQVosxpDpuj28VpJteVR+73DJJrmY7+7vtU+y3aGeJ5MeWw+7z2rb8Q+Hbm/v1urRxuwAQTjGO9aEFvbaNp4nvSrSoPmkxyfatE0lfdnbCpThDmXvSf4MvWNhb2EOy2jEYPJx3NWaz9N1q01TcLVjleoIwa0Kyd76nnVFNS9/cKKKKRAUUUUAFFFFABRRRQAUUUUAFFFFAHD+KrrUo9VCRGRYgAU2DrW7aaemr6LbHVY98oXJLdRWw8UcmN6K2OmRVHUtSNpG8cETPIEyMDgVx+xUJSnN3T6HpfWJVYQpU42a6lq0s4LGAQ2yBEHYVyfiLw7d3OqNcwkNG+M8/dxTPD2v6hdawIZ23o+cjHSu1dQ6FW5BGDSSp4qlZKyQ5OtgK927to4S71aePRIoNPlf9y5RnXqeOtbXhG7vbmzf7YWZVPyu3U1NaeF7W0vHlR3KN/yzJ4P1rajiSJAsahVHYClRo1VPnm/kVicTQlTdOnG99blO/wBYs9NZRdy7C3QYzVm3uI7qBZoG3IwyDXOeJvD1zqd0k9qQSBgqxxWxomntpumJBI25h1rWE6rquLXunPUpUFQjOMvee6NCkLqGwWAPpmlPTivPdTOr/wButjzt275NucY9qdet7FJ2uLC4b6xJrmtY9CoqODd5CeZ97HNSV0HI9HY5O5/5K7Yf9geX/wBGrXWVydz/AMldsP8AsDy/+jVrrKBBRRRQAUUUUAFFFFABRRRQAUUUUAFFFFABRRRQAUUUUAFFFISFUk9AMmgBaKp2Or2GpLmyu4Zj3VXG4fUdRVygAooooAKKKKACuU8f/wDIP0f/ALDNr/6HXV1ynj//AJB+j/8AYZtf/Q6AOrooooAKKKKACiiigAooooAKKKKACiiigAooooAKKKKACiiigAooooAKKKKACiiigAooooAKKKKACiiigAooooARs7TjrivPhZat/bf3Zd3mZ3Z4xXoVGBnOOauMuU6aFd0b2V7iLnaM9az9b0w6ppzQK21s5X61o0VKdncwjJwkpI57w54fm0qaSa4dSzDaAvTFdDRRQ227sqpUlVlzS3CiiikZhRRRQAUUUUAFFFFABRRRQAUUjMFUljgDqTUUN5bzsVhmRyOwNK62Gk2romPSvO9Qi1M+IWGJCWk+XB4Ir0SkKKWyVGfXFYV6Ptkle1jrwuK+rtvlvc5vV5RoWmrPbwILmThnA6VJ4W1q41SORLoZZDww71N4k5t0RkDIT/EpYfkKb4btfKheQKiBuiopA/WsEpLEJRenY6m4SwjlJe83ubtFFFd55IUVBcXsFrC0k0gCr1xziktL2C+h8y2cOvtU8yva+pfJLl5raFimlFLbioJ9cU6iqICiiigDk7n/AJK7Yf8AYHl/9GrXWVydz/yV2w/7A8v/AKNWusoAKKKKACiiigAooooAKKKKACiiigAooooAKKKKACiiigApH4jbjPHT1paKAPLLrwdq3iO++0aZZJ4VTfu+020n7yXn+JQAf1rsvDNrr9hc3dnrd0l7bRKhtrkJtZs53AjnpxzXQ0UAFFFNljWaF4nztdSrYOOD70AOrhPiT4w1Hw/pkieHfLa+iQTytIu5Y49wU8euSOKvH4aeHCSTHe8/9P8AN/8AFVzHjH4a6mND1uXw/rd67XkaAWAhSTdjaNoZvm7Z60Aen2kjS2cUj/eZATiuL8d63pcr6Rp8V/bveLrFqTbiQFwN/p1rqtEtLix0S1t725e6njjAeV1Clj7gcVznj2xtEh0i4S1hWc6xagyiMBvv+vWgDsqKKKACiiigAooooAKKKKACiiigAooooAKKKKACiiigAooooAKKKKACiiigAooooAKKKKACiiigAooqjrN1JZ6VNNCMuo49qa1ZUYuUlFF6iuR8M65fXuoNDcsZFI64+7XXU5RcXZmlajKjLlkFFFFSYhRRRQAUUUUAFFFFABRRRQAUUUUAFFFFACMwRSzHAHUmoIL+1uXKQTpIw6hWzio9VgkudMmigOHZTjFcr4Z0bULXVvNnjeJF65/irmqVZxqRio3TO2jQpzoynKVmuh1Or2811pc0Vu22Rhwa5bwvo1/a6t500ZjjUENnvXbUU6lCM6im+gqWLnSpSpJaMKKgvbpbKzkuHBIjXOBXOaR4tlv9TW2mhVVckKVNVOtCElGT1ZnTw1WrCU4rRHUlQwwwyPegAKMAYFLRWxzhVXUZGjsJTGwWQqQmT37Ut5qFrYKGu5VjDHAzXN+J1n1S3t59LLTRDOfLNYVqqjB21fY68NQdSpHm0XfoY2nQalc6p5c6ysjHEgbOCK6jwxpFxpkUpuTgu3Cg5FO8L2t3b6eTfAhmPyhuoFblc+Gw6SU3e5147GSlKVKNreXkFFFFd55IUUUUAcnc/wDJXbD/ALA8v/o1a6yuTuf+Su2H/YHl/wDRq11lABRRRQAUUUUAFFFFABRRRQAUUUUAFFFFABRRRQAUUUUAFFFFABRRRQAUUUUAFFFFABXKeP8A/kH6P/2GbX/0OurrlPH/APyD9H/7DNr/AOh0AdXRRRQAUUUUAFFFFABRRRQAUUUUAFFFFABRRRQAUUUUAFFFFABRRRQAUUUUAFFFFABRRRQAUUUUAFNdFkQo4DKeoNOooArWunWtkzG2hWMt1IFWaKKBuTk7sKKKKBBRRRQAUUUUAFFFFABRRRQAUUUUAFFFFABRRRQAUUUUAV7+SCKxle7/ANSF+b6VymhS6P8Ab5ZbaJxMoLIHOfyrqr+zW/sZbZzgSLjNYuj+E10698+WbzcD5RjGK460KkqsXFKx6WGqUY0Jqcmm+hl23i29l1hI2VfKeQLtxyBmu3ByAaoJolhHefaVgXzM56d6v1pQhUgn7R3McVVo1GvZRsc14q0W51Ixy2vzFeCmah0q+tvDtqLPUJf3zHcVAztzXV1yeteFJr/UzcQSALJ94HtWNalKEva0leR04avCrD6vXdoo6mKRJolkjOVYZBp9QWVsLOzjgBzsGM1PXar21PMlZSdtgooopkhRRRQBydz/AMldsP8AsDy/+jVrrK5O5/5K7Yf9geX/ANGrXWUAFFFFABRRRQAUUUUAFFFFABRRRQAUUUUAFFFFABRRRQAUUUUAFFFFABRRRQAUUVzmseLJLHVhpmlaVNq12E3yRwyKnlj3LcdxxQB0dcp4/wD+Qfo//YZtf/Q66WznkubOKaaBreR1y0TEEofTIrmvH/8AyD9H/wCwza/+h0AdS7rGpZzgDuah+3W3/PZaS8GZLcHoZOR+BqxtHoPyoAg+3W3/AD2Wj7dbf89lqfaPQflRtHoPyoAg+3W3/PZaPt1t/wA9lqfaPQflRtHoPyoAg+3W3/PZaPt1t/z2Wp9o9B+VVtRv7TSrJru+cRwoQC23OMnFADvt1t/z2Wj7dbf89lqSCSK4t45ocNHIoZTjqDT9o9B+VAEH262/57LR9utv+ey0kt5awXkFrK6rNPny0PVsDJ/SrG0eg/KgCD7dbf8APZacl3BI21JAT6VLtHoPyqtfKBArAYIdcH8aALVFFFABRRRQAUUUUAFFFFABRRRQAUUUUAFFFFABRRRQAUUUUAFFFFABRRRQAUUUUAFFFFABRRRQAUUUUAFFFFABRRRQAUUUUAFFFFABRRRQAUUUUAFFFFABRRRQAUUUUAcnc/8AJXbD/sDy/wDo1a6yuTuf+Su2H/YHl/8ARq11lABRRRQAUUUUAFFFFABRRRQAUUUUAFFFFABRRRQAUUUUAFFFFABRRRQAU2UO0LiJgkhUhWIztPY4p1FAHJHR/G+TjxVZAf8AYMH/AMVXF31h/Z/jXWpfEuvy2JnjWW2khlMAmZUUevPOeK9hqvcWFneMrXdpBOV+6ZYw2PzoAyfBN7fah4K0y61YEXksIMu5cHOT27Vzvjnw/BDeaTqa3l80jaxbDyWuWMQy/wDc6V36qEUKoCgdAB0rlfH/APyD9H/7DNr/AOh0AdFd/wCttv8Arr/Q1Zqtd/622/66/wBDVmgAooooAKKKKAKGuXctjod3c267pY4yVHvXmlzpAn+HMWvXGr313dXKo8itcsYSS3ZOgr1l0WRGRwGVhgg965lfh54cSV3W0lAc5Mf2h9g+i5wKAMbw/qU0Xii9guLp1to9NtnRGf5V/d8kCsC2Ou6x4J0a9S4vLq1V52uvs920czASuAQRyRjAxXoOo+CtD1Wa3lvLVi9ugjQpKyfL6HB56d6hk8A6BJpltp4tpo7a1yIkjuZExkknJB55J60AcG9lpviPxJ4OmtL/AFZYXE6BnuWWQbY88nrn19aZe/8ACVa/rWqw6SkxOn7YoG/tQwbMZAZ0x82cZ5r0S48E6Fc6fZ2Uloyw2JzBslZWU9/mByaZqHgTQdTnWa5t5hIqBN0Vw8ZYAYGdpGfxoA5YWeqaz8QLLTtV1K6to49I82aKzuCoaQSgZyPavQLxdlmqgkgOoyTk9ait9DsLXUkv4YSLlLf7OHLE/u85x+Yqe/8A+PYf76/zoAs0UUUAFFFFABRRRQAUUUUAFFFFABRRRQAUUUUAFFFFABRRRQAUUUUAFFFFABRRRQAUUUUAFFFFABRRRQAUUUUAFFFFABRRRQAUUUUAFFFFABRRRQAUUUUAFFFFABRRRQBydz/yV2w/7A8v/o1a6yuTuf8Akrth/wBgeX/0atdZQAUUUUAFFFFABRRRQAUUUUAFFFFABRRRQAUUUUAFFFFABRRRQAUUUUAFFFFABRRRQAVynj//AJB+j/8AYZtf/Q66uuU8f/8AIP0f/sM2v/odAHRXf+ttv+uv9DVmq13/AK22/wCuv9DVmgBskiRRl5GCqoySaoW2v6beXHkQXKtJ6EEVX8VQT3GgSpagl9wJA7jvXnem21zNqUSWyt5gbt2oPPxGKnSqKEY3ueu0Ui/dGfSloPQGTSrBC8shwqKWJ9hXI6V8Qo9SvrRJdKuLWxvyws72R1KzYGeg5H410WuW8l1oN5DD994iBXmFpqNtrHh7wnotg6nUYHBntwfnt9uCdw/h6UAevUUUUAFFFFABVa//AOPYf76/zqzVa/8A+PYf76/zoAs0UUUAFFFFABRRRQAUUUUAFFFFABRRRQAUUUUAFFFFABRRRQAUUUUAFFFFABRRRQAUUUUAFFFFABRRRQAUUUUAFFFFABRVTUdTttMt/Ou32r2Hc0mm6ra6rB5to+QOoPBFBHPHm5b6lyiiigsKKwdf8SrosiRrF5rtyRnGKv6Nqi6tYLcKu0k4K+lBkq0HN009UX6KKKDUKKKKACiiigAooooA5O5/5K7Yf9geX/0atdZXJ3P/ACV2w/7A8v8A6NWusoAKKKKACiiigAooooAKKKKACiiigAooooAKKKKACiiigAooooAKKKKACiimyyLDC8r52opZsDPAoAdTHmjjOHkVT6FgK5U/Evw4CQZL3j/pwm/+JrhfEz/2v4j1W5h0iXX4VhUxMH8s2HCnBDYJ9fxoA9nBz0rlPH//ACD9H/7DNr/6HWh4Ml8/wZpcn2v7ZugB8/H3/eua8c6pqMl5pNnJos0doNYtiL0zIVJ39Nuc0Advd/622/66/wBDVmq13/rbb/rr/Q1ZoACMjB5qNLeGNtyRRq3qFANNu7uKytnnnbaijmsSy8YWd3eCAxvFuOAzHg1lKrCDUZPVm0MPVqxc4xukdDRRRWpiFV4tPsoLhp4bSCOZvvSJEAx/HGabqRvF02c6Z5f2sL+680ZXPvWF4G1vVNa0+/GuC3+12V69sxtlKowUA5wST3oA6eiiigAooooAKrX/APx7D/fX+dWarX//AB7D/fX+dAFmiiigAooooAKKKKACiiigAooooAKKKKACiiigAooooAKKKKACiiigAooooAKKKKACiiigAooooAKKKM0AFFFFABRRTS6qQGZQT0BNAGN4m0STWbSNYHCvG2RnoaZ4Y0GTRoZDcOGkk6hTwK3WOEJHOBXAv4j1M+IjGrkRiTb5Z6YzQcNb2NGoqslqzv6Kw7bxXY3F+LQEhydobsTW5QdcKkJq8XcyNa8PW+s7WkYxuvRlFXNN06LTLNbeD7o7nvVuigSpQU+dLUKKKKDQKKKKACiiigAooooA5O5/5K7Yf9geX/0atdZXJ3P/ACV2w/7A8v8A6NWusoAKKKKACiiigAooooAKKKKACiiigAooooAKKKKACiiigAooooAKKKKACiiigArjtR8Gakda1C+0HWV09dTwbuN4PM3kKFBByMcDFdjRQBn6Fo8GgaFaaVaZMNrHsTPXFYnj/wD5B+j/APYZtf8A0OurrlPH/wDyD9H/AOwza/8AodAHRXf+ttv+uv8AQ1Zqtd/622/66/0NWaAMzxDYSalo7wQ/fyGHviuI0/w9qE1+iPA8Sq3LsMCvSqK5K2FhVmps9DD4+ph6bpxW4gGFA9qWiius88r392tjp81y8csqxrkpChdz9AOtcN8NtWMt5rVvNpmp2jXOoSXMbXVo0alCABye/B4r0GigAooooAKKKKACq1//AMew/wB9f51Zqtf/APHsP99f50AWaKKKACiiigAooooAKKKKACiiigAooooAKKKKACiiigAooooAKKKKACiiigAooooAKKKKACiiigAP3TivOdQ1fVE8SOqySDbJtWMZwRn0r0asGbXNHTVvIkVDMDgvtHB9M0HHio8yXvcuptQM728bSDDlQSPepKQEFQR0I4paDrWwV594jGqf2+3l+ftyPL2Zx+FdXL4k06G/+yNMN+dpPYH0q3d31laqr3UkabvulqDkrxhXjZStY4fVPEGp2uq+SrlViIAGPvV11pYW17ZpdT2qJPKnzHbyCRVr7JZXjLceVHIeobFWwABgDAoClQlGTc5XT2ORtfBRg1Zbhp8xK+4Ljr7V1XnRBxH5i78cLnmntkqdvXHFecT6frB8QElZmPmA7geCKCJ8uES9nG92ekVgeKtZuNJtY/soAdz94jIFbqAiNd3XHNQXthb6hD5V1GHWg6qsZSg1B2Zk+FdZuNWtJDdAF0ONwGAa36r2Vhb6fB5VrGEWrFAUoyjBKbuwooooNQooooAKKKKAOTuf+Su2H/YHl/8ARq11lcnc/wDJXbD/ALA8v/o1a6ygAooooAKKKKACiiigAooooAKKKKACiiigAooooAKKKKACiiigAooooAKKKKACiiigArlPH/8AyD9H/wCwza/+h11dcp4//wCQfo//AGGbX/0OgDorv/W23/XX+hqzVa7/ANbbf9df6GrNAFLV9STSdOe6kGQvAHqa5TT/AB5NLfKl5CiwscAqORXU61pi6vpb2rNtJO5T7iuP0/wNeLfq16UWFWzlWyTXVS9lyPn3Mp899DvwcjNFAGABRXKajJ0aSB0jcozDAYdq4Fl1Tw74x0ezj1+91U3rSC4t7lgwjULkMMAY59fSu8uTMtrIbVQ8wU7FY4BPbmuA8IaZ4ss9cm1DxFoto93dMfNu1vg3lp2VVx069+9AHolFFFABRRRQAVWv/wDj2H++v86s1Wv/APj2H++v86ALNFFFABRRRQAUUUUAFFFFABRRRQAUUUUAFFFFABRRRQAUUUUAFFFFABRRRQAUUUUAFFFFABRRRQAhGVI9RXB614fXTruXUbqXdAZMhE+8STXe1S1bS4tWsWt5sgdQR2NBzYiiqsNtVsUPD3iCDVUMMcbRtGAAGOcitwjIIrG0Lw7Do25g3mSN/ER2rZoLoe09mvabnF3fgy4n1h51mURPJvPHI5pfFGgX11NAbNTKiJtxnpXZ0UGLwdJxcV1OSW5vvD2h21usfmXEh6N0StnRNRnvrc/a0VJl67GBFReJ7Se60hxaAmQdh1Irn/CMc+myzTX5NvBjGJOMn8aDLmlRrqGvLY7mjA9Kz49bspbpIEkyX+43Zvoa0M0HfGUZbMKKqahqdrpkIku5NoPQdzTrG/t9QgEtq4df5UBzx5uW+pZooooKCiiigAooooAKKKKAOTuf+Su2H/YHl/8ARq11lcnc/wDJXbD/ALA8v/o1a6ygAooooAKKKKACiiigAooooAKKKKACiiigAooooAKKKKACiiigAooooAa8iRjMjKo9WOKjaeORWWKePeQQuGB5qvq2i6drtqLbV7RLqFW3BHzgH14rLtPAnhnTLlbuw0aCO4jyUZS2c/iaAMrw3d63D4/1fStW1Vr6CKKOWJWiVfL3AnHA5/Gsm/17xFdQaxr+nakYLPTJQsVl5alZxwG3MRkc56Va01/Ea/E2+1GfwvcRWV0kcAmNzGdoXI3EZzjnOKq3+g+IrWDWNA07TTPZ6nKGivfMULADgtuUnJ5z0oA9Gsbpb2xhuU+7KgYVxHjrxHpE9zpOlRX0bXy6xakwDO4AP9K7extVsrGG2T7sSBRXM+PooxZ6O4RQ39s2vzY5+/QB0l3/AK22/wCuv9DVmq13/rbb/rr/AENWaACis7XdQbTNKe4jGWyFHsTXHWHijUI75WnmaWNmwUNXGDkro6qOFqVYOcT0KigHKg0VByhTFmidsJIjH0DA050WSNkcZVhgj1ry2TTYdF+I2mRaboh0O382RTe+aGW8G3gYBJH4+tAHqdFFFABRRRQAVWv/APj2H++v86s1Wv8A/j2H++v86ALNFFFABRRRQAUUUUAFFFFABRRRQAUUUUAFFFFABRRRQAUUUUAFFFFABRRRQAUUUUAFFFFABRRRQAUUUUAFFFFABRRRQBDeK72cqxffKHFedy2OoXOl+S6yGWGQl1Y/ez0/lXpErBY2ywXjqTXBf2fqp1uRGQzQyscnPG096DzsbHma0fbQZpNm0cCpJIDPG4lEQPzADt+tO8PanqMviFVZ3aN2O8EdBWvoGjNZak8gtpI0wRvkYEn6Y7V0qQRRsWSNVY9SBQZ0cNJqLvaxheKdCn1iOI2zANGTw3Q1N4Z0WXR7N1ncNJI2SB0FbdFB3ewh7X2vUKKKKDcKKKKACiiigAooooA5O5/5K7Yf9geX/wBGrXWVydz/AMldsP8AsDy/+jVrrKACiiigAooooAKKKKACiiigAooooAKKKKACiiigAooooAKKKKACiiigAooooAKKKKACuU8f/wDIP0f/ALDNr/6HXV1ynj//AJB+j/8AYZtf/Q6AOiu/9bbf9df6GrNQ3ELSqpQ4ZG3Lmmbr3+5D/wB9GgBb6yiv7R7ecZVv0rCsvBsFteCaWYyqpyE24rc3Xv8Ach/76NG69/uQ/wDfRqlJpWRtCtUhFxi9GWelFVt17/ch/wC+jRuvf7kP/fRqTElnR5IHWJ/LcjCtjODXKR+EtXvdVtLnxJrcd/DZsXihhtfJ+YjqTk57V0269/uQ/wDfRo3Xv9yH/vo0AWaKrbr3+5D/AN9Gjde/3If++jQBZoqtuvf7kP8A30aN17/ch/76NAFmq1//AMew/wB9f50br3+5D/30aa8VxPtWby1QEE7STnFAFuiiigAooooAKKKKACiiigAooooAKKKKACiiigAooooAKKKKACiiigAooooAKKKKACiiigAooooAKKKKACiiigAooooA5Xxqt+0MP2TzDFn5gn9ateD1vF0k/bd/3vk39cVvkBhhgCPelAAGAMCg5lQtW9rf5BRRRQdIUUUUAFFFFABRRRQAUUUUAFFFFAHJ3P8AyV2w/wCwPL/6NWusrk7n/krth/2B5f8A0atdZQAUUUUAFFFFABRRRQAUUUUAFFFFABRRRQAUUUUAFFFFABRRRQAUUUUAFFFFABRRRQAVgeMNDvtd0q2h0q4gt7m2vIrpHuFLIdhzggc1v0UAcn9m8ff9BHQf/AaX/wCKo+zePv8AoI6D/wCA0v8A8VXWUUAcn9m8ff8AQR0H/wABpf8A4qj7N4+/6COg/wDgNL/8VXWUUAcn9m8ff9BHQf8AwGl/+Ko+zePv+gjoP/gNL/8AFV1lFAHn+san470i90q3e70OQ6jdfZlIt5PkO0tk/N/s1qfZvH3/AEEdB/8AAaX/AOKrSkvdA1jWYLQ31rPf2MnnpAsoLxtjGcde9Wr/AF7SdLnjh1LUba1llOESaUKW+gNAGH9m8ff9BHQf/AaX/wCKo+zePv8AoI6D/wCA0v8A8VXVqwdQykFSMgjvS0Acn9m8ff8AQR0H/wABpf8A4qj7N4+/6COg/wDgNL/8VXWUUAcn9m8ff9BHQf8AwGl/+Ko+zePv+gjoP/gNL/8AFV1lFAHJ/ZvH3/QR0H/wGl/+Ko+zePv+gjoP/gNL/wDFV1lFAHJ/ZvH3/QR0H/wGl/8AiqPs3j7/AKCOg/8AgNL/APFV1lFAHJ/ZvH3/AEEdB/8AAaX/AOKrNvr/AMd2OuaXpzXmhs2oGUK4t5cJsXdz83eu+rK1m40bT5rTUdauoLU27MIJZ5AgBYYPX2oAyPs3j7/oI6D/AOA0v/xVH2bx9/0EdB/8Bpf/AIqui0/VLHVrfz9Mu4buLON8Lhhn6irVAHJ/ZvH3/QR0H/wGl/8AiqPs3j7/AKCOg/8AgNL/APFV1lFAHJ/ZvH3/AEEdB/8AAaX/AOKo+zePv+gjoP8A4DS//FV1lFAHJ/ZvH3/QR0H/AMBpf/iqPs3j7/oI6D/4DS//ABVdZRQByf2bx9/0EdB/8Bpf/iqPs3j7/oI6D/4DS/8AxVdZRQByf2bx9/0EdB/8Bpf/AIqj7N4+/wCgjoP/AIDS/wDxVdZRQB59cap47g8WWehm70MvdWslwJPs8mFCFRj73+1Wr9m8ff8AQR0H/wABpf8A4qtFr7w9N4phzfWravDG0SReaPMCsQSMdewrboA5P7N4+/6COg/+A0v/AMVR9m8ff9BHQf8AwGl/+KrrKKAOT+zePv8AoI6D/wCA0v8A8VR9m8ff9BHQf/AaX/4qusooA5P7N4+/6COg/wDgNL/8VR9m8ff9BHQf/AaX/wCKrrKKAOT+zePv+gjoP/gNL/8AFUfZvH3/AEEdB/8AAaX/AOKrrKKAOT+zePv+gjoP/gNL/wDFUfZvH3/QR0H/AMBpf/iq6yigDk/s3j7/AKCOg/8AgNL/APFVmrqHjtvFT6L9s0PelmLrzPs8mMF9uPve1d9XPza34YtPEUj3Gq2MWphBbOjzqHAzkLj6mgCn9m8ff9BHQf8AwGl/+Ko+zePv+gjoP/gNL/8AFV1lFAHJ/ZvH3/QR0H/wGl/+Ko+zePv+gjoP/gNL/wDFV1lFAHJ/ZvH3/QR0H/wGl/8AiqPs3j7/AKCOg/8AgNL/APFV1lFAHJ/ZvH3/AEEdB/8AAaX/AOKo+zePv+gjoP8A4DS//FV1lFAHJ/ZvH3/QR0H/AMBpf/iqPs3j7/oI6D/4DS//ABVdZRQByf2bx9/0EdB/8Bpf/iqPs3j7/oI6D/4DS/8AxVdZWff69pOl3MVvqOo21rNMQI45ZQrPn0B60Acfa6l47uvE2oaOLvQ1eyiilMht5MNvzx97titT7N4+/wCgjoP/AIDS/wDxVal7d6FoOpSX+o3ltZXF4qoXmkC7wvQDP1rWjkSaNZImDowyrKcgigDlfs3j7/oI6D/4DS//ABVH2bx9/wBBHQf/AAGl/wDiq6yigDktK0DxD/wmMet6/e6fKsVm9skdpE6n5mDZO4n0rraKKACiiigAooooAKKKKACiiigAooooAKKKKACiiigAooooAKKKKACiiigAooooAKKKKACiiigAooooAKKKKAKmp3r6fp8lzFZ3F6yYxBbgF2+mSKwbfxlez3EcTeEdciDsAXeJNq+5+aupooA4OextbX4vafJbW6RPNpzM5CgEnzO9Ums7bVPEHi6bU40lkgtnji8wZ8tQCQR6HJ61s3vw/wDtviddcPiPWIp0XYkaSJsVc52j5emas614GtNY1N75b+8spJoxFcC2cAToM/K2QeOTQBN4Fmln8Faa0xLFYVUMepAAwa6GoLKzh0+xgtLVdkMEYjRR2AGBU9ABRRRQAUUUUAFFFFABRRRQBzup+KbvT9QktovDOr3qoeJ7eNCjfTLCsHxFbat40sbKSx0VrOW0uN5g1dQquOP7ufSvQKzNb0eXWIYkh1S801oyTvtGCs3scg0AZng7V/twvrC40630+8sZAs8VsuIzuyQR9QK6asfw/wCHLbw9BMsEs1zNcPvmuJyC8h7ZI+tbFABRRRQAUUUUAFFFFABRRRQAVFdO0dnM8f31jYr9cVLRQB47Da28Xw4XVolU6imrSyLPj5y4kfC5649vavXbZi9pEz/eKKT9cVy8Xw706HVFuEvLz7Ilx9qXT9w8gS5JLYxnOSe/eutAwAB0FABRRRQAUUUUAFFFFABRRRQAUUUUAFeYXmm6p4U17XdduNJ0zUNNu75Z975M8akKvAIx1Geten1y2o+CBqt5I97rmpyWkjh2sTIvk8YIGNucZGetAHSWtyl5aRXEPKSqGX6GpabFGkMSxxKFRRhVHYU6gAooooAKKKKACiiigAooooAK4T4q2Fq/h2O8eBGuEuYFWQrkqPNXoa7uuZ8XeC08XJHHcaxqNlChUmK1dQrEHIJyDznH5UAY/wBitdZ+KevW2rxpNBbWFv5CyDIXeG3kfkK0PhjcTXHgeFrhizLc3Eak/wB1ZWC/oBS3vgCG9ETtrOpR3SxmKS6SRRJOuMYY45/+vXRaZptvpGnRWVmu2KIYHue5PuaALdFFFABRRRQAUUUUAFFFFABRRRQAUUUUAFFFFABRRRQAUUUUAFFFFABRRRQAUUUUAFFFFABRRRQAUUUUAFFFFABRRRQAUUUUAFFFFABRRRQAUUUUAFFFFABRRRQAUUUUAFFFFABRRRQAUUUUAFFFFABRRRQAUUUUAQ3d7bWMBmvZ44IgQN8jBRzTVv7R757NLiNrlFDtCGG5VPQkenBrI8a3FnB4Vuxfxecsi7I4wMlnJGMfjg/hXKfCq2uNKlvdN8Rox19QJJJmyd8RztAPthqAPSqKKKACiiigAooooAKKKKACiiigAooooAKKKKACiiigAooooAKKKKACiiigAooooAKKKKACiiigAooooAKKKKACiiigAooooAKKKKACiiigAooooAKKKKACiiigAooooAKKKKACiiigAooooAKKKKACiiigAooooAKKKKACiiigAooooAKKKKACiiigAooooAKKKKACiiigAooooAKKKKACiiigAooooAKKKKACiiigBGVWGGUEe4o2ru3bRu6ZxzS0UAFFFFABRRRQAUUUUAFFFFABRRRQAUUUUAFFFFABRRRQAUUUUAFFFFABRRRQAUUUUAFFFFABRRRQAUUUUAFFFFABRRRQAUUUUAFFFFABRRRQAUUUUAFFFFABRRRQAUUUUAFFFFABRRRQAUUUUAFFFFABRRRQAUUUUAFFFFABRRRQAUUUUAFFFFABRRRQAUUUUAFFFFABRRRQAUUUUAFFFFABRRRQAUUUUAFFFFABRRRQAUUUUAFFFFABRRRQAUUUUAFFFFABRRRQAUUUUAFFFFABRRRQAUUUUAFFFFABRRRQAUUUUAFFFFABRRRQAUUUUAFFFFABRRRQAUUUUAFFFFABRRRQAUUUUAFFR+fH/e/Q0efH/e/Q0ASUVH58f979DR58f979DQBJRUfnx/3v0NHnx/3v0NAElFR+fH/e/Q0efH/e/Q0ASUVH58f979DR58f979DQBJRUfnx/3v0NHnx/3v0NAElFR+fH/e/Q0efH/e/Q0ASUVH58f979DR58f979DQBJRUfnx/3v0NHnx/3v0NAElFR+fH/e/Q0efH/e/Q0ASUVH58f979DR58f979DQBJRUfnx/3v0NHnx/3v0NAElFR+fH/e/Q0efH/e/Q0ASUVH58f979DR58f979DQBJRUfnx/3v0NHnx/3v0NAElFR+fH/e/Q0efH/e/Q0ASUVH58f979DR58f979DQBJRUfnx/3v0NHnx/3v0NAElFR+fH/e/Q0efH/e/Q0ASUVH58f979DR58f979DQBJRUfnx/3v0NHnx/3v0NAElFR+fH/e/Q0efH/e/Q0ASUVH58f979DR58f979DQBJRUfnx/3v0NHnx/3v0NAElFR+fH/e/Q0efH/e/Q0ASUVH58f979DR58f979DQBJRUfnx/3v0NHnx/3v0NAElFR+fH/e/Q0efH/e/Q0ASUVH58f979DR58f979DQBJRUfnx/3v0NHnx/3v0NAElFR+fH/e/Q0efH/e/Q0ASUVH58f979DR58f979DQBJRUfnx/3v0NHnx/3v0NAElFR+fH/e/Q0efH/e/Q0ASUVH58f979DR58f979DQBJRUfnx/3v0NHnx/3v0NAElFR+fH/e/Q0efH/e/Q0ASUVH58f979DR58f979DQBJRUfnx/3v0NHnx/3v0NAElFR+fH/e/Q0efH/e/Q0ASUVH58f979DR58f979DQBJRUfnx/3v0NHnx/3v0NAElFR+fH/e/Q0efH/e/Q0ASUVH58f979DR58f979DQBJRUfnx/3v0NHnx/3v0NAH/9k=)\n",
        "\n"
      ]
    },
    {
      "cell_type": "markdown",
      "metadata": {
        "id": "JUWy0RGKKyrX"
      },
      "source": [
        "4번째 실행결과\n",
        "> ![4.JPG](data:image/jpeg;base64,/9j/4AAQSkZJRgABAQEAkACQAAD/4RDuRXhpZgAATU0AKgAAAAgABAE7AAIAAAAMAAAISodpAAQAAAABAAAIVpydAAEAAAAYAAAQzuocAAcAAAgMAAAAPgAAAAAc6gAAAAgAAAAAAAAAAAAAAAAAAAAAAAAAAAAAAAAAAAAAAAAAAAAAAAAAAAAAAAAAAAAAAAAAAAAAAAAAAAAAAAAAAAAAAAAAAAAAAAAAAAAAAAAAAAAAAAAAAAAAAAAAAAAAAAAAAAAAAAAAAAAAAAAAAAAAAAAAAAAAAAAAAAAAAAAAAAAAAAAAAAAAAAAAAAAAAAAAAAAAAAAAAAAAAAAAAAAAAAAAAAAAAAAAAAAAAAAAAAAAAAAAAAAAAAAAAAAAAAAAAAAAAAAAAAAAAAAAAAAAAAAAAAAAAAAAAAAAAAAAAAAAAAAAAAAAAAAAAAAAAAAAAAAAAAAAAAAAAAAAAAAAAAAAAAAAAAAAAAAAAAAAAAAAAAAAAAAAAAAAAAAAAAAAAAAAAAAAAAAAAAAAAAAAAAAAAAAAAAAAAAAAAAAAAAAAAAAAAAAAAAAAAAAAAAAAAAAAAAAAAAAAAAAAAAAAAAAAAAAAAAAAAAAAAAAAAAAAAAAAAAAAAAAAAAAAAAAAAAAAAAAAAAAAAAAAAAAAAAAAAAAAAAAAAAAAAAAAAAAAAAAAAAAAAAAAAAAAAAAAAAAAAAAAAAAAAAAAAAAAAAAAAAAAAAAAAAAAAAAAAAAAAAAAAAAAAAAAAAAAAAAAAAAAAAAAAAAAAAAAAAAAAAAAAAAAAAAAAAAAAAAAAAAAAAAAAAAAAAAAAAAAAAAAAAAAAAAAAAAAAAAAAAAAAAAAAAAAAAAAAAAAAAAAAAAAAAAAAAAAAAAAAAAAAAAAAAAAAAAAAAAAAAAAAAAAAAAAAAAAAAAAAAAAAAAAAAAAAAAAAAAAAAAAAAAAAAAAAAAAAAAAAAAAAAAAAAAAAAAAAAAAAAAAAAAAAAAAAAAAAAAAAAAAAAAAAAAAAAAAAAAAAAAAAAAAAAAAAAAAAAAAAAAAAAAAAAAAAAAAAAAAAAAAAAAAAAAAAAAAAAAAAAAAAAAAAAAAAAAAAAAAAAAAAAAAAAAAAAAAAAAAAAAAAAAAAAAAAAAAAAAAAAAAAAAAAAAAAAAAAAAAAAAAAAAAAAAAAAAAAAAAAAAAAAAAAAAAAAAAAAAAAAAAAAAAAAAAAAAAAAAAAAAAAAAAAAAAAAAAAAAAAAAAAAAAAAAAAAAAAAAAAAAAAAAAAAAAAAAAAAAAAAAAAAAAAAAAAAAAAAAAAAAAAAAAAAAAAAAAAAAAAAAAAAAAAAAAAAAAAAAAAAAAAAAAAAAAAAAAAAAAAAAAAAAAAAAAAAAAAAAAAAAAAAAAAAAAAAAAAAAAAAAAAAAAAAAAAAAAAAAAAAAAAAAAAAAAAAAAAAAAAAAAAAAAAAAAAAAAAAAAAAAAAAAAAAAAAAAAAAAAAAAAAAAAAAAAAAAAAAAAAAAAAAAAAAAAAAAAAAAAAAAAAAAAAAAAAAAAAAAAAAAAAAAAAAAAAAAAAAAAAAAAAAAAAAAAAAAAAAAAAAAAAAAAAAAAAAAAAAAAAAAAAAAAAAAAAAAAAAAAAAAAAAAAAAAAAAAAAAAAAAAAAAAAAAAAAAAAAAAAAAAAAAAAAAAAAAAAAAAAAAAAAAAAAAAAAAAAAAAAAAAAAAAAAAAAAAAAAAAAAAAAAAAAAAAAAAAAAAAAAAAAAAAAAAAAAAAAAAAAAAAAAAAAAAAAAAAAAAAAAAAAAAAAAAAAAAAAAAAAAAAAAAAAAAAAAAAAAAAAAAAAAAAAAAAAAAAAAAAAAAAAAAAAAAAAAAAAAAAAAAAAAAAAAAAAAAAAAAAAAAAAAAAAAAAAAAAAAAAAAAAAAAAAAAAAAAAAAAAAAAAAAAAAAAAAAAAAAAAAAAAAAAAAAAAAAAAAAAAAAAAAAAAAAAAAAAAAAAAAAAAAAAAAAAAAAAAAAAAAAAAAAAAAAAAAAAAAAAAAAAAAAAAAAAAAAAAAAAAAAAAAAAAAAAAAAAAAAAAAAAAAAAAAAAAAAAAAAAAAAAAAAAAAAAAAAAAAAAAAAAAAAAAAAAAAAAAAAAAAAAAAAAAAAAAAAAAAAAAAAAAAAAAAAAAAAAAAAAAAAAAAAAAAAAAAAAAAAAAAAAAAAAAAAAAAAAAAAAAAAAAAAAAAAAAAAAAAAAAAAAAAAAAAAAAAAAAAAAAAAAAAAAAAAAAAAAAAAAAAAAAAAAAAAAAAAAAAAAAAAAAAAAAAAAAAAAAAAAAAAAAAAAAAAAAAAAAAAAAAAAAAAAAAAAAAAAAAAAAAAAAAAAAAAAAAAAAAAAAAAAAAAAAAAAAAAAAAAAAAAAAAAAAAAAAAAAAAAAAAAAAAAAAAAAAAAAAAAAAAAAAAAAAAAAAAAAAAAAAAAAAAAAAAAAAAAAAAAAAAAAAAAAAAAAAAAAAAAAAAAAAAAAAAAAAAAAAAAAAAAAAAAAAAAAAAAAAAAAAAAAAAAAAAAAAAAAAAAAAAAAAAAAAAAAAAAAAAAAAAAAAAAAAAAAAAAAAAAAAAAAAAAAAAAAAAAAAAAAAAAAAAAAAAAAAAAAAAAAAAAAAAAAAAAAAAAAAAAAAAAAAAAAAAAAAAAAAAAAAAAAAAAAAAAAAAAAAAAAAAAAAAAAAAAAAAAAAAAAAAAAAAAAAAAAAAAAAAAAAAAAAAAAAAAAAAAAAAAAAAAAAAAAAAAAAAAAAAAAAAAAAAAAAAAAAAAAAAAAAAAAAAAAAAAAAAAAAAAAAAAAAAAAAAAAAAAAAAAAAAAAAAAAAAAAAAAAAAAAAAAAAAAAAAAAAAAAAAAEppd29uIEh3YW5nAAAFkAMAAgAAABQAABCkkAQAAgAAABQAABC4kpEAAgAAAAM1MgAAkpIAAgAAAAM1MgAA6hwABwAACAwAAAiYAAAAABzqAAAACAAAAAAAAAAAAAAAAAAAAAAAAAAAAAAAAAAAAAAAAAAAAAAAAAAAAAAAAAAAAAAAAAAAAAAAAAAAAAAAAAAAAAAAAAAAAAAAAAAAAAAAAAAAAAAAAAAAAAAAAAAAAAAAAAAAAAAAAAAAAAAAAAAAAAAAAAAAAAAAAAAAAAAAAAAAAAAAAAAAAAAAAAAAAAAAAAAAAAAAAAAAAAAAAAAAAAAAAAAAAAAAAAAAAAAAAAAAAAAAAAAAAAAAAAAAAAAAAAAAAAAAAAAAAAAAAAAAAAAAAAAAAAAAAAAAAAAAAAAAAAAAAAAAAAAAAAAAAAAAAAAAAAAAAAAAAAAAAAAAAAAAAAAAAAAAAAAAAAAAAAAAAAAAAAAAAAAAAAAAAAAAAAAAAAAAAAAAAAAAAAAAAAAAAAAAAAAAAAAAAAAAAAAAAAAAAAAAAAAAAAAAAAAAAAAAAAAAAAAAAAAAAAAAAAAAAAAAAAAAAAAAAAAAAAAAAAAAAAAAAAAAAAAAAAAAAAAAAAAAAAAAAAAAAAAAAAAAAAAAAAAAAAAAAAAAAAAAAAAAAAAAAAAAAAAAAAAAAAAAAAAAAAAAAAAAAAAAAAAAAAAAAAAAAAAAAAAAAAAAAAAAAAAAAAAAAAAAAAAAAAAAAAAAAAAAAAAAAAAAAAAAAAAAAAAAAAAAAAAAAAAAAAAAAAAAAAAAAAAAAAAAAAAAAAAAAAAAAAAAAAAAAAAAAAAAAAAAAAAAAAAAAAAAAAAAAAAAAAAAAAAAAAAAAAAAAAAAAAAAAAAAAAAAAAAAAAAAAAAAAAAAAAAAAAAAAAAAAAAAAAAAAAAAAAAAAAAAAAAAAAAAAAAAAAAAAAAAAAAAAAAAAAAAAAAAAAAAAAAAAAAAAAAAAAAAAAAAAAAAAAAAAAAAAAAAAAAAAAAAAAAAAAAAAAAAAAAAAAAAAAAAAAAAAAAAAAAAAAAAAAAAAAAAAAAAAAAAAAAAAAAAAAAAAAAAAAAAAAAAAAAAAAAAAAAAAAAAAAAAAAAAAAAAAAAAAAAAAAAAAAAAAAAAAAAAAAAAAAAAAAAAAAAAAAAAAAAAAAAAAAAAAAAAAAAAAAAAAAAAAAAAAAAAAAAAAAAAAAAAAAAAAAAAAAAAAAAAAAAAAAAAAAAAAAAAAAAAAAAAAAAAAAAAAAAAAAAAAAAAAAAAAAAAAAAAAAAAAAAAAAAAAAAAAAAAAAAAAAAAAAAAAAAAAAAAAAAAAAAAAAAAAAAAAAAAAAAAAAAAAAAAAAAAAAAAAAAAAAAAAAAAAAAAAAAAAAAAAAAAAAAAAAAAAAAAAAAAAAAAAAAAAAAAAAAAAAAAAAAAAAAAAAAAAAAAAAAAAAAAAAAAAAAAAAAAAAAAAAAAAAAAAAAAAAAAAAAAAAAAAAAAAAAAAAAAAAAAAAAAAAAAAAAAAAAAAAAAAAAAAAAAAAAAAAAAAAAAAAAAAAAAAAAAAAAAAAAAAAAAAAAAAAAAAAAAAAAAAAAAAAAAAAAAAAAAAAAAAAAAAAAAAAAAAAAAAAAAAAAAAAAAAAAAAAAAAAAAAAAAAAAAAAAAAAAAAAAAAAAAAAAAAAAAAAAAAAAAAAAAAAAAAAAAAAAAAAAAAAAAAAAAAAAAAAAAAAAAAAAAAAAAAAAAAAAAAAAAAAAAAAAAAAAAAAAAAAAAAAAAAAAAAAAAAAAAAAAAAAAAAAAAAAAAAAAAAAAAAAAAAAAAAAAAAAAAAAAAAAAAAAAAAAAAAAAAAAAAAAAAAAAAAAAAAAAAAAAAAAAAAAAAAAAAAAAAAAAAAAAAAAAAAAAAAAAAAAAAAAAAAAAAAAAAAAAAAAAAAAAAAAAAAAAAAAAAAAAAAAAAAAAAAAAAAAAAAAAAAAAAAAAAAAAAAAAAAAAAAAAAAAAAAAAAAAAAAAAAAAAAAAAAAAAAAAAAAAAAAAAAAAAAAAAAAAAAAAAAAAAAAAAAAAAAAAAAAAAAAAAAAAAAAAAAAAAAAAAAAAAAAAAAAAAAAAAAAAAAAAAAAAAAAAAAAAAAAAAAAAAAAAAAAAAAAAAAAAAAAAAAAAAAAAAAAAAAAAAAAAAAAAAAAAAAAAAAAAAAAAAAAAAAAAAAAAAAAAAAAAAAAAAAAAAAAAAAAAAAAAAAAAAAAAAAAAAAAAAAAAAAAAAAAAAAAAAAAAAAAAAAAAAAAAAAAAAAAAAAAAAAAAAAAAAAAAAAAAAAAAAAAAAAAAAAAAAAAAAAAAAAAAAAAAAAAAAAAAAAAAAAAAAAAAAAAAAAAAAAAAAAAAAAAAAAAAAAAAAAAAAAAAAAAAAAAAAAAAAAAAAAAAAAAAAAAAAAAAAAAAAAAAAAAAAAAAAAAAAAAAAAAAAAAAAAAAAAAAAAAAAAAAAAAAAAAAAAAAAAAAAAAAAAAAAAAAAAAAAAAAAAAAAAAAAAAAAAAAAAAAAAAAAAAAAAAAAAAAAAAAAAAAAAAAAAAAAAAAAAAAAAAAAAAAAAAAAAAAAAAAAAAAAAAAAAAAAAAAAAAAAAAAAAAAAAAAAAAAAAAAAAAAAAAAAAAAAAAAAAAAAAAAAAAAAAAAAAAAAAAAAAAAAAAAAAAAAAAAAAAAAAAAAAAAAAAAAAAAAAAAAAAAAAAAAAAAAAAAAAAAAAAAAAAAAAAAAAAAAAAAAAAAAAAAAAAAAAAAAAAAAAAAAAAAAAAAAAAAAAAAAAAAAAAAAAAAAAAAAAAAAAAAAAAAAAAAAAAAAAAAAAMjAyMTowNToyOCAxMzoxMjoxOAAyMDIxOjA1OjI4IDEzOjEyOjE4AAAASgBpAHcAbwBuACAASAB3AGEAbgBnAAAA/+ELHmh0dHA6Ly9ucy5hZG9iZS5jb20veGFwLzEuMC8APD94cGFja2V0IGJlZ2luPSfvu78nIGlkPSdXNU0wTXBDZWhpSHpyZVN6TlRjemtjOWQnPz4NCjx4OnhtcG1ldGEgeG1sbnM6eD0iYWRvYmU6bnM6bWV0YS8iPjxyZGY6UkRGIHhtbG5zOnJkZj0iaHR0cDovL3d3dy53My5vcmcvMTk5OS8wMi8yMi1yZGYtc3ludGF4LW5zIyI+PHJkZjpEZXNjcmlwdGlvbiByZGY6YWJvdXQ9InV1aWQ6ZmFmNWJkZDUtYmEzZC0xMWRhLWFkMzEtZDMzZDc1MTgyZjFiIiB4bWxuczpkYz0iaHR0cDovL3B1cmwub3JnL2RjL2VsZW1lbnRzLzEuMS8iLz48cmRmOkRlc2NyaXB0aW9uIHJkZjphYm91dD0idXVpZDpmYWY1YmRkNS1iYTNkLTExZGEtYWQzMS1kMzNkNzUxODJmMWIiIHhtbG5zOnhtcD0iaHR0cDovL25zLmFkb2JlLmNvbS94YXAvMS4wLyI+PHhtcDpDcmVhdGVEYXRlPjIwMjEtMDUtMjhUMTM6MTI6MTguNTE1PC94bXA6Q3JlYXRlRGF0ZT48L3JkZjpEZXNjcmlwdGlvbj48cmRmOkRlc2NyaXB0aW9uIHJkZjphYm91dD0idXVpZDpmYWY1YmRkNS1iYTNkLTExZGEtYWQzMS1kMzNkNzUxODJmMWIiIHhtbG5zOmRjPSJodHRwOi8vcHVybC5vcmcvZGMvZWxlbWVudHMvMS4xLyI+PGRjOmNyZWF0b3I+PHJkZjpTZXEgeG1sbnM6cmRmPSJodHRwOi8vd3d3LnczLm9yZy8xOTk5LzAyLzIyLXJkZi1zeW50YXgtbnMjIj48cmRmOmxpPkppd29uIEh3YW5nPC9yZGY6bGk+PC9yZGY6U2VxPg0KCQkJPC9kYzpjcmVhdG9yPjwvcmRmOkRlc2NyaXB0aW9uPjwvcmRmOlJERj48L3g6eG1wbWV0YT4NCiAgICAgICAgICAgICAgICAgICAgICAgICAgICAgICAgICAgICAgICAgICAgICAgICAgICAgICAgICAgICAgICAgICAgICAgICAgICAgICAgICAgICAgICAgICAgICAgICAgICAKICAgICAgICAgICAgICAgICAgICAgICAgICAgICAgICAgICAgICAgICAgICAgICAgICAgICAgICAgICAgICAgICAgICAgICAgICAgICAgICAgICAgICAgICAgICAgICAgICAgIAogICAgICAgICAgICAgICAgICAgICAgICAgICAgICAgICAgICAgICAgICAgICAgICAgICAgICAgICAgICAgICAgICAgICAgICAgICAgICAgICAgICAgICAgICAgICAgICAgICAgCiAgICAgICAgICAgICAgICAgICAgICAgICAgICAgICAgICAgICAgICAgICAgICAgICAgICAgICAgICAgICAgICAgICAgICAgICAgICAgICAgICAgICAgICAgICAgICAgICAgICAKICAgICAgICAgICAgICAgICAgICAgICAgICAgICAgICAgICAgICAgICAgICAgICAgICAgICAgICAgICAgICAgICAgICAgICAgICAgICAgICAgICAgICAgICAgICAgICAgICAgIAogICAgICAgICAgICAgICAgICAgICAgICAgICAgICAgICAgICAgICAgICAgICAgICAgICAgICAgICAgICAgICAgICAgICAgICAgICAgICAgICAgICAgICAgICAgICAgICAgICAgCiAgICAgICAgICAgICAgICAgICAgICAgICAgICAgICAgICAgICAgICAgICAgICAgICAgICAgICAgICAgICAgICAgICAgICAgICAgICAgICAgICAgICAgICAgICAgICAgICAgICAKICAgICAgICAgICAgICAgICAgICAgICAgICAgICAgICAgICAgICAgICAgICAgICAgICAgICAgICAgICAgICAgICAgICAgICAgICAgICAgICAgICAgICAgICAgICAgICAgICAgIAogICAgICAgICAgICAgICAgICAgICAgICAgICAgICAgICAgICAgICAgICAgICAgICAgICAgICAgICAgICAgICAgICAgICAgICAgICAgICAgICAgICAgICAgICAgICAgICAgICAgCiAgICAgICAgICAgICAgICAgICAgICAgICAgICAgICAgICAgICAgICAgICAgICAgICAgICAgICAgICAgICAgICAgICAgICAgICAgICAgICAgICAgICAgICAgICAgICAgICAgICAKICAgICAgICAgICAgICAgICAgICAgICAgICAgICAgICAgICAgICAgICAgICAgICAgICAgICAgICAgICAgICAgICAgICAgICAgICAgICAgICAgICAgICAgICAgICAgICAgICAgIAogICAgICAgICAgICAgICAgICAgICAgICAgICAgICAgICAgICAgICAgICAgICAgICAgICAgICAgICAgICAgICAgICAgICAgICAgICAgICAgICAgICAgICAgICAgICAgICAgICAgCiAgICAgICAgICAgICAgICAgICAgICAgICAgICAgICAgICAgICAgICAgICAgICAgICAgICAgICAgICAgICAgICAgICAgICAgICAgICAgICAgICAgICAgICAgICAgICAgICAgICAKICAgICAgICAgICAgICAgICAgICAgICAgICAgICAgICAgICAgICAgICAgICAgICAgICAgICAgICAgICAgICAgICAgICAgICAgICAgICAgICAgICAgICAgICAgICAgICAgICAgIAogICAgICAgICAgICAgICAgICAgICAgICAgICAgICAgICAgICAgICAgICAgICAgICAgICAgICAgICAgICAgICAgICAgICAgICAgICAgICAgICAgICAgICAgICAgICAgICAgICAgCiAgICAgICAgICAgICAgICAgICAgICAgICAgICAgICAgICAgICAgICAgICAgICAgICAgICAgICAgICAgICAgICAgICAgICAgICAgICAgICAgICAgICAgICAgICAgICAgICAgICAKICAgICAgICAgICAgICAgICAgICAgICAgICAgICAgICAgICAgICAgICAgICAgICAgICAgICAgICAgICAgICAgICAgICAgICAgICAgICAgICAgICAgICAgICAgICAgICAgICAgIAogICAgICAgICAgICAgICAgICAgICAgICAgICAgICAgICAgICAgICAgICAgICAgICAgICAgICAgICAgICAgICAgICAgICAgICAgICAgICAgICAgICAgICAgICAgICAgICAgICAgCiAgICAgICAgICAgICAgICAgICAgICAgICAgICAgICAgICAgICAgICAgICAgICAgICAgICAgICAgICAgICAgICAgICAgICAgICAgICAgICAgICAgICAgICAgICAgICAgICAgICAKICAgICAgICAgICAgICAgICAgICAgICAgICAgICAgICAgICAgICAgICAgICAgICAgICAgICAgICAgICAgICAgICAgICAgICAgICAgICAgICAgICAgICAgICAgICAgICAgICAgIAogICAgICAgICAgICAgICAgICAgICAgICAgICAgPD94cGFja2V0IGVuZD0ndyc/Pv/bAEMABwUFBgUEBwYFBggHBwgKEQsKCQkKFQ8QDBEYFRoZGBUYFxseJyEbHSUdFxgiLiIlKCkrLCsaIC8zLyoyJyorKv/bAEMBBwgICgkKFAsLFCocGBwqKioqKioqKioqKioqKioqKioqKioqKioqKioqKioqKioqKioqKioqKioqKioqKioqKv/AABEIAc8CnwMBIgACEQEDEQH/xAAfAAABBQEBAQEBAQAAAAAAAAAAAQIDBAUGBwgJCgv/xAC1EAACAQMDAgQDBQUEBAAAAX0BAgMABBEFEiExQQYTUWEHInEUMoGRoQgjQrHBFVLR8CQzYnKCCQoWFxgZGiUmJygpKjQ1Njc4OTpDREVGR0hJSlNUVVZXWFlaY2RlZmdoaWpzdHV2d3h5eoOEhYaHiImKkpOUlZaXmJmaoqOkpaanqKmqsrO0tba3uLm6wsPExcbHyMnK0tPU1dbX2Nna4eLj5OXm5+jp6vHy8/T19vf4+fr/xAAfAQADAQEBAQEBAQEBAAAAAAAAAQIDBAUGBwgJCgv/xAC1EQACAQIEBAMEBwUEBAABAncAAQIDEQQFITEGEkFRB2FxEyIygQgUQpGhscEJIzNS8BVictEKFiQ04SXxFxgZGiYnKCkqNTY3ODk6Q0RFRkdISUpTVFVWV1hZWmNkZWZnaGlqc3R1dnd4eXqCg4SFhoeIiYqSk5SVlpeYmZqio6Slpqeoqaqys7S1tre4ubrCw8TFxsfIycrS09TV1tfY2dri4+Tl5ufo6ery8/T19vf4+fr/2gAMAwEAAhEDEQA/APpGiiigAooooAKKKKACiiigAooooAKKKKACiiigAooooAKKKKACiiigAooooAKKKKACiiigAooooAKKKKACiiigAooooAKKKKACiiigAooooAKKKKACiiigAooooAKKKKACiiigAooooAKKKKACiiigAooooAKKKKACiiigAooooAKKKKACiiigAooooAKKKKACiiigAooooAKKKKACiiigAooooAKKKKACiiigAooooAKKKKACiiigAooooAKKKKACiiigAooooAKKKKACiiigAooooAKKKKACiiigAooooAKKKKACiiigAooooAKKKKACiiigAooooAKKKKACiiigAooooAKKKKACiiigAooooAKKKKACiiigAooooAKKKKACiiigAooooAKKKKACiiigAooooAKKKKACiiigAooooAKKKKACiiigAooooAKKKKACiiigAooooAKKKKACiiigAooooAKKKKACiiigAooooAKKKKACiiigAooooAKKKKACiiigAooooAKKKKACiiigAooooAKKKKACiiigAooooAKKKKACiiigAooooAKKKKACiiigAooooAKKKKACiiigAooooAKKKKACiiigAooooAKKKKACiiigAooooAKKKKACiiigAooooAKKKKACiiigAooooAKKKKACiiigAooooAKKKKACiiigAooooAKKKKACiiigAorDbxt4YV2Vtf08MpKsDcLwR1HWk/4Tfwv/ANDBp3/gSv8AjQBu0Vhf8Jv4X/6GDTv/AAJX/Gj/AITfwv8A9DBp3/gSv+NAG7RWF/wm/hf/AKGDTv8AwJX/ABo/4Tfwv/0MGnf+BK/40AbtFYX/AAm/hf8A6GDTv/Alf8aP+E38L/8AQwad/wCBK/40AbtFYX/Cb+F/+hg07/wJX/Gj/hN/C/8A0MGnf+BK/wCNAG7RWF/wm/hf/oYNO/8AAlf8aP8AhN/C/wD0MGnf+BK/40AbtFYX/Cb+F/8AoYNO/wDAlf8AGj/hN/C//Qwad/4Er/jQBu0Vhf8ACb+F/wDoYNO/8CV/xo/4Tfwv/wBDBp3/AIEr/jQBu0Vhf8Jv4X/6GDTv/Alf8aP+E38L/wDQwad/4Er/AI0AbtFYX/Cb+F/+hg07/wACV/xo/wCE38L/APQwad/4Er/jQBu0Vhf8Jv4X/wChg07/AMCV/wAaP+E38L/9DBp3/gSv+NAG7RWF/wAJv4X/AOhg07/wJX/Gj/hN/C//AEMGnf8AgSv+NAG7RWF/wm/hf/oYNO/8CV/xo/4Tfwv/ANDBp3/gSv8AjQBu0Vhf8Jv4X/6GDTv/AAJX/Gj/AITfwv8A9DBp3/gSv+NAG7RWF/wm/hf/AKGDTv8AwJX/ABo/4Tfwv/0MGnf+BK/40AbtFYX/AAm/hf8A6GDTv/Alf8aP+E38L/8AQwad/wCBK/40AbtFYX/Cb+F/+hg07/wJX/Gj/hN/C/8A0MGnf+BK/wCNAG7RWF/wm/hf/oYNO/8AAlf8aP8AhN/C/wD0MGnf+BK/40AbtFYX/Cb+F/8AoYNO/wDAlf8AGj/hN/C//Qwad/4Er/jQBu0Vhf8ACb+F/wDoYNO/8CV/xo/4Tfwv/wBDBp3/AIEr/jQBu0Vhf8Jv4X/6GDTv/Alf8aP+E38L/wDQwad/4Er/AI0AbtFYX/Cb+F/+hg07/wACV/xo/wCE38L/APQwad/4Er/jQBu0Vhf8Jv4X/wChg07/AMCV/wAaP+E38L/9DBp3/gSv+NAG7RWF/wAJv4X/AOhg07/wJX/Gj/hN/C//AEMGnf8AgSv+NAG7RWF/wm/hf/oYNO/8CV/xo/4Tfwv/ANDBp3/gSv8AjQBu0Vhf8Jv4X/6GDTv/AAJX/Gj/AITfwv8A9DBp3/gSv+NAG7RWF/wm/hf/AKGDTv8AwJX/ABo/4Tfwv/0MGnf+BK/40AbtFYX/AAm/hf8A6GDTv/Alf8aP+E38L/8AQwad/wCBK/40AbtFYX/Cb+F/+hg07/wJX/Gj/hN/C/8A0MGnf+BK/wCNAG7RWF/wm/hf/oYNO/8AAlf8aP8AhN/C/wD0MGnf+BK/40AbtFYX/Cb+F/8AoYNO/wDAlf8AGj/hN/C//Qwad/4Er/jQBu0Vhf8ACb+F/wDoYNO/8CV/xrcBDKCpyCMgjvQAtFFFABRRRQAUUUUAFFFFABRRRQAUUUUAFFFFABRRRQAUUUUAFFFFAHE/DvSdOuPBsMk+n2ssjXFxl3hUk/vW7kV1H9h6T/0C7L/wHT/CsL4bf8iRB/18XH/o566ugCj/AGHpP/QLsv8AwHT/AAo/sPSf+gXZf+A6f4VeooAo/wBh6T/0C7L/AMB0/wAKP7D0n/oF2X/gOn+FXqKAKP8AYek/9Auy/wDAdP8ACj+w9J/6Bdl/4Dp/hV6igCj/AGHpP/QLsv8AwHT/AAo/sPSf+gXZf+A6f4VeooAo/wBh6T/0C7L/AMB0/wAKP7D0n/oF2X/gOn+FGsX503TJblULlRwPeud8NeKrvVNU+y3SJhlJBUdK0jTlKLkuhLkk7HRf2HpP/QLsv/AdP8KP7D0n/oF2X/gOn+FXqKzKKP8AYek/9Auy/wDAdP8ACj+w9J/6Bdl/4Dp/hV6kJCjLEAepoApf2HpP/QLsv/AdP8KP7D0n/oF2X/gOn+FXVZWGVII9QaWgCj/Yek/9Auy/8B0/wo/sPSf+gXZf+A6f4VeooAo/2HpP/QLsv/AdP8KP7D0n/oF2X/gOn+FXqKAKP9h6T/0C7L/wHT/Cj+w9J/6Bdl/4Dp/hV6igCj/Yek/9Auy/8B0/wo/sPSf+gXZf+A6f4VeooAo/2HpP/QLsv/AdP8KP7D0n/oF2X/gOn+FXqKAKP9h6T/0C7L/wHT/Cj+w9J/6Bdl/4Dp/hV6igCj/Yek/9Auy/8B0/wo/sPSf+gXZf+A6f4VeooAo/2HpP/QLsv/AdP8KP7D0n/oF2X/gOn+FXqKAKP9h6T/0C7L/wHT/Cj+w9J/6Bdl/4Dp/hV6igCj/Yek/9Auy/8B0/wo/sPSf+gXZf+A6f4VeooAo/2HpP/QLsv/AdP8KP7D0n/oF2X/gOn+FXqKAKP9h6T/0C7L/wHT/Cj+w9J/6Bdl/4Dp/hV6igCj/Yek/9Auy/8B0/wo/sPSf+gXZf+A6f4VeooAo/2HpP/QLsv/AdP8KP7D0n/oF2X/gOn+FXqKAKP9h6T/0C7L/wHT/Cj+w9J/6Bdl/4Dp/hV6igCj/Yek/9Auy/8B0/wo/sPSf+gXZf+A6f4VeooAo/2HpP/QLsv/AdP8KP7D0n/oF2X/gOn+FXqKAKP9h6T/0C7L/wHT/Cj+w9J/6Bdl/4Dp/hV6igCj/Yek/9Auy/8B0/wo/sPSf+gXZf+A6f4VeooAo/2HpP/QLsv/AdP8KP7D0n/oF2X/gOn+FXqKAKP9h6T/0C7L/wHT/Cj+w9J/6Bdl/4Dp/hV6igCj/Yek/9Auy/8B0/wo/sPSf+gXZf+A6f4VeooA4z4h6PpkPw+1eSHTrSN1gyrLAoI+Yd8V11r/x5w/8AXNf5VzvxH/5JzrP/AFw/9mFdFa/8ecP/AFzX+VAEtFFFABRRRQAUUUUAFFFFABRRRQAUUUUAFFFFABRRRQAUUUUAFFFFAHKfDb/kSIP+vi4/9HPXV1ynw2/5EiD/AK+Lj/0c9dXQAUVka74gh0RE81S7yfdUVNo2sw6zamaAFSpwynsavkly81tBcyvY0aKKKgYUUUUANlkWGJpJDhVGSTWBZeMLG81L7IqspZtqMR1Nbs8K3Fu8UgyrjBrmbDwVHZ6st0bhmVG3KuK1h7Oz5iJc11Y6eaGO4haKVQyMMEGqGn6DY6ZK0lrFh27nnFaVFZqTSsirIKKKKQwrnPGf23+zI/sPmff+fZnOMV0dNcoEJkxt75qoS5ZJikrqxyvgj+0PJl+2b/J/g39c11lRwyQuv7hlI/2akp1Jc0r2FFWVgoooqCgooooAKKKKACiiigAooooAKKKKACiiigAooooAKKKKACiiigAooooAKKKKACiiigAooooAKKKKACiiigAooooAKKKKACiiigAooooAKKKKACiiigDmPiP/AMk51n/rh/7MK6K1/wCPOH/rmv8AKud+I/8AyTnWf+uH/swrorX/AI84f+ua/wAqAJaKKKACiiigAooooAKKKKACiiigAooooAKKKKACiiigApk0hihdwpcqMhR3p9MmmS3geaZgqIpZiewoA5a08bTnV7Sy1jQrnS1vWZbeaWVHDkDJGF6cetdZXmOj+JNL8c+Mob99TtUs7B2WxtTKPMmcjBcj0wentXeazokOtwLFPdXlsFOd1pcGIn6kUAY3w2/5EiD/AK+Lj/0c9dXXI/DCIQeAbWJWZgk06guck/vW6muuoAx9e8PRa4ib3KSR52mptE0WHRbUxREsWOWY9zWlRV88uXlvoLlV7hRRRUDCiiigAoorA8Sa9/ZCxheWb+H1qoxcnZCbSV2b9Q3lytnZy3EnKxqWNZOla8L3RZbzq0YJK47gVzlr4uudQunt7qNWhlBAXHStI0ZNvyJc0iVfFdxql0YoN0BByjA8f8CrqdI1SO/tUDSo04Hzqp71xU8el2pmt7bfHNdR7QznhDn/AOtT/DlmdJ1dZ765iiXGAocfPmuidODjpoZxk09T0OsPxXa3d1o7JZE5zllH8QrbVg6hlOQRkEUtccZcrubNXVjjPA9jfW808lyrJEygKG9a7OjGOlFOpPnlzCjHlVgoqi+s2Ed19ne5jEvTaWHFXuvSpaa3KuFFFFIAooooAKKKKACiiigAooooAKKKKACiiigAooooAKKKKACiiigAooooAKKKKACiiigAooooAKKKKACiiigAooooAKKKKACiiigAooooAKKKKAOY+I//ACTnWf8Arh/7MK6K1/484f8Armv8q534j/8AJOdZ/wCuH/swrorX/jzh/wCua/yoAlooooAKKKKACiiigAooooAKKKKACiiigAooooAKKKKACkZVdSrqGU8EEZBpaKAKcOj6ZbyB4NOtInXoyQKCPxAq5RRQBynw2/5EiD/r4uP/AEc9dXXKfDb/AJEiD/r4uP8A0c9dXQAUUUUAFFFFABRRRQAyWQRQtIeijJrzu+1aHxFfrbXsZhw+2N4+T+Oa9GIDAg9DWE2g6Rpl4dQlCxkHI3HgH2relKMb33M5ps5XVxceHnisbMsYsb2cj7+eCP0rd0DRba5h+0zWQgaReSGPINdDDJZ6lGJI9ky9j6VZACjAGBTlWbja2oKCvc4PxJo9vb6oJ3FwVfGBGoI+lNvdPubW1l1XysZRREjDJj55GPpXfMiv95QfqKzfEElxDo8r2cYeQY+UjPHenGs3aInBas5zwbq1/c3jwXBMkWM5I+6a7auI8K6je3WrBHt1hgCHdtQgZrt6murTHT+EKCMgiiisDQ8+uvCOpPrhdPmjZ93mE9K7+NdkaqTkgU6itJ1JTSv0JjFR2CiiisygooooAKKKKACiiigAooooAKKKKACiiigAooooAKKKKACiiigAooooAKKKKACiiigAooooAKKKKACiiigAooooAKKKKACiiigAooooAKKKKAOY+I//ACTnWf8Arh/7MK6K1/484f8Armv8q534j/8AJOdZ/wCuH/swrorX/jzh/wCua/yoAlooooAKKKKACiiigAooooAKKKKACiiigAooooAKKKKACiiigAopgljZyqyKWHUBhmn0Acp8Nv8AkSIP+vi4/wDRz11dcp8Nv+RIg/6+Lj/0c9dXQAUUUUAFFFFABRRRQAVz3i7SrrVLCNbQAsjZKk9eK6GiqjJxldCaurHM+D9Gu9Lgka7O3zOiZ6e9dNRRROTnLmYRVlYKCARg8iue8Qa1c2WoW9laABphkuewqnYeNop79baVDtY7VkPc1apTceZE86TsdVHDHFny0Vc9cDFPoHNFZFhRRRQAUUUUAFFFFABRRRQAUUUUAFFFFABRRRQAUUUUAFFFIc7TjrigBpniEnlmRd/93PNPrgLrT9VbxAzKkpJlyGB4xmu2S6ij8uGaZfN2jIz1NXKNjprUFTScXe5ZoooqDmCiiigAooooAKKKKACiiigAooooAKKKKACiiigAooooAKKKKACiiigAooooAKKKKAOY+I//ACTnWf8Arh/7MK6K1/484f8Armv8q534j/8AJOdZ/wCuH/swrorX/jzh/wCua/yoAlooooAKKKKACiiigAooooAKKKKACiiigAooooAKKKKACqWs3L2ei3VxGMvHGSKu1HPClxbyQyDKOpUigDySy0+LRtF8NeIrUk6ldyYu5t2TcbuPm+mc16brOo32nwK+naTLqbk4KRSqhH/fVc1pfgC6s7uwivNX+1aXprFrS08nay5H8TZ+bH0rt6AOR+GDvJ4BtXkjMTtNOWQnJU+a3FddXKfDb/kSIP8Ar4uP/Rz11dABRRRQAUUUUAFFFFABRRRQAUUUUAVbvTra8dHnjBdPut3FYtr4LsrXUBch2YKcqh6ZrpKKtVJRVkyXFMOlFFFQUFFFFABRRRQAUUUUAFFFFABRRRQAUUUUAFB4FFFAHA3WuamuuMokdQJMCLtiu8jJaNSwwSORULWNq1x5zQIZP723ms7XdfGj+Wqx+Y7ds4xWjfNZJHZOSxDjCnGzNmmebHv2b13emeaxI/FEDaMb2RCp3bdg55rnENxf3yXdhNI7GT515+Uf4UKDe4U8JKV+fSx6ARn61wN/omqPrDlVZtzkq+egrvUOUHOeOaxJvEqLqZtootyJ9+QtgLRBtbBhZ1IN8iubUClIEVuoUA0+q1pf216D9nlVyOoB6VZrM5JJp6hRRRQIKKKKACiiigAooooAKKKKACiiigAooooAKKKKACiiigAooooAKKKKACiiigDmPiP/AMk51n/rh/7MK6K1/wCPOH/rmv8AKud+I/8AyTnWf+uH/swrorX/AI84f+ua/wAqAJaKKKACiiigAooooAKKKKACiiigAooooAKKKKACiiigAooooAKKKKAOU+G3/IkQf9fFx/6OeurrlPht/wAiRB/18XH/AKOeuroAKKKKACiiigAooooAKKKKACiiigAooooAKKKKACiiigAooooAKKKKACiiigAooooAKKKKACiiigDO125mtNImlt/vgcH0rk9NWXxHJ9mvtxKfMJQOR7V3jKrqVcZB6g1FBaW9oD5Eaxg8nFXGVkddKuqdNpL3u5kz+GLeTSVso3KbW3bvU1QuNEl0bRJ/sbtJK/3m7ge1dSsiPnYwbHXBpxAIweRQptExxNSOjd1e5x/g17xriXzS5hx1c96m1bRnkkuEtYnVpiG3Y+Xjt+tdSqKn3VA+gpaOfW6Klin7V1IqxxWl2N9oVnd3sqYITCp7561N4b1+9vNS+z3J8xWBOcfdrrXjWRCjgFSMEGq1ppdnYuzWsCxs3UgU+dNO6LliYzjLnjqy3RRRWZwhRRRQAUUUUAFFFFABRRRQAUUUUAFVrzULawQNdyrGGOBnvVmuc8U6Lc6msclr8xTquetZVpSjBuCuzow8KdSqo1HZG7a3cN5CJbaQSIe4qasfw3pk2mab5dwfnY5x6VsU6cpSgnJWZFaMIVHGDugooorQyCiiigAooooAKKKKAOY+I/8AyTnWf+uH/swrorX/AI84f+ua/wAq534j/wDJOdZ/64f+zCuitf8Ajzh/65r/ACoAlooooAKKKKACiiigAooooAKKKKACiiigAooooAKKKKACimPPFG2JJUU+jMBWdrFveanZrDo+qfYZN/zzRqrkD6HigDUorkPB+qalJreq6RqF6dSSyb5bwoFJP90gcZHX8a39W13TNChWXV7yO1jY4Vnzz+VAGJ8Nv+RIg/6+Lj/0c9dXXJfDCVJ/AVrLCweN5p2Vh3BlautoAKKKKACiiigAooooAKKKKACiiigAooooAKKKKACiiigAooooAKKKKACiiigAooooAKKKKACiiigAqhra3LaVKLP/AFmO3XFX6Ka0ZUZcskzivCkeoLqhMwlEW07t+cZrtaQKF6AD6CoLq9jtomb77D+FeppyfMzatUdefMkWKCcdaxJ/EsMFk07RtwcAeprMbWX1qDy0zGGcK2DgrnuKagxxw1R6tWR11Fc54f1aIH7FPdCWQHCH19q6Opas7GVSm6cuVhRRRSMwooooAKKKKACiiigAooooAKKKKACiimSypDG0kh2qoySaA3H1h+Kr65sdLD2pwWbBIHQVbsddsdQuDDbyguOg9avSRRzJtlUMvoRmsZWqwagzohehVTqR26HNeENSvL1ZUuSXRejn19K6io4YIoF2woqD/ZGKkp0YShBRk7hiKkatVzirIKKKK1OcKKKKACiiigDmPiP/AMk51n/rh/7MK6K1/wCPOH/rmv8AKud+I/8AyTnWf+uH/swrorX/AI84f+ua/wAqAJaKKKACiiigAooooAKKKKACiiigAooooAKKKKACiiigDE1Xwd4f1y8+16tpcN1PtC+Y5OcDp0NYmv6FN4Z8Ozr8PdCjN7csEYRybdo/vfMa7aigDlPAdrc6fpjWlzodxprL87zTzJI07nqTt711LxpIMSIrD/aGadRQBynw1GPA8AHA+0XH/o566uuU+G3/ACJEH/Xxcf8Ao566ugAooooAKKKKACiiigAooooAKKKKACiiigAooooAKKKKACiiigAooooAKKKKACiiigAooooAKKKKACiiigBGztOOtcMbbUGuL+3lVzJMMoexOR3+ld1RgZziqjLlN6NZ0r6XucPo/h+6uYpoL9WjiPKknkGpbhNP8Og2rh5nmGWYH7tb/iKS5i0eRrPd5mR90cgd65TTrCTxBhLjerx5zMec+1apuWr2PRp1JVU6lR2j2Rb0Pw80l5HfJOrwBtwwOTXaVV0+yi060S2iPCjv3q1WUpczPPxFZ1Z3e3QKKKKk5wooooAKKKKACiiigAooooAKKKKAKGr6omk2RndS3OAB3NZFjq48TWlxZshifbnIrc1DT4dStTBcDKn07VU0nQbbRy7xElmGCxPauWcasqn93qd1KdCNFtr376GToXhe507UxcTyKVQEADvWh4qu7qz0sPZllYtgso6Ck1DxTZ2F4IGy5/iK9BWsjRXtqGwHjkGcEdamEKfJKlSeppUq1vaQr143Ry/hjWbpo5/t7s6Ku5WbqT6CrVh4whvNQW3MLIrHCsTUGtaVeR6hDJp8Qa3Ax5a8DJ68VY0vwrBbXK3UuQw5Eec7T9awh9YTVOPTe51VPqkourL7S0S6HR0Zz0rN16WeHR5ntM+YBxjqK53whe389/IszvLFjkuc4rrnXUKip23PPp4WVShKsnsdpRRWL4h146PGgjTfI/TPQVrOcaceaWxhSpTqzUIbs2qKydA1g6xZtI6bGVsH3rWohNTipR2FUpypTcJbo5j4j/8AJOdZ/wCuH/swrorX/jzh/wCua/yrnfiP/wAk51n/AK4f+zCuitf+POH/AK5r/KrMyWiiigAooooAKKKKACiiigAooooAKKKKACiiigAooooAKKKKACiiigDlPht/yJEH/Xxcf+jnrq65T4bf8iRB/wBfFx/6OeuroAKKKKACiiigAooooAKKKKACiiigAooooAKKKKACiiigAooooAKKKKACiiigAooooAKKKKACiiigAooooAK53xH4gm0qeOG3QFmXcSa6KqWoaTaalt+0x7ivQ1UWk9TajKEZp1FdEOh6kdW00TSoAclSO1X1iSJD5KKufQYptraQ2UAht0CIOwqak99CZyTk3HY87km1T/hIOTJ5vmfdHTFehrnaM9aTy03bto3euKdVSlzGteuqttLWCiiioOYKKKKACiiigAooooAKKKKACiiigArn/FWr/wBn26RCPeZDzyRx+FdBVHU9JttVhCXI+7ypHUVlWjOVNqG50YadOFVSqLQ5G00mLxEv2oMYCvEgHI+tb9hrunRzpp0LnK/IGPQmr0On2+m6Y8EK4Tac+9cZZ6ZGNZRlmL/vMhAhB/PpXA4yw7jypXe56qlTxanzN8sdj0KikH3R9KWvUPCEZQy4YZB7GmRwRQ58qNUz12jFSUZpWQ7u1gqjqek22qwhLlenQjqKvUUpRUlZjhOUJc0XZlTTtNt9Mt/KtlwCcknuat0UU4xUVZBKUpvmk7s5j4j/APJOdZ/64f8AswrorX/jzh/65r/Kud+I/wDyTnWf+uH/ALMK6K1/484f+ua/ypkktFFFABRRRQAUUUUAFFFFABRRRQAUUUUAcb4z1C70i8S8svEFrZN5ePsVwgbz+T93J4P4VT8PfEma8aCPxDol3phnlEMMzITHIxOBzgAZ7V2M+jafdX4vbm1jmnVQgaRd2B7A1YltYJ40SWJHWNg6grwpHQigCWiiigApskixRs7nCqMk1h6xN4rjviNCs9Kmtdow11M6vnvwARXNeJrvxo+jpbXuixzx3EwSb+yHZ3WLGSfmxzkCgDqfDfivS/FcF1No7yPHazmCRnTblgATj1HPWtqvM/hRfmXVPE1quj3mnxLqLOPPRVC/Ko2cE/MOv413Ws6dfahAqadq0umODkvFErk/99UAY3w2/wCRIg/6+Lj/ANHPXV1yPwwR4/ANqkkhldZpwzkYLHzW5rrqACiiigAooooAKKKKACiiigAooooAKKKKACiiigAooooAKKKKACiiigAooooAKKKKACiiigAooooAKKxLrxTZ2t+bVg5YHBYdBW0jiRAynIIyDTaa3NJU5wScluLRRRSMwooooAKKKKACiiigAooooAKKKKACiiigAoorh9a8R6hbay0ULbI0IG3HWsa1aNGN5HVhsNPEycYHcVxGr+J9QttXkihwkcbY2kda7GzlaezilddrMuSDUM+lWdzcLPNCrSL3qK0J1Ir2bsXhqlKjUftY3JrSUz2cUjDBZAT+VTUgAUAAYA6Cqd1q9jZTCK5uFRz0BNbtqK95nKoynK0EW5Y1liaNxlWGDVC10aG1uPNWSRj2DNmr6OsiB0OVIyCKdQ4xk02ONScE4phRRVe/uTaWM06jcUUkCm2krsiMXJpI5/W/FT6dqBtoYg237xNULXVb465btHI0kVyN/lk9B/kVVtLqHXtWRL+3+dj99D/Ou5gsbe3VBFEo2DCnHIFebT9piJOSlpc9ys6OEgqbh7zWpYooor0zwgooooA5j4j/APJOdZ/64f8AswrorX/jzh/65r/Kud+I/wDyTnWf+uH/ALMK6K1/484f+ua/yoAlooooAKKKKACiiigAooooAKKKKACiiigAooooAKKKKACiiigCtaabZ2EtxJZ26RPdSmaZl/jc8Fj78CrNFFAHKfDb/kSIP+vi4/8ARz11dcp8Nv8AkSIP+vi4/wDRz11dABRRRQAUUUUAFFFFABRRRQAUUUUAFFFFABRRRQAUUUUAFFFFABRRRQAUUUUAFFFFABRRRQAUUUUAcve+EftOqG4SYLGzbmUjmulhiWGFY0+6owKfRVOTe5rUrTqJKT2CiiipMgooooAKKKKACiiigAooooAKKKKACiiigAqnPpNlc3Amnt0eQdGIq5RScVLRoqMpRd4uwgAVQAMAdKWiimSFcRr/AIfuLjWDJFIhEpzgsAVrt68/1uz1N9fdkSVlL/u2AJAFcONs4K6vqepljkqrcZJadTpjqdroFjb2t3LukVQOK1LS7ivbdZ7dtyN0Nc1qnhi51FIJvMAnCBZAe9buj6d/ZempbFt5XkmrpSq8/K1aPQyrxoeyU4yvNvUfqk0tvps0luu6QLxXIeHtTv73VDBeSPNC6neH6Cu6IDAgjINc54ltntNNL6ZF5bM37xoxg/pSxEJXVRPRdC8HUg4ui4q8tn2NSz0ews5jNawqrn+IVfrlvBsl88c32ouY8/KXP8q6mtqEoypqUVY58VCUKrjKXM11CiiitjlCiiigDmPiP/yTnWf+uH/swrorX/jzh/65r/Kud+I//JOdZ/64f+zCuitf+POH/rmv8qAJaKKKACiiigAooooAKKKKACiiigAooooAKKKKACiiigAooprusaF5GVFXksxwBQA6ioLa+tLzP2O6hn29fKkDY/Kp6AOU+G3/ACJEH/Xxcf8Ao566uuU+HBx4HhP/AE3uP/Rr1vwxyXEKytPIu7nCngUAXKKrfZH/AOfqb8xR9kf/AJ+pvzFAFmiq32R/+fqb8xR9kf8A5+pvzFAFmiq32R/+fqb8xR9kf/n6m/MUAWaKrfZH/wCfqb8xR9kf/n6m/MUAWaKrfZH/AOfqb8xR9kf/AJ+pvzFAFmiq32R/+fqb8xR9kftdTZ+ooAs0VBaSNJCS/JViufXBqegAooooAKKKKACiiigAooooAKKKKACiiigAooooAKKKKACiiigAooooAKKKKACiiigAooooAKKKKACiiigAooooAKKKKACjAPaiigAooooAKRlDLhgCPQ0tFADURY1wihR6AU6iigAooooAKKKKAOY+I/8AyTnWf+uH/swrorX/AI84f+ua/wAq534j/wDJOdZ/64f+zCuitf8Ajzh/65r/ACoAlooooAKKKKACiiigAooooAKKKKACiiigAooooAKKKKAMHWPF1tot8bWbTtVuG2ht9rZNKnPuK47xx4yOpaHaW9hp+pxJdXi28yXFu0JdSpOAT9BXp9Zmv6HDr+mm1mkaFwd0UyDLRt6igDnfBlzZ22s3ejnQbfRdQjgWZ0tyGWSMnAO4AZOQa6PWbrVrWBW0XTor6Qn5kluPKAH1waoaB4UOj6pcane6lNqd/PEsLTyoqEIDkLheOpNdDQByHwyaRvh/bNOgjkMs5ZQchT5rcZrp7H/jxi/3a5v4c/8AIiw/9d7j/wBGvXSWP/HjF/u0AWKKKKACiiigArldR8V6h/wkMukeHtJXUJrdBJcNJP5SoCSMA4OTx0rqq4+80LXtN8VXOreG/scyXsarNDduyhSCTuUqDnrQBi6P4svdNS/uNQjed5NSjthC0uRFvLZwfbFdJqfjFdM1uWwktS6x6cb4yK3PDhduPx61ht4G1abSL8Sy2y3s10l5DtYlA6knBOOmTUth4c8Tt4mn1rVP7OaQ6abSOBHZkDbwecjpgUARnxlr2p+DtR1K00uzjVLYyQSRX4kycHOcDjHWmW3j++0nwXpl34gs7WG8vIohAHvAFlyv3mbHy9vzpLDwNq8t7qdxfpZaet1ZtAsFlK7RliGGSGAA69qV/Buu3eg6ZFeR6ab3RwiWy7meOZFGCHyOM4HQUAC/FaP/AIRvVb/7FDLdaayhoLa5EiPkjo4H+0K7LRLzUr6yM2rWCWLlvkjWbzMr2J4GPpXK33hfWtY8K39hdWWkWFxOy+WLPOwgMD8x2g9q7tRtQA9higCvYf6l/wDro386s1WsP9S//XRv51ZoAKKKKACiiigAooooAKKKKACiiigAooooAKKKKACiiigAooooAKKKKACiiigAooooAKKKKACiiigAooooAKKKKACiiigAooooAKKKKACiiigAooooAKKKKACiiigDmPiP/wAk51n/AK4f+zCuitf+POH/AK5r/Kud+I//ACTnWf8Arh/7MK6K1/484f8Armv8qAJaKKKACiiigAooooAKKKKACiiigAooooAKKKKACiiigAooooAKKKKAOT+HP/Iiw/8AXe4/9GvXSWP/AB4xf7tc38Of+RFh/wCu9x/6Neuksf8Ajxi/3aALFFFeZ6t4j1CbUpDHO8KIxAVWx0oObEYiNBJy6nplFY/hjUpdT0cS3H31bYT6+9bFBtCanFSXUKguL+0syou7qGAscKJZAufpmp684vdNtPEPjzX01iJLhLTTx9nSQZERy3zqD0Pv7UFnoysGUMpBBGQQetLXM/D66mufB9v57FzC7QqxPJVTgfpXTUAFFFFABRRRQBWsP9S//XRv51ZqtYf6l/8Aro386s0AFFFFABRRRQAUUUUAFFFFABRRRQAUUUUAFFFFABRRRQAUUUUAFFFFABRRRQAUUUUAFFFFABRRRQAUUUUAFFFFABRRRkZxmgAooooAKKR3WNC7kKqjJJ7VXt9QtLtyttOkjDqFbNAuZJ2LNFFFAwooooAKKKKACiiigDmPiP8A8k51n/rh/wCzCuitf+POH/rmv8q534j/APJOdZ/64f8AswrorX/jzh/65r/KgCWiiigAooooAKKKKACiiigAooooAKKKKACiiigAooooAKKK5zxp4gufD2lQy2aR+bcTCFZZgTHFkE7mx24oA6OiuR8IeJdR1XVb7TtTezumtVDi6sQfKbJxt5J5FdRcXltZqGu7iKBT0MrhQfzoA5n4c/8AIiw/9d7j/wBGvXSWP/HjF/u1zXw2ZX8BwMhDKZrggg5B/evXS2P/AB4xf7tAFiud1DwbZX94ZxI8JY5ZVHBroqY88UbYklRT6MwFF7ETpRqq0lcisbGHT7Rbe3XCL+tWKAQRkHIooKSSVkFctrvgr+1tWk1Gx1WfTJ54Bb3BhjVvOj5+U56dTyOa6msNPGOjP4mHh8XDjUSWAjMLAHAycNjB496BmhpOmQaPpcFjaj93CgUE9TgdTVyiigAooooAKKKKAK1h/qX/AOujfzqzVaw/1L/9dG/nVmgAooooAKKKKACiiigAooooAKKKKACiiigAooooAKKKKACiiigAooooAKKKKACiiigAooooAKKKKACiiigAooooAiui62spi++FO36155o13qreIUyZGdn/AHit0A716RWPrGs2mibWkj3SP0C9aDjxNNSam5WSNgdKKo6fqtvqFktzGwVW4+Y45q8DnpQdUZKSuijrNrLeaVNDAxV2HGO9cv4U0PULPVTPco0SKMHP8VdtRQYzw8Z1FUe6Ciiig6AooooAKKKKACiiigDmPiP/AMk51n/rh/7MK6K1/wCPOH/rmv8AKud+I/8AyTnWf+uH/swrorX/AI84f+ua/wAqAJaKKKACiiigAooooAKKKKACiiigAooooAKKKKACiiigDB1jwjba1fG6m1HVbdtoXZa3rRJx7CuW8V+E20zSrX7G+p6rZfa1e/tridrhpIdpyFU++OK9HooA4DwJZCPxVqd5pOmTaVoktuix20sJhzMGO5gnbjH5V2eo6Rp2rRrHqllBdopyFmjDAfnVyigDkfhpGkPgG3jiUIizXAVVGAB5r101j/x4xf7tc38Of+RFh/673H/o166Sx/48Yv8AdoAsV5Xq9zczapKblm3q5AB7CvVKz7rQ9PvZhLcW4Z/UEiuPFUJVopRZ6OAxUMNNuavcqeE5559EVrkkkMQpPcVt0yKJIYxHEoVVGABT66KcXCCi+hx1pqpUc0rXCuL8QRonxL8LFFALPcEkDr+6NdpXL6l8O/Dura0urX1vcPeK+9XW7kUKfYBsCtDI6iimxxrFEsaZ2qABk5p1ABRRRQAUUUUAVrD/AFL/APXRv51ZqtYf6l/+ujfzqzQAUUUUAFFFFABRRRQAUUUUAFFFFABRRRQAUUUUAFFFFABRRRQAUUUUAFFFFABRRRQAUUUUAFY+v6/HokSZj8yRz8q5xWxWRruhQazEnnSGJkPDCgxre09m/Z7kuiaxHrNn5yLtZThl9K0qztG0iHSLPyYW35OSx71o0FUufkXPuFZHiHWTo1iJUTe7NgZ7VrkgDJOKp6jptvqtr5Nyu5c5BHagKqm4NQepg2fjJDpbXN7HtYPsAX+I4zUVxBbeM41lt5fJli4YEZq7deD7STTVtbdmj2vv3epxirWg6BHosT4cvI/3moOJU682oVdY9TlNd0q+07yLa18x4VXrGDyfeuv8Oi5XRYBe7vMx/F1/GtMqG+8AfqK5zxP4hm0ho4rZBuYZLHtQV7OGGbqt6djpKa7rGhdzhVGSay/DuqyavponmQK4Yqcd60bmAXNtJC3AcYoOyM1OHNHqZdp4o0+9vfssLtvJwMrgGtmuO0vwdNaauLiaVTEjZXB5NdjQY4eVWUX7VWYUUUUHSFFFFABRRRQBzHxH/wCSc6z/ANcP/ZhXRWv/AB5w/wDXNf5VzvxH/wCSc6z/ANcP/ZhXRWv/AB5w/wDXNf5UAS0UUUAFFFFABRRRQAUUUUAFFFFABRRRQAUUUUAFFFFABRRRQAUUUUAcn8Of+RFh/wCu9x/6Neuksf8Ajxi/3a5v4c/8iLD/ANd7j/0a9dJY/wDHjF/u0AWKzrzX9NsJxDc3IVz2AJrRryLWbW5g1aZbpW3s5IJ7jtW9Gmqjs2Zzk4rQ9ahmjniWSJgyMMgin1g+Dre4t9BVboEFnJUHsuBW9WUlyyaRad1cK5vXfE9/pF1Itv4eub62hj8yW4jmRVQc54PJwB2rpK4Dx54ytIL5PC1vqFtaXd0mbiaeQKsUR4PXuQCKkZ2mlalBq+l29/akmKeMOueoyM1brO0C3srTQbS30uZZ7WKJUSRW3BwB1z3rRoAKKKKACiiigCtYf6l/+ujfzqzVaw/1L/8AXRv51ZoAKKKKACiiigAooooAKKKKACiiigAooooAKKKKACiiigAooooAKKKKACiiigAooooAKKKKACuS8bPeqkC2vmeWSdwQda62myJvjI744oMa1P2sHC9jn/Ct1MtiIdQmXzM/IrMN2K6KvOk0HVB4hzsZf3hbzOwGa9DQERqGOSByaDHCTk4cslaxy3jaa9jigW1MgjJO7YKh03UdStvCc9xKGZ1/1ZYc4rsHRXXDqGHoRTXhjkiMTopQjBUjigcsPJ1HUUt0cd4U169ur2SK7dpI8bix/hro7XXbC8ujbwThpB2xTm0q0itZlt4Vi3qQxQYJrgrfURYaysMFugjjk25K/OefWg53UqYVRjN3uemVS1HSbTVEC3cYbb0PpVtHDRKx43AHmnUHouKkrPYr2dlBYW4htUCIOwqxRRkHpQNJJWQUUUUDCiiigAooooAKKKKAOY+I/wDyTnWf+uH/ALMK6K1/484f+ua/yrnfiP8A8k51n/rh/wCzCuitf+POH/rmv8qAJaKKKACiiigAooooAKKKKACiiigAooooAKKKKACikbO07cZxxmuUe28feY3l6joIXPANtLnH/fVAFnxF4yg8N31pb3OnXs6XMqRefCgKIzHA3EmrOveJrbQba3eSCe6munCQW1uAZJCRnABI9K5n4g3TWvhfTI9ZvLMXv9o25fy22A4bkgE5xT9fu7eLxZ4b1KWaM2JXyhMGBRX5Oc9BwDQB1Hh/xBbeIbKSe3jlgkhkMU0EwAeJwMlSB35FatcX4HYXOveJL22O61kvmCOPuucLyPUe9dFrOkzarAscGqXmnFTnfaMAT9cg0AYvw5/5EWH/AK73H/o166Sx/wCPGL/drmPhlGYvh/bRtI0hWWcF36t+9bk109j/AMeMX+7QBYqN7eGRt0kUbn1ZQakrBv8AxbZ2V0YBG0pBwzKeBTSb2NIU51HaKubwAAwBge1FQWV5Ff2qzwHKt+lT0iGmnZhVSfStOupjLc2FrNIRgvJCrNj6kVbrlfFuo67pO+8sNQ0i2s44i3l3it5kjDJIUggc8UCOoiijhjEcMaxovRUXAH4U6s3w/qjazoFnfyRGF54ldkI6EjNaVABRRRQAUUUUAVrD/Uv/ANdG/nVmq1h/qX/66N/OrNABRRRQAUUUUAFFFFABRRRQAUUUUAFFFFABRRRQAUUUUAFFFFABRRRQAUUUUAFFFFABRRRQAUUUUAFFFFABRRRQAVxWpvaW/iaRUskMiRmXeSeSOeldrXH+LLm3stSglNsGk6l/X2oOPGaU+bszHttcv9RvRbXEjeXIcALxs/KtceLJdNtLWK5j8yRly5PXGazXM7yrcaesEEcvJmXhvfg9a6C78KWupvFcSO6uVG7H8VM4aSrtPkd2akt61xob3dmDuaIsg75xXF+HdQ1OTXkVmkdXb94D2Fd7a2yWtqlvGPkRdozT1hjRiyIoJ6kCkd9ShOpKMua1h9FFFB1hRRRQAUUUUAFFFFAHMfEf/knOs/8AXD/2YV0Vr/x5w/8AXNf5VzvxH/5JzrP/AFw/9mFdFa/8ecP/AFzX+VAEtFFFABRRRQAUUUUAFFFFABRRRQAUUUUAFFFFABRRRQBmap4b0XW5EfWNKtL10+608Icj86e+gaTJpa6a+m2zWSfdtzENg/DpWhRQBBZWNrp1qttYW8dtAn3Y4lCqPwFT0UUAcn8Of+RFh/673H/o166Sx/48Yv8Adrm/hxz4Gh/673H/AKNet+1uYoLdIpn2OgwQaALtedapoF/FqEnlwPKrsSGUZ613v262/wCey0fbrb/nstXGTidOHxEqDbXUo+HNPl07SRFP99m3Eela1V/t1t/z2Wj7dbf89lqW7u5jObnJyfUsVxXje+0q6jl0zVPD95qUqxsbd0sjKiORgENj5TnHNdb9utv+ey0fbrb/AJ7LSIM3whbXtp4VsodT4nSMDaTkqMcA+4raqv8Abrb/AJ7LR9utv+ey0AWKKr/brb/nstH262/57LQBYoqv9utv+ey0fb7b/nqDQAlh/qX/AOujfzqzVexUi3O4Y3OzD6E1YoAKKKKACiiigAooooAKKKKACiiigAooooAKKKKACiiigAooooAKKKKACiiigAooooAKKKKACiiigAooooAKKKKAIL25FnZyTsMhFziuOs9di8Q6itrqVqpRj8hHVa7aWNZomjkGVYYIrLsPDen6fd/aII/n7ZPSg5a1OrOceV+71LI0ewCxj7NHiP7uVHFXQABgcCiig6FFR2QUUUUFBRRRQAUUUUAFFFFABRRRQBzHxH/5JzrP/XD/ANmFdFa/8ecP/XNf5VzvxH/5JzrP/XD/ANmFdFa/8ecP/XNf5UAS0UUUAFFFFABRRRQAUUUUAFFFFABRRRQAUUUUAFFFFABRRRQAUUUUAea+C/GukaL4aSw1H7ZFcRXE+5RZSnGZWI5C+hre/wCFkeG/795/4ATf/E11lFAHJf8ACyPDf9+8/wDACb/4mj/hZHhv+/ef+AE3/wATXW0UAcl/wsjw3/fvP/ACb/4mj/hZHhv+/ef+AE3/AMTXW0UAckfiT4aUEl7wAdT9gm/+JpkPxO8L3EKywTXUkbjKstjKQR9dtdZcRma1ljHBdCo/EVmeFNJk0Lwpp+mTsHktYRGzDoTQBk/8LI8N/wB+8/8AACb/AOJo/wCFkeG/795/4ATf/E11tFAHJf8ACyPDf9+8/wDACb/4mj/hZHhv+/ef+AE3/wATXW0UAcl/wsjw3/fvP/ACb/4mj/hZHhv+/ef+AE3/AMTXW0UAcn/wsnw5/wA9L3/wAm/+Jo/4WV4d/wCel7/4ATf/ABNdZRQByf8Awsrw7/z0vf8AwAm/+Jo/4WV4d/56Xv8A4ATf/E11lFAHJ/8ACyvDv/PS9/8AACb/AOJpH+JnhuONnea8VVGSTYzYA/75rraqaratf6Ne2iHDXFvJEpPYspH9aAOdT4m+GpI1eOa8ZGGVYWMxBH/fNL/wsrw7/wA9L3/wAm/+Jrf0azbTtDsbKQgvb28cTEdyqgf0q7QByf8Awsrw7/z0vf8AwAm/+Jo/4WV4d/56Xv8A4ATf/E11lFAHJ/8ACyvDv/PS9/8AACb/AOJo/wCFleHf+el7/wCAE3/xNdZRQByf/CyvDv8Az0vf/ACb/wCJo/4WV4d/56Xv/gBN/wDE11lFAHJ/8LK8O/8APS9/8AJv/iaP+FleHf8Anpe/+AE3/wATXWUUAcn/AMLK8O/89L3/AMAJv/iaP+FleHf+el7/AOAE3/xNdZRQByE3xP8ADFvC0s9xdxxoMszWMoAH1208fEvw4ygrLeEEZBFjNz/47Wr4r0mTXfCepaXAwSS7t2iVj0BNaVrEYLOGJuTHGqn8BigDmP8AhZXh3/npe/8AgBN/8TR/wsrw7/z0vf8AwAm/+JrrKKAOT/4WV4d/56Xv/gBN/wDE0f8ACyvDv/PS9/8AACb/AOJrrKKAOT/4WV4d/wCel7/4ATf/ABNH/CyvDv8Az0vf/ACb/wCJrrKKAOT/AOFleHf+el7/AOAE3/xNH/CyvDv/AD0vf/ACb/4musooA5P/AIWV4d/56Xv/AIATf/E0f8LK8O/89L3/AMAJv/ia6yigDk/+FleHf+el7/4ATf8AxNMm+KHhi3jMk9xdxoMAs1lKAM/8Brr6x/FekS674dmsIGCPI8bAn/ZdW/pQBl/8LK8O/wDPS9/8AJv/AImj/hZXh3/npe/+AE3/AMTXWUUAcn/wsrw7/wA9L3/wAm/+Jo/4WV4d/wCel7/4ATf/ABNdZRQByf8Awsrw7/z0vf8AwAm/+Jo/4WV4d/56Xv8A4ATf/E11lFAHJ/8ACyvDv/PS9/8AACb/AOJo/wCFleHf+el7/wCAE3/xNdZRQByf/CyvDv8Az0vf/ACb/wCJo/4WV4d/56Xv/gBN/wDE11lFAHJ/8LK8O/8APS9/8AJv/iaP+FleHf8Anpe/+AE3/wATXWUUAchL8UPDECq01xdxhmCgtZSjJPQfdp//AAsrw7/z0vf/AAAm/wDia0vFGjS63Y2cMDhTBfQ3JJ7hGyRW1QByf/CyvDv/AD0vf/ACb/4mj/hZXh3/AJ6Xv/gBN/8AE11lFAHm3jbxzo2reC9SsbD7bLcTxbY0+wyjJ3D1WvRLbi0hz/cX+VS0UAFFFFABRRRQAUUUUAFFFFABRRRQAUUUUAFFFFABRRRQAUUUUAFFFFABRRRQAUUUUAFRm5gUkNNGCOoLCpK5y6+H/hW9upLm60W3kmlYs7ktliep60AUviHPq9t4Zm1PQdXNl9lUO2yNX8z5gMcg+tHiXXdQtPDumx6fKEv9QdY1mIB28jcceuDVbxlo09h4IuNE8I+HmuRcgLshmVBH8wOTuPPSo9Q0/W9Y8J6fcLpL2Wp6dMrJayyqxkHG7kHHIzQBf8MX+p2viTUdA1m+bUHt0jkhuWRUZwwJIIXjjiuurkfDFhqd14k1HX9ZsW097hI4obZnV2QKCCSV454rrqACiiigAooooAKKKKACiiigBryJGMyOqj1Y4qrf3qR6bdSW8yeakLsmGB5Ckimavoem69bLb6vaJdRI25UfOAfXisqDwN4b0pzeabokC3Makx7Sck46cnHNAHNeANdn1m7Vr3xg91c7n36cbdFwAfXGa9JrgJbLWPEPiPSpZfDzaNFYTiZ7h5UYyAH7o2nofeu/oAKKKKACiiigAooooAKKKKACiiigDjfEWoatf+MbTw9o2oNpqtbPcTXKRq7AgrhQGGOQ36Vf8Fa1c6xorrqBDXlpIYZ3A4ZuufyIrP8AEVhq1h4xtPEOjae2pKts9vNbJIqMSSuGBY442/rWh4J0W50fRXbUQFvLuQzToDkKemPyAoA6OiiigAooooAKKKKACiiigAooooAK4X4la5eaNJoMdrqzaTb3d28dzdLEH2qIyRwQe4Fd1WN4gvL2zjhax0J9YJY5RJETZx1+agBfC0yz6Iki60daDMSLooqZHpgAdK2K5TwPo99p6ahd6hbiza9uGlW0DA+UCc8kcZ+ldXQAUUUUAFFFFABRRRQAUUUUAFUtXgu7jSpotOujaXDD5Jgobb+B4q7VTU57i202aWztHvJlX5YEcKX/ABPFAHntj4r1m0+H80t3em71FtYbTIrlkVSCX2K2AMcVs6Df6xpfjAeHtc1BtSa4tDdxTNGqFQpClcKPU1zGm6F4kvvDF3YXugS2E8erHVLdpLiNg5D71Tg9eMZrp9BsNY1TxgPEOuae2mtb2htIoWkVywYhi2VPqKAO0ooooAKKKKACiiigAooooAKKKKACiiigAooooAKKKKACiiigAooooAKKKKACiiigAooooAKKKKACiiigAooooAKKKKACiiigAooooAKKKKACiiigAooooAKKKKACiiigAooooAKKKKACiiigAooPIOOPevMbnxTri/EA+DYr5BNJL9qS8Kj5YQc+VjGM4Uj8aAPTqKQAhQCcnHX1paACiiigAooooAKKKKACiiigAooooAKKKKACiiigAooooAKKKKACiiigAooooAKKKKACiiigAooooAKKKKACiiigAooooAKKKKACiiigAooooAKKKKACiiigAooooAKKKKACiiigAooooAKKKKACiiigAooooAKKKKACiiigAooooAKKKKACiiigAooooAKKKKACiiigAooooAKKKKACiiigBGGVIyRkdR2rl5fAGlyxsXln+1Ndi6+17h5obIOM46cV1NFACKNqgEk4GMnvS0UUAFFFFABRRRQAUUUUAFFFFABRRRQAUUUUAFFFFABRRRQAUUUUAFFFFABRRRQAUUUUAFFFFABRRRQAUUUUAFFFFABRRRQAUUUUAFFFFABRRRQAUUUUAFFFFABRRRQAUUUUAFFFFABRRRQAUUUUAFFFFABRRRQAUUUUAFFFFABRRRQAUUUUAFFFFABRRRQAUUUUAFFFFABRRRQAUUUUAFFFFABRRRQAUUUUAFFFFABRRRQAUUUUAFFFFABRRRQAUUUUAFFFFABRRRQAUUUUAFFFFABRRRQAUUUUAFFFFABRRRQAUUUUAFFFFABRRRQAUUUUAf/Z)"
      ]
    },
    {
      "cell_type": "markdown",
      "metadata": {
        "id": "gwr8yqmbLubW"
      },
      "source": [
        "5번째 실행결과\n",
        ">![5.JPG](data:image/jpeg;base64,/9j/4AAQSkZJRgABAQEAkACQAAD/4RDuRXhpZgAATU0AKgAAAAgABAE7AAIAAAAMAAAISodpAAQAAAABAAAIVpydAAEAAAAYAAAQzuocAAcAAAgMAAAAPgAAAAAc6gAAAAgAAAAAAAAAAAAAAAAAAAAAAAAAAAAAAAAAAAAAAAAAAAAAAAAAAAAAAAAAAAAAAAAAAAAAAAAAAAAAAAAAAAAAAAAAAAAAAAAAAAAAAAAAAAAAAAAAAAAAAAAAAAAAAAAAAAAAAAAAAAAAAAAAAAAAAAAAAAAAAAAAAAAAAAAAAAAAAAAAAAAAAAAAAAAAAAAAAAAAAAAAAAAAAAAAAAAAAAAAAAAAAAAAAAAAAAAAAAAAAAAAAAAAAAAAAAAAAAAAAAAAAAAAAAAAAAAAAAAAAAAAAAAAAAAAAAAAAAAAAAAAAAAAAAAAAAAAAAAAAAAAAAAAAAAAAAAAAAAAAAAAAAAAAAAAAAAAAAAAAAAAAAAAAAAAAAAAAAAAAAAAAAAAAAAAAAAAAAAAAAAAAAAAAAAAAAAAAAAAAAAAAAAAAAAAAAAAAAAAAAAAAAAAAAAAAAAAAAAAAAAAAAAAAAAAAAAAAAAAAAAAAAAAAAAAAAAAAAAAAAAAAAAAAAAAAAAAAAAAAAAAAAAAAAAAAAAAAAAAAAAAAAAAAAAAAAAAAAAAAAAAAAAAAAAAAAAAAAAAAAAAAAAAAAAAAAAAAAAAAAAAAAAAAAAAAAAAAAAAAAAAAAAAAAAAAAAAAAAAAAAAAAAAAAAAAAAAAAAAAAAAAAAAAAAAAAAAAAAAAAAAAAAAAAAAAAAAAAAAAAAAAAAAAAAAAAAAAAAAAAAAAAAAAAAAAAAAAAAAAAAAAAAAAAAAAAAAAAAAAAAAAAAAAAAAAAAAAAAAAAAAAAAAAAAAAAAAAAAAAAAAAAAAAAAAAAAAAAAAAAAAAAAAAAAAAAAAAAAAAAAAAAAAAAAAAAAAAAAAAAAAAAAAAAAAAAAAAAAAAAAAAAAAAAAAAAAAAAAAAAAAAAAAAAAAAAAAAAAAAAAAAAAAAAAAAAAAAAAAAAAAAAAAAAAAAAAAAAAAAAAAAAAAAAAAAAAAAAAAAAAAAAAAAAAAAAAAAAAAAAAAAAAAAAAAAAAAAAAAAAAAAAAAAAAAAAAAAAAAAAAAAAAAAAAAAAAAAAAAAAAAAAAAAAAAAAAAAAAAAAAAAAAAAAAAAAAAAAAAAAAAAAAAAAAAAAAAAAAAAAAAAAAAAAAAAAAAAAAAAAAAAAAAAAAAAAAAAAAAAAAAAAAAAAAAAAAAAAAAAAAAAAAAAAAAAAAAAAAAAAAAAAAAAAAAAAAAAAAAAAAAAAAAAAAAAAAAAAAAAAAAAAAAAAAAAAAAAAAAAAAAAAAAAAAAAAAAAAAAAAAAAAAAAAAAAAAAAAAAAAAAAAAAAAAAAAAAAAAAAAAAAAAAAAAAAAAAAAAAAAAAAAAAAAAAAAAAAAAAAAAAAAAAAAAAAAAAAAAAAAAAAAAAAAAAAAAAAAAAAAAAAAAAAAAAAAAAAAAAAAAAAAAAAAAAAAAAAAAAAAAAAAAAAAAAAAAAAAAAAAAAAAAAAAAAAAAAAAAAAAAAAAAAAAAAAAAAAAAAAAAAAAAAAAAAAAAAAAAAAAAAAAAAAAAAAAAAAAAAAAAAAAAAAAAAAAAAAAAAAAAAAAAAAAAAAAAAAAAAAAAAAAAAAAAAAAAAAAAAAAAAAAAAAAAAAAAAAAAAAAAAAAAAAAAAAAAAAAAAAAAAAAAAAAAAAAAAAAAAAAAAAAAAAAAAAAAAAAAAAAAAAAAAAAAAAAAAAAAAAAAAAAAAAAAAAAAAAAAAAAAAAAAAAAAAAAAAAAAAAAAAAAAAAAAAAAAAAAAAAAAAAAAAAAAAAAAAAAAAAAAAAAAAAAAAAAAAAAAAAAAAAAAAAAAAAAAAAAAAAAAAAAAAAAAAAAAAAAAAAAAAAAAAAAAAAAAAAAAAAAAAAAAAAAAAAAAAAAAAAAAAAAAAAAAAAAAAAAAAAAAAAAAAAAAAAAAAAAAAAAAAAAAAAAAAAAAAAAAAAAAAAAAAAAAAAAAAAAAAAAAAAAAAAAAAAAAAAAAAAAAAAAAAAAAAAAAAAAAAAAAAAAAAAAAAAAAAAAAAAAAAAAAAAAAAAAAAAAAAAAAAAAAAAAAAAAAAAAAAAAAAAAAAAAAAAAAAAAAAAAAAAAAAAAAAAAAAAAAAAAAAAAAAAAAAAAAAAAAAAAAAAAAAAAAAAAAAAAAAAAAAAAAAAAAAAAAAAAAAAAAAAAAAAAAAAAAAAAAAAAAAAAAAAAAAAAAAAAAAAAAAAAAAAAAAAAAAAAAAAAAAAAAAAAAAAAAAAAAAAAAAAAAAAAAAAAAAAAAAAAAAAAAAAAAAAAAAAAAAAAAAAAAAAAAAAAAAAAAAAAAAAAAAAAAAAAAAAAAAAAAAAAAAAAAAAAAAAAAAAAAAAAAAAAAAAAAAAAAAAAAAAAAAAAAAAAAAAAAAAAAAAAAAAAAAAAAAAAAAAAAAAAAAAAAAAAAAAAAAAAAAAAAAAAAAAAAAAAAAAAAAAAAAAAAAAAAAAAAAAAAAAAAAAAAAAAAAAAAAAAAAAAAAAAAAAAAAAAAAAAAAAAAAAAAAAAAAAAAAAAAAAAAAAAAAAAAAAAAAAAAAAAAAAAAAAAAAAAAAAAAAAAAAAAAAAAAAAAAAAAAAAAAAAAAAAAAAAAAAAAAAAAAAAAAAAAAAAAAAAAAAAAAAAAAAAAAAAAAAAAAAAAAAAAAAAAAAAAAAAAAAAAAAAAAAAAAAAAAAAAAAAAAAAAAAAAAAAAAAAAAAAAAAAAAAAAAAAAAAAAAAAAAAAAAAAAAAAAAAAEppd29uIEh3YW5nAAAFkAMAAgAAABQAABCkkAQAAgAAABQAABC4kpEAAgAAAAMyOAAAkpIAAgAAAAMyOAAA6hwABwAACAwAAAiYAAAAABzqAAAACAAAAAAAAAAAAAAAAAAAAAAAAAAAAAAAAAAAAAAAAAAAAAAAAAAAAAAAAAAAAAAAAAAAAAAAAAAAAAAAAAAAAAAAAAAAAAAAAAAAAAAAAAAAAAAAAAAAAAAAAAAAAAAAAAAAAAAAAAAAAAAAAAAAAAAAAAAAAAAAAAAAAAAAAAAAAAAAAAAAAAAAAAAAAAAAAAAAAAAAAAAAAAAAAAAAAAAAAAAAAAAAAAAAAAAAAAAAAAAAAAAAAAAAAAAAAAAAAAAAAAAAAAAAAAAAAAAAAAAAAAAAAAAAAAAAAAAAAAAAAAAAAAAAAAAAAAAAAAAAAAAAAAAAAAAAAAAAAAAAAAAAAAAAAAAAAAAAAAAAAAAAAAAAAAAAAAAAAAAAAAAAAAAAAAAAAAAAAAAAAAAAAAAAAAAAAAAAAAAAAAAAAAAAAAAAAAAAAAAAAAAAAAAAAAAAAAAAAAAAAAAAAAAAAAAAAAAAAAAAAAAAAAAAAAAAAAAAAAAAAAAAAAAAAAAAAAAAAAAAAAAAAAAAAAAAAAAAAAAAAAAAAAAAAAAAAAAAAAAAAAAAAAAAAAAAAAAAAAAAAAAAAAAAAAAAAAAAAAAAAAAAAAAAAAAAAAAAAAAAAAAAAAAAAAAAAAAAAAAAAAAAAAAAAAAAAAAAAAAAAAAAAAAAAAAAAAAAAAAAAAAAAAAAAAAAAAAAAAAAAAAAAAAAAAAAAAAAAAAAAAAAAAAAAAAAAAAAAAAAAAAAAAAAAAAAAAAAAAAAAAAAAAAAAAAAAAAAAAAAAAAAAAAAAAAAAAAAAAAAAAAAAAAAAAAAAAAAAAAAAAAAAAAAAAAAAAAAAAAAAAAAAAAAAAAAAAAAAAAAAAAAAAAAAAAAAAAAAAAAAAAAAAAAAAAAAAAAAAAAAAAAAAAAAAAAAAAAAAAAAAAAAAAAAAAAAAAAAAAAAAAAAAAAAAAAAAAAAAAAAAAAAAAAAAAAAAAAAAAAAAAAAAAAAAAAAAAAAAAAAAAAAAAAAAAAAAAAAAAAAAAAAAAAAAAAAAAAAAAAAAAAAAAAAAAAAAAAAAAAAAAAAAAAAAAAAAAAAAAAAAAAAAAAAAAAAAAAAAAAAAAAAAAAAAAAAAAAAAAAAAAAAAAAAAAAAAAAAAAAAAAAAAAAAAAAAAAAAAAAAAAAAAAAAAAAAAAAAAAAAAAAAAAAAAAAAAAAAAAAAAAAAAAAAAAAAAAAAAAAAAAAAAAAAAAAAAAAAAAAAAAAAAAAAAAAAAAAAAAAAAAAAAAAAAAAAAAAAAAAAAAAAAAAAAAAAAAAAAAAAAAAAAAAAAAAAAAAAAAAAAAAAAAAAAAAAAAAAAAAAAAAAAAAAAAAAAAAAAAAAAAAAAAAAAAAAAAAAAAAAAAAAAAAAAAAAAAAAAAAAAAAAAAAAAAAAAAAAAAAAAAAAAAAAAAAAAAAAAAAAAAAAAAAAAAAAAAAAAAAAAAAAAAAAAAAAAAAAAAAAAAAAAAAAAAAAAAAAAAAAAAAAAAAAAAAAAAAAAAAAAAAAAAAAAAAAAAAAAAAAAAAAAAAAAAAAAAAAAAAAAAAAAAAAAAAAAAAAAAAAAAAAAAAAAAAAAAAAAAAAAAAAAAAAAAAAAAAAAAAAAAAAAAAAAAAAAAAAAAAAAAAAAAAAAAAAAAAAAAAAAAAAAAAAAAAAAAAAAAAAAAAAAAAAAAAAAAAAAAAAAAAAAAAAAAAAAAAAAAAAAAAAAAAAAAAAAAAAAAAAAAAAAAAAAAAAAAAAAAAAAAAAAAAAAAAAAAAAAAAAAAAAAAAAAAAAAAAAAAAAAAAAAAAAAAAAAAAAAAAAAAAAAAAAAAAAAAAAAAAAAAAAAAAAAAAAAAAAAAAAAAAAAAAAAAAAAAAAAAAAAAAAAAAAAAAAAAAAAAAAAAAAAAAAAAAAAAAAAAAAAAAAAAAAAAAAAAAAAAAAAAAAAAAAAAAAAAAAAAAAAAAAAAAAAAAAAAAAAAAAAAAAAAAAAAAAAAAAAAAAAAAAAAAAAAAAAAAAAAAAAAAAAAAAAAAAAAAAAAAAAAAAAAAAAAAAAAAAAAAAAAAAAAAAAAAAAAAAAAAAAAAAAAAAAAAAAAAAAAAAAAAAAAAAAAAAAAAAAAAAAAAAAAAAAAAAAAAAAAAAAAAAAAAAAAAAAAAAAAAAAAAAAAAAAAAAAAAAAAAAAAAAAAAAAAAAAAAAAAAAAAAAAAAAAAAAAAAAAAAAAAAAAAAAAAAAAAAAAAAAAAAAAAAAAAAAAAAAAAAAAAAAAAAAAAAAAAAAAAAAAAAAAAAAAAAAAAAAAAAAAAAAAAAAAAAAAAAAAAAAAAAAAAAAAAAAAAAAAAAAAAAAAAAAAAAAAAAAAAAAAAAAAAAAAAAAAAAAAAAAAAAAAAAAAAAAAAAAAAAAAAAAAAAAAAAAAAAAAAAAAAAAAAAAAAAAAAAAAAAAAAAAAAAAAAAAAAAAAAAAAAAAAAAAAAAAAAAAAAAAAAAAAAAAAAAAAAAAAAAAAAAAAAAAAAAAAAAAAAAAAAAAAAAAAAAAAAAAAAAAAAAAAAAAAAAAAAAAAAAAAAAAAAAAAAAAAAAAAAAAAAAAAAAAAAAAAAAAAAAAAAAAAAAAAAAAAAAAAAAAAAAAAAAAAAAAAAAAAAAAAAAAAAAAAAAAAAAAAAAAAAAAAAAAAAAAAAAAAAAAAAAAAAAAAAAAAAAAAAAAAAAAAAAAAAAAAAAAAAAAAAAAAAAAAAAAAAAAAAAMjAyMTowNToyOCAxMzoxMjozMQAyMDIxOjA1OjI4IDEzOjEyOjMxAAAASgBpAHcAbwBuACAASAB3AGEAbgBnAAAA/+ELHmh0dHA6Ly9ucy5hZG9iZS5jb20veGFwLzEuMC8APD94cGFja2V0IGJlZ2luPSfvu78nIGlkPSdXNU0wTXBDZWhpSHpyZVN6TlRjemtjOWQnPz4NCjx4OnhtcG1ldGEgeG1sbnM6eD0iYWRvYmU6bnM6bWV0YS8iPjxyZGY6UkRGIHhtbG5zOnJkZj0iaHR0cDovL3d3dy53My5vcmcvMTk5OS8wMi8yMi1yZGYtc3ludGF4LW5zIyI+PHJkZjpEZXNjcmlwdGlvbiByZGY6YWJvdXQ9InV1aWQ6ZmFmNWJkZDUtYmEzZC0xMWRhLWFkMzEtZDMzZDc1MTgyZjFiIiB4bWxuczpkYz0iaHR0cDovL3B1cmwub3JnL2RjL2VsZW1lbnRzLzEuMS8iLz48cmRmOkRlc2NyaXB0aW9uIHJkZjphYm91dD0idXVpZDpmYWY1YmRkNS1iYTNkLTExZGEtYWQzMS1kMzNkNzUxODJmMWIiIHhtbG5zOnhtcD0iaHR0cDovL25zLmFkb2JlLmNvbS94YXAvMS4wLyI+PHhtcDpDcmVhdGVEYXRlPjIwMjEtMDUtMjhUMTM6MTI6MzEuMjc2PC94bXA6Q3JlYXRlRGF0ZT48L3JkZjpEZXNjcmlwdGlvbj48cmRmOkRlc2NyaXB0aW9uIHJkZjphYm91dD0idXVpZDpmYWY1YmRkNS1iYTNkLTExZGEtYWQzMS1kMzNkNzUxODJmMWIiIHhtbG5zOmRjPSJodHRwOi8vcHVybC5vcmcvZGMvZWxlbWVudHMvMS4xLyI+PGRjOmNyZWF0b3I+PHJkZjpTZXEgeG1sbnM6cmRmPSJodHRwOi8vd3d3LnczLm9yZy8xOTk5LzAyLzIyLXJkZi1zeW50YXgtbnMjIj48cmRmOmxpPkppd29uIEh3YW5nPC9yZGY6bGk+PC9yZGY6U2VxPg0KCQkJPC9kYzpjcmVhdG9yPjwvcmRmOkRlc2NyaXB0aW9uPjwvcmRmOlJERj48L3g6eG1wbWV0YT4NCiAgICAgICAgICAgICAgICAgICAgICAgICAgICAgICAgICAgICAgICAgICAgICAgICAgICAgICAgICAgICAgICAgICAgICAgICAgICAgICAgICAgICAgICAgICAgICAgICAgICAKICAgICAgICAgICAgICAgICAgICAgICAgICAgICAgICAgICAgICAgICAgICAgICAgICAgICAgICAgICAgICAgICAgICAgICAgICAgICAgICAgICAgICAgICAgICAgICAgICAgIAogICAgICAgICAgICAgICAgICAgICAgICAgICAgICAgICAgICAgICAgICAgICAgICAgICAgICAgICAgICAgICAgICAgICAgICAgICAgICAgICAgICAgICAgICAgICAgICAgICAgCiAgICAgICAgICAgICAgICAgICAgICAgICAgICAgICAgICAgICAgICAgICAgICAgICAgICAgICAgICAgICAgICAgICAgICAgICAgICAgICAgICAgICAgICAgICAgICAgICAgICAKICAgICAgICAgICAgICAgICAgICAgICAgICAgICAgICAgICAgICAgICAgICAgICAgICAgICAgICAgICAgICAgICAgICAgICAgICAgICAgICAgICAgICAgICAgICAgICAgICAgIAogICAgICAgICAgICAgICAgICAgICAgICAgICAgICAgICAgICAgICAgICAgICAgICAgICAgICAgICAgICAgICAgICAgICAgICAgICAgICAgICAgICAgICAgICAgICAgICAgICAgCiAgICAgICAgICAgICAgICAgICAgICAgICAgICAgICAgICAgICAgICAgICAgICAgICAgICAgICAgICAgICAgICAgICAgICAgICAgICAgICAgICAgICAgICAgICAgICAgICAgICAKICAgICAgICAgICAgICAgICAgICAgICAgICAgICAgICAgICAgICAgICAgICAgICAgICAgICAgICAgICAgICAgICAgICAgICAgICAgICAgICAgICAgICAgICAgICAgICAgICAgIAogICAgICAgICAgICAgICAgICAgICAgICAgICAgICAgICAgICAgICAgICAgICAgICAgICAgICAgICAgICAgICAgICAgICAgICAgICAgICAgICAgICAgICAgICAgICAgICAgICAgCiAgICAgICAgICAgICAgICAgICAgICAgICAgICAgICAgICAgICAgICAgICAgICAgICAgICAgICAgICAgICAgICAgICAgICAgICAgICAgICAgICAgICAgICAgICAgICAgICAgICAKICAgICAgICAgICAgICAgICAgICAgICAgICAgICAgICAgICAgICAgICAgICAgICAgICAgICAgICAgICAgICAgICAgICAgICAgICAgICAgICAgICAgICAgICAgICAgICAgICAgIAogICAgICAgICAgICAgICAgICAgICAgICAgICAgICAgICAgICAgICAgICAgICAgICAgICAgICAgICAgICAgICAgICAgICAgICAgICAgICAgICAgICAgICAgICAgICAgICAgICAgCiAgICAgICAgICAgICAgICAgICAgICAgICAgICAgICAgICAgICAgICAgICAgICAgICAgICAgICAgICAgICAgICAgICAgICAgICAgICAgICAgICAgICAgICAgICAgICAgICAgICAKICAgICAgICAgICAgICAgICAgICAgICAgICAgICAgICAgICAgICAgICAgICAgICAgICAgICAgICAgICAgICAgICAgICAgICAgICAgICAgICAgICAgICAgICAgICAgICAgICAgIAogICAgICAgICAgICAgICAgICAgICAgICAgICAgICAgICAgICAgICAgICAgICAgICAgICAgICAgICAgICAgICAgICAgICAgICAgICAgICAgICAgICAgICAgICAgICAgICAgICAgCiAgICAgICAgICAgICAgICAgICAgICAgICAgICAgICAgICAgICAgICAgICAgICAgICAgICAgICAgICAgICAgICAgICAgICAgICAgICAgICAgICAgICAgICAgICAgICAgICAgICAKICAgICAgICAgICAgICAgICAgICAgICAgICAgICAgICAgICAgICAgICAgICAgICAgICAgICAgICAgICAgICAgICAgICAgICAgICAgICAgICAgICAgICAgICAgICAgICAgICAgIAogICAgICAgICAgICAgICAgICAgICAgICAgICAgICAgICAgICAgICAgICAgICAgICAgICAgICAgICAgICAgICAgICAgICAgICAgICAgICAgICAgICAgICAgICAgICAgICAgICAgCiAgICAgICAgICAgICAgICAgICAgICAgICAgICAgICAgICAgICAgICAgICAgICAgICAgICAgICAgICAgICAgICAgICAgICAgICAgICAgICAgICAgICAgICAgICAgICAgICAgICAKICAgICAgICAgICAgICAgICAgICAgICAgICAgICAgICAgICAgICAgICAgICAgICAgICAgICAgICAgICAgICAgICAgICAgICAgICAgICAgICAgICAgICAgICAgICAgICAgICAgIAogICAgICAgICAgICAgICAgICAgICAgICAgICAgPD94cGFja2V0IGVuZD0ndyc/Pv/bAEMABwUFBgUEBwYFBggHBwgKEQsKCQkKFQ8QDBEYFRoZGBUYFxseJyEbHSUdFxgiLiIlKCkrLCsaIC8zLyoyJyorKv/bAEMBBwgICgkKFAsLFCocGBwqKioqKioqKioqKioqKioqKioqKioqKioqKioqKioqKioqKioqKioqKioqKioqKioqKv/AABEIAbACeQMBIgACEQEDEQH/xAAfAAABBQEBAQEBAQAAAAAAAAAAAQIDBAUGBwgJCgv/xAC1EAACAQMDAgQDBQUEBAAAAX0BAgMABBEFEiExQQYTUWEHInEUMoGRoQgjQrHBFVLR8CQzYnKCCQoWFxgZGiUmJygpKjQ1Njc4OTpDREVGR0hJSlNUVVZXWFlaY2RlZmdoaWpzdHV2d3h5eoOEhYaHiImKkpOUlZaXmJmaoqOkpaanqKmqsrO0tba3uLm6wsPExcbHyMnK0tPU1dbX2Nna4eLj5OXm5+jp6vHy8/T19vf4+fr/xAAfAQADAQEBAQEBAQEBAAAAAAAAAQIDBAUGBwgJCgv/xAC1EQACAQIEBAMEBwUEBAABAncAAQIDEQQFITEGEkFRB2FxEyIygQgUQpGhscEJIzNS8BVictEKFiQ04SXxFxgZGiYnKCkqNTY3ODk6Q0RFRkdISUpTVFVWV1hZWmNkZWZnaGlqc3R1dnd4eXqCg4SFhoeIiYqSk5SVlpeYmZqio6Slpqeoqaqys7S1tre4ubrCw8TFxsfIycrS09TV1tfY2dri4+Tl5ufo6ery8/T19vf4+fr/2gAMAwEAAhEDEQA/APpGiiigAooooAKKKKACiiigAooooAKKKKACiiigAooooAKKKKACiiigAooooAKKKKACiiigAooooAKKKKACiiigAooooAKKKKACiiigAooooAKKKKACiiigAooooAKKKKACiiigAooooAKKKKACiiigAooooAKKKKACiiigAooooAKKKKACiiigAooooAKKKKACiiigAooooAKKKKACiiigAooooAKKKKACiiigAooooAKKKKACiiigAooooAKKKKACiiigAooooAKKKKACiiigAooooAKKKKACiiigAooooAKKKKACiiigAooooAKKKKACiiigAooooAKKKKACiiigAooooAKKKKACiiigAooooAKKKKACiiigAooooAKKKKACiiigAooooAKKKKACiiigAooooAKKKKACiiigAooooAKKKKACiiigAooooAKKKKAOSfx2zalfWlj4d1e+FjcG3kmt40KFgATjLD1pf+E1vf8AoT9e/wC/Kf8AxVL4K/5CHif/ALDMv/oCV1dAHJ/8Jre/9Cfr3/flP/iqP+E1vf8AoT9e/wC/Kf8AxVdZRQByf/Ca3v8A0J+vf9+U/wDiqP8AhNb3/oT9e/78p/8AFV1lFAHJ/wDCa3v/AEJ+vf8AflP/AIqj/hNb3/oT9e/78p/8VXWUUAcn/wAJre/9Cfr3/flP/iqP+E1vf+hP17/vyn/xVdZRQByf/Ca3v/Qn69/35T/4qj/hNb3/AKE/Xv8Avyn/AMVXWUm4E4BFAHKf8Jre/wDQn69/35T/AOKo/wCE1vf+hP17/vyn/wAVXWUUAcn/AMJre/8AQn69/wB+U/8AiqP+E1vf+hP17/vyn/xVdZRQByf/AAmt7/0J+vf9+U/+Ko/4TW9/6E/Xv+/Kf/FV1lFAHJ/8Jre/9Cfr3/flP/iqP+E1vf8AoT9e/wC/Kf8AxVdZRQByf/Ca3v8A0J+vf9+U/wDiqP8AhNb3/oT9e/78p/8AFV1lFAHJ/wDCa3v/AEJ+vf8AflP/AIqj/hNb3/oT9e/78p/8VXWUUAcn/wAJre/9Cfr3/flP/iqP+E1vf+hP17/vyn/xVdZRQByf/Ca3v/Qn69/35T/4qj/hNb3/AKE/Xv8Avyn/AMVXWUUAcn/wmt7/ANCfr3/flP8A4qj/AITW9/6E/Xv+/Kf/ABVdZRQByf8Awmt7/wBCfr3/AH5T/wCKo/4TW9/6E/Xv+/Kf/FV1lFAHJ/8ACa3v/Qn69/35T/4qj/hNb3/oT9e/78p/8VXWUUAcn/wmt7/0J+vf9+U/+Ko/4TW9/wChP17/AL8p/wDFV1lFAHJ/8Jre/wDQn69/35T/AOKo/wCE1vf+hP17/vyn/wAVXWUUAcn/AMJre/8AQn69/wB+U/8AiqP+E1vf+hP17/vyn/xVdZRQByf/AAmt7/0J+vf9+U/+Ko/4TW9/6E/Xv+/Kf/FV1lFAHJ/8Jre/9Cfr3/flP/iqP+E1vf8AoT9e/wC/Kf8AxVdZRQByf/Ca3v8A0J+vf9+U/wDiqP8AhNb3/oT9e/78p/8AFV1lFAHJ/wDCa3v/AEJ+vf8AflP/AIqj/hNb3/oT9e/78p/8VXWUUAcn/wAJre/9Cfr3/flP/iqP+E1vf+hP17/vyn/xVdZRQByf/Ca3v/Qn69/35T/4qj/hNb3/AKE/Xv8Avyn/AMVXWUUAcn/wmt7/ANCfr3/flP8A4qj/AITW9/6E/Xv+/Kf/ABVdZRQByf8Awmt7/wBCfr3/AH5T/wCKo/4TW9/6E/Xv+/Kf/FV1lFAHJ/8ACa3v/Qn69/35T/4qj/hNb3/oT9e/78p/8VXWUUAcn/wmt7/0J+vf9+U/+Ko/4TW9/wChP17/AL8p/wDFV1lFAHJ/8Jre/wDQn69/35T/AOKo/wCE1vf+hP17/vyn/wAVXWUUAchN46ureCSaXwhrqxxqWYmJOABk/wAVdHpOpRaxo9pqNujpFdQrKiuPmAYZ5puuf8i9qP8A16y/+gGqHgf/AJEPRP8Arxi/9BFAG7RRRQAUUUUAFFFFABRRRQAUUUUAFFFFABRRRQAUUUUAcp4K/wCQh4n/AOwzL/6AldXXKeCv+Qh4n/7DMv8A6AldXQAUUUUAFFFFABRRRQAUUjtsRm9BmuGbxrd/215SxL5PmBNp69etaQpynsTKSjudlftMlhM1sMyhTtHvXAaDd6s/iONZHmZd58xWJwBXoytvQH1GaasESOXSNVY9SB1pwqKCatuKUbtMfRRRWRYVHPcRWsJlncIi9STUlZfiHTpdU0iS2gYK5IIz7Gqik2kxPYsWOq2eo7vskwcr1FXK5Dwp4bvNMvWubs7RgqEB6+9dfVVIxjK0XcUW2tQooorMoKKKKACiiigAooooAKKKKACiiigAooooAKKKKACiiigAooooAKKKKACiiigAooooAKKKKACiiigAooooAKKKKACiiigAooooAKKKKACiiigAooooAo65/wAi9qP/AF6y/wDoBqh4H/5EPRP+vGL/ANBFX9c/5F7Uf+vWX/0A1Q8D/wDIh6J/14xf+gigDdooooAKKKKACiiigAooooAKKKKACiiigAoopGztO3rjigBaK4TW9R8UeHLq2vrvU7W5s7i9S3FmtsFYK7YGHzyR9K7G71K00+zF1qFxHaw4BLysFA/E0Ac94K/5CHif/sMy/wDoCV1dcf4Au7e+m8SXNnMk8EmsSFJI2yrDanQ12FAGH4p1ebSNPWS2UF3bbk9qqeEtfudXMsV2uWjAIcDrXQXdnBfQmK5jDoexFMsdNtdOj2WkQQHr71qpQ9ny21Is+a5aooorIsKKKKADrWW3hzTWvvtbW6mTO78fWtSgkAZJxTUmthNJ7h06UUgYN905ps0myJyvLAEgUhivKkQzI6qPUnFKCGAKnIPcV5r/AGzqGoas0VwRs53RsPugdfxre8PeJLQSrp3mSPliI3fvz0rolQlFXM1UTZ1tRzzx20DSzMFRRkk1JVLVrAalp0lsW27hwfesFa+pb2INO8RWGqXBhtZMuOcEda1K5Hw54Un0vUjdXMg+UFVA7+9ddV1FFS9xii21qFFFFZlBRRRQAUUUUAFFFFABRRRQAUUUUAFFFFABRRRQAUUUUAFFFFABRRRQAUUUUAFFFFABRRRQAUUUUAFFFFABRRRQAUUUUAFFFFABRRRQAUUUUAFFFFAFHXP+Re1H/r1l/wDQDVDwP/yIeif9eMX/AKCKv65/yL2o/wDXrL/6AaoeB/8AkQ9E/wCvGL/0EUAbtFFFABRRRQAUUUUAFFFFABRRRQAUUUUAFIxwpOCcDoO9LRQB5hFd6xqnjprzX/DGrG1tJTHYokamIc/60/N7A16VLBDdwhLmBJEIyUkQMPyNS0UAcl4FhjguvE0cEaxxrrEoVEUAD5U7CutrlPBX/IQ8T/8AYZl/9ASuroAKKKKACiiigAooooAK57xfqEthpytCCSzYz6V0B+6cdcV5vqWpalJr0tvcI00TSbfJdcrjNb0Yc0r9jOo7I2PCuuST28/2xgCpADk9SawE1DVH14nfIzFyNvbFbPiDw/c/Y7ddKtwkZG6WNDj5v85rW8N6XeQWqnUWy2OEPJFb80IpzXXoRaTdmc/qWr/Y3jBgjLSKd77cMykYz/Oq1lb2GnX1tcp507ud0cIUZH1rqfEejNd7JrW0hmkXghx2qo3h24bT3uZdq3ghZFVeAAen5URqR5QcXc6Kzv4byMFDh/4kJ5FWq888MaZqEGtK8mY0Bw2W+97V6HXNVgoSsmaRk2tQooorIs53U/GFppuoG1KNIVPzMvQVvW063NtHNH911DCud1bwbDqOo/aVlMe85cetdDbW62trHBH92NQoz7VrP2fKuXciPNd3JaKKKyLCiiigAooooAKKKKACiiigAooooAKKKKACiiigAooooAKKKKACiiigAooooAKKKKACiiigAooooAKKKKACiiigAooooAKKKKACiiigAooooAo65/yL2o/9esv/AKAaoeB/+RD0T/rxi/8AQRV/XP8AkXtR/wCvWX/0A1Q8D/8AIh6J/wBeMX/oIoA3aKKKACiiigAooooAKKKKACiiigAooooAKKKKACiiigDlPBX/ACEPE/8A2GZf/QErq65TwV/yEPE//YZl/wDQErq6ACiiigAooooAKKKKACs/VJ7LTYWv7qJSU4DBcmtCqOsaYmr6e9rIxQNyCKqNr67Ce2hU0TxJa6y7RxApIv8ACe4rZrn9A8Lx6NM0zSmWQ8D2FdBVVOXm9zYUb21Cq2owPc6fNDC2x3QgN6VZJA68UAg9DmoWjuUcLo+ia0mtxPeSOYYXydzkg13VFFXOo5u7JjFRCiiisygooooAKKKKACiiigAooooAKKKKACiiigAooooAKKKKACis2816xsboQTy4fv8A7NaCOsiB0OVYZBp2aKcJRSbW46iiikSFFFFABRRRQAUUUUAFFFFABRRRQAUUUUAFFFFABRRRQAUUUUAFFFFABRRRQAUUUUAUdc/5F7Uf+vWX/wBANUPA/wDyIeif9eMX/oIq/rn/ACL2o/8AXrL/AOgGqHgf/kQ9E/68Yv8A0EUAbtFFFABRRRQAUUUUAFFFFABRRRQAUUUUAFFFR3G77NL5f39h2/XFAGG3jfQV1r+yjeN9p3+X/qm2bs4278bc+2a6CvIV8j/hWN3937V/bMmP73neYcfjmvSpoNSuNBgTTrxLO78pcyyReYAcc8ZFAGR4K/5CHif/ALDMv/oCV1dcZ8OoruE+Io9RuFubldXkEkqR7Ax2pzt7V2dABRRRQAUUUUAFFFFABRRRQAUUUUAc74te8EFsloXCPIFlKdQOK5lfEuoWWqCCLJijfZ5ePvY4zXo7KGGGAI96pnR7A3QuDbR+aDndtHWuiFWKjaSM5Rbd0y1C5kgRyMFlBIp9HSiuc0CiiigAooooAKKKKACiiigAooooAKKKKACiiigCKS5hicLJKisexbFSg5GRyK4TxDpmoS62zpG8isfkZR0rs7BJIrCFJjl1QA/lVyikk7nTVoxhCMlK9yxRRWfc63Y2t0IJpgHJ/KpSbMIxlJ2ijD1jwrcXuqNPDKoR8Zz2rQbWrHRVisZHLMgwSO1basHUMpyCMgiuZ1bwo19qJuIZdokOXBq1JS0kdlOrGraFd6I6SCZLiFZYjlGGQafVextRZWMVuDkRqFzViszila7tsFFFFAgooooAKKKKACiiigAooooAKKKKACiiigAooooAKKKKACiiigAooooAKKKKAKOuf8i9qP8A16y/+gGqHgf/AJEPRP8Arxi/9BFX9c/5F7Uf+vWX/wBANUPA/wDyIeif9eMX/oIoA3aKKKACiiigAooooAKKKKACiiigAooooAKKKKAOfbwPoLa1/aps2+07/M/1rbN2c7tmduffFdBRRQByngr/AJCHif8A7DMv/oCV1dcp4K/5CHif/sMy/wDoCV1dABRRRQAUUUUAFFFFABRRRQAUUUUAFFFFABRRRQAUUUUAFFFFABRRRQAUUUUAFFFFABRRRQAUUUUABx1NYHiXVpbSxBsXG7dhmHOK19Qjkl0+ZIfvshA/KuM0LSr5tRMdzG3kZ/eh+hrSCW7O3DU4NOpJ7dC3pviG9Gi3U848xo/usRj0rKgB16WQShUmHzGXPbvmu7Gm2gtDbCFREw5XFUpdBtorCeKxQRPIuNw7+1Upx6G0MTSTbirNsm0u/s5YUtre4WV41CnB9KyNX1i8TVjBA3kwwjc7Y6iq/h3w/e2eqefcjYiZHX71bmpaU17KSvl7XXa+Rzj2pe6pENUadbe6K+k+JbfUrkW4VlfGQWHWtoSIzYVgT6Zrm7LwudNM1xHKXmCMIwOxIrF0SPUhr6EiQfP+9JHBGeaHGLu0OVClU5pU5WSPQKKKKyPOCiiigAooooAKKKKACiiigAooooAKKKz9Y1eLSLUTSKXJOAo71MpKK5pbFwhKpJRitWaFFZWia7FrMblEMbIeQTWrRCcZx5o7DqU5UpOE1ZhRRRVGYUUUUAFFFFABRRRQBR1z/kXtR/69Zf8A0A1Q8D/8iHon/XjF/wCgir+uf8i9qP8A16y/+gGqHgf/AJEPRP8Arxi/9BFAG7RRRQAUUUUAFFFFABRRRQAUUUUAFFFFABRRSMwVcsQB6k0ALRTUljk/1bq/+6c06gDlPBX/ACEPE/8A2GZf/QErq65TwV/yEPE//YZl/wDQErq6ACiiigAooooAKKKKACiiigAooooAKKKKACiiigAooooAKKKKACiiigAooooAKKKKACiiigAooooAKRiEUs3AHU0tQ3kH2qzkh3Fd64yO1A1a+pWt9asbq6MEUwLg4x61frjtK8L3lrq6TzMoSNs5B612NVJJPQ3xEKcJJU3cKKKZNNHBGZJWCqvUmpOfcfSBQDkCora7gu4/Mt5FkX1FTUDaadmFFFFAgooooAKKKKACiiigAooooAKKKKACs/WNJi1e08qQ7SOVYdq0KKmUVJcsti4TlTkpReqMrRNDj0eJgrb3c8sa1GYKpLHAHU0tZuvwT3GjzR2ufMI4wfeosqUPdWxpzSr1U6j36l2G5huM+TIr467Tmpa43wnp2o2+oNJcI8UQGCG7muypUKkqkOaSsViqMaNTkjK6CiiitjmCiiigAooooAo65/yL2o/9esv/AKAaoeB/+RD0T/rxi/8AQRV/XP8AkXtR/wCvWX/0A1Q8D/8AIh6J/wBeMX/oIoA3aKKKACiiigAooooAKKKKACiiigAooooAxtb8VaZ4elij1Np1aVdy+VbvJx/wEHFUIdf0DxnDNpiG4kQgNIsttJECAc9WA9K6iszxFp15q2g3Njp199guJl2i42bto78ZHagDj/CtlaW/j+9XwvF5GkQRBJwhPlvLjtnuCDmu31S8urKyaax0+S/lHSGN1Qn8W4rB8H+GNX8M26Wl1q9vd2aKfkjsxEzN/eLZOT611VAHGfDq4nuj4imu7R7OZ9XkLQOwYodqcZHBrs65TwV/yEPE/wD2GZf/AEBK6ugAooooAKKKKACiiigAooooAKKKKACiiigAooooAKKKKACiiigAooooAKKKKACiiigAooooAKKKKACiiigArPutXghklgjcGZF3EdhWhXMXPh65/tqW4hIaKYMGyemaqKT3N6MYSb53YiHieU2s7xukjxjgBT+f0rPstVvdU82OViSo3Aj68g+1aem+FfsF201zMrw4IK46j3qDVr620iNToyRfvDh3AB/CtVy3tE9GPsXJwpK7fUr6frVtpurPDbwt5Uj7Sc+9dup3KCOhGa5DQdMs9Xb7dJEyOr5IB+UmuwAwAB0FRUtc5MY4c6S36hRRRWZxBRRRQAUUUUAFFFFABRRRQAUUUUAFMmlWGF5H+6oJNVdXupbPS5poF3Oo4Fcv4d1q91HUja3beZFIp3ZHSuepXjCah1Z2UcLOrTlVWyLtl4wW61VbYwEI7bVaunZ1VdzEAeprEtvCllbagLpNxKtuVc9DVvXbae60eaK1/wBYRxzipp+2jBupqy6/1apViqOi6lyG5gnz5MiPjrtOalrgdAjuNIvxLd7okf5Ah6sT7U5fFOo/2xs4MfmFdgXqM1lHGRUU5qzN55bNzapO6S3O8opqv+6Dt8oxk57VDDqFrcSmOGdHcdVVs13cyR5fLJ3aRYooopkhRRRQBR1z/kXtR/69Zf8A0A1Q8D/8iHon/XjF/wCgir+uf8i9qP8A16y/+gGqHgf/AJEPRP8Arxi/9BFAG7RRRQAUUUUAFFFFABRRRQAUUUUAFFFFABRRRQAUUUUAcp4K/wCQh4n/AOwzL/6AldXXKeCv+Qh4n/7DMv8A6AldXQAUUUUAFFFFABRRRQAUUUUAFFFFABRRRQAUUUUAFFFFABRRRQAUUUUAFFFFABRRRQAUUUUAFFFFABRRRQAUdKK53xdcXkFrF9kLBWJ3lRTiruxpSpupNQXU2NTt3u9Nmhhba7qQDmuU0bQLw3DQ30X+jZywbv8AStTwjcXk9nL9sLEBhsLCuhq7uF4nR7SeH5qSM1LvTNKZbMSpEey5rRBDKCOQa4rWPDd/caw8kI3xyNndn7tdhaRGC0iiY5KIAT+FKSSV0ya0IRjGUZXb3JqKKKg5QooooAKKKKACiiigAooooAKKKKAEZVdSrgEHqDVZLSzsQ8yRJHxlmAq1WH4rubq20rNpuBLYZl7VlVkoRc2tjehGVSapp2uUNc8VSWsyJYqCpGSx71u6PfnUtNjuHXazDkVy3h+2bW43GpoZVjPyuw5HtUx8UrYX62drbgW0bbMd64adeSftakvdeyPVrYWMo+wpR96O7NjXdC/tby3jlMckZ4qWx0OC22STqss6j75GK0o3EkauvRhkU6u32MObntqeX9YqqHs76Ir30Lz2MsUR2sykAiuO8P6HqNvrKyTI0aJ1Y/xV3NFTUoRqTUn0Lo4udGnKnFfEFYnii8urPTN1oCCThmH8NbdNeNJVKyKGU9Qa1qRcoOKdjGjNU6ilJXS6HMeD9QvLzzkumZ0XG0kV1NRwwRW6bYY1QegFSVNGDpwUZO5eIqxq1XOKsijrn/Ivaj/16y/+gGqHgf8A5EPRP+vGL/0EVf1z/kXtR/69Zf8A0A1Q8D/8iHon/XjF/wCgitTnN2iiigAooooAKKKKACiiigBjTRJKkTyKsj5KqTycU+uQ8eRWE8VrDdabfX9024262TlWU8ZJwRx0rA0uP4haDZy3s3k39khBjsZDiZU9OByfqaAPTqKRGLRqzDBIBI9KWgAoopk0yW8DzSsFSNSzE9gKAH0Vx3hLxtc+JfEmr2ElklvbWQja3lyd0yvkhsemAMV2DOqLl2Cj1JxQByvgr/kIeJ/+wzL/AOgJXV1yfghg194nKkEHWZcEH/YSusoAKKKKACiiigAooooAKKKKACiiigAooooAKKKKACiiigAooooAKKKKACiiigAooooAKKKKACiiigAooooAKa6LIu11DD0Ip1FACIixrtRQo9AKWiigAooooAKKKKACiiigAooooAKKKKACiimtIiffYD6mgB1Izqv3mA+ppQcjIrh/FkeonVAY/M8rGE2HFYV6vsoc1rnVhcOsRU5G7HcdelNkjSVCsihlPUEVS0RZ00eAXeRLt+bd1q/WsXzRTMJx5JtJ7ESQx20JWCNUAHRRXFSWkFzq29YFZ2fOfNx+a13VQiztxL5giQP64rGtR9pZdjpw+J9i5Pqx8S7YUU9QMU+iiug43qFQm8txP5JmTzP7uea5fxdqd7a3McVsxSMjJZe59KzYrTUNRNndoj+cXw7jsBjBrhnirTcIxu0epSwHNTVScrJnoFFNjBWNQxyQBk06u48sKKKKAKOuf8i9qP8A16y/+gGqHgf/AJEPRP8Arxi/9BFX9c/5F7Uf+vWX/wBANUPA/wDyIeif9eMX/oIoA3aKKKACiiigAooooAKKKKAEIBIJAyOhpaKKACiiigDG1vQbjWJYng1vUdMEa4K2bqof3OQawNW8Da1NpE9vp3iu+mmlK/8AIQYPGAGBIwoB5HFdxRQB5j4M0zxJYfE/V11JtP8Asy2lsjG2gdFYBSFCEnt3r0PUtKstYsza6lbrcQN1R84P5VbooA434eWNtpreI7SxhWG3i1eRUjXoo2pXZVyngr/kIeJ/+wzL/wCgJXV0AFFFFABRRRQAUUUUAFFFFABRRRQAUUUUAFFFFABRRRQAUUUUAFFFFABRRRQAUUUUAFFFFABRRRQByuu+J7jT9SNvbopVRyWHWuh0+7+22Mc+MFhyKrX+g2Wo3CzXCHeO4OM1fiiSGJY4xhVGAKtuNtDpqTpOnFRWvUfRRRUHMFFFFABRRRQAUUUUAFFFFABRRRQAUUUUAFcP4vhvn1NCgdo8fLsB4NdxSEA9RWFel7aHLex1YXEfV6nPa5Q0NZ00iEXX+s285q+VDfeAP1paK1jHlikYTlzycu4Viaz4lh0idYTG0rkZIBxituuT8U22mS3aG5uDFOeDgZ4rHEynGneDszpwUKdSso1E2vI6LTb+PUrJLmIEK3Y9qtVy9zq1v4d0u3hsB5u8ZBJ/WtTQdY/tizaUpsZW2kZop1otqm37wVsNOMXVivcvoalVnu4WV0imQyY4AYZzUlyjyW0ixHa5UgH0NcFYaZf2uuCadTHHG+55W4GPrSrVpU2kle5WFw8KsZSlKzX4jbOXVJtYEUqySBpPmV14r0KNFRAqqFA7Cq1ne2d4x+yyRu69cHmrdGHpKmm+a9wxmIdWSTjy2Ciiiuk4QooooAo65/yL2o/9esv/AKAaoeB/+RD0T/rxi/8AQRV/XP8AkXtR/wCvWX/0A1Q8D/8AIh6J/wBeMX/oIoA3aKKKACiiigAooooAKKKKACiiigAooooAKKKKACiiigDlPBX/ACEPE/8A2GZf/QErq65TwV/yEPE//YZl/wDQErqTIinDOoPuaAHUUzzo/wDnon/fQo86P/non/fQoAfRTPOj/wCeif8AfQo86P8A56J/30KAH0Uzzo/+eif99Cjzo/8Anon/AH0KAH0Uzzo/+eif99Cjzo/+eif99CgB9FM86P8A56J/30KPOj/56J/30KAH0Uzzo/8Anon/AH0KPOj/AOeif99CgB9FAIIyDke1FABRRRQAUUUUAFFFFABRRRQAUUUUAFFFFABRRRQAUUUUAFFFFABRRRQAUUUUAFFFFABRRRQAUUUUAFFFFABRRRQAUUUUAFcp4h8M3Opaj9ptnXDAAhj0rq6Kyq0o1Y8sjehiJ4efPDcwx4Zt5dJitbklmjHD+hrQ03TYNLt/JthgE5J9TVyiiNKEXdLUJ4irNcsnpuFZ+t2Ml/pcsEB2uw4960KKuUVKLizOE3CSkt0cl4W0K8sb157kbFxgL611tFFRSpRpR5YmuIxEsRPnmFFFFanOFFFFAFHXP+Re1H/r1l/9ANUPA/8AyIeif9eMX/oIq/rn/Ivaj/16y/8AoBqh4H/5EPRP+vGL/wBBFAG7RRRQAUUUUAFFFFABRRRQAUUUUAFFFFABUVzcxWdrJcXDhIo1LMx7AVl63L4jjli/4R2206ZCv7w3kroQfbaDXH+NH8Z3Hg29TULXTYBviKtaTOzffGcgjpigDrNE8XWWvXRhsrW/QbdyzT2zJG49VY8Gt2vPfDup6lpvifSNJn1JdStdQsnmAEar9m2BcKNo6fN39K7bVLO6vbJobHUJLCU9Jo0VyPwbigDA8Ff8hDxP/wBhmX/0BK37aGOYSPKgdvMYZYZ4zXMfDq3ntT4ihu7t7yZNXkDTuoUudqc4HArqrH/VSf8AXVv50AP+yW//ADxT/vmj7Jb/APPFP++amooAh+yW/wDzxT/vmj7Jb/8APFP++amooAh+yW//ADxT/vmj7Jb/APPFP++amrjde1DVtQ8ZW3h/SdQOmJ5DTS3CIrucYwAGGMcmgDpkOnSXT20ZgaeMZeMY3L9RU32S3/54p/3zXldzc6joGoeJrhL5p763tlIuWRQWO5BnA46Gum1LX9Sh1zw1bWkwP26O4aWPA/eFYiy/TmgDrja24HMMf/fNNihs54xJCkToejKARXnGjaxq11qNxZ63r95Y30qyiKxltowMZ4ZCOTj39ay9D1TWfDHwvgv01G61GW7mkigh8pMxHzG5B79D19aAPXfslv8A88U/75o+yW//ADxT/vmvNbDXvF9ra6u17BqXkR2TSwXV/bxxlZArHGEyCOBXVeB49Xl8P2mo63qr3st5bxy+WY1VYyVycEDnrQBuWY2yXCD7quAB6cVaqtbf8fN1/vj+QqzQAUUUUAFFFFABRRRQAUUUUAFFFFABRRRQAUUUUAFFFFABRRRQAUUUUAFFFFABRRRQAUUUUAFFFFABRRRQAUUUUAFFFFABRRRQAUUUUAFFFFABRRRQAUUUUAFFFFAFHXP+Re1H/r1l/wDQDVDwP/yIeif9eMX/AKCKv65/yL2o/wDXrL/6AaoeB/8AkQ9E/wCvGL/0EUAbtFFFABRRRQAUUUUAFFFFABRRRQAUUUUAFMmhjnheKZA8bgqynoQafRQBk6T4W0TQp3m0nTYbWST7zJnJ/OtaiigDlPBX/IQ8T/8AYZl/9ASuisf9VJ/11b+dc74K/wCQh4n/AOwzL/6AldFY/wCqk/66t/OgCzRRUM95bWuPtM8cWem9sZoE2lqyaimxyJKgeJg6noQcg06gYVg674Ut9bvYL1Lu50+9gUqlzaMFcKcZHIPHArerG17xTp/h1oUvFuJpp8mOC1iMsjAdSFHOBkUAUrbwPYxC8+1XVzeteReXM9wwJYZBzwOvAqrYfDq0stTs7+TVdRuprJHSAzSKdqspXHA7Z4ro9I1e01zTY77T3LwyZxuGCCDggjseKu0AcvZ+BoINai1K91W/1F4QRFHdOpWPPpgA9qit/h7YQaXc6bJfXk9lMS0cEjgrAS27Kccc5/OutooA5q18G+Va3dve65qeoR3MJhIuZFOwEEZGAOea3NOsY9M0u1sYCzR20SxIW6kKMDP5VZooArW3/Hzdf74/kKs1Wtv+Pm6/3x/IVZoAKKKKACiiigAooooAKKKKACiiigAooooAKKKKACiiigAooooAKKKKACiiigAooooAKKKKACiiigAooooAKKKKACiiigAooooAKKKKACiiigAooooAKKKKACiiigCjrn/Ivaj/ANesv/oBqh4H/wCRD0T/AK8Yv/QRV/XP+Re1H/r1l/8AQDVDwP8A8iHon/XjF/6CKAN2iiigAooooAKKKKACiiigAooooAKKKKACiiigAooooA5TwV/yEPE//YZl/wDQErorH/VSf9dW/nXO+Cv+Qh4n/wCwzL/6AldFY/6qT/rq386ALNeY+LHuDr04n3bA37vPTFenVVu9Ms74g3dukpHTcKDlxVB14cqdjnvAj3DWM4m3GIMPLz+Oa6uo4YIreIRwIEQdFFSUGlGm6dNQbvYK4jUXSD4vaY92QqPZTCFm6D7ua7es7WPD+la/AsOs2UV3Gpyokzx+VBsc58OPms9Tmi/49ZLtjBjpjocfjmu0qCysbbTrOO1sYVggjGEjQcCp6ACiiigAooooArW3/Hzdf74/kKs1Wtv+Pm6/3x/IVZoAKKKKACiiigAooooAKKKKACiiigAooooAKKKKACiiigAooooAKKKKACiiigAooooAKKKKACiiigAooooAKKKKACqZ1axF59lNwnnf3M1bYZUj2rz6Twtqba2WA/dtIW83PQE0HNiKtSnbkje56FRTY1KRKpOSBjNOoOkbLIsMTSSHCqMk1h2Xi2yvr8WqK6sTgEjg1tXEK3Fu8T/dcYNczpvg37FqouZJg6IcooH86DmrOspx9mtOp1VFFFB0hRRRQAUUUUAFFFFAFHXP+Re1H/r1l/8AQDVDwP8A8iHon/XjF/6CKv65/wAi9qP/AF6y/wDoBqh4H/5EPRP+vGL/ANBFAG7RRRQAUUUUAFFFFABRRRQAUUUUAFFFFAGfqWv6Rozomrala2bSDKCeUIWHtmuc8T+LbG78L3v/AAjes2c12gUnyp1LBc84weuM4966u50+zvWU3lpBcFRgGWINj8xWF4m8H2ur+H5rLToLeynZ0kWSOJUyUYMASB0JFAHI+AtTebxfHb2dzqotWtd80Ors293xwYw3brnHtXo+qanHpNk1zLBczqP4LaIyN+QrmNJ8P67c+LLTW/Ef2KF7G3eCGOyYsH3gZLZA9BXZ0AcZ8Or1NRPiK6jimiWXV5GCTxlHHyp1B6V1Vj/qpP8Arq38653wV/yEPE//AGGZf/QErorH/VSf9dW/nQBZrO1DXrHTJAl1Idx7KM4rRrzrxRY3MetTSurNHI2UPt6Vy4qrOlDmijvwOHp4iry1HY76zvYL+3E1s+9D+lT1zXguzuLaymecFVkIKA10ta0ZudNSkrMwxNONKrKEXdIK5TxB4s1HQ/EVhaf2Qs1hd3Edubsz7SrOcfdxz+ddXXnPxO8SaRp99olreX0cU8Op280iEElUByWOB0rU5z0aiorW6gvbWO5tZBLDIMo46EVLQAUUUUAFFFFAFa2/4+br/fH8hVmq1t/x83X++P5CrNABRRRQAUUUUAFFFFABRRRQAUUUUAFFFFABRRRQAUUUUAFFFFABRRRQAUUUUAFFFFABRRRQAUUVieKdUn0vTBJaj52bbu9KCKk1Ti5PobdFcz4R1q61NZY7v5ynIfFdNQTSqRqwU4hRRWV4juri00WWW0yHHcDpQXOShFyfQ1axPE2syaRZK0C5kc4BI4FczpXiLULXT7uaVjKEKhQ3YnNXtH1MeJ2ey1SEOANwYf596DgeLjVjyQ0k9i7o3ipZtOafUyIyrbQR/FW/aXkF9bia2cOh7iua1zwkZbWFNLAURnlCetaXhrSZdI00x3LAuzEkA8CgujKup+zmtLbm1RQDnpSOwRGY9FGaDuForjv+E1f+1/s/kL5Pmbd2eetdgrbkDDoRmgxpVoVb8j2FooooNgooooAKKKKAKOuf8i9qP/XrL/6AaoeB/wDkQ9E/68Yv/QRV/XP+Re1H/r1l/wDQDVDwP/yIeif9eMX/AKCKAN2iiigAooooAKKKKACiiigAooooAKKKKACiiigAooooA5TwV/yEPE//AGGZf/QErorH/VSf9dW/nXO+Cv8AkIeJ/wDsMy/+gJXRWP8AqpP+urfzoAs0hUN94A/UUtc5rXjCDSbr7PHF58i/fG7GKqMHN2QnJR1Z0YGOnFFZ2jazBrNp50PysvDKe1aNJpxdmCd9QqN4IpGzJEjn1ZQakrD1618Q3E0f9h6pb6fEqkyNNbCXce3cYpDNsAKMKAB6ClrnvBOuXPiDw3Hd3qr5wd42ZB8rlWIyPyroaACiiigAooooArW3/Hzdf74/kKs1Wtv+Pm6/3x/IVZoAKKKKACiiigAooooAKKKKACiiigAooooAKKKKACiiigAooooAKKKKACiiigAooooAKKKKACqepizNm39o7TD3DVcrC8VaVcappyx2uCytnBOM0GVZtU20rlzR104Wx/soIIycnbWjXCaDeW3hy5e3vZmMznDIoyqn613KOsiB0OVYZBFBnhqinC2zXQZcXMVrCZJ3CIO5NMt7u1v4C0LrInesvxVplxqemrHa8srA4JxmszQdD1DT9Nu2kOySRMIgOfxoFKrUVXkUdO50Js9OuIXtgkTKT8yKaNP0iz0zd9kiCFuprivDtpqcOtiSVJY1GTIzg4NdBB4qM+omJLOQwBtpmA4FBlSr05JSnGz2R0dc54xnvYNPT7FuCk/Oyda6MHIBHekZFdcOAw9DQddWDqQcU7XOY8F3F7NazC8LsqsNhcV1BGQQehpqIsa7UUKPQCnUCo03Tgot3MP/AIRSw/tP7Zht27dt7ZrcAwMCiigqFOEL8qtcKKKKCwooooAKKKKAKOuf8i9qP/XrL/6AaoeB/wDkQ9E/68Yv/QRV/XP+Re1H/r1l/wDQDVDwP/yIeif9eMX/AKCKAN2iiigAooooAKKKKACiiigAooooAKKKKACiuW8e6truh6DLqOgizIt13yi5RmyM4wMEetLr3ia603w3Z3FrFHJf3rKkSMPl3EjJPsAc0AdRRXL+Gtc1SXW77RPEItje2qJIJbZSqSKwJ4BJPGK6Se4htozJczRwoOrSMFH5mgDmPBX/ACEPE/8A2GZf/QErorH/AFUn/XVv51zfgWaOe68TSQSLJG2sSlXRgQflTuK6Sx/1Un/XVv50AWa4DxN4Yv5dWlurOJp1mbcQv8Jrv6K0p1HTd0TKKkrM57wjos2k2UjXPEkxBK/3cV0NFFTKTlLmY0rKyCuF+Il9rrfZtK0jSL+5s7rP2y5s1BZE4+UZI5IJ/Ku6oqRmR4Y8tNBgih02402OMbRBcqA/1OCevWteiigAooooAKKKKAK1t/x83X++P5CrNVrb/j5uv98fyFWaACiiigAooooAKKKKACiiigAooooAKKKKACiiigAooooAKKKKACiiigAooooAKKKKACiiigAooooA5DUfBr3WsNcxzARyNuYHqK6u3gW2t0hToi4FSUUGNOjCnJyitwooooNhCgKkEDkYNeba6Ly311kiDIufkCdDXpVct4lurm31iz2bltz/AKwquc0HDjYKVNO9tTbt7xIdOja8kVHCjfz0q1DPHcRCSFw6HoRXmQg1E61mTeHLZZmOBj69OlaN/qN1oluIbSTYJJWcY5AXtzQZQxrSblHRHoFVV1K0a6Nus6GUfw5qnod7NqehrNOMSMCOK5K38NaqutKxUqok3GXPag3qYiaUZU43TPQ6KQDAFLQdgUUUUAFFFFABRRRQBR1z/kXtR/69Zf8A0A1Q8D/8iHon/XjF/wCgir+uf8i9qP8A16y/+gGqHgf/AJEPRP8Arxi/9BFAG7RRRQAUUUUAFFFFABRRRQAUUUUAFcxeeBbO9vJbh9W1qNpGLFItQdVGfQdhXT0UAcB43gTQPh7eaVZw6vqct0m2MhXuXznPJ7DioNSkuNY8H6Xqen6feiXTJlL208DRyMOA2FPJ4r0aigDivDHn614y1LxA1nc2do8UcUC3MRjdiAQxKnp2rrb7T7TUrc2+oW0VzCescqBgfwNWKKAOP8AWlvYzeJLazhSCCPWJAkca4VRtToK6ex/1Un/XVv51zvgr/kIeJ/8AsMy/+gJXRWP+qk/66t/OgCzXJa74quLO/e2sgo8s4YsM5NdbXL634Ue/vWubSRVaQ5cP61cOW/vHXhXSVT97saPh7WTq9qxkXEsZAbHetesvQtGGj2rIW3SOcuRWpSla+hjW5PaP2ewVy/je0tDp6X19LrQSA7fL0h33tnuVXr0rqKxNbfxKkyf8I9b6dNGQd4vJXUg+20GpMih8Or28v/B9vNfTGZtzhWZsvtDHG73xXVVgeENAm0DRzDdyrJcTSGSXZ91SSeB7Vv0AFFFFABRRRQBWtv8Aj5uv98fyFWarW3/Hzdf74/kKs0AFFFFABRRRQAUUUUAFFFFABRRRQAUUUUAFFFFABRRRQAUUUUAFFFFABRRRQAUUUUAFFFFABRRRQAUUUUAFFFFABXOeMGvFsY2s1LAN82BnFdBMzLC7IMsFJA9TXnlnq+qS+IlR2Zw0u1oyOMZ6UHFi6ijFQd/eJDDdajYxzXJuo+dhRVLB/fHauttNJtZ9Lt47q2U7FG0OMkVpqihR8oHHTHSnUFUsNGDu9RkMMcEQjhQIg6ACn0UUHXsFFFFABRRRQAUUUUAFFFFAFHXP+Re1H/r1l/8AQDVDwP8A8iHon/XjF/6CKv65/wAi9qP/AF6y/wDoBqh4H/5EPRP+vGL/ANBFAG7RRRQAUUUUAFFFFABRRRQAUUUUAFFFFABRRRQAUUUUAcp4K/5CHif/ALDMv/oCV0CedbF1WEyKWLAggda5Cyh8W6Hq+tmx0K0vLa9v3uYpWvhGdpAHI2nHSr39seNv+hWsv/BmP/iaAOj+0T/8+jf99Cj7RP8A8+jf99Cuc/tjxt/0K1l/4Mx/8TR/bHjb/oVrL/wZj/4mgDo/tE//AD6N/wB9Cj7RP/z6N/30K5z+2PG3/QrWX/gzH/xNH9seNv8AoVrL/wAGY/8AiaAOj+0T/wDPo3/fQo+0T/8APo3/AH0K5z+2PG3/AEK1l/4Mx/8AE1Q0jxh4s1u1lnsvC1qUinkt23aiB8yNtP8AD60Adl9on/59G/76FH2if/n0b/voVzn9seNv+hWsv/BmP/iaP7Y8bf8AQrWX/gzH/wATQB0f2if/AJ9G/wC+hR9on/59G/76Fc5/bHjb/oVrL/wZj/4mj+2PG3/QrWX/AIMx/wDE0AdH9on/AOfRv++hR9on/wCfRv8AvoVzn9seNv8AoVrL/wAGY/8AiaP7Y8bf9CtZf+DMf/E0AdLaxupkeQYaRs49OKnrk/7Y8bf9CtZf+DMf/E0f2x42/wChWsv/AAZj/wCJoA6yiuT/ALY8bf8AQrWX/gzH/wATR/bHjb/oVrL/AMGY/wDiaAOsork/7Y8bf9CtZf8AgzH/AMTR/bHjb/oVrL/wZj/4mgDrKK4bSPFvi3W9Liv7LwtaGGUsF3akAeGKn+H1FXf7Y8bf9CtZf+DMf/E0AdZRXJ/2x42/6Fay/wDBmP8A4mj+2PG3/QrWX/gzH/xNAHWUVyf9seNv+hWsv/BmP/iaP7Y8bf8AQrWX/gzH/wATQB1lFcn/AGx42/6Fay/8GY/+Jo/tjxt/0K1l/wCDMf8AxNAHWUVyf9seNv8AoVrL/wAGY/8AiaP7Y8bf9CtZf+DMf/E0AdZRXJ/2x42/6Fay/wDBmP8A4mj+2PG3/QrWX/gzH/xNAHWUVyE+u+M7e3kmk8LWe2NSzY1MdAM/3araR4r8Xa1o9rqVn4WtDBdRCWPdqQBwfbbQB3FFcn/bHjb/AKFay/8ABmP/AImj+2PG3/QrWX/gzH/xNAHWUVyf9seNv+hWsv8AwZj/AOJo/tjxt/0K1l/4Mx/8TQB1lFcn/bHjb/oVrL/wZj/4mj+2PG3/AEK1l/4Mx/8AE0AdZRXJ/wBseNv+hWsv/BmP/iaP7Y8bf9CtZf8AgzH/AMTQB1lFcn/bHjb/AKFay/8ABmP/AImj+2PG3/QrWX/gzH/xNAHWUVyf9seNv+hWsv8AwZj/AOJqvf8AiTxhp2nXF7ceFrPyreJpXxqQJwBk/wANAHaUVx1p4g8ZXllBdQ+FrPy541kTOpAHBGR/D71L/bHjb/oVrL/wZj/4mgDrKiFtCsvmCJQ/97Fcx/bHjb/oVrL/AMGY/wDiaP7Y8bf9CtZf+DMf/E0CsmdZRXJ/2x42/wChWsv/AAZj/wCJo/tjxt/0K1l/4Mx/8TQM6yiuT/tjxt/0K1l/4Mx/8TR/bHjb/oVrL/wZj/4mgDrKK5P+2PG3/QrWX/gzH/xNH9seNv8AoVrL/wAGY/8AiaAOsork/wC2PG3/AEK1l/4Mx/8AE0f2x42/6Fay/wDBmP8A4mgDrKK4fWPFni3RNIuNSvfC1oILdN77dSBOM+m2rceteNJI1dfC1nhgCP8AiZj/AOJoA62iuT/tjxt/0K1l/wCDMf8AxNH9seNv+hWsv/BmP/iaAN7XP+Re1H/r1l/9ANUPA/8AyIeif9eMX/oIrJv7/wAbXmnXNsPC9kpmiaPP9pDjII/u+9b3hewuNL8J6XY3qqtxbWsccgVsgMFAOD3oA1aKKKACiiigAooooAKKKKACiiigAooooAKKKKACiiigAooooAKKKKACiiud1Txzomj6hJZ3r3Qmj+8I7SRx+YUigDoHkSNcyMqj1Y4qho2lWujWcsVo2Y5p5Lgkn+J23H+dc9rNxofjnwhqO1JporeCR8SwvF8wUkfeArGa5mtfgtYR20jRG4jjty6nlQy4zQB6SkscmfLdWx12nNOrzzSdNtvC/jzTrXSE8q3vtP3TxAkhpNw+f68V6HQAUUUUAFFFFABRRRQAUUUUAFFU9U1S20fT3vL4uIUIBMcbOefYAmsK3+Ivh+6uY4IZLzfIwVd1jKBn6laANjRrKz0XTYtOtJlKRFtoLDPLFj+prRryDSrG08Oa1LfeJ/DDgTXe6HVGlDBcjjKg5H5V6/QAUUUUAFFFFABRRRQAUUUUAFFFFAEVykclrJHMwVJEKMSccEYqtounW+kaJaadZNugtYhEhzngVyvjmMap4k8PaLckmxubhjcRZwJhsb5T+IB/Cn+CANO1zW9DtuLK1l8yBM5EYYkbR7DFAHa0UUUAFFFFABRRRQAUUUUAFFFFABVXU7WG+0u5tLpgkNxE0TknHDDFWq4/4m6Tea14RS10+za9kF7BI9urhfMRXBYZPtQB1FjFDb2MNtbOrxwRrGpBzwBgfyqxXHeBbjSYJL3TbHRTol5Eym4tWfcW44OQSDx6V2NABRRRQAUUUUAFFFFABRRRQAUEgDJOBRUV1bx3dpLbzDMcqFGHsaAKmrafa6/o11p08gaCdNjlDnHf+lXIWi8tY4pFbYAOGzXkkOPCegfEI6KpgFo8TRKCTtJQZ/ma1YdItvCPivwt/Y4Mf9rM8V3hifMxGXBPvmgD0qiiigAooooAKKKKACiiigAooooAKKKKACiiigAooooAKKKKACiiigAooooAKKKKACiiigDK8R6dqOq6LNZ6Vfx2MsyFGlkg80bSMHjI7Vg6Z4Ivo/Bk3h/W9WjvYzGEglit/KMWBjPU5NdnRQBy2geE72w1ganreqLqNxFb/ZrcrD5YjjyDyMnJ4611NFFABRRRQAUUUUAFFFFABRRRQAUUUUAcdf8AhHW9ZmWDWtein0wS7zbR2uxmAOQC271x2rsRxRRQAUUUUAFFFFABRRRQAUUUUAFFFNMiDdl1G3rz0oAwvFHhp9d+xXFld/Yr+wlMtvOU3gEgryuRkYJ4p/hnw8+hw3Ml5dC8vruUyz3ATYGJ7Ac4HtW4DkZHIooAKKKKACiiigAooooAKKKKACiiigArP1m21K6stmj30djcbgRLJD5ox3GMitCigDnfD3hm40zUrrU9Xvxf6hc4DSpF5aqoGMBcnHauioooAKKKKACiiigAooooAKKKKACo7hZXtpFt5BFKVIR2XcFPY471JRQBwGn/AA/1hLrWP7Y16C9tNYINzAlkIySBgYO444FaGjeDL611a1vdb1caiLFStmgh2eXnIJJycnBxXX0UAFFFFABRRRQAUUUUAFFFFABRRRQAUUUUAFFFFABRRRQAUUUUAFFFFABRRRQAUUUUAFFFFABRRRQAUUUUAFFFFABRRRQAUUUUAFFFFABRRRQAUUUUAFFFFABRRRQAUUUUAFFFFABXjvjuUxeNjb2Eko0e52LrzRn5Y1xx/wCO5r2KqZ0nT2iuYmsoCl1/r1MYxL/vetAEtksKWMK2pBhCDYQe2KnpkUUcESxQoqIowqqMACn0AFFFFABRRRQAUUUUAFFFFABRRRQAUUUUAFFFFABRRRQAUUUUAFFFFABRRRQAUUUUAFFFFABRRRQAUUUUAFFFFABRRRQAUUUUAFFFFABRRRQAUUUUAFFFFABRRRQAUUUUAFFFFABRRRQAUUUUAFFFFABRRRQAUUUUAFFFFABRRRQAUUUUAFFFFABRRRQAUUUUAFFFFABRRRQAUUUUAFFFFABRRRQAUUUUAFFFFABRRRQAUUUUAFFFFABRRRQAUUUUAFFFFABRRRQAUUUUAFFFFABRRRQAUUUUAFFFFABRRRQAUUUUAFFFFABRRRQB/9k=)"
      ]
    },
    {
      "cell_type": "code",
      "metadata": {
        "id": "ZG5FBfisV61M"
      },
      "source": [
        ""
      ],
      "execution_count": 121,
      "outputs": []
    }
  ]
}