{
  "nbformat": 4,
  "nbformat_minor": 0,
  "metadata": {
    "colab": {
      "name": "DALC_scalar4_파이썬_데이터_타입과_numpy이해하기.ipynb",
      "provenance": [],
      "collapsed_sections": [],
      "include_colab_link": true
    },
    "kernelspec": {
      "name": "python3",
      "display_name": "Python 3"
    },
    "language_info": {
      "name": "python"
    }
  },
  "cells": [
    {
      "cell_type": "markdown",
      "metadata": {
        "id": "view-in-github",
        "colab_type": "text"
      },
      "source": [
        "<a href=\"https://colab.research.google.com/github/ziwon-hwang/DALC_Scalar/blob/main/DALC_scalar4_%ED%8C%8C%EC%9D%B4%EC%8D%AC_%EB%8D%B0%EC%9D%B4%ED%84%B0_%ED%83%80%EC%9E%85%EA%B3%BC_numpy%EC%9D%B4%ED%95%B4%ED%95%98%EA%B8%B0.ipynb\" target=\"_parent\"><img src=\"https://colab.research.google.com/assets/colab-badge.svg\" alt=\"Open In Colab\"/></a>"
      ]
    },
    {
      "cell_type": "markdown",
      "metadata": {
        "id": "giYnypId9JKA"
      },
      "source": [
        "# Numpy 기초"
      ]
    },
    {
      "cell_type": "markdown",
      "metadata": {
        "id": "mMuPNu735nzw"
      },
      "source": [
        "## 넘파이 패키지 불러오기"
      ]
    },
    {
      "cell_type": "code",
      "metadata": {
        "id": "R86NUr6E6IxC"
      },
      "source": [
        "# 넘파이 패키지를 불러오기 np로 줄여쓰기# 넘파이 패키지를 불러오기 np로 줄여쓰기\n",
        "import numpy as np"
      ],
      "execution_count": 1,
      "outputs": []
    },
    {
      "cell_type": "markdown",
      "metadata": {
        "id": "zYd86L6l6LR_"
      },
      "source": [
        "## array 정의 및 생성"
      ]
    },
    {
      "cell_type": "code",
      "metadata": {
        "id": "iYL2w7ZH6OvI",
        "colab": {
          "base_uri": "https://localhost:8080/"
        },
        "outputId": "268a7c56-ec35-4392-facb-7df4d6be390b"
      },
      "source": [
        "# 넘파이 array를 사용하여 a라는 변수에 1부터 10까지의 숫자 리스트 배열을 생성하기\n",
        "a=np.array([1,2,3,4,5,6,7,8,9,10])\n",
        "a"
      ],
      "execution_count": 22,
      "outputs": [
        {
          "output_type": "execute_result",
          "data": {
            "text/plain": [
              "array([ 1,  2,  3,  4,  5,  6,  7,  8,  9, 10])"
            ]
          },
          "metadata": {
            "tags": []
          },
          "execution_count": 22
        }
      ]
    },
    {
      "cell_type": "code",
      "metadata": {
        "id": "WUOwTypoBPRC",
        "colab": {
          "base_uri": "https://localhost:8080/"
        },
        "outputId": "a5736f2d-de9b-4946-8e0b-747afef0c07a"
      },
      "source": [
        "#파이썬의 기본 range 함수와 비슷한 넘파이 range 함수를 사용하여 ndarray를 만들 수 있습니다:\n",
        "a1=np.arange(0,10,2)\n",
        "a1"
      ],
      "execution_count": 6,
      "outputs": [
        {
          "output_type": "execute_result",
          "data": {
            "text/plain": [
              "array([0, 2, 4, 6, 8])"
            ]
          },
          "metadata": {
            "tags": []
          },
          "execution_count": 6
        }
      ]
    },
    {
      "cell_type": "markdown",
      "metadata": {
        "id": "FOK4pK-I6pDn"
      },
      "source": [
        "## 배열 구성"
      ]
    },
    {
      "cell_type": "code",
      "metadata": {
        "id": "ocsVMvGT6rcJ",
        "colab": {
          "base_uri": "https://localhost:8080/"
        },
        "outputId": "2b354b91-956c-4114-89fe-a4a5088f4104"
      },
      "source": [
        "# full 함수를 사용하여 b라는 변수에 2.71 수로 3 X 4 다차원 배열 만들기\n",
        "a3=np.full((3,4),2.71)\n",
        "a3"
      ],
      "execution_count": 9,
      "outputs": [
        {
          "output_type": "execute_result",
          "data": {
            "text/plain": [
              "array([[2.71, 2.71, 2.71, 2.71],\n",
              "       [2.71, 2.71, 2.71, 2.71],\n",
              "       [2.71, 2.71, 2.71, 2.71]])"
            ]
          },
          "metadata": {
            "tags": []
          },
          "execution_count": 9
        }
      ]
    },
    {
      "cell_type": "code",
      "metadata": {
        "id": "ReJJ53HV6_5k",
        "colab": {
          "base_uri": "https://localhost:8080/"
        },
        "outputId": "63c59092-dd10-4a0b-88ca-4683de84260a"
      },
      "source": [
        "# arrange 함수를 사용하여 c라는 변수에 0부터 10까지 짝수만 있는 배열 구성하기\n",
        "c=np.arange(0,10,2)\n",
        "c"
      ],
      "execution_count": 14,
      "outputs": [
        {
          "output_type": "execute_result",
          "data": {
            "text/plain": [
              "array([0, 2, 4, 6, 8])"
            ]
          },
          "metadata": {
            "tags": []
          },
          "execution_count": 14
        }
      ]
    },
    {
      "cell_type": "code",
      "metadata": {
        "id": "UiHHzUCn7ak9",
        "colab": {
          "base_uri": "https://localhost:8080/"
        },
        "outputId": "72c5d081-87c0-4a2d-d987-03dda688de44"
      },
      "source": [
        "# linspace 함수를 사용하여 d라는 변수에 0부터 1까지 4개 요소 값을 가진 배열 생성하기\n",
        "a4=np.linspace(0,10,4)\n",
        "a4"
      ],
      "execution_count": 18,
      "outputs": [
        {
          "output_type": "execute_result",
          "data": {
            "text/plain": [
              "array([ 0.        ,  3.33333333,  6.66666667, 10.        ])"
            ]
          },
          "metadata": {
            "tags": []
          },
          "execution_count": 18
        }
      ]
    },
    {
      "cell_type": "code",
      "metadata": {
        "id": "cgqpObYO7m_o",
        "colab": {
          "base_uri": "https://localhost:8080/"
        },
        "outputId": "96ff77da-f26b-4969-b1d1-876af49e11c8"
      },
      "source": [
        "# randint 함수를 사용하여 0 부터 100까지 수를 2 X 2 배열로 생성하기\n",
        "a5=np.random.randint(1,100,(2,2))\n",
        "a5"
      ],
      "execution_count": 20,
      "outputs": [
        {
          "output_type": "execute_result",
          "data": {
            "text/plain": [
              "array([[86, 78],\n",
              "       [84, 93]])"
            ]
          },
          "metadata": {
            "tags": []
          },
          "execution_count": 20
        }
      ]
    },
    {
      "cell_type": "markdown",
      "metadata": {
        "id": "gmqrBmjV8I_q"
      },
      "source": [
        "## 배열 인덱싱"
      ]
    },
    {
      "cell_type": "code",
      "metadata": {
        "id": "u1YDX-907tCM",
        "colab": {
          "base_uri": "https://localhost:8080/"
        },
        "outputId": "e18731d1-0120-4bd3-9c65-ebc50cd576ab"
      },
      "source": [
        "# a변수에서 인덱스 2 (앞에서 3번째) 와 인덱스 -3 (뒤에서 3번째)에 해당하는 수 가져오기\n",
        "a[2],a[-3]"
      ],
      "execution_count": 23,
      "outputs": [
        {
          "output_type": "execute_result",
          "data": {
            "text/plain": [
              "(3, 8)"
            ]
          },
          "metadata": {
            "tags": []
          },
          "execution_count": 23
        }
      ]
    },
    {
      "cell_type": "code",
      "metadata": {
        "id": "09OUlcP98IFO",
        "colab": {
          "base_uri": "https://localhost:8080/"
        },
        "outputId": "2e8be650-e359-4713-febf-18d94f4d946b"
      },
      "source": [
        "# a 변수에서 인덱스 3부터 9 까지 슬라이싱하기\n",
        "a[3:10]"
      ],
      "execution_count": 26,
      "outputs": [
        {
          "output_type": "execute_result",
          "data": {
            "text/plain": [
              "array([ 4,  5,  6,  7,  8,  9, 10])"
            ]
          },
          "metadata": {
            "tags": []
          },
          "execution_count": 26
        }
      ]
    },
    {
      "cell_type": "markdown",
      "metadata": {
        "id": "B7ZsYxD-9BDG"
      },
      "source": [
        "## 배열 재구조화"
      ]
    },
    {
      "cell_type": "code",
      "metadata": {
        "id": "OUDkKScoFwID",
        "colab": {
          "base_uri": "https://localhost:8080/"
        },
        "outputId": "66f96cd7-c21f-4953-92b5-deb046cacfd4"
      },
      "source": [
        "#차원의 개수 알아보는 함수\n",
        "a.ndim"
      ],
      "execution_count": 27,
      "outputs": [
        {
          "output_type": "execute_result",
          "data": {
            "text/plain": [
              "1"
            ]
          },
          "metadata": {
            "tags": []
          },
          "execution_count": 27
        }
      ]
    },
    {
      "cell_type": "code",
      "metadata": {
        "id": "BAXVPoxoFwUD",
        "colab": {
          "base_uri": "https://localhost:8080/"
        },
        "outputId": "634fdc87-323a-49e3-959e-8081f930eb96"
      },
      "source": [
        "#차원의 크기 알아보는 함수\n",
        "a.shape"
      ],
      "execution_count": 28,
      "outputs": [
        {
          "output_type": "execute_result",
          "data": {
            "text/plain": [
              "(10,)"
            ]
          },
          "metadata": {
            "tags": []
          },
          "execution_count": 28
        }
      ]
    },
    {
      "cell_type": "code",
      "metadata": {
        "id": "lNaAPxjqGc8f",
        "colab": {
          "base_uri": "https://localhost:8080/"
        },
        "outputId": "23f9f2c2-7ec3-4839-ce62-8a9026b03e6f"
      },
      "source": [
        "#전체 배열크기 알아보는 함수\n",
        "a.size"
      ],
      "execution_count": 30,
      "outputs": [
        {
          "output_type": "execute_result",
          "data": {
            "text/plain": [
              "10"
            ]
          },
          "metadata": {
            "tags": []
          },
          "execution_count": 30
        }
      ]
    },
    {
      "cell_type": "code",
      "metadata": {
        "id": "LpmpluGdGG8T",
        "colab": {
          "base_uri": "https://localhost:8080/"
        },
        "outputId": "14408dab-6e6f-4c3b-8454-423d3de511f9"
      },
      "source": [
        "#0부터10까지 정수를 가진 x변수에서 4~7까지의 요소를 가진 하위배열생성\n",
        "x=np.arange(0,11)\n",
        "print(x)\n",
        "print(x[4:8])"
      ],
      "execution_count": 41,
      "outputs": [
        {
          "output_type": "stream",
          "text": [
            "[ 0  1  2  3  4  5  6  7  8  9 10]\n",
            "[4 5 6 7]\n"
          ],
          "name": "stdout"
        }
      ]
    },
    {
      "cell_type": "code",
      "metadata": {
        "id": "vosKsX6-GHD6",
        "colab": {
          "base_uri": "https://localhost:8080/"
        },
        "outputId": "4ca163db-cda3-41c8-97d2-f1f463cd1e10"
      },
      "source": [
        "#0부터10까지 정수를 가진 x변수에서 첫번째 다섯 요소를 가진 하위 배열 생성\n",
        "x[:6]"
      ],
      "execution_count": 43,
      "outputs": [
        {
          "output_type": "execute_result",
          "data": {
            "text/plain": [
              "array([0, 1, 2, 3, 4, 5])"
            ]
          },
          "metadata": {
            "tags": []
          },
          "execution_count": 43
        }
      ]
    },
    {
      "cell_type": "code",
      "metadata": {
        "id": "mEW2HOOSHBar",
        "colab": {
          "base_uri": "https://localhost:8080/"
        },
        "outputId": "39e58735-0881-40c1-980b-4f1c3f82d386"
      },
      "source": [
        "#0부터10까지 정수를 가진 x변수에서 인덱스 5 이후의 요소를 가진 하위 배열을 생성\n",
        "x[6:]"
      ],
      "execution_count": 45,
      "outputs": [
        {
          "output_type": "execute_result",
          "data": {
            "text/plain": [
              "array([ 6,  7,  8,  9, 10])"
            ]
          },
          "metadata": {
            "tags": []
          },
          "execution_count": 45
        }
      ]
    },
    {
      "cell_type": "code",
      "metadata": {
        "id": "TD0eKXKOHFiq",
        "colab": {
          "base_uri": "https://localhost:8080/"
        },
        "outputId": "619436e8-9b8f-49cc-d414-3918c5b41b9c"
      },
      "source": [
        "# 인덱스 0,1행과 인덱스 0,1,2열 즉 2행3열인 다차원 하위 배열 생성(콤마이용하기)\n",
        "z=np.array([[2,4,6,8],[3,6,9,12],[4,8,12,16]])\n",
        "z[:2,:3]"
      ],
      "execution_count": 49,
      "outputs": [
        {
          "output_type": "execute_result",
          "data": {
            "text/plain": [
              "array([[2, 4, 6],\n",
              "       [3, 6, 9]])"
            ]
          },
          "metadata": {
            "tags": []
          },
          "execution_count": 49
        }
      ]
    },
    {
      "cell_type": "code",
      "metadata": {
        "id": "uqvnK_MqHSjX"
      },
      "source": [
        "#1부터 10까지 배열을 3행3열로 재배열하기(reshape사용)"
      ],
      "execution_count": null,
      "outputs": []
    },
    {
      "cell_type": "markdown",
      "metadata": {
        "id": "Fe5b8TCo9CUi"
      },
      "source": [
        "## 배열 결합"
      ]
    },
    {
      "cell_type": "code",
      "metadata": {
        "id": "nkYF1XetHZFA",
        "colab": {
          "base_uri": "https://localhost:8080/"
        },
        "outputId": "c75e1758-affe-4013-806a-a628357be4ea"
      },
      "source": [
        "#두개의 배열 결합하기\n",
        "x=np.array([1,2,3])\n",
        "y=np.array([3,2,1])\n",
        "z=np.concatenate([x,y])\n",
        "z"
      ],
      "execution_count": 50,
      "outputs": [
        {
          "output_type": "execute_result",
          "data": {
            "text/plain": [
              "array([1, 2, 3, 3, 2, 1])"
            ]
          },
          "metadata": {
            "tags": []
          },
          "execution_count": 50
        }
      ]
    },
    {
      "cell_type": "code",
      "metadata": {
        "id": "NObVaN04Hbt8",
        "colab": {
          "base_uri": "https://localhost:8080/"
        },
        "outputId": "ae362b05-c701-461e-ebf9-7bec7190b3f7"
      },
      "source": [
        "#수직으로 두개의 배열 결합하기\n",
        "z1=np.vstack([x,y])\n",
        "z1"
      ],
      "execution_count": 52,
      "outputs": [
        {
          "output_type": "execute_result",
          "data": {
            "text/plain": [
              "array([[1, 2, 3],\n",
              "       [3, 2, 1]])"
            ]
          },
          "metadata": {
            "tags": []
          },
          "execution_count": 52
        }
      ]
    },
    {
      "cell_type": "code",
      "metadata": {
        "id": "NFQ0_cEjHkCy",
        "colab": {
          "base_uri": "https://localhost:8080/"
        },
        "outputId": "d3fc6a6d-6aa8-4da1-8670-35b80d7af396"
      },
      "source": [
        "#수평으로 두개의 배열 결합하기\n",
        "z2=np.hstack([x,y])\n",
        "z2"
      ],
      "execution_count": 54,
      "outputs": [
        {
          "output_type": "execute_result",
          "data": {
            "text/plain": [
              "array([1, 2, 3, 3, 2, 1])"
            ]
          },
          "metadata": {
            "tags": []
          },
          "execution_count": 54
        }
      ]
    },
    {
      "cell_type": "markdown",
      "metadata": {
        "id": "vNpmxjef9EiC"
      },
      "source": [
        "## 배열 분할"
      ]
    },
    {
      "cell_type": "code",
      "metadata": {
        "id": "XBu15lZ7Hxzu",
        "colab": {
          "base_uri": "https://localhost:8080/"
        },
        "outputId": "ac4659e6-a6a1-4200-a540-545ed1136adb"
      },
      "source": [
        "#7개의 숫자를 가진 리스트 x를 3개의 변수 x1,x2,x3로 분할하기\n",
        "x=[1,2,3,4,5,6,7]\n",
        "x1,x2,x3=np.split(x,[3,5])#자르는 지점 인덱스 3과 인덱스 5\n",
        "print(x1,x2,x3)"
      ],
      "execution_count": 56,
      "outputs": [
        {
          "output_type": "stream",
          "text": [
            "[1 2 3] [4 5] [6 7]\n"
          ],
          "name": "stdout"
        }
      ]
    },
    {
      "cell_type": "code",
      "metadata": {
        "id": "XdklCHyCHx75",
        "colab": {
          "base_uri": "https://localhost:8080/"
        },
        "outputId": "2974fc16-9212-4b7f-8dcb-04fad1995d8f"
      },
      "source": [
        "#4행4열 차원을 배열이 상하 2개로 나누게 분할\n",
        "grid=np.arange(16).reshape((4,4))\n",
        "upper,lower=np.vsplit(grid,[2])\n",
        "print(grid)\n",
        "print('--------')\n",
        "print(upper)\n",
        "print(\"--------\")\n",
        "print(lower)"
      ],
      "execution_count": 61,
      "outputs": [
        {
          "output_type": "stream",
          "text": [
            "[[ 0  1  2  3]\n",
            " [ 4  5  6  7]\n",
            " [ 8  9 10 11]\n",
            " [12 13 14 15]]\n",
            "--------\n",
            "[[0 1 2 3]\n",
            " [4 5 6 7]]\n",
            "--------\n",
            "[[ 8  9 10 11]\n",
            " [12 13 14 15]]\n"
          ],
          "name": "stdout"
        }
      ]
    },
    {
      "cell_type": "markdown",
      "metadata": {
        "id": "dDE6Ap4n9S28"
      },
      "source": [
        "# Numpy 심화"
      ]
    },
    {
      "cell_type": "markdown",
      "metadata": {
        "id": "uH4cKovY9Whm"
      },
      "source": [
        "## 유니버셜함수"
      ]
    },
    {
      "cell_type": "code",
      "metadata": {
        "id": "4GAlLhUiAz13",
        "colab": {
          "base_uri": "https://localhost:8080/"
        },
        "outputId": "1f0c3ff1-38fd-4a77-da47-ff5dbb6cd709"
      },
      "source": [
        "# zeros 함수는 0으로 채워진 배열을 만듭니다:\n",
        "np.zeros(5)"
      ],
      "execution_count": 62,
      "outputs": [
        {
          "output_type": "execute_result",
          "data": {
            "text/plain": [
              "array([0., 0., 0., 0., 0.])"
            ]
          },
          "metadata": {
            "tags": []
          },
          "execution_count": 62
        }
      ]
    },
    {
      "cell_type": "code",
      "metadata": {
        "id": "3vxe2YivA18-",
        "colab": {
          "base_uri": "https://localhost:8080/"
        },
        "outputId": "c49e7f09-6800-40e1-bd49-a0b45fc356bd"
      },
      "source": [
        "#2D 배열(즉, 행렬)을 만들려면 원하는 행과 열의 크기를 튜플로 전달합니다. 예를 들어 다음은 3 \\times 4 크기의 행렬입니다:\n",
        "\n",
        "np.zeros((3,4))"
      ],
      "execution_count": 63,
      "outputs": [
        {
          "output_type": "execute_result",
          "data": {
            "text/plain": [
              "array([[0., 0., 0., 0.],\n",
              "       [0., 0., 0., 0.],\n",
              "       [0., 0., 0., 0.]])"
            ]
          },
          "metadata": {
            "tags": []
          },
          "execution_count": 63
        }
      ]
    },
    {
      "cell_type": "code",
      "metadata": {
        "id": "vUJHEN_FA6By",
        "colab": {
          "base_uri": "https://localhost:8080/"
        },
        "outputId": "1c793b1a-02b9-4dba-cab7-a523163015fa"
      },
      "source": [
        "a = np.zeros((3,4))\n",
        "a"
      ],
      "execution_count": 64,
      "outputs": [
        {
          "output_type": "execute_result",
          "data": {
            "text/plain": [
              "array([[0., 0., 0., 0.],\n",
              "       [0., 0., 0., 0.],\n",
              "       [0., 0., 0., 0.]])"
            ]
          },
          "metadata": {
            "tags": []
          },
          "execution_count": 64
        }
      ]
    },
    {
      "cell_type": "code",
      "metadata": {
        "id": "mzrutOYyA8CS",
        "colab": {
          "base_uri": "https://localhost:8080/"
        },
        "outputId": "2b7d8063-4d22-49d6-dd9d-a6d29b44149e"
      },
      "source": [
        "a.shape"
      ],
      "execution_count": 65,
      "outputs": [
        {
          "output_type": "execute_result",
          "data": {
            "text/plain": [
              "(3, 4)"
            ]
          },
          "metadata": {
            "tags": []
          },
          "execution_count": 65
        }
      ]
    },
    {
      "cell_type": "code",
      "metadata": {
        "id": "Knsc4SCPA9FI",
        "colab": {
          "base_uri": "https://localhost:8080/"
        },
        "outputId": "c99ec9cf-7cef-4155-85d4-fdf9f5142bd3"
      },
      "source": [
        "a.ndim # len(a.shape)와 같습니다"
      ],
      "execution_count": 66,
      "outputs": [
        {
          "output_type": "execute_result",
          "data": {
            "text/plain": [
              "2"
            ]
          },
          "metadata": {
            "tags": []
          },
          "execution_count": 66
        }
      ]
    },
    {
      "cell_type": "code",
      "metadata": {
        "id": "sq0vJhlgA-M3",
        "colab": {
          "base_uri": "https://localhost:8080/"
        },
        "outputId": "88ac191f-bf2f-4651-bb7b-dccc7cb4e076"
      },
      "source": [
        "a.size"
      ],
      "execution_count": 67,
      "outputs": [
        {
          "output_type": "execute_result",
          "data": {
            "text/plain": [
              "12"
            ]
          },
          "metadata": {
            "tags": []
          },
          "execution_count": 67
        }
      ]
    },
    {
      "cell_type": "code",
      "metadata": {
        "id": "g_i6UPINA_8o",
        "colab": {
          "base_uri": "https://localhost:8080/"
        },
        "outputId": "cef23868-8e31-45b3-a79c-d995fbc75504"
      },
      "source": [
        "# 초기화되지 않은 2 \\times 3 크기의 배열을 만듭니다(배열의 내용은 예측이 불가능하며 메모리 상황에 따라 달라집니다):\n",
        "\n",
        "np.empty((2,3))"
      ],
      "execution_count": 68,
      "outputs": [
        {
          "output_type": "execute_result",
          "data": {
            "text/plain": [
              "array([[4.6539794e-310, 0.0000000e+000, 0.0000000e+000],\n",
              "       [0.0000000e+000, 0.0000000e+000, 0.0000000e+000]])"
            ]
          },
          "metadata": {
            "tags": []
          },
          "execution_count": 68
        }
      ]
    },
    {
      "cell_type": "code",
      "metadata": {
        "id": "PTCzRhCiBAyo",
        "colab": {
          "base_uri": "https://localhost:8080/"
        },
        "outputId": "c4fb9f96-9c51-4758-cda7-0b6ef2e0658a"
      },
      "source": [
        "#array 함수는 파이썬 리스트를 사용하여 ndarray를 초기화합니다:\n",
        "\n",
        "np.array([[1,2,3,4], [10, 20, 30, 40]])"
      ],
      "execution_count": 69,
      "outputs": [
        {
          "output_type": "execute_result",
          "data": {
            "text/plain": [
              "array([[ 1,  2,  3,  4],\n",
              "       [10, 20, 30, 40]])"
            ]
          },
          "metadata": {
            "tags": []
          },
          "execution_count": 69
        }
      ]
    },
    {
      "cell_type": "code",
      "metadata": {
        "id": "dAU3-6CV9u3R",
        "colab": {
          "base_uri": "https://localhost:8080/"
        },
        "outputId": "626f20bf-1c5f-46e0-91d4-981102e3c90e"
      },
      "source": [
        " x = np.array([-10, -5, 0, 3, 7])\n",
        "# x에 있는 배열을 모두 양의 정수로 반환하기\n",
        "np.abs(x)"
      ],
      "execution_count": 71,
      "outputs": [
        {
          "output_type": "execute_result",
          "data": {
            "text/plain": [
              "array([10,  5,  0,  3,  7])"
            ]
          },
          "metadata": {
            "tags": []
          },
          "execution_count": 71
        }
      ]
    },
    {
      "cell_type": "code",
      "metadata": {
        "id": "xrZfT0dH-J4X",
        "colab": {
          "base_uri": "https://localhost:8080/"
        },
        "outputId": "c0f1e3ae-1cf7-4d15-b7d5-3218afe0b5f5"
      },
      "source": [
        "# 모두 양의 정수가 된 배열 x를 자연로그 배열로 반환하기\n",
        "print(np.log(x))"
      ],
      "execution_count": 73,
      "outputs": [
        {
          "output_type": "stream",
          "text": [
            "[       nan        nan       -inf 1.09861229 1.94591015]\n"
          ],
          "name": "stdout"
        },
        {
          "output_type": "stream",
          "text": [
            "/usr/local/lib/python3.7/dist-packages/ipykernel_launcher.py:2: RuntimeWarning: divide by zero encountered in log\n",
            "  \n",
            "/usr/local/lib/python3.7/dist-packages/ipykernel_launcher.py:2: RuntimeWarning: invalid value encountered in log\n",
            "  \n"
          ],
          "name": "stderr"
        }
      ]
    },
    {
      "cell_type": "markdown",
      "metadata": {
        "id": "wQ14Cr7W9ZNP"
      },
      "source": [
        "## 집계함수"
      ]
    },
    {
      "cell_type": "code",
      "metadata": {
        "id": "VQgkBEIDC5er",
        "colab": {
          "base_uri": "https://localhost:8080/"
        },
        "outputId": "2d40326d-624f-4fe2-d406-694cf9fafba8"
      },
      "source": [
        "x=np.array([-2,-1,0,1,2])\n",
        "\"절댓값을 씌우려면?\"\n",
        "힌트: \"np.absolute(x)\"\n",
        "np.abs(x)"
      ],
      "execution_count": 74,
      "outputs": [
        {
          "output_type": "execute_result",
          "data": {
            "text/plain": [
              "array([2, 1, 0, 1, 2])"
            ]
          },
          "metadata": {
            "tags": []
          },
          "execution_count": 74
        }
      ]
    },
    {
      "cell_type": "code",
      "metadata": {
        "id": "yGy7cRtmC6AA",
        "colab": {
          "base_uri": "https://localhost:8080/"
        },
        "outputId": "d1616abf-d9c9-4b20-bc06-e48fb1f0a89a"
      },
      "source": [
        "#삼각함수\n",
        "theta = np.linspace(0,np.pi,3)\n",
        "print(\"theta=\" , theta)\n",
        "print(\" 코사인 함수 =\",np.cos(theta))\n",
        "print(\"탐젠트 함수= \", np.tan(theta)) \n",
        "\n"
      ],
      "execution_count": 76,
      "outputs": [
        {
          "output_type": "stream",
          "text": [
            "theta= [0.         1.57079633 3.14159265]\n",
            " 코사인 함수 = [ 1.000000e+00  6.123234e-17 -1.000000e+00]\n",
            "탐젠트 함수=  [ 0.00000000e+00  1.63312394e+16 -1.22464680e-16]\n"
          ],
          "name": "stdout"
        }
      ]
    },
    {
      "cell_type": "code",
      "metadata": {
        "id": "XCvqtkfdC6DQ",
        "colab": {
          "base_uri": "https://localhost:8080/"
        },
        "outputId": "d20ad50e-b902-4b34-d10b-81cd96140a3d"
      },
      "source": [
        "#역삼각함수\n",
        "print(\"역 사인함수=\",np.arcsin(theta))\n",
        "print(\"역 코사인함수=\",np.arccos(theta))\n",
        "print(\"역 탄젠트함수=\",np.arctan(theta))"
      ],
      "execution_count": 77,
      "outputs": [
        {
          "output_type": "stream",
          "text": [
            "역 사인함수= [ 0. nan nan]\n",
            "역 코사인함수= [1.57079633        nan        nan]\n",
            "역 탄젠트함수= [0.         1.00388482 1.26262726]\n"
          ],
          "name": "stdout"
        },
        {
          "output_type": "stream",
          "text": [
            "/usr/local/lib/python3.7/dist-packages/ipykernel_launcher.py:2: RuntimeWarning: invalid value encountered in arcsin\n",
            "  \n",
            "/usr/local/lib/python3.7/dist-packages/ipykernel_launcher.py:3: RuntimeWarning: invalid value encountered in arccos\n",
            "  This is separate from the ipykernel package so we can avoid doing imports until\n"
          ],
          "name": "stderr"
        }
      ]
    },
    {
      "cell_type": "code",
      "metadata": {
        "id": "Bz4GuB0sC6IE",
        "colab": {
          "base_uri": "https://localhost:8080/"
        },
        "outputId": "0d2879e1-cc51-40ec-9661-7dfdcf01a147"
      },
      "source": [
        "#로그함수\n",
        "x=[1,2,4,10]\n",
        "print(\"자연로그=\",np.log(x))\n",
        "print(\"밑이2인 로그함수=\",np.log2(x))\n",
        "print(\"밑이 10인 로그함수=\",np.log10(x))"
      ],
      "execution_count": 79,
      "outputs": [
        {
          "output_type": "stream",
          "text": [
            "자연로그= [0.         0.69314718 1.38629436 2.30258509]\n",
            "밑이2인 로그함수= [0.         1.         2.         3.32192809]\n",
            "밑이 10인 로그함수= [0.         0.30103    0.60205999 1.        ]\n"
          ],
          "name": "stdout"
        }
      ]
    },
    {
      "cell_type": "code",
      "metadata": {
        "id": "mYPwcUsvC6Ls",
        "colab": {
          "base_uri": "https://localhost:8080/"
        },
        "outputId": "45bc041e-7fa8-4747-d5c4-5c54767e1747"
      },
      "source": [
        "#지수함수\n",
        "x=[1,2,3]\n",
        "print(\"e^x=\",np.exp(x))\n",
        "print(\"2^x\",np.power(2,x))\n",
        "print(\"3^x=\",np.power(3,x))"
      ],
      "execution_count": 82,
      "outputs": [
        {
          "output_type": "stream",
          "text": [
            "e^x= [ 2.71828183  7.3890561  20.08553692]\n",
            "2^x [2 4 8]\n",
            "3^x= [ 3  9 27]\n"
          ],
          "name": "stdout"
        }
      ]
    },
    {
      "cell_type": "code",
      "metadata": {
        "id": "TIhmzJunC6PJ",
        "colab": {
          "base_uri": "https://localhost:8080/"
        },
        "outputId": "9ea1c559-c245-40d8-ebeb-6362290af428"
      },
      "source": [
        "#out 인자 \n",
        "x=np.arange(5)\n",
        "y=np.empty(5)\n",
        "np.multiply(x,10,out=y)\n",
        "print(y)"
      ],
      "execution_count": 83,
      "outputs": [
        {
          "output_type": "stream",
          "text": [
            "[ 0. 10. 20. 30. 40.]\n"
          ],
          "name": "stdout"
        }
      ]
    },
    {
      "cell_type": "code",
      "metadata": {
        "id": "7Xjkz_DiC6SQ",
        "colab": {
          "base_uri": "https://localhost:8080/"
        },
        "outputId": "8fcff29c-044e-4694-d908-9de4b0ac1e6e"
      },
      "source": [
        "#out 인자를 활용하여 배열 슬라이싱\n",
        "x=np.arange(5)\n",
        "y=np.empty(10)\n",
        "np.power(2,x,out=y[::2])\n",
        "print(y)"
      ],
      "execution_count": 84,
      "outputs": [
        {
          "output_type": "stream",
          "text": [
            "[1.00000000e+000 6.79038653e-313 2.00000000e+000 6.79038653e-313\n",
            " 4.00000000e+000 6.79038653e-313 8.00000000e+000 2.14321575e-312\n",
            " 1.60000000e+001 0.00000000e+000]\n"
          ],
          "name": "stdout"
        }
      ]
    },
    {
      "cell_type": "code",
      "metadata": {
        "id": "iE_xW8KzDBof",
        "colab": {
          "base_uri": "https://localhost:8080/"
        },
        "outputId": "be6e42df-ab88-40c1-e168-b676f6359c02"
      },
      "source": [
        "#reduce 함수\n",
        "x=np.arange(1,5)\n",
        "np.add.reduce(x)#1부터4까지 더하기"
      ],
      "execution_count": 85,
      "outputs": [
        {
          "output_type": "execute_result",
          "data": {
            "text/plain": [
              "10"
            ]
          },
          "metadata": {
            "tags": []
          },
          "execution_count": 85
        }
      ]
    },
    {
      "cell_type": "code",
      "metadata": {
        "id": "QfZWyUi1DCJd",
        "colab": {
          "base_uri": "https://localhost:8080/"
        },
        "outputId": "9ec879e0-922d-4a12-8cf2-dbf61afea0b4"
      },
      "source": [
        "#sum,max,min함수\n",
        "s=np.random.random(1000)\n",
        "print(\"s의최솟값=\",np.min(s))\n",
        "print(\"s의최댓값=\",np.max(s))\n"
      ],
      "execution_count": 86,
      "outputs": [
        {
          "output_type": "stream",
          "text": [
            "s의최솟값= 0.001161803296939934\n",
            "s의최댓값= 0.9987470803730623\n"
          ],
          "name": "stdout"
        }
      ]
    },
    {
      "cell_type": "code",
      "metadata": {
        "id": "4PzwblvNDCMy",
        "colab": {
          "base_uri": "https://localhost:8080/"
        },
        "outputId": "44e7c6bf-38fc-40da-d118-3039d6c5cc39"
      },
      "source": [
        "#axis 인자\n",
        "m=np.random.random((3,4))\n",
        "\"axis=0: 열기준 집계연산\"\n",
        "print(m.max(axis=0))\n",
        "\n",
        "\"axis=1: 행기준 집계연산\"\n",
        "print(m.max(axis=1))\n",
        "\"axis=none: 배열 내 모든 요소의 집계연산axis 인자\"\n",
        "print(m.max(axis=1))"
      ],
      "execution_count": 88,
      "outputs": [
        {
          "output_type": "stream",
          "text": [
            "[0.76506198 0.4818931  0.37649789 0.89852821]\n",
            "[0.6830184  0.77249146 0.89852821]\n",
            "[0.6830184  0.77249146 0.89852821]\n"
          ],
          "name": "stdout"
        }
      ]
    },
    {
      "cell_type": "code",
      "metadata": {
        "id": "K51SaedIDCSr"
      },
      "source": [
        "m= np.random.random((3,4))\n",
        "print(m)"
      ],
      "execution_count": null,
      "outputs": []
    },
    {
      "cell_type": "markdown",
      "metadata": {
        "id": "l7VYaxRL9agA"
      },
      "source": [
        "## 브로드캐스팅 연산"
      ]
    },
    {
      "cell_type": "code",
      "metadata": {
        "id": "xHRGT0S7DTYe",
        "colab": {
          "base_uri": "https://localhost:8080/"
        },
        "outputId": "00036970-7f43-4cac-83d0-f6eef1da0d4a"
      },
      "source": [
        "# 크기가 같은 어레이의 연산을 하기\n",
        "x=np.array([0,1,2])\n",
        "y=np.array([3,3,3])\n",
        "x+y"
      ],
      "execution_count": 90,
      "outputs": [
        {
          "output_type": "execute_result",
          "data": {
            "text/plain": [
              "array([3, 4, 5])"
            ]
          },
          "metadata": {
            "tags": []
          },
          "execution_count": 90
        }
      ]
    },
    {
      "cell_type": "code",
      "metadata": {
        "id": "NVI4DOqKDTgp",
        "colab": {
          "base_uri": "https://localhost:8080/"
        },
        "outputId": "fb9e1e4e-6c3f-4dbe-8ddc-a3d0b647ac52"
      },
      "source": [
        "# 배열의 크기를 늘려서 연산하기\n",
        "x=np.array([0,1,2])\n",
        "x+10"
      ],
      "execution_count": 92,
      "outputs": [
        {
          "output_type": "execute_result",
          "data": {
            "text/plain": [
              "array([10, 11, 12])"
            ]
          },
          "metadata": {
            "tags": []
          },
          "execution_count": 92
        }
      ]
    },
    {
      "cell_type": "markdown",
      "metadata": {
        "id": "iwnH05_R9cFv"
      },
      "source": [
        "## 비교연산자"
      ]
    },
    {
      "cell_type": "code",
      "metadata": {
        "id": "wlaHQtWIDTjx",
        "colab": {
          "base_uri": "https://localhost:8080/"
        },
        "outputId": "090a0aa1-1dfa-4bcb-db66-f6a5ce98b47c"
      },
      "source": [
        "# any 함수를 이용하여 하나라도 만족하면 true를 산출하는 코드만들기\n",
        "x=np.arange(10)\n",
        "np.any(x<5),np.any(x<0)"
      ],
      "execution_count": 93,
      "outputs": [
        {
          "output_type": "execute_result",
          "data": {
            "text/plain": [
              "(True, False)"
            ]
          },
          "metadata": {
            "tags": []
          },
          "execution_count": 93
        }
      ]
    },
    {
      "cell_type": "code",
      "metadata": {
        "id": "D-OgFcn5DSjM",
        "colab": {
          "base_uri": "https://localhost:8080/"
        },
        "outputId": "5fd7b881-70b1-4a3c-d537-eb3b8427edd1"
      },
      "source": [
        "# all함수를 이용하여 true산출 코드 만들기\n",
        "x=np.arange(10)\n",
        "np.all(x>5),np.all(x<10)"
      ],
      "execution_count": 95,
      "outputs": [
        {
          "output_type": "execute_result",
          "data": {
            "text/plain": [
              "(False, True)"
            ]
          },
          "metadata": {
            "tags": []
          },
          "execution_count": 95
        }
      ]
    },
    {
      "cell_type": "code",
      "metadata": {
        "id": "JzbeCfBnDSqm",
        "colab": {
          "base_uri": "https://localhost:8080/"
        },
        "outputId": "625cee00-9eca-4e11-951b-8e4533066e06"
      },
      "source": [
        "# 1~5사이의 구간에서 5개 정수를 무작위로 발생시켜 1차원배열 2개변수를 생성하고 이에대한 불리언 값 결과내기\n",
        "a=np.random.randint(1,5,5)\n",
        "b=np.random.randint(1,5,5)\n",
        "print(\"a의값=\",a,\"b의 값=\",b,a==b)"
      ],
      "execution_count": 108,
      "outputs": [
        {
          "output_type": "stream",
          "text": [
            "a의값= [2 1 3 1 2] b의 값= [3 4 4 1 1] [False False False  True False]\n"
          ],
          "name": "stdout"
        }
      ]
    },
    {
      "cell_type": "markdown",
      "metadata": {
        "id": "cvNr6-5O9fLA"
      },
      "source": [
        "## 팬시 인덱싱"
      ]
    },
    {
      "cell_type": "code",
      "metadata": {
        "id": "t7MWDGDEDSuE",
        "colab": {
          "base_uri": "https://localhost:8080/"
        },
        "outputId": "b6755a39-0e79-4735-fa24-e06f49b22cf2"
      },
      "source": [
        "#배열을 생성하여 인덱싱하기\n",
        "a=np.arange(10)\n",
        "b=np.array([3,6,9])\n",
        "a[b]"
      ],
      "execution_count": 112,
      "outputs": [
        {
          "output_type": "execute_result",
          "data": {
            "text/plain": [
              "array([3, 6, 9])"
            ]
          },
          "metadata": {
            "tags": []
          },
          "execution_count": 112
        }
      ]
    },
    {
      "cell_type": "code",
      "metadata": {
        "id": "ipMA6b3uDSxP",
        "colab": {
          "base_uri": "https://localhost:8080/"
        },
        "outputId": "18e00ba1-3b76-44d4-e8ae-bff1797fae25"
      },
      "source": [
        "#인덱스 값을 가진 2차원 배열(예를 들어 row=np.array([0,1,2]))을 이용하여 인덱싱\n",
        "row=np.array([0,1,2])\n",
        "col=np.array([2,1,3])\n",
        "print(x,\"--->\",x[row,col])"
      ],
      "execution_count": 117,
      "outputs": [
        {
          "output_type": "stream",
          "text": [
            "[[2 3 7 3]\n",
            " [9 3 8 5]\n",
            " [3 9 8 8]] ---> [7 3 8]\n"
          ],
          "name": "stdout"
        }
      ]
    },
    {
      "cell_type": "markdown",
      "metadata": {
        "id": "fIFQzEK89gjy"
      },
      "source": [
        "## 정렬 "
      ]
    },
    {
      "cell_type": "code",
      "metadata": {
        "id": "8-vycEUGE0G2",
        "colab": {
          "base_uri": "https://localhost:8080/"
        },
        "outputId": "b9d3b864-eb13-4369-bb54-14a0acd07204"
      },
      "source": [
        "#np.sort함수를 이용하여 복사하기\n",
        "x=np.array([4,1,5,2,3])\n",
        "print(x,np.sort(x))"
      ],
      "execution_count": 118,
      "outputs": [
        {
          "output_type": "stream",
          "text": [
            "[4 1 5 2 3] [1 2 3 4 5]\n"
          ],
          "name": "stdout"
        }
      ]
    },
    {
      "cell_type": "code",
      "metadata": {
        "id": "WzF6Iw5HE76_",
        "colab": {
          "base_uri": "https://localhost:8080/"
        },
        "outputId": "332c7ce6-ce98-45a4-ce81-e27f28e9dd6d"
      },
      "source": [
        "#변수.sort함수를 이용하여 정렬하기\n",
        "x=np.array([4,1,5,2,3])\n",
        "x.sort()\n",
        "print(x)"
      ],
      "execution_count": 119,
      "outputs": [
        {
          "output_type": "stream",
          "text": [
            "[1 2 3 4 5]\n"
          ],
          "name": "stdout"
        }
      ]
    },
    {
      "cell_type": "code",
      "metadata": {
        "id": "b1regsEqE7-X",
        "colab": {
          "base_uri": "https://localhost:8080/"
        },
        "outputId": "4888e61e-748c-48f6-e45a-ab379b6f2a50"
      },
      "source": [
        "#np.arsort함수 이용하여 정렬 요소의 인덱스를 반환하기\n",
        "x=np.array([4,1,5,2,3])\n",
        "i = np.argsort(x)\n",
        "print(i)"
      ],
      "execution_count": 123,
      "outputs": [
        {
          "output_type": "stream",
          "text": [
            "[1 3 4 0 2]\n"
          ],
          "name": "stdout"
        }
      ]
    },
    {
      "cell_type": "code",
      "metadata": {
        "id": "glpi3sAWE8Bw",
        "colab": {
          "base_uri": "https://localhost:8080/"
        },
        "outputId": "9f03c877-3b30-4a94-ab21-15e1f9dcbab5"
      },
      "source": [
        "#x_reverse를 이용하여 내림차순\n",
        "x=np.array([4,1,5,2,3])\n",
        "x_reverse=np.sort(x)[::-1]\n",
        "print(x_reverse)"
      ],
      "execution_count": 125,
      "outputs": [
        {
          "output_type": "stream",
          "text": [
            "[5 4 3 2 1]\n"
          ],
          "name": "stdout"
        }
      ]
    },
    {
      "cell_type": "code",
      "metadata": {
        "id": "HBsSfJFyFRai",
        "colab": {
          "base_uri": "https://localhost:8080/"
        },
        "outputId": "e377ea5d-f47c-4327-c01b-03f56bef54d6"
      },
      "source": [
        "#axis를 이용하여 각 열을 기준으로 정렬하기\n",
        "x=np.array([[2,0,6],[7,3,4],[2,5,3]])\n",
        "np.sort(x,axis=0)"
      ],
      "execution_count": 127,
      "outputs": [
        {
          "output_type": "execute_result",
          "data": {
            "text/plain": [
              "array([[2, 0, 3],\n",
              "       [2, 3, 4],\n",
              "       [7, 5, 6]])"
            ]
          },
          "metadata": {
            "tags": []
          },
          "execution_count": 127
        }
      ]
    },
    {
      "cell_type": "code",
      "metadata": {
        "id": "yav7laqrFWjP",
        "colab": {
          "base_uri": "https://localhost:8080/"
        },
        "outputId": "0b69e952-af5a-421f-873c-9df5ace2acda"
      },
      "source": [
        "#axis를 이용하여 각 행을 기준으로 정렬하기#axis를 이용하여 각 행을 기준으로 정렬하기\n",
        "np.sort(x,axis=1)"
      ],
      "execution_count": 128,
      "outputs": [
        {
          "output_type": "execute_result",
          "data": {
            "text/plain": [
              "array([[0, 2, 6],\n",
              "       [3, 4, 7],\n",
              "       [2, 3, 5]])"
            ]
          },
          "metadata": {
            "tags": []
          },
          "execution_count": 128
        }
      ]
    },
    {
      "cell_type": "code",
      "metadata": {
        "id": "RoPxgW2sxNm2"
      },
      "source": [
        ""
      ],
      "execution_count": null,
      "outputs": []
    }
  ]
}